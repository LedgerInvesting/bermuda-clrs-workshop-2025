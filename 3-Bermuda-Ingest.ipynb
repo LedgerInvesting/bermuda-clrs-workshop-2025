{
 "cells": [
  {
   "cell_type": "markdown",
   "metadata": {},
   "source": [
    "# Triangle Ingest\n",
    "\n",
    "This notebook demonstrates how to ingest triangle data from various external formats into Bermuda. We'll work with Excel and CSV files in different formats: long, wide, and array."
   ]
  },
  {
   "cell_type": "markdown",
   "metadata": {},
   "source": [
    "## Setup"
   ]
  },
  {
   "cell_type": "code",
   "execution_count": null,
   "metadata": {},
   "outputs": [],
   "source": [
    "import bermuda as tri\n",
    "import pandas as pd\n",
    "import altair as alt\n",
    "from datetime import date\n",
    "import os\n",
    "\n",
    "# Enable HTML rendering\n",
    "alt.renderers.enable(\"html\")\n",
    "\n",
    "# Check that our data files exist\n",
    "if not os.path.exists('data/excel/triangle_data.xlsx'):\n",
    "    print(\"Data files not found. Running data generation script...\")\n",
    "    !python create_excel_data.py\n",
    "else:\n",
    "    print(\"Data files found.\")"
   ]
  },
  {
   "cell_type": "markdown",
   "metadata": {},
   "source": [
    "## Understanding Data Formats\n",
    "\n",
    "Bermuda supports three main tabular formats for triangle data:\n",
    "\n",
    "1. **Long Format**: Each row represents a single cell value\n",
    "2. **Wide Format**: Each row represents all values for a cell\n",
    "3. **Array Format**: Traditional actuarial triangle layout"
   ]
  },
  {
   "cell_type": "markdown",
   "metadata": {},
   "source": [
    "## 1. Long Format Ingestion\n",
    "\n",
    "Long format is the most flexible - each row contains one value for one cell."
   ]
  },
  {
   "cell_type": "code",
   "execution_count": null,
   "metadata": {},
   "outputs": [],
   "source": [
    "# Load and examine the long format CSV\n",
    "gl_long_df = pd.read_csv('data/excel/gl_long.csv')\n",
    "print(\"Long format structure (first 5 rows):\")\n",
    "print(gl_long_df.head())\n",
    "print(f\"\\nShape: {gl_long_df.shape}\")\n",
    "print(f\"Columns: {list(gl_long_df.columns)}\")"
   ]
  },
  {
   "cell_type": "code",
   "execution_count": null,
   "metadata": {},
   "outputs": [],
   "source": [
    "# Ingest long format CSV\n",
    "gl_triangle = tri.long_csv_to_triangle('data/excel/gl_long.csv')\n",
    "print(\"Triangle loaded from long CSV:\")\n",
    "print(gl_triangle)"
   ]
  },
  {
   "cell_type": "code",
   "execution_count": null,
   "metadata": {},
   "outputs": [],
   "source": [
    "# Note the renamed columns - we need to fix the mapping\n",
    "# The CSV has 'paid_losses' but Bermuda expects 'paid_loss'\n",
    "# Let's reload with proper column mapping\n",
    "\n",
    "# First, load as DataFrame and rename columns\n",
    "gl_df = pd.read_csv('data/excel/gl_long.csv')\n",
    "gl_df = gl_df.rename(columns={\n",
    "    'paid_losses': 'paid_loss',\n",
    "    'incurred_losses': 'reported_loss',\n",
    "    'earned_prem': 'earned_premium'\n",
    "})\n",
    "\n",
    "# Now ingest from DataFrame\n",
    "gl_triangle = tri.long_data_frame_to_triangle(gl_df)\n",
    "print(\"Triangle with corrected column names:\")\n",
    "print(gl_triangle)"
   ]
  },
  {
   "cell_type": "markdown",
   "metadata": {},
   "source": [
    "## 2. Wide Format Ingestion\n",
    "\n",
    "Wide format has one row per cell with all fields as columns."
   ]
  },
  {
   "cell_type": "code",
   "execution_count": null,
   "metadata": {},
   "outputs": [],
   "source": [
    "# Load wide format from Excel\n",
    "ca_wide_df = pd.read_excel('data/excel/triangle_data.xlsx', sheet_name='ca_wide_format')\n",
    "print(\"Wide format structure (first 5 rows):\")\n",
    "print(ca_wide_df.head())\n",
    "print(f\"\\nShape: {ca_wide_df.shape}\")"
   ]
  },
  {
   "cell_type": "code",
   "execution_count": null,
   "metadata": {},
   "outputs": [],
   "source": [
    "# Ingest wide format\n",
    "ca_triangle = tri.wide_data_frame_to_triangle(ca_wide_df)\n",
    "print(\"Triangle loaded from wide format:\")\n",
    "print(ca_triangle)"
   ]
  },
  {
   "cell_type": "markdown",
   "metadata": {},
   "source": [
    "## 3. Array Format Ingestion\n",
    "\n",
    "Array format is the traditional actuarial triangle layout with accident periods as rows and development periods as columns."
   ]
  },
  {
   "cell_type": "code",
   "execution_count": null,
   "metadata": {},
   "outputs": [],
   "source": [
    "# Load array format from Excel\n",
    "pa_array_df = pd.read_excel('data/excel/triangle_data.xlsx', sheet_name='pa_array_format')\n",
    "print(\"Array format structure:\")\n",
    "print(pa_array_df)\n",
    "print(f\"\\nShape: {pa_array_df.shape}\")"
   ]
  },
  {
   "cell_type": "code",
   "execution_count": null,
   "metadata": {},
   "outputs": [],
   "source": [
    "# Ingest array format\n",
    "# Array format requires specifying the field name\n",
    "pa_triangle = tri.array_data_frame_to_triangle(\n",
    "    pa_array_df, \n",
    "    field='paid_loss',\n",
    "    period_resolution=12,  # Annual periods\n",
    "    eval_resolution=12     # Annual evaluations\n",
    ")\n",
    "print(\"Triangle loaded from array format:\")\n",
    "print(pa_triangle)"
   ]
  },
  {
   "cell_type": "markdown",
   "metadata": {},
   "source": [
    "## Interactive Exercise: Load Your Own Data\n",
    "\n",
    "Now it's your turn! Complete the code below to load triangle data in different formats."
   ]
  },
  {
   "cell_type": "markdown",
   "metadata": {},
   "source": [
    "### Exercise 1: Load Wide Format CSV\n",
    "\n",
    "Complete the code to load the CA wide format from CSV:"
   ]
  },
  {
   "cell_type": "code",
   "execution_count": null,
   "metadata": {},
   "outputs": [],
   "source": [
    "# TODO: Load ca_wide.csv using the appropriate Bermuda function\n",
    "# Hint: Use tri.wide_csv_to_triangle()\n",
    "\n",
    "# ca_triangle_csv = tri.________('data/excel/ca_wide.csv')\n",
    "# print(ca_triangle_csv)"
   ]
  },
  {
   "cell_type": "markdown",
   "metadata": {},
   "source": [
    "### Exercise 2: Load Array Format from CSV\n",
    "\n",
    "Complete the code to load PA array data from CSV:"
   ]
  },
  {
   "cell_type": "code",
   "execution_count": null,
   "metadata": {},
   "outputs": [],
   "source": [
    "# TODO: Load pa_array.csv and convert to triangle\n",
    "# Remember: array format needs the field name!\n",
    "\n",
    "# pa_csv_df = pd.read_csv('data/excel/pa_array.csv')\n",
    "# pa_triangle_csv = tri.array_data_frame_to_triangle(\n",
    "#     pa_csv_df,\n",
    "#     field='______',  # What field should go here?\n",
    "#     period_resolution=___,  # Annual = ?\n",
    "#     eval_resolution=___     # Annual = ?\n",
    "# )\n",
    "# print(pa_triangle_csv)"
   ]
  },
  {
   "cell_type": "markdown",
   "metadata": {},
   "source": [
    "### Exercise 3: Handle Multiple Fields in Array Format\n",
    "\n",
    "Load both paid and reported losses from array format:"
   ]
  },
  {
   "cell_type": "code",
   "execution_count": null,
   "metadata": {},
   "outputs": [],
   "source": [
    "# TODO: Create a triangle with multiple fields from array format\n",
    "# Hint: Use tri.array_triangle_builder() with lists of DataFrames and field names\n",
    "\n",
    "# Load a sample triangle to get both fields\n",
    "# sample = tri.binary_to_triangle('data/excel/ca_filtered.trib')\n",
    "# \n",
    "# # Export to array format for both fields\n",
    "# paid_array = tri.triangle_to_array_data_frame(sample, field='paid_loss')\n",
    "# reported_array = tri.triangle_to_array_data_frame(sample, field='reported_loss')\n",
    "# \n",
    "# # Now build a multi-field triangle\n",
    "# multi_triangle = tri.array_triangle_builder(\n",
    "#     dfs=[_____, _____],  # List of DataFrames\n",
    "#     fields=['_____', '_____'],  # Corresponding field names\n",
    "#     period_resolution=12,\n",
    "#     eval_resolution=12\n",
    "# )\n",
    "# print(multi_triangle)"
   ]
  },
  {
   "cell_type": "markdown",
   "metadata": {},
   "source": [
    "## Creating Multi-Slice Triangles\n",
    "\n",
    "Now let's combine our three triangles (GL, CA, PA) into a single multi-slice triangle."
   ]
  },
  {
   "cell_type": "code",
   "execution_count": null,
   "metadata": {},
   "outputs": [],
   "source": [
    "# Add metadata to distinguish the slices\n",
    "gl_cells = []\n",
    "for cell in gl_triangle:\n",
    "    new_meta = cell.metadata.copy()\n",
    "    new_meta.details['line'] = 'GL'\n",
    "    gl_cells.append(cell.copy(metadata=new_meta))\n",
    "gl_with_meta = tri.Triangle(gl_cells)\n",
    "\n",
    "ca_cells = []\n",
    "for cell in ca_triangle:\n",
    "    new_meta = cell.metadata.copy()\n",
    "    new_meta.details['line'] = 'CA'\n",
    "    ca_cells.append(cell.copy(metadata=new_meta))\n",
    "ca_with_meta = tri.Triangle(ca_cells)\n",
    "\n",
    "pa_cells = []\n",
    "for cell in pa_triangle:\n",
    "    new_meta = cell.metadata.copy()\n",
    "    new_meta.details['line'] = 'PA'\n",
    "    pa_cells.append(cell.copy(metadata=new_meta))\n",
    "pa_with_meta = tri.Triangle(pa_cells)\n",
    "\n",
    "# Combine into multi-slice triangle\n",
    "combined = gl_with_meta + ca_with_meta + pa_with_meta\n",
    "print(\"Combined multi-slice triangle:\")\n",
    "print(combined)\n",
    "print(f\"\\nNumber of slices: {len(combined.slices)}\")"
   ]
  },
  {
   "cell_type": "code",
   "execution_count": null,
   "metadata": {},
   "outputs": [],
   "source": [
    "# Visualize the combined triangle\n",
    "if len(combined.slices) > 1:\n",
    "    combined.plot_right_edge()\n",
    "else:\n",
    "    # If slices didn't separate, just plot the combined data\n",
    "    combined.plot_data_completeness()"
   ]
  },
  {
   "cell_type": "markdown",
   "metadata": {},
   "source": [
    "## Saving Triangle Data\n",
    "\n",
    "Bermuda supports multiple output formats for saving your work."
   ]
  },
  {
   "cell_type": "code",
   "execution_count": null,
   "metadata": {},
   "outputs": [],
   "source": [
    "# Save to CSV (long format)\n",
    "tri.triangle_to_long_csv(combined, 'data/excel/combined_long.csv')\n",
    "print(\"Saved to long CSV: data/excel/combined_long.csv\")\n",
    "\n",
    "# Save to CSV (wide format)\n",
    "tri.triangle_to_wide_csv(combined, 'data/excel/combined_wide.csv')\n",
    "print(\"Saved to wide CSV: data/excel/combined_wide.csv\")"
   ]
  },
  {
   "cell_type": "code",
   "execution_count": null,
   "metadata": {},
   "outputs": [],
   "source": [
    "# Save to JSON\n",
    "tri.triangle_to_json(combined, 'data/excel/combined.json')\n",
    "print(\"Saved to JSON: data/excel/combined.json\")\n",
    "\n",
    "# Peek at the JSON structure\n",
    "import json\n",
    "with open('data/excel/combined.json', 'r') as f:\n",
    "    json_data = json.load(f)\n",
    "    print(f\"\\nJSON has {len(json_data)} cells\")\n",
    "    print(\"First cell structure:\")\n",
    "    print(json.dumps(json_data[0], indent=2, default=str)[:500] + \"...\")"
   ]
  },
  {
   "cell_type": "code",
   "execution_count": null,
   "metadata": {},
   "outputs": [],
   "source": [
    "# Save to binary trib format (most efficient)\n",
    "tri.triangle_to_binary(combined, 'data/excel/combined.trib')\n",
    "print(\"Saved to binary trib: data/excel/combined.trib\")\n",
    "\n",
    "# Compare file sizes\n",
    "import os\n",
    "sizes = {\n",
    "    'CSV (long)': os.path.getsize('data/excel/combined_long.csv'),\n",
    "    'CSV (wide)': os.path.getsize('data/excel/combined_wide.csv'),\n",
    "    'JSON': os.path.getsize('data/excel/combined.json'),\n",
    "    'Trib (binary)': os.path.getsize('data/excel/combined.trib')\n",
    "}\n",
    "\n",
    "print(\"\\nFile size comparison:\")\n",
    "for format_name, size in sizes.items():\n",
    "    print(f\"  {format_name}: {size:,} bytes\")\n",
    "\n",
    "print(f\"\\nBinary format is {sizes['JSON'] / sizes['Trib (binary)']:.1f}x smaller than JSON\")"
   ]
  },
  {
   "cell_type": "markdown",
   "metadata": {},
   "source": [
    "## Summary\n",
    "\n",
    "In this notebook, we've covered:\n",
    "\n",
    "1. **Data Format Types**: Long, wide, and array formats each have their use cases\n",
    "2. **Ingestion Methods**: Different functions for each format\n",
    "3. **Column Mapping**: Aligning external column names with Bermuda conventions\n",
    "4. **Multi-Slice Triangles**: Combining triangles from different sources\n",
    "5. **Export Options**: CSV, JSON, and binary formats with different trade-offs\n",
    "\n",
    "The binary trib format is Ledger's proprietary format that:\n",
    "- Saves space (typically 5-10x smaller than JSON)\n",
    "- Loads faster (no parsing overhead)\n",
    "- Preserves all metadata and structure perfectly\n",
    "- Works seamlessly across Bermuda versions\n",
    "\n",
    "### Answer Key for Exercises\n",
    "\n",
    "**Exercise 1:**\n",
    "```python\n",
    "ca_triangle_csv = tri.wide_csv_to_triangle('data/excel/ca_wide.csv')\n",
    "```\n",
    "\n",
    "**Exercise 2:**\n",
    "```python\n",
    "pa_csv_df = pd.read_csv('data/excel/pa_array.csv')\n",
    "pa_triangle_csv = tri.array_data_frame_to_triangle(\n",
    "    pa_csv_df,\n",
    "    field='paid_loss',\n",
    "    period_resolution=12,\n",
    "    eval_resolution=12\n",
    ")\n",
    "```\n",
    "\n",
    "**Exercise 3:**\n",
    "```python\n",
    "multi_triangle = tri.array_triangle_builder(\n",
    "    dfs=[paid_array, reported_array],\n",
    "    fields=['paid_loss', 'reported_loss'],\n",
    "    period_resolution=12,\n",
    "    eval_resolution=12\n",
    ")\n",
    "```"
   ]
  }
 ],
 "metadata": {
  "kernelspec": {
   "display_name": "Python 3 (ipykernel)",
   "language": "python",
   "name": "python3"
  },
  "language_info": {
   "codemirror_mode": {
    "name": "ipython",
    "version": 3
   },
   "file_extension": ".py",
   "mimetype": "text/x-python",
   "name": "python",
   "nbconvert_exporter": "python",
   "pygments_lexer": "ipython3",
   "version": "3.11.2"
  }
 },
 "nbformat": 4,
 "nbformat_minor": 4
}
