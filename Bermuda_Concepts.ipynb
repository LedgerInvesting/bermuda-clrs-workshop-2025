{
 "cells": [
  {
   "cell_type": "markdown",
   "metadata": {},
   "source": [
    "This notebook demonstrates the core concepts of the Bermuda library using test triangle data. We'll explore triangles, cells, slicing, and Ledger-specific conventions."
   ]
  },
  {
   "cell_type": "markdown",
   "metadata": {},
   "source": [
    "## Setup and Data Loading\n",
    "\n",
    "First, let's set up our environment and load the test triangle data."
   ]
  },
  {
   "cell_type": "code",
   "execution_count": 13,
   "metadata": {},
   "outputs": [
    {
     "name": "stdout",
     "output_type": "stream",
     "text": [
      "bermuda-ledger==2.1.15\n"
     ]
    }
   ],
   "source": [
    "!pip freeze | grep bermuda"
   ]
  },
  {
   "cell_type": "code",
   "execution_count": 11,
   "metadata": {},
   "outputs": [
    {
     "data": {
      "text/plain": [
       "RendererRegistry.enable('html')"
      ]
     },
     "execution_count": 11,
     "metadata": {},
     "output_type": "execute_result"
    }
   ],
   "source": [
    "import bermuda  as tri\n",
    "import altair as alt\n",
    "from datetime import date, datetime\n",
    "import os\n",
    "import urllib.request\n",
    "\n",
    "# Enable HTML rendering for Altair charts\n",
    "alt.renderers.enable(\"html\")"
   ]
  },
  {
   "cell_type": "code",
   "execution_count": 38,
   "metadata": {},
   "outputs": [
    {
     "name": "stdout",
     "output_type": "stream",
     "text": [
      "Using existing data file: data/solm.gl-general.trib\n",
      "\n",
      "Test Triangle loaded successfully:\n",
      "       Cumulative Triangle \n",
      "\n",
      "\n",
      " Number of slices:  1 \n",
      " Number of cells:  406 \n",
      " Triangle category:  Regular \n",
      " Experience range:  1992-01-01/2019-12-31 \n",
      " Experience resolution:  12 \n",
      " Evaluation range:  1992-12-31/2019-12-31 \n",
      " Evaluation resolution:  12 \n",
      " Dev Lag range:  0.0 - 324.0 months \n",
      " Fields: \n",
      "   paid_loss\n",
      "   reported_loss\n",
      " Optional Fields: \n",
      "   earned_premium (73.9% coverage)\n",
      " Common Metadata: \n",
      "   risk_basis  Accident \n",
      "   reinsurance_basis  Gross \n",
      "   loss_definition  Loss+DCC \n",
      "   line_of_busines  GL \n",
      "\n",
      "\n"
     ]
    }
   ],
   "source": [
    "# Load test triangle data - download if not present\n",
    "data_file = \"data/solm.gl-general.trib\"\n",
    "data_url = \"https://ds-ledger-bonneville-data.s3.us-east-2.amazonaws.com/raw/solm/2025/trib/solm.gl-general.trib\"\n",
    "\n",
    "if not os.path.exists(data_file):\n",
    "    print(f\"Downloading test triangle data from {data_url}...\")\n",
    "    os.makedirs(\"data\", exist_ok=True)\n",
    "    urllib.request.urlretrieve(data_url, data_file)\n",
    "    print(\"Download complete.\")\n",
    "else:\n",
    "    print(f\"Using existing data file: {data_file}\")\n",
    "\n",
    "# Load the triangle from the binary trib file\n",
    "test_triangle = tri.binary_to_triangle('./data/gl.trib')\n",
    "print(\"\\nTest Triangle loaded successfully:\")\n",
    "print(test_triangle)"
   ]
  },
  {
   "cell_type": "markdown",
   "metadata": {},
   "source": [
    "## 1. Triangle Overview and Data Completeness\n",
    "\n",
    "Let's start by examining the overall structure of our triangle and visualizing data completeness. This gives us a bird's eye view of what we're working with."
   ]
  },
  {
   "cell_type": "code",
   "execution_count": 39,
   "metadata": {},
   "outputs": [
    {
     "data": {
      "text/html": [
       "<table>  <thead>    <tr><th> <h4><b>Cumulative Triangle</b></h4> </th></tr>\n",
       "  </thead>\n",
       "  <tbody>\n",
       "    <tr><th> Number of slices: </th><td> 1 </td></tr>\n",
       "    <tr><th> Number of cells: </th><td> 406 </td></tr>\n",
       "    <tr><th> Triangle category: </th><td> Regular </td></tr>\n",
       "    <tr><th> Experience range: </th><td> 1992-01-01/2019-12-31 </td></tr>\n",
       "    <tr><th> Experience resolution: </th><td> 12 </td></tr>\n",
       "    <tr><th> Evaluation range: </th><td> 1992-12-31/2019-12-31 </td></tr>\n",
       "    <tr><th> Evaluation resolution: </th><td> 12 </td></tr>\n",
       "    <tr><th> Dev Lag range: </th><td> 0.0 - 324.0 months </td></tr>\n",
       "<tr><th colspan=2 style=\"text-align:center\"> Fields: </th></tr>\n",
       "<tr><td>   </td><td>paid_loss</td></tr>\n",
       "<tr><td>   </td><td>reported_loss</td></tr>\n",
       "<tr><th colspan=2 style=\"text-align:center\"> Optional Fields: </th></tr>\n",
       "<tr><td>   </td><td>earned_premium (73.9% coverage)</td></tr>\n",
       "    <tr><th colspan=2 style=\"text-align:center\"> Common Metadata: </th></tr>\n",
       "<tr><td>   </td><th>risk_basis</th> <td> Accident </td></tr>\n",
       "<tr><td>   </td><th>reinsurance_basis</th> <td> Gross </td></tr>\n",
       "<tr><td>   </td><th>loss_definition</th> <td> Loss+DCC </td></tr>\n",
       "<tr><td>   </td><th>line_of_busines</th> <td> GL </td></tr>\n",
       "  </tbody>\n",
       "</table>"
      ],
      "text/plain": [
       "       Cumulative Triangle \n",
       "\n",
       "\n",
       " Number of slices:  1 \n",
       " Number of cells:  406 \n",
       " Triangle category:  Regular \n",
       " Experience range:  1992-01-01/2019-12-31 \n",
       " Experience resolution:  12 \n",
       " Evaluation range:  1992-12-31/2019-12-31 \n",
       " Evaluation resolution:  12 \n",
       " Dev Lag range:  0.0 - 324.0 months \n",
       " Fields: \n",
       "   paid_loss\n",
       "   reported_loss\n",
       " Optional Fields: \n",
       "   earned_premium (73.9% coverage)\n",
       " Common Metadata: \n",
       "   risk_basis  Accident \n",
       "   reinsurance_basis  Gross \n",
       "   loss_definition  Loss+DCC \n",
       "   line_of_busines  GL \n"
      ]
     },
     "metadata": {},
     "output_type": "display_data"
    }
   ],
   "source": [
    "display(test_triangle)"
   ]
  },
  {
   "cell_type": "code",
   "execution_count": 40,
   "metadata": {},
   "outputs": [
    {
     "data": {
      "text/html": [
       "\n",
       "<style>\n",
       "  #altair-viz-3670181602b641fc858f6fbb9e3ca7f1.vega-embed {\n",
       "    width: 100%;\n",
       "    display: flex;\n",
       "  }\n",
       "\n",
       "  #altair-viz-3670181602b641fc858f6fbb9e3ca7f1.vega-embed details,\n",
       "  #altair-viz-3670181602b641fc858f6fbb9e3ca7f1.vega-embed details summary {\n",
       "    position: relative;\n",
       "  }\n",
       "</style>\n",
       "<div id=\"altair-viz-3670181602b641fc858f6fbb9e3ca7f1\"></div>\n",
       "<script type=\"text/javascript\">\n",
       "  var VEGA_DEBUG = (typeof VEGA_DEBUG == \"undefined\") ? {} : VEGA_DEBUG;\n",
       "  (function(spec, embedOpt){\n",
       "    let outputDiv = document.currentScript.previousElementSibling;\n",
       "    if (outputDiv.id !== \"altair-viz-3670181602b641fc858f6fbb9e3ca7f1\") {\n",
       "      outputDiv = document.getElementById(\"altair-viz-3670181602b641fc858f6fbb9e3ca7f1\");\n",
       "    }\n",
       "\n",
       "    const paths = {\n",
       "      \"vega\": \"https://cdn.jsdelivr.net/npm/vega@5?noext\",\n",
       "      \"vega-lib\": \"https://cdn.jsdelivr.net/npm/vega-lib?noext\",\n",
       "      \"vega-lite\": \"https://cdn.jsdelivr.net/npm/vega-lite@5.20.1?noext\",\n",
       "      \"vega-embed\": \"https://cdn.jsdelivr.net/npm/vega-embed@6?noext\",\n",
       "    };\n",
       "\n",
       "    function maybeLoadScript(lib, version) {\n",
       "      var key = `${lib.replace(\"-\", \"\")}_version`;\n",
       "      return (VEGA_DEBUG[key] == version) ?\n",
       "        Promise.resolve(paths[lib]) :\n",
       "        new Promise(function(resolve, reject) {\n",
       "          var s = document.createElement('script');\n",
       "          document.getElementsByTagName(\"head\")[0].appendChild(s);\n",
       "          s.async = true;\n",
       "          s.onload = () => {\n",
       "            VEGA_DEBUG[key] = version;\n",
       "            return resolve(paths[lib]);\n",
       "          };\n",
       "          s.onerror = () => reject(`Error loading script: ${paths[lib]}`);\n",
       "          s.src = paths[lib];\n",
       "        });\n",
       "    }\n",
       "\n",
       "    function showError(err) {\n",
       "      outputDiv.innerHTML = `<div class=\"error\" style=\"color:red;\">${err}</div>`;\n",
       "      throw err;\n",
       "    }\n",
       "\n",
       "    function displayChart(vegaEmbed) {\n",
       "      vegaEmbed(outputDiv, spec, embedOpt)\n",
       "        .catch(err => showError(`Javascript Error: ${err.message}<br>This usually means there's a typo in your chart specification. See the javascript console for the full traceback.`));\n",
       "    }\n",
       "\n",
       "    if(typeof define === \"function\" && define.amd) {\n",
       "      requirejs.config({paths});\n",
       "      let deps = [\"vega-embed\"];\n",
       "      require(deps, displayChart, err => showError(`Error loading script: ${err.message}`));\n",
       "    } else {\n",
       "      maybeLoadScript(\"vega\", \"5\")\n",
       "        .then(() => maybeLoadScript(\"vega-lite\", \"5.20.1\"))\n",
       "        .then(() => maybeLoadScript(\"vega-embed\", \"6\"))\n",
       "        .catch(showError)\n",
       "        .then(() => displayChart(vegaEmbed));\n",
       "    }\n",
       "  })({\"autosize\": {\"contains\": \"content\", \"resize\": true}, \"config\": {\"style\": {\"group-title\": {\"fontSize\": 24}, \"group-subtitle\": {\"fontSize\": 18}, \"guide-label\": {\"fontSize\": 16, \"font\": \"sans-serif\"}, \"guide-title\": {\"fontSize\": 18, \"font\": \"sans-serif\"}}, \"mark\": {\"color\": \"#1f8fff\"}, \"title\": {\"anchor\": \"start\", \"offset\": 20}, \"legend\": {\"orient\": \"right\", \"titleAnchor\": \"start\", \"layout\": {\"direction\": \"vertical\"}, \"labelFontSize\": 16.0, \"titleFontSize\": 18.0}, \"axis\": {\"labelFontSize\": 16.0, \"titleFontSize\": 18.0}}, \"data\": {\"values\": [{\"period_start\": \"1992-01-01T00:00:00\", \"period_end\": \"1992-12-31T00:00:00\", \"evaluation_date\": \"1992-12-31T00:00:00\", \"dev_lag\": 0.0, \"Number of Fields\": 2, \"Fields\": \"Paid Loss ($40,386,429), Reported Loss ($169,220,998)\"}, {\"period_start\": \"1992-01-01T00:00:00\", \"period_end\": \"1992-12-31T00:00:00\", \"evaluation_date\": \"1993-12-31T00:00:00\", \"dev_lag\": 12.0, \"Number of Fields\": 2, \"Fields\": \"Paid Loss ($124,778,432), Reported Loss ($332,849,236)\"}, {\"period_start\": \"1992-01-01T00:00:00\", \"period_end\": \"1992-12-31T00:00:00\", \"evaluation_date\": \"1994-12-31T00:00:00\", \"dev_lag\": 24.0, \"Number of Fields\": 2, \"Fields\": \"Paid Loss ($249,719,443), Reported Loss ($480,611,294)\"}, {\"period_start\": \"1992-01-01T00:00:00\", \"period_end\": \"1992-12-31T00:00:00\", \"evaluation_date\": \"1995-12-31T00:00:00\", \"dev_lag\": 36.0, \"Number of Fields\": 2, \"Fields\": \"Paid Loss ($368,643,594), Reported Loss ($589,363,416)\"}, {\"period_start\": \"1992-01-01T00:00:00\", \"period_end\": \"1992-12-31T00:00:00\", \"evaluation_date\": \"1996-12-31T00:00:00\", \"dev_lag\": 48.0, \"Number of Fields\": 2, \"Fields\": \"Paid Loss ($477,857,831), Reported Loss ($668,831,698)\"}, {\"period_start\": \"1992-01-01T00:00:00\", \"period_end\": \"1992-12-31T00:00:00\", \"evaluation_date\": \"1997-12-31T00:00:00\", \"dev_lag\": 60.0, \"Number of Fields\": 2, \"Fields\": \"Paid Loss ($564,435,447), Reported Loss ($730,303,373)\"}, {\"period_start\": \"1992-01-01T00:00:00\", \"period_end\": \"1992-12-31T00:00:00\", \"evaluation_date\": \"1998-12-31T00:00:00\", \"dev_lag\": 72.0, \"Number of Fields\": 2, \"Fields\": \"Paid Loss ($636,590,956), Reported Loss ($802,106,855)\"}, {\"period_start\": \"1992-01-01T00:00:00\", \"period_end\": \"1992-12-31T00:00:00\", \"evaluation_date\": \"1999-12-31T00:00:00\", \"dev_lag\": 84.0, \"Number of Fields\": 2, \"Fields\": \"Paid Loss ($692,495,079), Reported Loss ($844,967,053)\"}, {\"period_start\": \"1992-01-01T00:00:00\", \"period_end\": \"1992-12-31T00:00:00\", \"evaluation_date\": \"2000-12-31T00:00:00\", \"dev_lag\": 96.0, \"Number of Fields\": 2, \"Fields\": \"Paid Loss ($735,052,492), Reported Loss ($862,280,005)\"}, {\"period_start\": \"1992-01-01T00:00:00\", \"period_end\": \"1992-12-31T00:00:00\", \"evaluation_date\": \"2001-12-31T00:00:00\", \"dev_lag\": 108.0, \"Number of Fields\": 2, \"Fields\": \"Paid Loss ($770,820,236), Reported Loss ($891,452,906)\"}, {\"period_start\": \"1992-01-01T00:00:00\", \"period_end\": \"1992-12-31T00:00:00\", \"evaluation_date\": \"2002-12-31T00:00:00\", \"dev_lag\": 120.0, \"Number of Fields\": 2, \"Fields\": \"Paid Loss ($796,451,199), Reported Loss ($915,064,696)\"}, {\"period_start\": \"1992-01-01T00:00:00\", \"period_end\": \"1992-12-31T00:00:00\", \"evaluation_date\": \"2003-12-31T00:00:00\", \"dev_lag\": 132.0, \"Number of Fields\": 2, \"Fields\": \"Paid Loss ($824,624,205), Reported Loss ($938,351,783)\"}, {\"period_start\": \"1992-01-01T00:00:00\", \"period_end\": \"1992-12-31T00:00:00\", \"evaluation_date\": \"2004-12-31T00:00:00\", \"dev_lag\": 144.0, \"Number of Fields\": 2, \"Fields\": \"Paid Loss ($842,067,087), Reported Loss ($941,266,954)\"}, {\"period_start\": \"1992-01-01T00:00:00\", \"period_end\": \"1992-12-31T00:00:00\", \"evaluation_date\": \"2005-12-31T00:00:00\", \"dev_lag\": 156.0, \"Number of Fields\": 2, \"Fields\": \"Paid Loss ($852,321,076), Reported Loss ($949,102,019)\"}, {\"period_start\": \"1992-01-01T00:00:00\", \"period_end\": \"1992-12-31T00:00:00\", \"evaluation_date\": \"2006-12-31T00:00:00\", \"dev_lag\": 168.0, \"Number of Fields\": 2, \"Fields\": \"Paid Loss ($861,275,729), Reported Loss ($955,967,105)\"}, {\"period_start\": \"1992-01-01T00:00:00\", \"period_end\": \"1992-12-31T00:00:00\", \"evaluation_date\": \"2007-12-31T00:00:00\", \"dev_lag\": 180.0, \"Number of Fields\": 2, \"Fields\": \"Paid Loss ($867,487,795), Reported Loss ($957,339,915)\"}, {\"period_start\": \"1992-01-01T00:00:00\", \"period_end\": \"1992-12-31T00:00:00\", \"evaluation_date\": \"2008-12-31T00:00:00\", \"dev_lag\": 192.0, \"Number of Fields\": 2, \"Fields\": \"Paid Loss ($871,535,981), Reported Loss ($961,618,343)\"}, {\"period_start\": \"1992-01-01T00:00:00\", \"period_end\": \"1992-12-31T00:00:00\", \"evaluation_date\": \"2009-12-31T00:00:00\", \"dev_lag\": 204.0, \"Number of Fields\": 2, \"Fields\": \"Paid Loss ($873,620,261), Reported Loss ($962,331,456)\"}, {\"period_start\": \"1992-01-01T00:00:00\", \"period_end\": \"1992-12-31T00:00:00\", \"evaluation_date\": \"2010-12-31T00:00:00\", \"dev_lag\": 216.0, \"Number of Fields\": 2, \"Fields\": \"Paid Loss ($875,092,114), Reported Loss ($963,309,525)\"}, {\"period_start\": \"1992-01-01T00:00:00\", \"period_end\": \"1992-12-31T00:00:00\", \"evaluation_date\": \"2011-12-31T00:00:00\", \"dev_lag\": 228.0, \"Number of Fields\": 2, \"Fields\": \"Paid Loss ($877,069,421), Reported Loss ($965,180,784)\"}, {\"period_start\": \"1992-01-01T00:00:00\", \"period_end\": \"1992-12-31T00:00:00\", \"evaluation_date\": \"2012-12-31T00:00:00\", \"dev_lag\": 240.0, \"Number of Fields\": 2, \"Fields\": \"Paid Loss ($880,976,102), Reported Loss ($967,858,613)\"}, {\"period_start\": \"1992-01-01T00:00:00\", \"period_end\": \"1992-12-31T00:00:00\", \"evaluation_date\": \"2013-12-31T00:00:00\", \"dev_lag\": 252.0, \"Number of Fields\": 2, \"Fields\": \"Paid Loss ($883,040,229), Reported Loss ($968,810,479)\"}, {\"period_start\": \"1992-01-01T00:00:00\", \"period_end\": \"1992-12-31T00:00:00\", \"evaluation_date\": \"2014-12-31T00:00:00\", \"dev_lag\": 264.0, \"Number of Fields\": 2, \"Fields\": \"Paid Loss ($883,728,654), Reported Loss ($970,023,171)\"}, {\"period_start\": \"1992-01-01T00:00:00\", \"period_end\": \"1992-12-31T00:00:00\", \"evaluation_date\": \"2015-12-31T00:00:00\", \"dev_lag\": 276.0, \"Number of Fields\": 2, \"Fields\": \"Paid Loss ($885,148,315), Reported Loss ($972,463,554)\"}, {\"period_start\": \"1992-01-01T00:00:00\", \"period_end\": \"1992-12-31T00:00:00\", \"evaluation_date\": \"2016-12-31T00:00:00\", \"dev_lag\": 288.0, \"Number of Fields\": 2, \"Fields\": \"Paid Loss ($886,950,227), Reported Loss ($974,729,788)\"}, {\"period_start\": \"1992-01-01T00:00:00\", \"period_end\": \"1992-12-31T00:00:00\", \"evaluation_date\": \"2017-12-31T00:00:00\", \"dev_lag\": 300.0, \"Number of Fields\": 2, \"Fields\": \"Paid Loss ($887,423,080), Reported Loss ($976,554,134)\"}, {\"period_start\": \"1992-01-01T00:00:00\", \"period_end\": \"1992-12-31T00:00:00\", \"evaluation_date\": \"2018-12-31T00:00:00\", \"dev_lag\": 312.0, \"Number of Fields\": 2, \"Fields\": \"Paid Loss ($888,720,269), Reported Loss ($978,565,566)\"}, {\"period_start\": \"1992-01-01T00:00:00\", \"period_end\": \"1992-12-31T00:00:00\", \"evaluation_date\": \"2019-12-31T00:00:00\", \"dev_lag\": 324.0, \"Number of Fields\": 2, \"Fields\": \"Paid Loss ($890,407,958), Reported Loss ($983,787,993)\"}, {\"period_start\": \"1993-01-01T00:00:00\", \"period_end\": \"1993-12-31T00:00:00\", \"evaluation_date\": \"1993-12-31T00:00:00\", \"dev_lag\": 0.0, \"Number of Fields\": 2, \"Fields\": \"Paid Loss ($41,122,724), Reported Loss ($160,502,717)\"}, {\"period_start\": \"1993-01-01T00:00:00\", \"period_end\": \"1993-12-31T00:00:00\", \"evaluation_date\": \"1994-12-31T00:00:00\", \"dev_lag\": 12.0, \"Number of Fields\": 2, \"Fields\": \"Paid Loss ($118,380,758), Reported Loss ($314,376,809)\"}, {\"period_start\": \"1993-01-01T00:00:00\", \"period_end\": \"1993-12-31T00:00:00\", \"evaluation_date\": \"1995-12-31T00:00:00\", \"dev_lag\": 24.0, \"Number of Fields\": 2, \"Fields\": \"Paid Loss ($220,582,482), Reported Loss ($464,452,679)\"}, {\"period_start\": \"1993-01-01T00:00:00\", \"period_end\": \"1993-12-31T00:00:00\", \"evaluation_date\": \"1996-12-31T00:00:00\", \"dev_lag\": 36.0, \"Number of Fields\": 2, \"Fields\": \"Paid Loss ($361,275,981), Reported Loss ($601,096,259)\"}, {\"period_start\": \"1993-01-01T00:00:00\", \"period_end\": \"1993-12-31T00:00:00\", \"evaluation_date\": \"1997-12-31T00:00:00\", \"dev_lag\": 48.0, \"Number of Fields\": 2, \"Fields\": \"Paid Loss ($478,680,700), Reported Loss ($685,033,552)\"}, {\"period_start\": \"1993-01-01T00:00:00\", \"period_end\": \"1993-12-31T00:00:00\", \"evaluation_date\": \"1998-12-31T00:00:00\", \"dev_lag\": 60.0, \"Number of Fields\": 2, \"Fields\": \"Paid Loss ($569,566,222), Reported Loss ($755,969,240)\"}, {\"period_start\": \"1993-01-01T00:00:00\", \"period_end\": \"1993-12-31T00:00:00\", \"evaluation_date\": \"1999-12-31T00:00:00\", \"dev_lag\": 72.0, \"Number of Fields\": 2, \"Fields\": \"Paid Loss ($641,473,651), Reported Loss ($815,949,532)\"}, {\"period_start\": \"1993-01-01T00:00:00\", \"period_end\": \"1993-12-31T00:00:00\", \"evaluation_date\": \"2000-12-31T00:00:00\", \"dev_lag\": 84.0, \"Number of Fields\": 2, \"Fields\": \"Paid Loss ($697,245,004), Reported Loss ($852,181,002)\"}, {\"period_start\": \"1993-01-01T00:00:00\", \"period_end\": \"1993-12-31T00:00:00\", \"evaluation_date\": \"2001-12-31T00:00:00\", \"dev_lag\": 96.0, \"Number of Fields\": 2, \"Fields\": \"Paid Loss ($747,555,453), Reported Loss ($892,793,789)\"}, {\"period_start\": \"1993-01-01T00:00:00\", \"period_end\": \"1993-12-31T00:00:00\", \"evaluation_date\": \"2002-12-31T00:00:00\", \"dev_lag\": 108.0, \"Number of Fields\": 2, \"Fields\": \"Paid Loss ($792,196,208), Reported Loss ($932,931,366)\"}, {\"period_start\": \"1993-01-01T00:00:00\", \"period_end\": \"1993-12-31T00:00:00\", \"evaluation_date\": \"2003-12-31T00:00:00\", \"dev_lag\": 120.0, \"Number of Fields\": 2, \"Fields\": \"Paid Loss ($828,486,788), Reported Loss ($967,640,303)\"}, {\"period_start\": \"1993-01-01T00:00:00\", \"period_end\": \"1993-12-31T00:00:00\", \"evaluation_date\": \"2004-12-31T00:00:00\", \"dev_lag\": 132.0, \"Number of Fields\": 2, \"Fields\": \"Paid Loss ($858,876,326), Reported Loss ($980,302,870)\"}, {\"period_start\": \"1993-01-01T00:00:00\", \"period_end\": \"1993-12-31T00:00:00\", \"evaluation_date\": \"2005-12-31T00:00:00\", \"dev_lag\": 144.0, \"Number of Fields\": 2, \"Fields\": \"Paid Loss ($874,523,261), Reported Loss ($995,059,401)\"}, {\"period_start\": \"1993-01-01T00:00:00\", \"period_end\": \"1993-12-31T00:00:00\", \"evaluation_date\": \"2006-12-31T00:00:00\", \"dev_lag\": 156.0, \"Number of Fields\": 2, \"Fields\": \"Paid Loss ($889,057,977), Reported Loss ($1,001,875,206)\"}, {\"period_start\": \"1993-01-01T00:00:00\", \"period_end\": \"1993-12-31T00:00:00\", \"evaluation_date\": \"2007-12-31T00:00:00\", \"dev_lag\": 168.0, \"Number of Fields\": 2, \"Fields\": \"Paid Loss ($895,150,134), Reported Loss ($1,005,328,846)\"}, {\"period_start\": \"1993-01-01T00:00:00\", \"period_end\": \"1993-12-31T00:00:00\", \"evaluation_date\": \"2008-12-31T00:00:00\", \"dev_lag\": 180.0, \"Number of Fields\": 2, \"Fields\": \"Paid Loss ($901,266,450), Reported Loss ($1,010,233,853)\"}, {\"period_start\": \"1993-01-01T00:00:00\", \"period_end\": \"1993-12-31T00:00:00\", \"evaluation_date\": \"2009-12-31T00:00:00\", \"dev_lag\": 192.0, \"Number of Fields\": 2, \"Fields\": \"Paid Loss ($904,630,463), Reported Loss ($1,013,669,401)\"}, {\"period_start\": \"1993-01-01T00:00:00\", \"period_end\": \"1993-12-31T00:00:00\", \"evaluation_date\": \"2010-12-31T00:00:00\", \"dev_lag\": 204.0, \"Number of Fields\": 2, \"Fields\": \"Paid Loss ($906,986,588), Reported Loss ($1,013,311,278)\"}, {\"period_start\": \"1993-01-01T00:00:00\", \"period_end\": \"1993-12-31T00:00:00\", \"evaluation_date\": \"2011-12-31T00:00:00\", \"dev_lag\": 216.0, \"Number of Fields\": 2, \"Fields\": \"Paid Loss ($910,027,288), Reported Loss ($1,015,878,911)\"}, {\"period_start\": \"1993-01-01T00:00:00\", \"period_end\": \"1993-12-31T00:00:00\", \"evaluation_date\": \"2012-12-31T00:00:00\", \"dev_lag\": 228.0, \"Number of Fields\": 2, \"Fields\": \"Paid Loss ($913,667,992), Reported Loss ($1,018,441,392)\"}, {\"period_start\": \"1993-01-01T00:00:00\", \"period_end\": \"1993-12-31T00:00:00\", \"evaluation_date\": \"2013-12-31T00:00:00\", \"dev_lag\": 240.0, \"Number of Fields\": 2, \"Fields\": \"Paid Loss ($915,942,858), Reported Loss ($1,024,017,081)\"}, {\"period_start\": \"1993-01-01T00:00:00\", \"period_end\": \"1993-12-31T00:00:00\", \"evaluation_date\": \"2014-12-31T00:00:00\", \"dev_lag\": 252.0, \"Number of Fields\": 2, \"Fields\": \"Paid Loss ($919,081,920), Reported Loss ($1,027,388,126)\"}, {\"period_start\": \"1993-01-01T00:00:00\", \"period_end\": \"1993-12-31T00:00:00\", \"evaluation_date\": \"2015-12-31T00:00:00\", \"dev_lag\": 264.0, \"Number of Fields\": 2, \"Fields\": \"Paid Loss ($921,535,023), Reported Loss ($1,029,991,688)\"}, {\"period_start\": \"1993-01-01T00:00:00\", \"period_end\": \"1993-12-31T00:00:00\", \"evaluation_date\": \"2016-12-31T00:00:00\", \"dev_lag\": 276.0, \"Number of Fields\": 2, \"Fields\": \"Paid Loss ($924,343,584), Reported Loss ($1,032,982,338)\"}, {\"period_start\": \"1993-01-01T00:00:00\", \"period_end\": \"1993-12-31T00:00:00\", \"evaluation_date\": \"2017-12-31T00:00:00\", \"dev_lag\": 288.0, \"Number of Fields\": 2, \"Fields\": \"Paid Loss ($927,203,088), Reported Loss ($1,035,933,364)\"}, {\"period_start\": \"1993-01-01T00:00:00\", \"period_end\": \"1993-12-31T00:00:00\", \"evaluation_date\": \"2018-12-31T00:00:00\", \"dev_lag\": 300.0, \"Number of Fields\": 2, \"Fields\": \"Paid Loss ($930,178,812), Reported Loss ($1,038,925,871)\"}, {\"period_start\": \"1993-01-01T00:00:00\", \"period_end\": \"1993-12-31T00:00:00\", \"evaluation_date\": \"2019-12-31T00:00:00\", \"dev_lag\": 312.0, \"Number of Fields\": 2, \"Fields\": \"Paid Loss ($931,708,293), Reported Loss ($1,040,327,538)\"}, {\"period_start\": \"1994-01-01T00:00:00\", \"period_end\": \"1994-12-31T00:00:00\", \"evaluation_date\": \"1994-12-31T00:00:00\", \"dev_lag\": 0.0, \"Number of Fields\": 2, \"Fields\": \"Paid Loss ($46,027,423), Reported Loss ($157,100,441)\"}, {\"period_start\": \"1994-01-01T00:00:00\", \"period_end\": \"1994-12-31T00:00:00\", \"evaluation_date\": \"1995-12-31T00:00:00\", \"dev_lag\": 12.0, \"Number of Fields\": 2, \"Fields\": \"Paid Loss ($125,098,155), Reported Loss ($326,348,099)\"}, {\"period_start\": \"1994-01-01T00:00:00\", \"period_end\": \"1994-12-31T00:00:00\", \"evaluation_date\": \"1996-12-31T00:00:00\", \"dev_lag\": 24.0, \"Number of Fields\": 2, \"Fields\": \"Paid Loss ($274,740,165), Reported Loss ($508,618,525)\"}, {\"period_start\": \"1994-01-01T00:00:00\", \"period_end\": \"1994-12-31T00:00:00\", \"evaluation_date\": \"1997-12-31T00:00:00\", \"dev_lag\": 36.0, \"Number of Fields\": 2, \"Fields\": \"Paid Loss ($450,843,132), Reported Loss ($663,882,507)\"}, {\"period_start\": \"1994-01-01T00:00:00\", \"period_end\": \"1994-12-31T00:00:00\", \"evaluation_date\": \"1998-12-31T00:00:00\", \"dev_lag\": 48.0, \"Number of Fields\": 2, \"Fields\": \"Paid Loss ($629,647,783), Reported Loss ($814,472,480)\"}, {\"period_start\": \"1994-01-01T00:00:00\", \"period_end\": \"1994-12-31T00:00:00\", \"evaluation_date\": \"1999-12-31T00:00:00\", \"dev_lag\": 60.0, \"Number of Fields\": 2, \"Fields\": \"Paid Loss ($754,688,074), Reported Loss ($904,280,619)\"}, {\"period_start\": \"1994-01-01T00:00:00\", \"period_end\": \"1994-12-31T00:00:00\", \"evaluation_date\": \"2000-12-31T00:00:00\", \"dev_lag\": 72.0, \"Number of Fields\": 2, \"Fields\": \"Paid Loss ($852,254,751), Reported Loss ($959,619,402)\"}, {\"period_start\": \"1994-01-01T00:00:00\", \"period_end\": \"1994-12-31T00:00:00\", \"evaluation_date\": \"2001-12-31T00:00:00\", \"dev_lag\": 84.0, \"Number of Fields\": 2, \"Fields\": \"Paid Loss ($916,060,293), Reported Loss ($1,006,805,127)\"}, {\"period_start\": \"1994-01-01T00:00:00\", \"period_end\": \"1994-12-31T00:00:00\", \"evaluation_date\": \"2002-12-31T00:00:00\", \"dev_lag\": 96.0, \"Number of Fields\": 2, \"Fields\": \"Paid Loss ($982,853,536), Reported Loss ($1,059,371,170)\"}, {\"period_start\": \"1994-01-01T00:00:00\", \"period_end\": \"1994-12-31T00:00:00\", \"evaluation_date\": \"2003-12-31T00:00:00\", \"dev_lag\": 108.0, \"Number of Fields\": 2, \"Fields\": \"Paid Loss ($1,028,569,377), Reported Loss ($1,102,646,813)\"}, {\"period_start\": \"1994-01-01T00:00:00\", \"period_end\": \"1994-12-31T00:00:00\", \"evaluation_date\": \"2004-12-31T00:00:00\", \"dev_lag\": 120.0, \"Number of Fields\": 2, \"Fields\": \"Paid Loss ($1,071,755,612), Reported Loss ($1,124,582,370)\"}, {\"period_start\": \"1994-01-01T00:00:00\", \"period_end\": \"1994-12-31T00:00:00\", \"evaluation_date\": \"2005-12-31T00:00:00\", \"dev_lag\": 132.0, \"Number of Fields\": 2, \"Fields\": \"Paid Loss ($1,103,041,180), Reported Loss ($1,147,409,713)\"}, {\"period_start\": \"1994-01-01T00:00:00\", \"period_end\": \"1994-12-31T00:00:00\", \"evaluation_date\": \"2006-12-31T00:00:00\", \"dev_lag\": 144.0, \"Number of Fields\": 2, \"Fields\": \"Paid Loss ($1,131,369,184), Reported Loss ($1,161,339,115)\"}, {\"period_start\": \"1994-01-01T00:00:00\", \"period_end\": \"1994-12-31T00:00:00\", \"evaluation_date\": \"2007-12-31T00:00:00\", \"dev_lag\": 156.0, \"Number of Fields\": 2, \"Fields\": \"Paid Loss ($1,157,097,305), Reported Loss ($1,175,532,102)\"}, {\"period_start\": \"1994-01-01T00:00:00\", \"period_end\": \"1994-12-31T00:00:00\", \"evaluation_date\": \"2008-12-31T00:00:00\", \"dev_lag\": 168.0, \"Number of Fields\": 2, \"Fields\": \"Paid Loss ($1,157,249,503), Reported Loss ($1,171,262,461)\"}, {\"period_start\": \"1994-01-01T00:00:00\", \"period_end\": \"1994-12-31T00:00:00\", \"evaluation_date\": \"2009-12-31T00:00:00\", \"dev_lag\": 180.0, \"Number of Fields\": 2, \"Fields\": \"Paid Loss ($1,164,912,596), Reported Loss ($1,176,785,506)\"}, {\"period_start\": \"1994-01-01T00:00:00\", \"period_end\": \"1994-12-31T00:00:00\", \"evaluation_date\": \"2010-12-31T00:00:00\", \"dev_lag\": 192.0, \"Number of Fields\": 2, \"Fields\": \"Paid Loss ($1,172,203,719), Reported Loss ($1,180,615,334)\"}, {\"period_start\": \"1994-01-01T00:00:00\", \"period_end\": \"1994-12-31T00:00:00\", \"evaluation_date\": \"2011-12-31T00:00:00\", \"dev_lag\": 204.0, \"Number of Fields\": 2, \"Fields\": \"Paid Loss ($1,175,555,608), Reported Loss ($1,182,965,285)\"}, {\"period_start\": \"1994-01-01T00:00:00\", \"period_end\": \"1994-12-31T00:00:00\", \"evaluation_date\": \"2012-12-31T00:00:00\", \"dev_lag\": 216.0, \"Number of Fields\": 2, \"Fields\": \"Paid Loss ($1,178,830,301), Reported Loss ($1,184,568,911)\"}, {\"period_start\": \"1994-01-01T00:00:00\", \"period_end\": \"1994-12-31T00:00:00\", \"evaluation_date\": \"2013-12-31T00:00:00\", \"dev_lag\": 228.0, \"Number of Fields\": 2, \"Fields\": \"Paid Loss ($1,181,427,058), Reported Loss ($1,186,040,011)\"}, {\"period_start\": \"1994-01-01T00:00:00\", \"period_end\": \"1994-12-31T00:00:00\", \"evaluation_date\": \"2014-12-31T00:00:00\", \"dev_lag\": 240.0, \"Number of Fields\": 2, \"Fields\": \"Paid Loss ($1,184,254,096), Reported Loss ($1,188,996,846)\"}, {\"period_start\": \"1994-01-01T00:00:00\", \"period_end\": \"1994-12-31T00:00:00\", \"evaluation_date\": \"2015-12-31T00:00:00\", \"dev_lag\": 252.0, \"Number of Fields\": 2, \"Fields\": \"Paid Loss ($1,185,167,017), Reported Loss ($1,189,538,999)\"}, {\"period_start\": \"1994-01-01T00:00:00\", \"period_end\": \"1994-12-31T00:00:00\", \"evaluation_date\": \"2016-12-31T00:00:00\", \"dev_lag\": 264.0, \"Number of Fields\": 2, \"Fields\": \"Paid Loss ($1,186,075,440), Reported Loss ($1,190,052,686)\"}, {\"period_start\": \"1994-01-01T00:00:00\", \"period_end\": \"1994-12-31T00:00:00\", \"evaluation_date\": \"2017-12-31T00:00:00\", \"dev_lag\": 276.0, \"Number of Fields\": 2, \"Fields\": \"Paid Loss ($1,187,378,647), Reported Loss ($1,192,164,000)\"}, {\"period_start\": \"1994-01-01T00:00:00\", \"period_end\": \"1994-12-31T00:00:00\", \"evaluation_date\": \"2018-12-31T00:00:00\", \"dev_lag\": 288.0, \"Number of Fields\": 2, \"Fields\": \"Paid Loss ($1,188,644,115), Reported Loss ($1,193,137,001)\"}, {\"period_start\": \"1994-01-01T00:00:00\", \"period_end\": \"1994-12-31T00:00:00\", \"evaluation_date\": \"2019-12-31T00:00:00\", \"dev_lag\": 300.0, \"Number of Fields\": 2, \"Fields\": \"Paid Loss ($1,190,804,117), Reported Loss ($1,193,952,424)\"}, {\"period_start\": \"1995-01-01T00:00:00\", \"period_end\": \"1995-12-31T00:00:00\", \"evaluation_date\": \"1995-12-31T00:00:00\", \"dev_lag\": 0.0, \"Number of Fields\": 2, \"Fields\": \"Paid Loss ($38,983,261), Reported Loss ($158,500,590)\"}, {\"period_start\": \"1995-01-01T00:00:00\", \"period_end\": \"1995-12-31T00:00:00\", \"evaluation_date\": \"1996-12-31T00:00:00\", \"dev_lag\": 12.0, \"Number of Fields\": 2, \"Fields\": \"Paid Loss ($126,129,244), Reported Loss ($320,725,460)\"}, {\"period_start\": \"1995-01-01T00:00:00\", \"period_end\": \"1995-12-31T00:00:00\", \"evaluation_date\": \"1997-12-31T00:00:00\", \"dev_lag\": 24.0, \"Number of Fields\": 2, \"Fields\": \"Paid Loss ($270,504,785), Reported Loss ($517,266,958)\"}, {\"period_start\": \"1995-01-01T00:00:00\", \"period_end\": \"1995-12-31T00:00:00\", \"evaluation_date\": \"1998-12-31T00:00:00\", \"dev_lag\": 36.0, \"Number of Fields\": 2, \"Fields\": \"Paid Loss ($435,879,167), Reported Loss ($687,554,571)\"}, {\"period_start\": \"1995-01-01T00:00:00\", \"period_end\": \"1995-12-31T00:00:00\", \"evaluation_date\": \"1999-12-31T00:00:00\", \"dev_lag\": 48.0, \"Number of Fields\": 2, \"Fields\": \"Paid Loss ($578,674,951), Reported Loss ($786,100,218)\"}, {\"period_start\": \"1995-01-01T00:00:00\", \"period_end\": \"1995-12-31T00:00:00\", \"evaluation_date\": \"2000-12-31T00:00:00\", \"dev_lag\": 60.0, \"Number of Fields\": 2, \"Fields\": \"Paid Loss ($705,118,742), Reported Loss ($869,059,399)\"}, {\"period_start\": \"1995-01-01T00:00:00\", \"period_end\": \"1995-12-31T00:00:00\", \"evaluation_date\": \"2001-12-31T00:00:00\", \"dev_lag\": 72.0, \"Number of Fields\": 2, \"Fields\": \"Paid Loss ($803,583,198), Reported Loss ($938,276,688)\"}, {\"period_start\": \"1995-01-01T00:00:00\", \"period_end\": \"1995-12-31T00:00:00\", \"evaluation_date\": \"2002-12-31T00:00:00\", \"dev_lag\": 84.0, \"Number of Fields\": 2, \"Fields\": \"Paid Loss ($879,000,672), Reported Loss ($997,065,458)\"}, {\"period_start\": \"1995-01-01T00:00:00\", \"period_end\": \"1995-12-31T00:00:00\", \"evaluation_date\": \"2003-12-31T00:00:00\", \"dev_lag\": 96.0, \"Number of Fields\": 2, \"Fields\": \"Paid Loss ($935,465,271), Reported Loss ($1,043,340,921)\"}, {\"period_start\": \"1995-01-01T00:00:00\", \"period_end\": \"1995-12-31T00:00:00\", \"evaluation_date\": \"2004-12-31T00:00:00\", \"dev_lag\": 108.0, \"Number of Fields\": 2, \"Fields\": \"Paid Loss ($976,855,575), Reported Loss ($1,066,086,090)\"}, {\"period_start\": \"1995-01-01T00:00:00\", \"period_end\": \"1995-12-31T00:00:00\", \"evaluation_date\": \"2005-12-31T00:00:00\", \"dev_lag\": 120.0, \"Number of Fields\": 2, \"Fields\": \"Paid Loss ($1,004,919,850), Reported Loss ($1,088,266,394)\"}, {\"period_start\": \"1995-01-01T00:00:00\", \"period_end\": \"1995-12-31T00:00:00\", \"evaluation_date\": \"2006-12-31T00:00:00\", \"dev_lag\": 132.0, \"Number of Fields\": 2, \"Fields\": \"Paid Loss ($1,031,434,758), Reported Loss ($1,107,181,850)\"}, {\"period_start\": \"1995-01-01T00:00:00\", \"period_end\": \"1995-12-31T00:00:00\", \"evaluation_date\": \"2007-12-31T00:00:00\", \"dev_lag\": 144.0, \"Number of Fields\": 2, \"Fields\": \"Paid Loss ($1,050,931,551), Reported Loss ($1,115,719,210)\"}, {\"period_start\": \"1995-01-01T00:00:00\", \"period_end\": \"1995-12-31T00:00:00\", \"evaluation_date\": \"2008-12-31T00:00:00\", \"dev_lag\": 156.0, \"Number of Fields\": 2, \"Fields\": \"Paid Loss ($1,061,870,156), Reported Loss ($1,122,341,575)\"}, {\"period_start\": \"1995-01-01T00:00:00\", \"period_end\": \"1995-12-31T00:00:00\", \"evaluation_date\": \"2009-12-31T00:00:00\", \"dev_lag\": 168.0, \"Number of Fields\": 2, \"Fields\": \"Paid Loss ($1,071,759,070), Reported Loss ($1,127,259,847)\"}, {\"period_start\": \"1995-01-01T00:00:00\", \"period_end\": \"1995-12-31T00:00:00\", \"evaluation_date\": \"2010-12-31T00:00:00\", \"dev_lag\": 180.0, \"Number of Fields\": 2, \"Fields\": \"Paid Loss ($1,077,201,253), Reported Loss ($1,130,461,387)\"}, {\"period_start\": \"1995-01-01T00:00:00\", \"period_end\": \"1995-12-31T00:00:00\", \"evaluation_date\": \"2011-12-31T00:00:00\", \"dev_lag\": 192.0, \"Number of Fields\": 2, \"Fields\": \"Paid Loss ($1,080,022,063), Reported Loss ($1,132,265,439)\"}, {\"period_start\": \"1995-01-01T00:00:00\", \"period_end\": \"1995-12-31T00:00:00\", \"evaluation_date\": \"2012-12-31T00:00:00\", \"dev_lag\": 204.0, \"Number of Fields\": 2, \"Fields\": \"Paid Loss ($1,084,671,541), Reported Loss ($1,136,662,244)\"}, {\"period_start\": \"1995-01-01T00:00:00\", \"period_end\": \"1995-12-31T00:00:00\", \"evaluation_date\": \"2013-12-31T00:00:00\", \"dev_lag\": 216.0, \"Number of Fields\": 2, \"Fields\": \"Paid Loss ($1,086,136,841), Reported Loss ($1,137,557,287)\"}, {\"period_start\": \"1995-01-01T00:00:00\", \"period_end\": \"1995-12-31T00:00:00\", \"evaluation_date\": \"2014-12-31T00:00:00\", \"dev_lag\": 228.0, \"Number of Fields\": 2, \"Fields\": \"Paid Loss ($1,087,941,281), Reported Loss ($1,139,393,527)\"}, {\"period_start\": \"1995-01-01T00:00:00\", \"period_end\": \"1995-12-31T00:00:00\", \"evaluation_date\": \"2015-12-31T00:00:00\", \"dev_lag\": 240.0, \"Number of Fields\": 2, \"Fields\": \"Paid Loss ($1,090,100,085), Reported Loss ($1,139,852,653)\"}, {\"period_start\": \"1995-01-01T00:00:00\", \"period_end\": \"1995-12-31T00:00:00\", \"evaluation_date\": \"2016-12-31T00:00:00\", \"dev_lag\": 252.0, \"Number of Fields\": 2, \"Fields\": \"Paid Loss ($1,091,411,187), Reported Loss ($1,141,257,307)\"}, {\"period_start\": \"1995-01-01T00:00:00\", \"period_end\": \"1995-12-31T00:00:00\", \"evaluation_date\": \"2017-12-31T00:00:00\", \"dev_lag\": 264.0, \"Number of Fields\": 2, \"Fields\": \"Paid Loss ($1,093,190,446), Reported Loss ($1,142,825,185)\"}, {\"period_start\": \"1995-01-01T00:00:00\", \"period_end\": \"1995-12-31T00:00:00\", \"evaluation_date\": \"2018-12-31T00:00:00\", \"dev_lag\": 276.0, \"Number of Fields\": 2, \"Fields\": \"Paid Loss ($1,094,326,461), Reported Loss ($1,144,466,665)\"}, {\"period_start\": \"1995-01-01T00:00:00\", \"period_end\": \"1995-12-31T00:00:00\", \"evaluation_date\": \"2019-12-31T00:00:00\", \"dev_lag\": 288.0, \"Number of Fields\": 2, \"Fields\": \"Paid Loss ($1,100,014,074), Reported Loss ($1,150,115,572)\"}, {\"period_start\": \"1996-01-01T00:00:00\", \"period_end\": \"1996-12-31T00:00:00\", \"evaluation_date\": \"1996-12-31T00:00:00\", \"dev_lag\": 0.0, \"Number of Fields\": 3, \"Fields\": \"Paid Loss ($39,617,920), Reported Loss ($175,319,762), Earned Premium ($1,271,222,713)\"}, {\"period_start\": \"1996-01-01T00:00:00\", \"period_end\": \"1996-12-31T00:00:00\", \"evaluation_date\": \"1997-12-31T00:00:00\", \"dev_lag\": 12.0, \"Number of Fields\": 3, \"Fields\": \"Paid Loss ($129,159,315), Reported Loss ($337,702,528), Earned Premium ($1,305,114,215)\"}, {\"period_start\": \"1996-01-01T00:00:00\", \"period_end\": \"1996-12-31T00:00:00\", \"evaluation_date\": \"1998-12-31T00:00:00\", \"dev_lag\": 24.0, \"Number of Fields\": 3, \"Fields\": \"Paid Loss ($264,115,091), Reported Loss ($524,536,514), Earned Premium ($1,302,426,630)\"}, {\"period_start\": \"1996-01-01T00:00:00\", \"period_end\": \"1996-12-31T00:00:00\", \"evaluation_date\": \"1999-12-31T00:00:00\", \"dev_lag\": 36.0, \"Number of Fields\": 3, \"Fields\": \"Paid Loss ($425,246,122), Reported Loss ($668,469,435), Earned Premium ($1,301,990,705)\"}, {\"period_start\": \"1996-01-01T00:00:00\", \"period_end\": \"1996-12-31T00:00:00\", \"evaluation_date\": \"2000-12-31T00:00:00\", \"dev_lag\": 48.0, \"Number of Fields\": 3, \"Fields\": \"Paid Loss ($583,262,772), Reported Loss ($758,873,513), Earned Premium ($1,301,840,488)\"}, {\"period_start\": \"1996-01-01T00:00:00\", \"period_end\": \"1996-12-31T00:00:00\", \"evaluation_date\": \"2001-12-31T00:00:00\", \"dev_lag\": 60.0, \"Number of Fields\": 3, \"Fields\": \"Paid Loss ($705,849,698), Reported Loss ($829,375,778), Earned Premium ($1,301,792,235)\"}, {\"period_start\": \"1996-01-01T00:00:00\", \"period_end\": \"1996-12-31T00:00:00\", \"evaluation_date\": \"2002-12-31T00:00:00\", \"dev_lag\": 72.0, \"Number of Fields\": 3, \"Fields\": \"Paid Loss ($793,431,642), Reported Loss ($900,817,219), Earned Premium ($1,301,836,422)\"}, {\"period_start\": \"1996-01-01T00:00:00\", \"period_end\": \"1996-12-31T00:00:00\", \"evaluation_date\": \"2003-12-31T00:00:00\", \"dev_lag\": 84.0, \"Number of Fields\": 3, \"Fields\": \"Paid Loss ($874,076,895), Reported Loss ($962,077,493), Earned Premium ($1,301,739,173)\"}, {\"period_start\": \"1996-01-01T00:00:00\", \"period_end\": \"1996-12-31T00:00:00\", \"evaluation_date\": \"2004-12-31T00:00:00\", \"dev_lag\": 96.0, \"Number of Fields\": 3, \"Fields\": \"Paid Loss ($926,192,536), Reported Loss ($1,007,297,458), Earned Premium ($1,301,739,173)\"}, {\"period_start\": \"1996-01-01T00:00:00\", \"period_end\": \"1996-12-31T00:00:00\", \"evaluation_date\": \"2005-12-31T00:00:00\", \"dev_lag\": 108.0, \"Number of Fields\": 3, \"Fields\": \"Paid Loss ($962,769,178), Reported Loss ($1,029,437,922), Earned Premium ($1,301,739,173)\"}, {\"period_start\": \"1996-01-01T00:00:00\", \"period_end\": \"1996-12-31T00:00:00\", \"evaluation_date\": \"2006-12-31T00:00:00\", \"dev_lag\": 120.0, \"Number of Fields\": 3, \"Fields\": \"Paid Loss ($999,426,693), Reported Loss ($1,048,231,061), Earned Premium ($1,301,739,173)\"}, {\"period_start\": \"1996-01-01T00:00:00\", \"period_end\": \"1996-12-31T00:00:00\", \"evaluation_date\": \"2007-12-31T00:00:00\", \"dev_lag\": 132.0, \"Number of Fields\": 3, \"Fields\": \"Paid Loss ($1,031,786,342), Reported Loss ($1,070,814,072), Earned Premium ($1,301,739,173)\"}, {\"period_start\": \"1996-01-01T00:00:00\", \"period_end\": \"1996-12-31T00:00:00\", \"evaluation_date\": \"2008-12-31T00:00:00\", \"dev_lag\": 144.0, \"Number of Fields\": 3, \"Fields\": \"Paid Loss ($1,051,090,629), Reported Loss ($1,072,276,750), Earned Premium ($1,301,739,173)\"}, {\"period_start\": \"1996-01-01T00:00:00\", \"period_end\": \"1996-12-31T00:00:00\", \"evaluation_date\": \"2009-12-31T00:00:00\", \"dev_lag\": 156.0, \"Number of Fields\": 3, \"Fields\": \"Paid Loss ($1,067,286,148), Reported Loss ($1,082,635,916), Earned Premium ($1,301,739,173)\"}, {\"period_start\": \"1996-01-01T00:00:00\", \"period_end\": \"1996-12-31T00:00:00\", \"evaluation_date\": \"2010-12-31T00:00:00\", \"dev_lag\": 168.0, \"Number of Fields\": 3, \"Fields\": \"Paid Loss ($1,070,006,628), Reported Loss ($1,082,361,589), Earned Premium ($1,301,739,173)\"}, {\"period_start\": \"1996-01-01T00:00:00\", \"period_end\": \"1996-12-31T00:00:00\", \"evaluation_date\": \"2011-12-31T00:00:00\", \"dev_lag\": 180.0, \"Number of Fields\": 3, \"Fields\": \"Paid Loss ($1,078,405,965), Reported Loss ($1,090,301,635), Earned Premium ($1,301,739,173)\"}, {\"period_start\": \"1996-01-01T00:00:00\", \"period_end\": \"1996-12-31T00:00:00\", \"evaluation_date\": \"2012-12-31T00:00:00\", \"dev_lag\": 192.0, \"Number of Fields\": 3, \"Fields\": \"Paid Loss ($1,087,919,734), Reported Loss ($1,097,725,698), Earned Premium ($1,301,739,173)\"}, {\"period_start\": \"1996-01-01T00:00:00\", \"period_end\": \"1996-12-31T00:00:00\", \"evaluation_date\": \"2013-12-31T00:00:00\", \"dev_lag\": 204.0, \"Number of Fields\": 3, \"Fields\": \"Paid Loss ($1,094,467,487), Reported Loss ($1,100,594,142), Earned Premium ($1,301,739,173)\"}, {\"period_start\": \"1996-01-01T00:00:00\", \"period_end\": \"1996-12-31T00:00:00\", \"evaluation_date\": \"2014-12-31T00:00:00\", \"dev_lag\": 216.0, \"Number of Fields\": 3, \"Fields\": \"Paid Loss ($1,098,678,045), Reported Loss ($1,105,306,357), Earned Premium ($1,301,739,173)\"}, {\"period_start\": \"1996-01-01T00:00:00\", \"period_end\": \"1996-12-31T00:00:00\", \"evaluation_date\": \"2015-12-31T00:00:00\", \"dev_lag\": 228.0, \"Number of Fields\": 3, \"Fields\": \"Paid Loss ($1,101,645,697), Reported Loss ($1,104,110,342), Earned Premium ($1,301,739,173)\"}, {\"period_start\": \"1996-01-01T00:00:00\", \"period_end\": \"1996-12-31T00:00:00\", \"evaluation_date\": \"2016-12-31T00:00:00\", \"dev_lag\": 240.0, \"Number of Fields\": 3, \"Fields\": \"Paid Loss ($1,103,219,005), Reported Loss ($1,106,006,228), Earned Premium ($1,301,739,173)\"}, {\"period_start\": \"1996-01-01T00:00:00\", \"period_end\": \"1996-12-31T00:00:00\", \"evaluation_date\": \"2017-12-31T00:00:00\", \"dev_lag\": 252.0, \"Number of Fields\": 3, \"Fields\": \"Paid Loss ($1,105,696,965), Reported Loss ($1,107,653,217), Earned Premium ($1,301,739,173)\"}, {\"period_start\": \"1996-01-01T00:00:00\", \"period_end\": \"1996-12-31T00:00:00\", \"evaluation_date\": \"2018-12-31T00:00:00\", \"dev_lag\": 264.0, \"Number of Fields\": 3, \"Fields\": \"Paid Loss ($1,109,305,264), Reported Loss ($1,110,931,384), Earned Premium ($1,301,739,173)\"}, {\"period_start\": \"1996-01-01T00:00:00\", \"period_end\": \"1996-12-31T00:00:00\", \"evaluation_date\": \"2019-12-31T00:00:00\", \"dev_lag\": 276.0, \"Number of Fields\": 3, \"Fields\": \"Paid Loss ($1,113,190,299), Reported Loss ($1,114,275,570), Earned Premium ($1,301,739,173)\"}, {\"period_start\": \"1997-01-01T00:00:00\", \"period_end\": \"1997-12-31T00:00:00\", \"evaluation_date\": \"1997-12-31T00:00:00\", \"dev_lag\": 0.0, \"Number of Fields\": 3, \"Fields\": \"Paid Loss ($40,567,820), Reported Loss ($167,263,384), Earned Premium ($1,370,981,571)\"}, {\"period_start\": \"1997-01-01T00:00:00\", \"period_end\": \"1997-12-31T00:00:00\", \"evaluation_date\": \"1998-12-31T00:00:00\", \"dev_lag\": 12.0, \"Number of Fields\": 3, \"Fields\": \"Paid Loss ($118,368,172), Reported Loss ($327,806,775), Earned Premium ($1,405,849,734)\"}, {\"period_start\": \"1997-01-01T00:00:00\", \"period_end\": \"1997-12-31T00:00:00\", \"evaluation_date\": \"1999-12-31T00:00:00\", \"dev_lag\": 24.0, \"Number of Fields\": 3, \"Fields\": \"Paid Loss ($239,399,861), Reported Loss ($490,980,841), Earned Premium ($1,404,792,743)\"}, {\"period_start\": \"1997-01-01T00:00:00\", \"period_end\": \"1997-12-31T00:00:00\", \"evaluation_date\": \"2000-12-31T00:00:00\", \"dev_lag\": 36.0, \"Number of Fields\": 3, \"Fields\": \"Paid Loss ($394,995,096), Reported Loss ($616,952,633), Earned Premium ($1,403,848,374)\"}, {\"period_start\": \"1997-01-01T00:00:00\", \"period_end\": \"1997-12-31T00:00:00\", \"evaluation_date\": \"2001-12-31T00:00:00\", \"dev_lag\": 48.0, \"Number of Fields\": 3, \"Fields\": \"Paid Loss ($541,753,532), Reported Loss ($698,376,762), Earned Premium ($1,403,741,136)\"}, {\"period_start\": \"1997-01-01T00:00:00\", \"period_end\": \"1997-12-31T00:00:00\", \"evaluation_date\": \"2002-12-31T00:00:00\", \"dev_lag\": 60.0, \"Number of Fields\": 3, \"Fields\": \"Paid Loss ($638,705,503), Reported Loss ($757,093,618), Earned Premium ($1,403,797,262)\"}, {\"period_start\": \"1997-01-01T00:00:00\", \"period_end\": \"1997-12-31T00:00:00\", \"evaluation_date\": \"2003-12-31T00:00:00\", \"dev_lag\": 72.0, \"Number of Fields\": 3, \"Fields\": \"Paid Loss ($718,908,953), Reported Loss ($809,403,324), Earned Premium ($1,403,581,953)\"}, {\"period_start\": \"1997-01-01T00:00:00\", \"period_end\": \"1997-12-31T00:00:00\", \"evaluation_date\": \"2004-12-31T00:00:00\", \"dev_lag\": 84.0, \"Number of Fields\": 3, \"Fields\": \"Paid Loss ($771,234,143), Reported Loss ($844,935,521), Earned Premium ($1,403,580,567)\"}, {\"period_start\": \"1997-01-01T00:00:00\", \"period_end\": \"1997-12-31T00:00:00\", \"evaluation_date\": \"2005-12-31T00:00:00\", \"dev_lag\": 96.0, \"Number of Fields\": 3, \"Fields\": \"Paid Loss ($823,808,935), Reported Loss ($878,884,676), Earned Premium ($1,403,580,370)\"}, {\"period_start\": \"1997-01-01T00:00:00\", \"period_end\": \"1997-12-31T00:00:00\", \"evaluation_date\": \"2006-12-31T00:00:00\", \"dev_lag\": 108.0, \"Number of Fields\": 3, \"Fields\": \"Paid Loss ($862,068,655), Reported Loss ($907,743,438), Earned Premium ($1,403,580,370)\"}, {\"period_start\": \"1997-01-01T00:00:00\", \"period_end\": \"1997-12-31T00:00:00\", \"evaluation_date\": \"2007-12-31T00:00:00\", \"dev_lag\": 120.0, \"Number of Fields\": 3, \"Fields\": \"Paid Loss ($889,599,130), Reported Loss ($923,592,128), Earned Premium ($1,403,580,370)\"}, {\"period_start\": \"1997-01-01T00:00:00\", \"period_end\": \"1997-12-31T00:00:00\", \"evaluation_date\": \"2008-12-31T00:00:00\", \"dev_lag\": 132.0, \"Number of Fields\": 3, \"Fields\": \"Paid Loss ($912,705,004), Reported Loss ($941,968,817), Earned Premium ($1,403,580,370)\"}, {\"period_start\": \"1997-01-01T00:00:00\", \"period_end\": \"1997-12-31T00:00:00\", \"evaluation_date\": \"2009-12-31T00:00:00\", \"dev_lag\": 144.0, \"Number of Fields\": 3, \"Fields\": \"Paid Loss ($931,788,833), Reported Loss ($958,015,216), Earned Premium ($1,403,580,370)\"}, {\"period_start\": \"1997-01-01T00:00:00\", \"period_end\": \"1997-12-31T00:00:00\", \"evaluation_date\": \"2010-12-31T00:00:00\", \"dev_lag\": 156.0, \"Number of Fields\": 3, \"Fields\": \"Paid Loss ($943,199,883), Reported Loss ($963,012,331), Earned Premium ($1,403,580,370)\"}, {\"period_start\": \"1997-01-01T00:00:00\", \"period_end\": \"1997-12-31T00:00:00\", \"evaluation_date\": \"2011-12-31T00:00:00\", \"dev_lag\": 168.0, \"Number of Fields\": 3, \"Fields\": \"Paid Loss ($957,978,925), Reported Loss ($974,469,742), Earned Premium ($1,403,580,370)\"}, {\"period_start\": \"1997-01-01T00:00:00\", \"period_end\": \"1997-12-31T00:00:00\", \"evaluation_date\": \"2012-12-31T00:00:00\", \"dev_lag\": 180.0, \"Number of Fields\": 3, \"Fields\": \"Paid Loss ($973,106,866), Reported Loss ($983,012,491), Earned Premium ($1,403,580,370)\"}, {\"period_start\": \"1997-01-01T00:00:00\", \"period_end\": \"1997-12-31T00:00:00\", \"evaluation_date\": \"2013-12-31T00:00:00\", \"dev_lag\": 192.0, \"Number of Fields\": 3, \"Fields\": \"Paid Loss ($977,078,368), Reported Loss ($985,400,040), Earned Premium ($1,403,580,370)\"}, {\"period_start\": \"1997-01-01T00:00:00\", \"period_end\": \"1997-12-31T00:00:00\", \"evaluation_date\": \"2014-12-31T00:00:00\", \"dev_lag\": 204.0, \"Number of Fields\": 3, \"Fields\": \"Paid Loss ($981,517,849), Reported Loss ($987,065,017), Earned Premium ($1,403,580,370)\"}, {\"period_start\": \"1997-01-01T00:00:00\", \"period_end\": \"1997-12-31T00:00:00\", \"evaluation_date\": \"2015-12-31T00:00:00\", \"dev_lag\": 216.0, \"Number of Fields\": 3, \"Fields\": \"Paid Loss ($984,571,398), Reported Loss ($985,470,235), Earned Premium ($1,403,580,370)\"}, {\"period_start\": \"1997-01-01T00:00:00\", \"period_end\": \"1997-12-31T00:00:00\", \"evaluation_date\": \"2016-12-31T00:00:00\", \"dev_lag\": 228.0, \"Number of Fields\": 3, \"Fields\": \"Paid Loss ($985,648,508), Reported Loss ($985,588,292), Earned Premium ($1,403,580,370)\"}, {\"period_start\": \"1997-01-01T00:00:00\", \"period_end\": \"1997-12-31T00:00:00\", \"evaluation_date\": \"2017-12-31T00:00:00\", \"dev_lag\": 240.0, \"Number of Fields\": 3, \"Fields\": \"Paid Loss ($986,561,475), Reported Loss ($986,272,450), Earned Premium ($1,403,580,370)\"}, {\"period_start\": \"1997-01-01T00:00:00\", \"period_end\": \"1997-12-31T00:00:00\", \"evaluation_date\": \"2018-12-31T00:00:00\", \"dev_lag\": 252.0, \"Number of Fields\": 3, \"Fields\": \"Paid Loss ($988,609,115), Reported Loss ($989,266,084), Earned Premium ($1,403,580,370)\"}, {\"period_start\": \"1997-01-01T00:00:00\", \"period_end\": \"1997-12-31T00:00:00\", \"evaluation_date\": \"2019-12-31T00:00:00\", \"dev_lag\": 264.0, \"Number of Fields\": 3, \"Fields\": \"Paid Loss ($989,510,589), Reported Loss ($989,200,089), Earned Premium ($1,403,580,370)\"}, {\"period_start\": \"1998-01-01T00:00:00\", \"period_end\": \"1998-12-31T00:00:00\", \"evaluation_date\": \"1998-12-31T00:00:00\", \"dev_lag\": 0.0, \"Number of Fields\": 3, \"Fields\": \"Paid Loss ($46,518,006), Reported Loss ($192,805,746), Earned Premium ($1,521,338,478)\"}, {\"period_start\": \"1998-01-01T00:00:00\", \"period_end\": \"1998-12-31T00:00:00\", \"evaluation_date\": \"1999-12-31T00:00:00\", \"dev_lag\": 12.0, \"Number of Fields\": 3, \"Fields\": \"Paid Loss ($130,768,262), Reported Loss ($340,398,174), Earned Premium ($1,553,798,746)\"}, {\"period_start\": \"1998-01-01T00:00:00\", \"period_end\": \"1998-12-31T00:00:00\", \"evaluation_date\": \"2000-12-31T00:00:00\", \"dev_lag\": 24.0, \"Number of Fields\": 3, \"Fields\": \"Paid Loss ($254,797,574), Reported Loss ($480,909,300), Earned Premium ($1,551,373,641)\"}, {\"period_start\": \"1998-01-01T00:00:00\", \"period_end\": \"1998-12-31T00:00:00\", \"evaluation_date\": \"2001-12-31T00:00:00\", \"dev_lag\": 36.0, \"Number of Fields\": 3, \"Fields\": \"Paid Loss ($389,721,383), Reported Loss ($587,920,763), Earned Premium ($1,551,163,148)\"}, {\"period_start\": \"1998-01-01T00:00:00\", \"period_end\": \"1998-12-31T00:00:00\", \"evaluation_date\": \"2002-12-31T00:00:00\", \"dev_lag\": 48.0, \"Number of Fields\": 3, \"Fields\": \"Paid Loss ($516,958,978), Reported Loss ($661,783,296), Earned Premium ($1,551,154,294)\"}, {\"period_start\": \"1998-01-01T00:00:00\", \"period_end\": \"1998-12-31T00:00:00\", \"evaluation_date\": \"2003-12-31T00:00:00\", \"dev_lag\": 60.0, \"Number of Fields\": 3, \"Fields\": \"Paid Loss ($606,636,851), Reported Loss ($712,196,621), Earned Premium ($1,551,274,881)\"}, {\"period_start\": \"1998-01-01T00:00:00\", \"period_end\": \"1998-12-31T00:00:00\", \"evaluation_date\": \"2004-12-31T00:00:00\", \"dev_lag\": 72.0, \"Number of Fields\": 3, \"Fields\": \"Paid Loss ($674,345,144), Reported Loss ($760,564,633), Earned Premium ($1,551,171,161)\"}, {\"period_start\": \"1998-01-01T00:00:00\", \"period_end\": \"1998-12-31T00:00:00\", \"evaluation_date\": \"2005-12-31T00:00:00\", \"dev_lag\": 84.0, \"Number of Fields\": 3, \"Fields\": \"Paid Loss ($729,659,656), Reported Loss ($788,996,577), Earned Premium ($1,551,220,777)\"}, {\"period_start\": \"1998-01-01T00:00:00\", \"period_end\": \"1998-12-31T00:00:00\", \"evaluation_date\": \"2006-12-31T00:00:00\", \"dev_lag\": 96.0, \"Number of Fields\": 3, \"Fields\": \"Paid Loss ($765,824,962), Reported Loss ($814,032,426), Earned Premium ($1,551,220,777)\"}, {\"period_start\": \"1998-01-01T00:00:00\", \"period_end\": \"1998-12-31T00:00:00\", \"evaluation_date\": \"2007-12-31T00:00:00\", \"dev_lag\": 108.0, \"Number of Fields\": 3, \"Fields\": \"Paid Loss ($800,700,039), Reported Loss ($835,620,312), Earned Premium ($1,551,220,777)\"}, {\"period_start\": \"1998-01-01T00:00:00\", \"period_end\": \"1998-12-31T00:00:00\", \"evaluation_date\": \"2008-12-31T00:00:00\", \"dev_lag\": 120.0, \"Number of Fields\": 3, \"Fields\": \"Paid Loss ($824,886,166), Reported Loss ($855,254,619), Earned Premium ($1,551,220,777)\"}, {\"period_start\": \"1998-01-01T00:00:00\", \"period_end\": \"1998-12-31T00:00:00\", \"evaluation_date\": \"2009-12-31T00:00:00\", \"dev_lag\": 132.0, \"Number of Fields\": 3, \"Fields\": \"Paid Loss ($845,613,106), Reported Loss ($873,227,840), Earned Premium ($1,551,220,777)\"}, {\"period_start\": \"1998-01-01T00:00:00\", \"period_end\": \"1998-12-31T00:00:00\", \"evaluation_date\": \"2010-12-31T00:00:00\", \"dev_lag\": 144.0, \"Number of Fields\": 3, \"Fields\": \"Paid Loss ($860,481,734), Reported Loss ($882,756,994), Earned Premium ($1,551,220,777)\"}, {\"period_start\": \"1998-01-01T00:00:00\", \"period_end\": \"1998-12-31T00:00:00\", \"evaluation_date\": \"2011-12-31T00:00:00\", \"dev_lag\": 156.0, \"Number of Fields\": 3, \"Fields\": \"Paid Loss ($876,090,224), Reported Loss ($888,993,460), Earned Premium ($1,551,220,777)\"}, {\"period_start\": \"1998-01-01T00:00:00\", \"period_end\": \"1998-12-31T00:00:00\", \"evaluation_date\": \"2012-12-31T00:00:00\", \"dev_lag\": 168.0, \"Number of Fields\": 3, \"Fields\": \"Paid Loss ($882,971,701), Reported Loss ($891,145,041), Earned Premium ($1,551,220,777)\"}, {\"period_start\": \"1998-01-01T00:00:00\", \"period_end\": \"1998-12-31T00:00:00\", \"evaluation_date\": \"2013-12-31T00:00:00\", \"dev_lag\": 180.0, \"Number of Fields\": 3, \"Fields\": \"Paid Loss ($885,000,845), Reported Loss ($890,913,638), Earned Premium ($1,551,220,777)\"}, {\"period_start\": \"1998-01-01T00:00:00\", \"period_end\": \"1998-12-31T00:00:00\", \"evaluation_date\": \"2014-12-31T00:00:00\", \"dev_lag\": 192.0, \"Number of Fields\": 3, \"Fields\": \"Paid Loss ($889,267,117), Reported Loss ($894,125,273), Earned Premium ($1,551,220,777)\"}, {\"period_start\": \"1998-01-01T00:00:00\", \"period_end\": \"1998-12-31T00:00:00\", \"evaluation_date\": \"2015-12-31T00:00:00\", \"dev_lag\": 204.0, \"Number of Fields\": 3, \"Fields\": \"Paid Loss ($891,918,289), Reported Loss ($892,381,073), Earned Premium ($1,551,220,777)\"}, {\"period_start\": \"1998-01-01T00:00:00\", \"period_end\": \"1998-12-31T00:00:00\", \"evaluation_date\": \"2016-12-31T00:00:00\", \"dev_lag\": 216.0, \"Number of Fields\": 3, \"Fields\": \"Paid Loss ($892,754,973), Reported Loss ($892,600,069), Earned Premium ($1,551,220,777)\"}, {\"period_start\": \"1998-01-01T00:00:00\", \"period_end\": \"1998-12-31T00:00:00\", \"evaluation_date\": \"2017-12-31T00:00:00\", \"dev_lag\": 228.0, \"Number of Fields\": 3, \"Fields\": \"Paid Loss ($893,784,663), Reported Loss ($893,398,376), Earned Premium ($1,551,220,777)\"}, {\"period_start\": \"1998-01-01T00:00:00\", \"period_end\": \"1998-12-31T00:00:00\", \"evaluation_date\": \"2018-12-31T00:00:00\", \"dev_lag\": 240.0, \"Number of Fields\": 3, \"Fields\": \"Paid Loss ($894,383,124), Reported Loss ($894,013,250), Earned Premium ($1,551,220,777)\"}, {\"period_start\": \"1998-01-01T00:00:00\", \"period_end\": \"1998-12-31T00:00:00\", \"evaluation_date\": \"2019-12-31T00:00:00\", \"dev_lag\": 252.0, \"Number of Fields\": 3, \"Fields\": \"Paid Loss ($895,862,259), Reported Loss ($894,572,615), Earned Premium ($1,551,220,777)\"}, {\"period_start\": \"1999-01-01T00:00:00\", \"period_end\": \"1999-12-31T00:00:00\", \"evaluation_date\": \"1999-12-31T00:00:00\", \"dev_lag\": 0.0, \"Number of Fields\": 3, \"Fields\": \"Paid Loss ($41,936,885), Reported Loss ($167,690,427), Earned Premium ($1,587,715,179)\"}, {\"period_start\": \"1999-01-01T00:00:00\", \"period_end\": \"1999-12-31T00:00:00\", \"evaluation_date\": \"2000-12-31T00:00:00\", \"dev_lag\": 12.0, \"Number of Fields\": 3, \"Fields\": \"Paid Loss ($124,083,989), Reported Loss ($302,535,642), Earned Premium ($1,673,741,713)\"}, {\"period_start\": \"1999-01-01T00:00:00\", \"period_end\": \"1999-12-31T00:00:00\", \"evaluation_date\": \"2001-12-31T00:00:00\", \"dev_lag\": 24.0, \"Number of Fields\": 3, \"Fields\": \"Paid Loss ($224,425,948), Reported Loss ($437,119,918), Earned Premium ($1,674,508,126)\"}, {\"period_start\": \"1999-01-01T00:00:00\", \"period_end\": \"1999-12-31T00:00:00\", \"evaluation_date\": \"2002-12-31T00:00:00\", \"dev_lag\": 36.0, \"Number of Fields\": 3, \"Fields\": \"Paid Loss ($350,905,391), Reported Loss ($530,324,043), Earned Premium ($1,674,240,666)\"}, {\"period_start\": \"1999-01-01T00:00:00\", \"period_end\": \"1999-12-31T00:00:00\", \"evaluation_date\": \"2003-12-31T00:00:00\", \"dev_lag\": 48.0, \"Number of Fields\": 3, \"Fields\": \"Paid Loss ($479,446,191), Reported Loss ($612,476,811), Earned Premium ($1,676,606,445)\"}, {\"period_start\": \"1999-01-01T00:00:00\", \"period_end\": \"1999-12-31T00:00:00\", \"evaluation_date\": \"2004-12-31T00:00:00\", \"dev_lag\": 60.0, \"Number of Fields\": 3, \"Fields\": \"Paid Loss ($568,576,610), Reported Loss ($663,166,003), Earned Premium ($1,676,367,098)\"}, {\"period_start\": \"1999-01-01T00:00:00\", \"period_end\": \"1999-12-31T00:00:00\", \"evaluation_date\": \"2005-12-31T00:00:00\", \"dev_lag\": 72.0, \"Number of Fields\": 3, \"Fields\": \"Paid Loss ($624,383,417), Reported Loss ($690,108,301), Earned Premium ($1,676,266,839)\"}, {\"period_start\": \"1999-01-01T00:00:00\", \"period_end\": \"1999-12-31T00:00:00\", \"evaluation_date\": \"2006-12-31T00:00:00\", \"dev_lag\": 84.0, \"Number of Fields\": 3, \"Fields\": \"Paid Loss ($671,031,427), Reported Loss ($718,232,024), Earned Premium ($1,676,265,661)\"}, {\"period_start\": \"1999-01-01T00:00:00\", \"period_end\": \"1999-12-31T00:00:00\", \"evaluation_date\": \"2007-12-31T00:00:00\", \"dev_lag\": 96.0, \"Number of Fields\": 3, \"Fields\": \"Paid Loss ($708,074,862), Reported Loss ($745,961,012), Earned Premium ($1,676,265,663)\"}, {\"period_start\": \"1999-01-01T00:00:00\", \"period_end\": \"1999-12-31T00:00:00\", \"evaluation_date\": \"2008-12-31T00:00:00\", \"dev_lag\": 108.0, \"Number of Fields\": 3, \"Fields\": \"Paid Loss ($739,002,816), Reported Loss ($768,046,069), Earned Premium ($1,676,265,663)\"}, {\"period_start\": \"1999-01-01T00:00:00\", \"period_end\": \"1999-12-31T00:00:00\", \"evaluation_date\": \"2009-12-31T00:00:00\", \"dev_lag\": 120.0, \"Number of Fields\": 3, \"Fields\": \"Paid Loss ($758,447,133), Reported Loss ($785,541,561), Earned Premium ($1,676,265,663)\"}, {\"period_start\": \"1999-01-01T00:00:00\", \"period_end\": \"1999-12-31T00:00:00\", \"evaluation_date\": \"2010-12-31T00:00:00\", \"dev_lag\": 132.0, \"Number of Fields\": 3, \"Fields\": \"Paid Loss ($775,671,819), Reported Loss ($800,109,554), Earned Premium ($1,676,265,663)\"}, {\"period_start\": \"1999-01-01T00:00:00\", \"period_end\": \"1999-12-31T00:00:00\", \"evaluation_date\": \"2011-12-31T00:00:00\", \"dev_lag\": 144.0, \"Number of Fields\": 3, \"Fields\": \"Paid Loss ($790,593,639), Reported Loss ($811,014,591), Earned Premium ($1,676,265,663)\"}, {\"period_start\": \"1999-01-01T00:00:00\", \"period_end\": \"1999-12-31T00:00:00\", \"evaluation_date\": \"2012-12-31T00:00:00\", \"dev_lag\": 156.0, \"Number of Fields\": 3, \"Fields\": \"Paid Loss ($803,039,877), Reported Loss ($816,132,829), Earned Premium ($1,676,265,663)\"}, {\"period_start\": \"1999-01-01T00:00:00\", \"period_end\": \"1999-12-31T00:00:00\", \"evaluation_date\": \"2013-12-31T00:00:00\", \"dev_lag\": 168.0, \"Number of Fields\": 3, \"Fields\": \"Paid Loss ($810,919,501), Reported Loss ($818,036,336), Earned Premium ($1,676,265,663)\"}, {\"period_start\": \"1999-01-01T00:00:00\", \"period_end\": \"1999-12-31T00:00:00\", \"evaluation_date\": \"2014-12-31T00:00:00\", \"dev_lag\": 180.0, \"Number of Fields\": 3, \"Fields\": \"Paid Loss ($817,161,326), Reported Loss ($819,629,146), Earned Premium ($1,676,265,663)\"}, {\"period_start\": \"1999-01-01T00:00:00\", \"period_end\": \"1999-12-31T00:00:00\", \"evaluation_date\": \"2015-12-31T00:00:00\", \"dev_lag\": 192.0, \"Number of Fields\": 3, \"Fields\": \"Paid Loss ($819,512,013), Reported Loss ($820,527,615), Earned Premium ($1,676,265,663)\"}, {\"period_start\": \"1999-01-01T00:00:00\", \"period_end\": \"1999-12-31T00:00:00\", \"evaluation_date\": \"2016-12-31T00:00:00\", \"dev_lag\": 204.0, \"Number of Fields\": 3, \"Fields\": \"Paid Loss ($820,728,036), Reported Loss ($821,930,238), Earned Premium ($1,676,265,663)\"}, {\"period_start\": \"1999-01-01T00:00:00\", \"period_end\": \"1999-12-31T00:00:00\", \"evaluation_date\": \"2017-12-31T00:00:00\", \"dev_lag\": 216.0, \"Number of Fields\": 3, \"Fields\": \"Paid Loss ($821,849,055), Reported Loss ($822,323,343), Earned Premium ($1,676,265,663)\"}, {\"period_start\": \"1999-01-01T00:00:00\", \"period_end\": \"1999-12-31T00:00:00\", \"evaluation_date\": \"2018-12-31T00:00:00\", \"dev_lag\": 228.0, \"Number of Fields\": 3, \"Fields\": \"Paid Loss ($824,695,292), Reported Loss ($824,861,046), Earned Premium ($1,676,265,663)\"}, {\"period_start\": \"1999-01-01T00:00:00\", \"period_end\": \"1999-12-31T00:00:00\", \"evaluation_date\": \"2019-12-31T00:00:00\", \"dev_lag\": 240.0, \"Number of Fields\": 3, \"Fields\": \"Paid Loss ($825,699,953), Reported Loss ($825,769,798), Earned Premium ($1,676,265,663)\"}, {\"period_start\": \"2000-01-01T00:00:00\", \"period_end\": \"2000-12-31T00:00:00\", \"evaluation_date\": \"2000-12-31T00:00:00\", \"dev_lag\": 0.0, \"Number of Fields\": 3, \"Fields\": \"Paid Loss ($42,536,149), Reported Loss ($178,067,608), Earned Premium ($1,648,534,429)\"}, {\"period_start\": \"2000-01-01T00:00:00\", \"period_end\": \"2000-12-31T00:00:00\", \"evaluation_date\": \"2001-12-31T00:00:00\", \"dev_lag\": 12.0, \"Number of Fields\": 3, \"Fields\": \"Paid Loss ($127,028,589), Reported Loss ($343,883,669), Earned Premium ($1,751,512,165)\"}, {\"period_start\": \"2000-01-01T00:00:00\", \"period_end\": \"2000-12-31T00:00:00\", \"evaluation_date\": \"2002-12-31T00:00:00\", \"dev_lag\": 24.0, \"Number of Fields\": 3, \"Fields\": \"Paid Loss ($225,083,515), Reported Loss ($454,226,301), Earned Premium ($1,752,313,337)\"}, {\"period_start\": \"2000-01-01T00:00:00\", \"period_end\": \"2000-12-31T00:00:00\", \"evaluation_date\": \"2003-12-31T00:00:00\", \"dev_lag\": 36.0, \"Number of Fields\": 3, \"Fields\": \"Paid Loss ($356,354,137), Reported Loss ($559,645,649), Earned Premium ($1,752,328,483)\"}, {\"period_start\": \"2000-01-01T00:00:00\", \"period_end\": \"2000-12-31T00:00:00\", \"evaluation_date\": \"2004-12-31T00:00:00\", \"dev_lag\": 48.0, \"Number of Fields\": 3, \"Fields\": \"Paid Loss ($461,251,767), Reported Loss ($621,023,374), Earned Premium ($1,751,241,888)\"}, {\"period_start\": \"2000-01-01T00:00:00\", \"period_end\": \"2000-12-31T00:00:00\", \"evaluation_date\": \"2005-12-31T00:00:00\", \"dev_lag\": 60.0, \"Number of Fields\": 3, \"Fields\": \"Paid Loss ($551,141,948), Reported Loss ($666,099,149), Earned Premium ($1,750,971,004)\"}, {\"period_start\": \"2000-01-01T00:00:00\", \"period_end\": \"2000-12-31T00:00:00\", \"evaluation_date\": \"2006-12-31T00:00:00\", \"dev_lag\": 72.0, \"Number of Fields\": 3, \"Fields\": \"Paid Loss ($616,096,507), Reported Loss ($716,538,127), Earned Premium ($1,750,963,047)\"}, {\"period_start\": \"2000-01-01T00:00:00\", \"period_end\": \"2000-12-31T00:00:00\", \"evaluation_date\": \"2007-12-31T00:00:00\", \"dev_lag\": 84.0, \"Number of Fields\": 3, \"Fields\": \"Paid Loss ($673,398,045), Reported Loss ($755,218,803), Earned Premium ($1,750,992,567)\"}, {\"period_start\": \"2000-01-01T00:00:00\", \"period_end\": \"2000-12-31T00:00:00\", \"evaluation_date\": \"2008-12-31T00:00:00\", \"dev_lag\": 96.0, \"Number of Fields\": 3, \"Fields\": \"Paid Loss ($718,337,628), Reported Loss ($788,508,951), Earned Premium ($1,750,992,567)\"}, {\"period_start\": \"2000-01-01T00:00:00\", \"period_end\": \"2000-12-31T00:00:00\", \"evaluation_date\": \"2009-12-31T00:00:00\", \"dev_lag\": 108.0, \"Number of Fields\": 3, \"Fields\": \"Paid Loss ($751,625,182), Reported Loss ($816,524,708), Earned Premium ($1,750,992,567)\"}, {\"period_start\": \"2000-01-01T00:00:00\", \"period_end\": \"2000-12-31T00:00:00\", \"evaluation_date\": \"2010-12-31T00:00:00\", \"dev_lag\": 120.0, \"Number of Fields\": 3, \"Fields\": \"Paid Loss ($778,318,724), Reported Loss ($836,875,509), Earned Premium ($1,750,992,567)\"}, {\"period_start\": \"2000-01-01T00:00:00\", \"period_end\": \"2000-12-31T00:00:00\", \"evaluation_date\": \"2011-12-31T00:00:00\", \"dev_lag\": 132.0, \"Number of Fields\": 3, \"Fields\": \"Paid Loss ($798,854,474), Reported Loss ($849,984,248), Earned Premium ($1,750,895,299)\"}, {\"period_start\": \"2000-01-01T00:00:00\", \"period_end\": \"2000-12-31T00:00:00\", \"evaluation_date\": \"2012-12-31T00:00:00\", \"dev_lag\": 144.0, \"Number of Fields\": 3, \"Fields\": \"Paid Loss ($817,001,572), Reported Loss ($864,986,788), Earned Premium ($1,750,895,299)\"}, {\"period_start\": \"2000-01-01T00:00:00\", \"period_end\": \"2000-12-31T00:00:00\", \"evaluation_date\": \"2013-12-31T00:00:00\", \"dev_lag\": 156.0, \"Number of Fields\": 3, \"Fields\": \"Paid Loss ($830,178,031), Reported Loss ($874,410,028), Earned Premium ($1,750,895,299)\"}, {\"period_start\": \"2000-01-01T00:00:00\", \"period_end\": \"2000-12-31T00:00:00\", \"evaluation_date\": \"2014-12-31T00:00:00\", \"dev_lag\": 168.0, \"Number of Fields\": 3, \"Fields\": \"Paid Loss ($838,219,141), Reported Loss ($878,461,194), Earned Premium ($1,750,895,299)\"}, {\"period_start\": \"2000-01-01T00:00:00\", \"period_end\": \"2000-12-31T00:00:00\", \"evaluation_date\": \"2015-12-31T00:00:00\", \"dev_lag\": 180.0, \"Number of Fields\": 3, \"Fields\": \"Paid Loss ($843,259,356), Reported Loss ($880,862,219), Earned Premium ($1,750,895,299)\"}, {\"period_start\": \"2000-01-01T00:00:00\", \"period_end\": \"2000-12-31T00:00:00\", \"evaluation_date\": \"2016-12-31T00:00:00\", \"dev_lag\": 192.0, \"Number of Fields\": 3, \"Fields\": \"Paid Loss ($850,663,838), Reported Loss ($887,214,252), Earned Premium ($1,750,895,299)\"}, {\"period_start\": \"2000-01-01T00:00:00\", \"period_end\": \"2000-12-31T00:00:00\", \"evaluation_date\": \"2017-12-31T00:00:00\", \"dev_lag\": 204.0, \"Number of Fields\": 3, \"Fields\": \"Paid Loss ($854,367,757), Reported Loss ($888,386,160), Earned Premium ($1,750,895,299)\"}, {\"period_start\": \"2000-01-01T00:00:00\", \"period_end\": \"2000-12-31T00:00:00\", \"evaluation_date\": \"2018-12-31T00:00:00\", \"dev_lag\": 216.0, \"Number of Fields\": 3, \"Fields\": \"Paid Loss ($857,001,086), Reported Loss ($890,480,233), Earned Premium ($1,750,895,299)\"}, {\"period_start\": \"2000-01-01T00:00:00\", \"period_end\": \"2000-12-31T00:00:00\", \"evaluation_date\": \"2019-12-31T00:00:00\", \"dev_lag\": 228.0, \"Number of Fields\": 3, \"Fields\": \"Paid Loss ($857,693,545), Reported Loss ($891,626,707), Earned Premium ($1,750,895,299)\"}, {\"period_start\": \"2001-01-01T00:00:00\", \"period_end\": \"2001-12-31T00:00:00\", \"evaluation_date\": \"2001-12-31T00:00:00\", \"dev_lag\": 0.0, \"Number of Fields\": 3, \"Fields\": \"Paid Loss ($46,748,443), Reported Loss ($216,422,701), Earned Premium ($1,789,978,272)\"}, {\"period_start\": \"2001-01-01T00:00:00\", \"period_end\": \"2001-12-31T00:00:00\", \"evaluation_date\": \"2002-12-31T00:00:00\", \"dev_lag\": 12.0, \"Number of Fields\": 3, \"Fields\": \"Paid Loss ($137,903,827), Reported Loss ($370,183,471), Earned Premium ($1,878,836,282)\"}, {\"period_start\": \"2001-01-01T00:00:00\", \"period_end\": \"2001-12-31T00:00:00\", \"evaluation_date\": \"2003-12-31T00:00:00\", \"dev_lag\": 24.0, \"Number of Fields\": 3, \"Fields\": \"Paid Loss ($270,654,354), Reported Loss ($524,735,186), Earned Premium ($1,876,596,300)\"}, {\"period_start\": \"2001-01-01T00:00:00\", \"period_end\": \"2001-12-31T00:00:00\", \"evaluation_date\": \"2004-12-31T00:00:00\", \"dev_lag\": 36.0, \"Number of Fields\": 3, \"Fields\": \"Paid Loss ($424,606,159), Reported Loss ($635,627,095), Earned Premium ($1,874,729,164)\"}, {\"period_start\": \"2001-01-01T00:00:00\", \"period_end\": \"2001-12-31T00:00:00\", \"evaluation_date\": \"2005-12-31T00:00:00\", \"dev_lag\": 48.0, \"Number of Fields\": 3, \"Fields\": \"Paid Loss ($570,724,363), Reported Loss ($717,422,852), Earned Premium ($1,873,887,529)\"}, {\"period_start\": \"2001-01-01T00:00:00\", \"period_end\": \"2001-12-31T00:00:00\", \"evaluation_date\": \"2006-12-31T00:00:00\", \"dev_lag\": 60.0, \"Number of Fields\": 3, \"Fields\": \"Paid Loss ($670,329,327), Reported Loss ($785,138,337), Earned Premium ($1,873,836,679)\"}, {\"period_start\": \"2001-01-01T00:00:00\", \"period_end\": \"2001-12-31T00:00:00\", \"evaluation_date\": \"2007-12-31T00:00:00\", \"dev_lag\": 72.0, \"Number of Fields\": 3, \"Fields\": \"Paid Loss ($737,053,944), Reported Loss ($835,512,244), Earned Premium ($1,873,739,828)\"}, {\"period_start\": \"2001-01-01T00:00:00\", \"period_end\": \"2001-12-31T00:00:00\", \"evaluation_date\": \"2008-12-31T00:00:00\", \"dev_lag\": 84.0, \"Number of Fields\": 3, \"Fields\": \"Paid Loss ($807,068,674), Reported Loss ($884,873,959), Earned Premium ($1,873,730,297)\"}, {\"period_start\": \"2001-01-01T00:00:00\", \"period_end\": \"2001-12-31T00:00:00\", \"evaluation_date\": \"2009-12-31T00:00:00\", \"dev_lag\": 96.0, \"Number of Fields\": 3, \"Fields\": \"Paid Loss ($856,219,891), Reported Loss ($905,294,628), Earned Premium ($1,873,730,588)\"}, {\"period_start\": \"2001-01-01T00:00:00\", \"period_end\": \"2001-12-31T00:00:00\", \"evaluation_date\": \"2010-12-31T00:00:00\", \"dev_lag\": 108.0, \"Number of Fields\": 3, \"Fields\": \"Paid Loss ($891,570,844), Reported Loss ($930,848,416), Earned Premium ($1,873,730,588)\"}, {\"period_start\": \"2001-01-01T00:00:00\", \"period_end\": \"2001-12-31T00:00:00\", \"evaluation_date\": \"2011-12-31T00:00:00\", \"dev_lag\": 120.0, \"Number of Fields\": 3, \"Fields\": \"Paid Loss ($922,034,590), Reported Loss ($954,589,090), Earned Premium ($1,873,648,284)\"}, {\"period_start\": \"2001-01-01T00:00:00\", \"period_end\": \"2001-12-31T00:00:00\", \"evaluation_date\": \"2012-12-31T00:00:00\", \"dev_lag\": 132.0, \"Number of Fields\": 3, \"Fields\": \"Paid Loss ($947,564,160), Reported Loss ($976,865,525), Earned Premium ($1,873,648,284)\"}, {\"period_start\": \"2001-01-01T00:00:00\", \"period_end\": \"2001-12-31T00:00:00\", \"evaluation_date\": \"2013-12-31T00:00:00\", \"dev_lag\": 144.0, \"Number of Fields\": 3, \"Fields\": \"Paid Loss ($966,079,303), Reported Loss ($985,526,146), Earned Premium ($1,873,648,284)\"}, {\"period_start\": \"2001-01-01T00:00:00\", \"period_end\": \"2001-12-31T00:00:00\", \"evaluation_date\": \"2014-12-31T00:00:00\", \"dev_lag\": 156.0, \"Number of Fields\": 3, \"Fields\": \"Paid Loss ($981,276,333), Reported Loss ($991,409,636), Earned Premium ($1,873,648,284)\"}, {\"period_start\": \"2001-01-01T00:00:00\", \"period_end\": \"2001-12-31T00:00:00\", \"evaluation_date\": \"2015-12-31T00:00:00\", \"dev_lag\": 168.0, \"Number of Fields\": 3, \"Fields\": \"Paid Loss ($989,818,551), Reported Loss ($995,825,082), Earned Premium ($1,873,648,284)\"}, {\"period_start\": \"2001-01-01T00:00:00\", \"period_end\": \"2001-12-31T00:00:00\", \"evaluation_date\": \"2016-12-31T00:00:00\", \"dev_lag\": 180.0, \"Number of Fields\": 3, \"Fields\": \"Paid Loss ($1,000,400,569), Reported Loss ($1,002,440,324), Earned Premium ($1,873,648,284)\"}, {\"period_start\": \"2001-01-01T00:00:00\", \"period_end\": \"2001-12-31T00:00:00\", \"evaluation_date\": \"2017-12-31T00:00:00\", \"dev_lag\": 192.0, \"Number of Fields\": 3, \"Fields\": \"Paid Loss ($1,004,277,808), Reported Loss ($1,003,923,562), Earned Premium ($1,873,648,284)\"}, {\"period_start\": \"2001-01-01T00:00:00\", \"period_end\": \"2001-12-31T00:00:00\", \"evaluation_date\": \"2018-12-31T00:00:00\", \"dev_lag\": 204.0, \"Number of Fields\": 3, \"Fields\": \"Paid Loss ($1,006,745,677), Reported Loss ($1,005,669,210), Earned Premium ($1,873,648,284)\"}, {\"period_start\": \"2001-01-01T00:00:00\", \"period_end\": \"2001-12-31T00:00:00\", \"evaluation_date\": \"2019-12-31T00:00:00\", \"dev_lag\": 216.0, \"Number of Fields\": 3, \"Fields\": \"Paid Loss ($1,008,273,626), Reported Loss ($1,007,242,274), Earned Premium ($1,873,648,284)\"}, {\"period_start\": \"2002-01-01T00:00:00\", \"period_end\": \"2002-12-31T00:00:00\", \"evaluation_date\": \"2002-12-31T00:00:00\", \"dev_lag\": 0.0, \"Number of Fields\": 3, \"Fields\": \"Paid Loss ($58,749,091), Reported Loss ($244,385,498), Earned Premium ($1,904,578,929)\"}, {\"period_start\": \"2002-01-01T00:00:00\", \"period_end\": \"2002-12-31T00:00:00\", \"evaluation_date\": \"2003-12-31T00:00:00\", \"dev_lag\": 12.0, \"Number of Fields\": 3, \"Fields\": \"Paid Loss ($165,463,491), Reported Loss ($422,544,435), Earned Premium ($1,951,797,107)\"}, {\"period_start\": \"2002-01-01T00:00:00\", \"period_end\": \"2002-12-31T00:00:00\", \"evaluation_date\": \"2004-12-31T00:00:00\", \"dev_lag\": 24.0, \"Number of Fields\": 3, \"Fields\": \"Paid Loss ($308,061,968), Reported Loss ($572,708,031), Earned Premium ($1,947,891,991)\"}, {\"period_start\": \"2002-01-01T00:00:00\", \"period_end\": \"2002-12-31T00:00:00\", \"evaluation_date\": \"2005-12-31T00:00:00\", \"dev_lag\": 36.0, \"Number of Fields\": 3, \"Fields\": \"Paid Loss ($454,945,857), Reported Loss ($656,073,408), Earned Premium ($1,947,004,765)\"}, {\"period_start\": \"2002-01-01T00:00:00\", \"period_end\": \"2002-12-31T00:00:00\", \"evaluation_date\": \"2006-12-31T00:00:00\", \"dev_lag\": 48.0, \"Number of Fields\": 3, \"Fields\": \"Paid Loss ($593,831,379), Reported Loss ($742,122,062), Earned Premium ($1,946,987,933)\"}, {\"period_start\": \"2002-01-01T00:00:00\", \"period_end\": \"2002-12-31T00:00:00\", \"evaluation_date\": \"2007-12-31T00:00:00\", \"dev_lag\": 60.0, \"Number of Fields\": 3, \"Fields\": \"Paid Loss ($693,737,988), Reported Loss ($799,461,596), Earned Premium ($1,946,905,019)\"}, {\"period_start\": \"2002-01-01T00:00:00\", \"period_end\": \"2002-12-31T00:00:00\", \"evaluation_date\": \"2008-12-31T00:00:00\", \"dev_lag\": 72.0, \"Number of Fields\": 3, \"Fields\": \"Paid Loss ($773,622,469), Reported Loss ($844,344,320), Earned Premium ($1,946,875,822)\"}, {\"period_start\": \"2002-01-01T00:00:00\", \"period_end\": \"2002-12-31T00:00:00\", \"evaluation_date\": \"2009-12-31T00:00:00\", \"dev_lag\": 84.0, \"Number of Fields\": 3, \"Fields\": \"Paid Loss ($821,243,919), Reported Loss ($878,138,802), Earned Premium ($1,946,907,321)\"}, {\"period_start\": \"2002-01-01T00:00:00\", \"period_end\": \"2002-12-31T00:00:00\", \"evaluation_date\": \"2010-12-31T00:00:00\", \"dev_lag\": 96.0, \"Number of Fields\": 3, \"Fields\": \"Paid Loss ($854,177,767), Reported Loss ($902,148,428), Earned Premium ($1,946,907,321)\"}, {\"period_start\": \"2002-01-01T00:00:00\", \"period_end\": \"2002-12-31T00:00:00\", \"evaluation_date\": \"2011-12-31T00:00:00\", \"dev_lag\": 108.0, \"Number of Fields\": 3, \"Fields\": \"Paid Loss ($898,607,992), Reported Loss ($940,131,538), Earned Premium ($1,946,907,321)\"}, {\"period_start\": \"2002-01-01T00:00:00\", \"period_end\": \"2002-12-31T00:00:00\", \"evaluation_date\": \"2012-12-31T00:00:00\", \"dev_lag\": 120.0, \"Number of Fields\": 3, \"Fields\": \"Paid Loss ($933,408,398), Reported Loss ($969,061,105), Earned Premium ($1,946,907,321)\"}, {\"period_start\": \"2002-01-01T00:00:00\", \"period_end\": \"2002-12-31T00:00:00\", \"evaluation_date\": \"2013-12-31T00:00:00\", \"dev_lag\": 132.0, \"Number of Fields\": 3, \"Fields\": \"Paid Loss ($961,937,239), Reported Loss ($990,530,073), Earned Premium ($1,946,907,321)\"}, {\"period_start\": \"2002-01-01T00:00:00\", \"period_end\": \"2002-12-31T00:00:00\", \"evaluation_date\": \"2014-12-31T00:00:00\", \"dev_lag\": 144.0, \"Number of Fields\": 3, \"Fields\": \"Paid Loss ($988,737,884), Reported Loss ($1,009,385,482), Earned Premium ($1,946,907,321)\"}, {\"period_start\": \"2002-01-01T00:00:00\", \"period_end\": \"2002-12-31T00:00:00\", \"evaluation_date\": \"2015-12-31T00:00:00\", \"dev_lag\": 156.0, \"Number of Fields\": 3, \"Fields\": \"Paid Loss ($1,001,431,536), Reported Loss ($1,013,548,545), Earned Premium ($1,946,907,321)\"}, {\"period_start\": \"2002-01-01T00:00:00\", \"period_end\": \"2002-12-31T00:00:00\", \"evaluation_date\": \"2016-12-31T00:00:00\", \"dev_lag\": 168.0, \"Number of Fields\": 3, \"Fields\": \"Paid Loss ($1,011,913,653), Reported Loss ($1,018,223,357), Earned Premium ($1,946,907,321)\"}, {\"period_start\": \"2002-01-01T00:00:00\", \"period_end\": \"2002-12-31T00:00:00\", \"evaluation_date\": \"2017-12-31T00:00:00\", \"dev_lag\": 180.0, \"Number of Fields\": 3, \"Fields\": \"Paid Loss ($1,017,454,901), Reported Loss ($1,020,775,826), Earned Premium ($1,946,907,321)\"}, {\"period_start\": \"2002-01-01T00:00:00\", \"period_end\": \"2002-12-31T00:00:00\", \"evaluation_date\": \"2018-12-31T00:00:00\", \"dev_lag\": 192.0, \"Number of Fields\": 3, \"Fields\": \"Paid Loss ($1,022,026,968), Reported Loss ($1,022,141,210), Earned Premium ($1,946,907,321)\"}, {\"period_start\": \"2002-01-01T00:00:00\", \"period_end\": \"2002-12-31T00:00:00\", \"evaluation_date\": \"2019-12-31T00:00:00\", \"dev_lag\": 204.0, \"Number of Fields\": 3, \"Fields\": \"Paid Loss ($1,023,990,542), Reported Loss ($1,024,178,219), Earned Premium ($1,946,907,321)\"}, {\"period_start\": \"2003-01-01T00:00:00\", \"period_end\": \"2003-12-31T00:00:00\", \"evaluation_date\": \"2003-12-31T00:00:00\", \"dev_lag\": 0.0, \"Number of Fields\": 3, \"Fields\": \"Paid Loss ($68,380,495), Reported Loss ($269,254,909), Earned Premium ($1,832,817,740)\"}, {\"period_start\": \"2003-01-01T00:00:00\", \"period_end\": \"2003-12-31T00:00:00\", \"evaluation_date\": \"2004-12-31T00:00:00\", \"dev_lag\": 12.0, \"Number of Fields\": 3, \"Fields\": \"Paid Loss ($180,183,668), Reported Loss ($452,850,521), Earned Premium ($1,835,735,238)\"}, {\"period_start\": \"2003-01-01T00:00:00\", \"period_end\": \"2003-12-31T00:00:00\", \"evaluation_date\": \"2005-12-31T00:00:00\", \"dev_lag\": 24.0, \"Number of Fields\": 3, \"Fields\": \"Paid Loss ($315,821,281), Reported Loss ($598,593,237), Earned Premium ($1,828,756,969)\"}, {\"period_start\": \"2003-01-01T00:00:00\", \"period_end\": \"2003-12-31T00:00:00\", \"evaluation_date\": \"2006-12-31T00:00:00\", \"dev_lag\": 36.0, \"Number of Fields\": 3, \"Fields\": \"Paid Loss ($475,887,425), Reported Loss ($708,057,934), Earned Premium ($1,828,554,017)\"}, {\"period_start\": \"2003-01-01T00:00:00\", \"period_end\": \"2003-12-31T00:00:00\", \"evaluation_date\": \"2007-12-31T00:00:00\", \"dev_lag\": 48.0, \"Number of Fields\": 3, \"Fields\": \"Paid Loss ($609,199,933), Reported Loss ($782,367,073), Earned Premium ($1,828,497,165)\"}, {\"period_start\": \"2003-01-01T00:00:00\", \"period_end\": \"2003-12-31T00:00:00\", \"evaluation_date\": \"2008-12-31T00:00:00\", \"dev_lag\": 60.0, \"Number of Fields\": 3, \"Fields\": \"Paid Loss ($716,504,372), Reported Loss ($845,751,699), Earned Premium ($1,828,460,868)\"}, {\"period_start\": \"2003-01-01T00:00:00\", \"period_end\": \"2003-12-31T00:00:00\", \"evaluation_date\": \"2009-12-31T00:00:00\", \"dev_lag\": 72.0, \"Number of Fields\": 3, \"Fields\": \"Paid Loss ($784,914,498), Reported Loss ($893,713,593), Earned Premium ($1,828,474,947)\"}, {\"period_start\": \"2003-01-01T00:00:00\", \"period_end\": \"2003-12-31T00:00:00\", \"evaluation_date\": \"2010-12-31T00:00:00\", \"dev_lag\": 84.0, \"Number of Fields\": 3, \"Fields\": \"Paid Loss ($836,749,668), Reported Loss ($926,784,670), Earned Premium ($1,828,474,265)\"}, {\"period_start\": \"2003-01-01T00:00:00\", \"period_end\": \"2003-12-31T00:00:00\", \"evaluation_date\": \"2011-12-31T00:00:00\", \"dev_lag\": 96.0, \"Number of Fields\": 3, \"Fields\": \"Paid Loss ($870,150,124), Reported Loss ($952,935,209), Earned Premium ($1,828,474,205)\"}, {\"period_start\": \"2003-01-01T00:00:00\", \"period_end\": \"2003-12-31T00:00:00\", \"evaluation_date\": \"2012-12-31T00:00:00\", \"dev_lag\": 108.0, \"Number of Fields\": 3, \"Fields\": \"Paid Loss ($905,967,215), Reported Loss ($992,369,205), Earned Premium ($1,828,474,205)\"}, {\"period_start\": \"2003-01-01T00:00:00\", \"period_end\": \"2003-12-31T00:00:00\", \"evaluation_date\": \"2013-12-31T00:00:00\", \"dev_lag\": 120.0, \"Number of Fields\": 3, \"Fields\": \"Paid Loss ($935,095,259), Reported Loss ($1,011,191,123), Earned Premium ($1,828,474,205)\"}, {\"period_start\": \"2003-01-01T00:00:00\", \"period_end\": \"2003-12-31T00:00:00\", \"evaluation_date\": \"2014-12-31T00:00:00\", \"dev_lag\": 132.0, \"Number of Fields\": 3, \"Fields\": \"Paid Loss ($958,842,167), Reported Loss ($1,020,747,147), Earned Premium ($1,828,474,205)\"}, {\"period_start\": \"2003-01-01T00:00:00\", \"period_end\": \"2003-12-31T00:00:00\", \"evaluation_date\": \"2015-12-31T00:00:00\", \"dev_lag\": 144.0, \"Number of Fields\": 3, \"Fields\": \"Paid Loss ($974,201,403), Reported Loss ($1,029,519,590), Earned Premium ($1,828,474,205)\"}, {\"period_start\": \"2003-01-01T00:00:00\", \"period_end\": \"2003-12-31T00:00:00\", \"evaluation_date\": \"2016-12-31T00:00:00\", \"dev_lag\": 156.0, \"Number of Fields\": 3, \"Fields\": \"Paid Loss ($986,684,216), Reported Loss ($1,037,800,701), Earned Premium ($1,828,474,205)\"}, {\"period_start\": \"2003-01-01T00:00:00\", \"period_end\": \"2003-12-31T00:00:00\", \"evaluation_date\": \"2017-12-31T00:00:00\", \"dev_lag\": 168.0, \"Number of Fields\": 3, \"Fields\": \"Paid Loss ($996,092,245), Reported Loss ($1,042,129,435), Earned Premium ($1,828,474,205)\"}, {\"period_start\": \"2003-01-01T00:00:00\", \"period_end\": \"2003-12-31T00:00:00\", \"evaluation_date\": \"2018-12-31T00:00:00\", \"dev_lag\": 180.0, \"Number of Fields\": 3, \"Fields\": \"Paid Loss ($1,001,824,590), Reported Loss ($1,047,071,640), Earned Premium ($1,828,474,205)\"}, {\"period_start\": \"2003-01-01T00:00:00\", \"period_end\": \"2003-12-31T00:00:00\", \"evaluation_date\": \"2019-12-31T00:00:00\", \"dev_lag\": 192.0, \"Number of Fields\": 3, \"Fields\": \"Paid Loss ($1,011,330,528), Reported Loss ($1,055,250,043), Earned Premium ($1,828,474,205)\"}, {\"period_start\": \"2004-01-01T00:00:00\", \"period_end\": \"2004-12-31T00:00:00\", \"evaluation_date\": \"2004-12-31T00:00:00\", \"dev_lag\": 0.0, \"Number of Fields\": 3, \"Fields\": \"Paid Loss ($75,107,908), Reported Loss ($304,824,690), Earned Premium ($1,719,855,479)\"}, {\"period_start\": \"2004-01-01T00:00:00\", \"period_end\": \"2004-12-31T00:00:00\", \"evaluation_date\": \"2005-12-31T00:00:00\", \"dev_lag\": 12.0, \"Number of Fields\": 3, \"Fields\": \"Paid Loss ($205,064,091), Reported Loss ($480,024,777), Earned Premium ($1,662,569,704)\"}, {\"period_start\": \"2004-01-01T00:00:00\", \"period_end\": \"2004-12-31T00:00:00\", \"evaluation_date\": \"2006-12-31T00:00:00\", \"dev_lag\": 24.0, \"Number of Fields\": 3, \"Fields\": \"Paid Loss ($362,683,740), Reported Loss ($621,063,754), Earned Premium ($1,659,406,116)\"}, {\"period_start\": \"2004-01-01T00:00:00\", \"period_end\": \"2004-12-31T00:00:00\", \"evaluation_date\": \"2007-12-31T00:00:00\", \"dev_lag\": 36.0, \"Number of Fields\": 3, \"Fields\": \"Paid Loss ($512,699,874), Reported Loss ($712,565,410), Earned Premium ($1,659,175,606)\"}, {\"period_start\": \"2004-01-01T00:00:00\", \"period_end\": \"2004-12-31T00:00:00\", \"evaluation_date\": \"2008-12-31T00:00:00\", \"dev_lag\": 48.0, \"Number of Fields\": 3, \"Fields\": \"Paid Loss ($641,814,174), Reported Loss ($780,620,116), Earned Premium ($1,659,210,511)\"}, {\"period_start\": \"2004-01-01T00:00:00\", \"period_end\": \"2004-12-31T00:00:00\", \"evaluation_date\": \"2009-12-31T00:00:00\", \"dev_lag\": 60.0, \"Number of Fields\": 3, \"Fields\": \"Paid Loss ($741,550,620), Reported Loss ($839,817,563), Earned Premium ($1,659,198,056)\"}, {\"period_start\": \"2004-01-01T00:00:00\", \"period_end\": \"2004-12-31T00:00:00\", \"evaluation_date\": \"2010-12-31T00:00:00\", \"dev_lag\": 72.0, \"Number of Fields\": 3, \"Fields\": \"Paid Loss ($796,059,992), Reported Loss ($863,367,772), Earned Premium ($1,659,177,341)\"}, {\"period_start\": \"2004-01-01T00:00:00\", \"period_end\": \"2004-12-31T00:00:00\", \"evaluation_date\": \"2011-12-31T00:00:00\", \"dev_lag\": 84.0, \"Number of Fields\": 3, \"Fields\": \"Paid Loss ($841,335,397), Reported Loss ($900,095,268), Earned Premium ($1,659,178,477)\"}, {\"period_start\": \"2004-01-01T00:00:00\", \"period_end\": \"2004-12-31T00:00:00\", \"evaluation_date\": \"2012-12-31T00:00:00\", \"dev_lag\": 96.0, \"Number of Fields\": 3, \"Fields\": \"Paid Loss ($888,809,447), Reported Loss ($936,232,202), Earned Premium ($1,659,178,348)\"}, {\"period_start\": \"2004-01-01T00:00:00\", \"period_end\": \"2004-12-31T00:00:00\", \"evaluation_date\": \"2013-12-31T00:00:00\", \"dev_lag\": 108.0, \"Number of Fields\": 3, \"Fields\": \"Paid Loss ($918,870,113), Reported Loss ($957,496,937), Earned Premium ($1,659,178,348)\"}, {\"period_start\": \"2004-01-01T00:00:00\", \"period_end\": \"2004-12-31T00:00:00\", \"evaluation_date\": \"2014-12-31T00:00:00\", \"dev_lag\": 120.0, \"Number of Fields\": 3, \"Fields\": \"Paid Loss ($941,937,143), Reported Loss ($972,435,571), Earned Premium ($1,659,178,348)\"}, {\"period_start\": \"2004-01-01T00:00:00\", \"period_end\": \"2004-12-31T00:00:00\", \"evaluation_date\": \"2015-12-31T00:00:00\", \"dev_lag\": 132.0, \"Number of Fields\": 3, \"Fields\": \"Paid Loss ($962,724,985), Reported Loss ($981,881,670), Earned Premium ($1,659,178,348)\"}, {\"period_start\": \"2004-01-01T00:00:00\", \"period_end\": \"2004-12-31T00:00:00\", \"evaluation_date\": \"2016-12-31T00:00:00\", \"dev_lag\": 144.0, \"Number of Fields\": 3, \"Fields\": \"Paid Loss ($976,585,886), Reported Loss ($991,689,694), Earned Premium ($1,659,178,348)\"}, {\"period_start\": \"2004-01-01T00:00:00\", \"period_end\": \"2004-12-31T00:00:00\", \"evaluation_date\": \"2017-12-31T00:00:00\", \"dev_lag\": 156.0, \"Number of Fields\": 3, \"Fields\": \"Paid Loss ($985,970,573), Reported Loss ($996,348,098), Earned Premium ($1,659,178,348)\"}, {\"period_start\": \"2004-01-01T00:00:00\", \"period_end\": \"2004-12-31T00:00:00\", \"evaluation_date\": \"2018-12-31T00:00:00\", \"dev_lag\": 168.0, \"Number of Fields\": 3, \"Fields\": \"Paid Loss ($996,536,478), Reported Loss ($1,001,547,530), Earned Premium ($1,659,178,348)\"}, {\"period_start\": \"2004-01-01T00:00:00\", \"period_end\": \"2004-12-31T00:00:00\", \"evaluation_date\": \"2019-12-31T00:00:00\", \"dev_lag\": 180.0, \"Number of Fields\": 3, \"Fields\": \"Paid Loss ($1,002,316,773), Reported Loss ($1,004,837,578), Earned Premium ($1,659,178,348)\"}, {\"period_start\": \"2005-01-01T00:00:00\", \"period_end\": \"2005-12-31T00:00:00\", \"evaluation_date\": \"2005-12-31T00:00:00\", \"dev_lag\": 0.0, \"Number of Fields\": 3, \"Fields\": \"Paid Loss ($70,253,904), Reported Loss ($284,621,055), Earned Premium ($1,587,092,469)\"}, {\"period_start\": \"2005-01-01T00:00:00\", \"period_end\": \"2005-12-31T00:00:00\", \"evaluation_date\": \"2006-12-31T00:00:00\", \"dev_lag\": 12.0, \"Number of Fields\": 3, \"Fields\": \"Paid Loss ($193,313,235), Reported Loss ($455,863,442), Earned Premium ($1,605,449,506)\"}, {\"period_start\": \"2005-01-01T00:00:00\", \"period_end\": \"2005-12-31T00:00:00\", \"evaluation_date\": \"2007-12-31T00:00:00\", \"dev_lag\": 24.0, \"Number of Fields\": 3, \"Fields\": \"Paid Loss ($336,681,191), Reported Loss ($580,892,512), Earned Premium ($1,606,024,507)\"}, {\"period_start\": \"2005-01-01T00:00:00\", \"period_end\": \"2005-12-31T00:00:00\", \"evaluation_date\": \"2008-12-31T00:00:00\", \"dev_lag\": 36.0, \"Number of Fields\": 3, \"Fields\": \"Paid Loss ($500,031,260), Reported Loss ($701,409,945), Earned Premium ($1,605,839,506)\"}, {\"period_start\": \"2005-01-01T00:00:00\", \"period_end\": \"2005-12-31T00:00:00\", \"evaluation_date\": \"2009-12-31T00:00:00\", \"dev_lag\": 48.0, \"Number of Fields\": 3, \"Fields\": \"Paid Loss ($643,994,811), Reported Loss ($781,411,822), Earned Premium ($1,605,780,526)\"}, {\"period_start\": \"2005-01-01T00:00:00\", \"period_end\": \"2005-12-31T00:00:00\", \"evaluation_date\": \"2010-12-31T00:00:00\", \"dev_lag\": 60.0, \"Number of Fields\": 3, \"Fields\": \"Paid Loss ($724,722,996), Reported Loss ($815,038,365), Earned Premium ($1,605,715,924)\"}, {\"period_start\": \"2005-01-01T00:00:00\", \"period_end\": \"2005-12-31T00:00:00\", \"evaluation_date\": \"2011-12-31T00:00:00\", \"dev_lag\": 72.0, \"Number of Fields\": 3, \"Fields\": \"Paid Loss ($788,582,552), Reported Loss ($856,759,641), Earned Premium ($1,605,766,842)\"}, {\"period_start\": \"2005-01-01T00:00:00\", \"period_end\": \"2005-12-31T00:00:00\", \"evaluation_date\": \"2012-12-31T00:00:00\", \"dev_lag\": 84.0, \"Number of Fields\": 3, \"Fields\": \"Paid Loss ($832,905,598), Reported Loss ($883,427,416), Earned Premium ($1,605,762,783)\"}, {\"period_start\": \"2005-01-01T00:00:00\", \"period_end\": \"2005-12-31T00:00:00\", \"evaluation_date\": \"2013-12-31T00:00:00\", \"dev_lag\": 96.0, \"Number of Fields\": 3, \"Fields\": \"Paid Loss ($860,594,660), Reported Loss ($900,004,055), Earned Premium ($1,605,819,179)\"}, {\"period_start\": \"2005-01-01T00:00:00\", \"period_end\": \"2005-12-31T00:00:00\", \"evaluation_date\": \"2014-12-31T00:00:00\", \"dev_lag\": 108.0, \"Number of Fields\": 3, \"Fields\": \"Paid Loss ($879,933,832), Reported Loss ($913,267,855), Earned Premium ($1,605,819,179)\"}, {\"period_start\": \"2005-01-01T00:00:00\", \"period_end\": \"2005-12-31T00:00:00\", \"evaluation_date\": \"2015-12-31T00:00:00\", \"dev_lag\": 120.0, \"Number of Fields\": 3, \"Fields\": \"Paid Loss ($896,593,597), Reported Loss ($918,880,132), Earned Premium ($1,605,819,179)\"}, {\"period_start\": \"2005-01-01T00:00:00\", \"period_end\": \"2005-12-31T00:00:00\", \"evaluation_date\": \"2016-12-31T00:00:00\", \"dev_lag\": 132.0, \"Number of Fields\": 3, \"Fields\": \"Paid Loss ($912,551,785), Reported Loss ($930,381,955), Earned Premium ($1,605,819,179)\"}, {\"period_start\": \"2005-01-01T00:00:00\", \"period_end\": \"2005-12-31T00:00:00\", \"evaluation_date\": \"2017-12-31T00:00:00\", \"dev_lag\": 144.0, \"Number of Fields\": 3, \"Fields\": \"Paid Loss ($923,569,351), Reported Loss ($936,546,974), Earned Premium ($1,605,819,179)\"}, {\"period_start\": \"2005-01-01T00:00:00\", \"period_end\": \"2005-12-31T00:00:00\", \"evaluation_date\": \"2018-12-31T00:00:00\", \"dev_lag\": 156.0, \"Number of Fields\": 3, \"Fields\": \"Paid Loss ($936,138,574), Reported Loss ($941,555,869), Earned Premium ($1,605,819,179)\"}, {\"period_start\": \"2005-01-01T00:00:00\", \"period_end\": \"2005-12-31T00:00:00\", \"evaluation_date\": \"2019-12-31T00:00:00\", \"dev_lag\": 168.0, \"Number of Fields\": 3, \"Fields\": \"Paid Loss ($945,652,015), Reported Loss ($947,242,814), Earned Premium ($1,605,819,179)\"}, {\"period_start\": \"2006-01-01T00:00:00\", \"period_end\": \"2006-12-31T00:00:00\", \"evaluation_date\": \"2006-12-31T00:00:00\", \"dev_lag\": 0.0, \"Number of Fields\": 3, \"Fields\": \"Paid Loss ($69,138,382), Reported Loss ($289,220,987), Earned Premium ($1,587,982,255)\"}, {\"period_start\": \"2006-01-01T00:00:00\", \"period_end\": \"2006-12-31T00:00:00\", \"evaluation_date\": \"2007-12-31T00:00:00\", \"dev_lag\": 12.0, \"Number of Fields\": 3, \"Fields\": \"Paid Loss ($191,169,095), Reported Loss ($437,443,153), Earned Premium ($1,650,104,796)\"}, {\"period_start\": \"2006-01-01T00:00:00\", \"period_end\": \"2006-12-31T00:00:00\", \"evaluation_date\": \"2008-12-31T00:00:00\", \"dev_lag\": 24.0, \"Number of Fields\": 3, \"Fields\": \"Paid Loss ($348,331,404), Reported Loss ($588,100,406), Earned Premium ($1,651,081,665)\"}, {\"period_start\": \"2006-01-01T00:00:00\", \"period_end\": \"2006-12-31T00:00:00\", \"evaluation_date\": \"2009-12-31T00:00:00\", \"dev_lag\": 36.0, \"Number of Fields\": 3, \"Fields\": \"Paid Loss ($506,966,533), Reported Loss ($691,732,038), Earned Premium ($1,650,837,990)\"}, {\"period_start\": \"2006-01-01T00:00:00\", \"period_end\": \"2006-12-31T00:00:00\", \"evaluation_date\": \"2010-12-31T00:00:00\", \"dev_lag\": 48.0, \"Number of Fields\": 3, \"Fields\": \"Paid Loss ($623,793,854), Reported Loss ($755,972,381), Earned Premium ($1,650,725,549)\"}, {\"period_start\": \"2006-01-01T00:00:00\", \"period_end\": \"2006-12-31T00:00:00\", \"evaluation_date\": \"2011-12-31T00:00:00\", \"dev_lag\": 60.0, \"Number of Fields\": 3, \"Fields\": \"Paid Loss ($710,210,085), Reported Loss ($806,355,226), Earned Premium ($1,650,798,450)\"}, {\"period_start\": \"2006-01-01T00:00:00\", \"period_end\": \"2006-12-31T00:00:00\", \"evaluation_date\": \"2012-12-31T00:00:00\", \"dev_lag\": 72.0, \"Number of Fields\": 3, \"Fields\": \"Paid Loss ($768,767,853), Reported Loss ($839,726,568), Earned Premium ($1,650,780,487)\"}, {\"period_start\": \"2006-01-01T00:00:00\", \"period_end\": \"2006-12-31T00:00:00\", \"evaluation_date\": \"2013-12-31T00:00:00\", \"dev_lag\": 84.0, \"Number of Fields\": 3, \"Fields\": \"Paid Loss ($812,734,828), Reported Loss ($862,933,904), Earned Premium ($1,650,908,590)\"}, {\"period_start\": \"2006-01-01T00:00:00\", \"period_end\": \"2006-12-31T00:00:00\", \"evaluation_date\": \"2014-12-31T00:00:00\", \"dev_lag\": 96.0, \"Number of Fields\": 3, \"Fields\": \"Paid Loss ($845,268,514), Reported Loss ($889,707,461), Earned Premium ($1,650,908,596)\"}, {\"period_start\": \"2006-01-01T00:00:00\", \"period_end\": \"2006-12-31T00:00:00\", \"evaluation_date\": \"2015-12-31T00:00:00\", \"dev_lag\": 108.0, \"Number of Fields\": 3, \"Fields\": \"Paid Loss ($864,723,021), Reported Loss ($904,049,791), Earned Premium ($1,650,908,596)\"}, {\"period_start\": \"2006-01-01T00:00:00\", \"period_end\": \"2006-12-31T00:00:00\", \"evaluation_date\": \"2016-12-31T00:00:00\", \"dev_lag\": 120.0, \"Number of Fields\": 3, \"Fields\": \"Paid Loss ($887,523,553), Reported Loss ($912,574,391), Earned Premium ($1,650,908,596)\"}, {\"period_start\": \"2006-01-01T00:00:00\", \"period_end\": \"2006-12-31T00:00:00\", \"evaluation_date\": \"2017-12-31T00:00:00\", \"dev_lag\": 132.0, \"Number of Fields\": 3, \"Fields\": \"Paid Loss ($902,950,688), Reported Loss ($920,918,015), Earned Premium ($1,650,908,596)\"}, {\"period_start\": \"2006-01-01T00:00:00\", \"period_end\": \"2006-12-31T00:00:00\", \"evaluation_date\": \"2018-12-31T00:00:00\", \"dev_lag\": 144.0, \"Number of Fields\": 3, \"Fields\": \"Paid Loss ($914,933,197), Reported Loss ($927,789,196), Earned Premium ($1,650,908,596)\"}, {\"period_start\": \"2006-01-01T00:00:00\", \"period_end\": \"2006-12-31T00:00:00\", \"evaluation_date\": \"2019-12-31T00:00:00\", \"dev_lag\": 156.0, \"Number of Fields\": 3, \"Fields\": \"Paid Loss ($920,916,866), Reported Loss ($935,213,779), Earned Premium ($1,650,908,596)\"}, {\"period_start\": \"2007-01-01T00:00:00\", \"period_end\": \"2007-12-31T00:00:00\", \"evaluation_date\": \"2007-12-31T00:00:00\", \"dev_lag\": 0.0, \"Number of Fields\": 3, \"Fields\": \"Paid Loss ($61,127,663), Reported Loss ($223,670,859), Earned Premium ($1,687,265,253)\"}, {\"period_start\": \"2007-01-01T00:00:00\", \"period_end\": \"2007-12-31T00:00:00\", \"evaluation_date\": \"2008-12-31T00:00:00\", \"dev_lag\": 12.0, \"Number of Fields\": 3, \"Fields\": \"Paid Loss ($173,350,036), Reported Loss ($373,877,004), Earned Premium ($1,752,637,621)\"}, {\"period_start\": \"2007-01-01T00:00:00\", \"period_end\": \"2007-12-31T00:00:00\", \"evaluation_date\": \"2009-12-31T00:00:00\", \"dev_lag\": 24.0, \"Number of Fields\": 3, \"Fields\": \"Paid Loss ($306,251,258), Reported Loss ($526,259,172), Earned Premium ($1,756,275,187)\"}, {\"period_start\": \"2007-01-01T00:00:00\", \"period_end\": \"2007-12-31T00:00:00\", \"evaluation_date\": \"2010-12-31T00:00:00\", \"dev_lag\": 36.0, \"Number of Fields\": 3, \"Fields\": \"Paid Loss ($447,788,724), Reported Loss ($629,724,901), Earned Premium ($1,755,792,827)\"}, {\"period_start\": \"2007-01-01T00:00:00\", \"period_end\": \"2007-12-31T00:00:00\", \"evaluation_date\": \"2011-12-31T00:00:00\", \"dev_lag\": 48.0, \"Number of Fields\": 3, \"Fields\": \"Paid Loss ($570,697,933), Reported Loss ($695,757,325), Earned Premium ($1,756,101,279)\"}, {\"period_start\": \"2007-01-01T00:00:00\", \"period_end\": \"2007-12-31T00:00:00\", \"evaluation_date\": \"2012-12-31T00:00:00\", \"dev_lag\": 60.0, \"Number of Fields\": 3, \"Fields\": \"Paid Loss ($661,815,477), Reported Loss ($750,553,726), Earned Premium ($1,756,270,669)\"}, {\"period_start\": \"2007-01-01T00:00:00\", \"period_end\": \"2007-12-31T00:00:00\", \"evaluation_date\": \"2013-12-31T00:00:00\", \"dev_lag\": 72.0, \"Number of Fields\": 3, \"Fields\": \"Paid Loss ($714,839,272), Reported Loss ($777,497,101), Earned Premium ($1,756,256,104)\"}, {\"period_start\": \"2007-01-01T00:00:00\", \"period_end\": \"2007-12-31T00:00:00\", \"evaluation_date\": \"2014-12-31T00:00:00\", \"dev_lag\": 84.0, \"Number of Fields\": 3, \"Fields\": \"Paid Loss ($760,679,876), Reported Loss ($811,706,448), Earned Premium ($1,756,245,000)\"}, {\"period_start\": \"2007-01-01T00:00:00\", \"period_end\": \"2007-12-31T00:00:00\", \"evaluation_date\": \"2015-12-31T00:00:00\", \"dev_lag\": 96.0, \"Number of Fields\": 3, \"Fields\": \"Paid Loss ($795,992,433), Reported Loss ($834,118,777), Earned Premium ($1,756,244,456)\"}, {\"period_start\": \"2007-01-01T00:00:00\", \"period_end\": \"2007-12-31T00:00:00\", \"evaluation_date\": \"2016-12-31T00:00:00\", \"dev_lag\": 108.0, \"Number of Fields\": 3, \"Fields\": \"Paid Loss ($823,518,987), Reported Loss ($848,046,165), Earned Premium ($1,756,244,456)\"}, {\"period_start\": \"2007-01-01T00:00:00\", \"period_end\": \"2007-12-31T00:00:00\", \"evaluation_date\": \"2017-12-31T00:00:00\", \"dev_lag\": 120.0, \"Number of Fields\": 3, \"Fields\": \"Paid Loss ($846,046,208), Reported Loss ($870,240,203), Earned Premium ($1,756,244,456)\"}, {\"period_start\": \"2007-01-01T00:00:00\", \"period_end\": \"2007-12-31T00:00:00\", \"evaluation_date\": \"2018-12-31T00:00:00\", \"dev_lag\": 132.0, \"Number of Fields\": 3, \"Fields\": \"Paid Loss ($868,271,576), Reported Loss ($888,630,364), Earned Premium ($1,756,244,456)\"}, {\"period_start\": \"2007-01-01T00:00:00\", \"period_end\": \"2007-12-31T00:00:00\", \"evaluation_date\": \"2019-12-31T00:00:00\", \"dev_lag\": 144.0, \"Number of Fields\": 3, \"Fields\": \"Paid Loss ($882,609,307), Reported Loss ($901,962,242), Earned Premium ($1,756,244,456)\"}, {\"period_start\": \"2008-01-01T00:00:00\", \"period_end\": \"2008-12-31T00:00:00\", \"evaluation_date\": \"2008-12-31T00:00:00\", \"dev_lag\": 0.0, \"Number of Fields\": 3, \"Fields\": \"Paid Loss ($70,189,160), Reported Loss ($239,035,218), Earned Premium ($1,879,645,085)\"}, {\"period_start\": \"2008-01-01T00:00:00\", \"period_end\": \"2008-12-31T00:00:00\", \"evaluation_date\": \"2009-12-31T00:00:00\", \"dev_lag\": 12.0, \"Number of Fields\": 3, \"Fields\": \"Paid Loss ($186,282,545), Reported Loss ($401,319,068), Earned Premium ($1,934,531,084)\"}, {\"period_start\": \"2008-01-01T00:00:00\", \"period_end\": \"2008-12-31T00:00:00\", \"evaluation_date\": \"2010-12-31T00:00:00\", \"dev_lag\": 24.0, \"Number of Fields\": 3, \"Fields\": \"Paid Loss ($319,487,748), Reported Loss ($537,158,320), Earned Premium ($1,938,764,632)\"}, {\"period_start\": \"2008-01-01T00:00:00\", \"period_end\": \"2008-12-31T00:00:00\", \"evaluation_date\": \"2011-12-31T00:00:00\", \"dev_lag\": 36.0, \"Number of Fields\": 3, \"Fields\": \"Paid Loss ($467,591,259), Reported Loss ($654,852,179), Earned Premium ($1,939,278,850)\"}, {\"period_start\": \"2008-01-01T00:00:00\", \"period_end\": \"2008-12-31T00:00:00\", \"evaluation_date\": \"2012-12-31T00:00:00\", \"dev_lag\": 48.0, \"Number of Fields\": 3, \"Fields\": \"Paid Loss ($604,884,613), Reported Loss ($747,778,082), Earned Premium ($1,939,761,179)\"}, {\"period_start\": \"2008-01-01T00:00:00\", \"period_end\": \"2008-12-31T00:00:00\", \"evaluation_date\": \"2013-12-31T00:00:00\", \"dev_lag\": 60.0, \"Number of Fields\": 3, \"Fields\": \"Paid Loss ($693,304,362), Reported Loss ($794,292,942), Earned Premium ($1,939,647,975)\"}, {\"period_start\": \"2008-01-01T00:00:00\", \"period_end\": \"2008-12-31T00:00:00\", \"evaluation_date\": \"2014-12-31T00:00:00\", \"dev_lag\": 72.0, \"Number of Fields\": 3, \"Fields\": \"Paid Loss ($756,696,555), Reported Loss ($831,859,772), Earned Premium ($1,939,650,962)\"}, {\"period_start\": \"2008-01-01T00:00:00\", \"period_end\": \"2008-12-31T00:00:00\", \"evaluation_date\": \"2015-12-31T00:00:00\", \"dev_lag\": 84.0, \"Number of Fields\": 3, \"Fields\": \"Paid Loss ($794,333,531), Reported Loss ($847,538,314), Earned Premium ($1,939,637,683)\"}, {\"period_start\": \"2008-01-01T00:00:00\", \"period_end\": \"2008-12-31T00:00:00\", \"evaluation_date\": \"2016-12-31T00:00:00\", \"dev_lag\": 96.0, \"Number of Fields\": 3, \"Fields\": \"Paid Loss ($829,719,692), Reported Loss ($874,811,765), Earned Premium ($1,939,637,081)\"}, {\"period_start\": \"2008-01-01T00:00:00\", \"period_end\": \"2008-12-31T00:00:00\", \"evaluation_date\": \"2017-12-31T00:00:00\", \"dev_lag\": 108.0, \"Number of Fields\": 3, \"Fields\": \"Paid Loss ($854,615,399), Reported Loss ($886,541,360), Earned Premium ($1,939,637,081)\"}, {\"period_start\": \"2008-01-01T00:00:00\", \"period_end\": \"2008-12-31T00:00:00\", \"evaluation_date\": \"2018-12-31T00:00:00\", \"dev_lag\": 120.0, \"Number of Fields\": 3, \"Fields\": \"Paid Loss ($876,204,320), Reported Loss ($904,208,195), Earned Premium ($1,939,637,081)\"}, {\"period_start\": \"2008-01-01T00:00:00\", \"period_end\": \"2008-12-31T00:00:00\", \"evaluation_date\": \"2019-12-31T00:00:00\", \"dev_lag\": 132.0, \"Number of Fields\": 3, \"Fields\": \"Paid Loss ($895,910,211), Reported Loss ($914,375,591), Earned Premium ($1,939,637,081)\"}, {\"period_start\": \"2009-01-01T00:00:00\", \"period_end\": \"2009-12-31T00:00:00\", \"evaluation_date\": \"2009-12-31T00:00:00\", \"dev_lag\": 0.0, \"Number of Fields\": 3, \"Fields\": \"Paid Loss ($66,347,015), Reported Loss ($248,244,356), Earned Premium ($2,026,557,092)\"}, {\"period_start\": \"2009-01-01T00:00:00\", \"period_end\": \"2009-12-31T00:00:00\", \"evaluation_date\": \"2010-12-31T00:00:00\", \"dev_lag\": 12.0, \"Number of Fields\": 3, \"Fields\": \"Paid Loss ($188,690,829), Reported Loss ($412,523,859), Earned Premium ($2,090,994,802)\"}, {\"period_start\": \"2009-01-01T00:00:00\", \"period_end\": \"2009-12-31T00:00:00\", \"evaluation_date\": \"2011-12-31T00:00:00\", \"dev_lag\": 24.0, \"Number of Fields\": 3, \"Fields\": \"Paid Loss ($322,440,216), Reported Loss ($557,815,332), Earned Premium ($2,092,378,429)\"}, {\"period_start\": \"2009-01-01T00:00:00\", \"period_end\": \"2009-12-31T00:00:00\", \"evaluation_date\": \"2012-12-31T00:00:00\", \"dev_lag\": 36.0, \"Number of Fields\": 3, \"Fields\": \"Paid Loss ($476,445,205), Reported Loss ($677,512,754), Earned Premium ($2,093,039,935)\"}, {\"period_start\": \"2009-01-01T00:00:00\", \"period_end\": \"2009-12-31T00:00:00\", \"evaluation_date\": \"2013-12-31T00:00:00\", \"dev_lag\": 48.0, \"Number of Fields\": 3, \"Fields\": \"Paid Loss ($612,460,042), Reported Loss ($747,754,387), Earned Premium ($2,092,414,853)\"}, {\"period_start\": \"2009-01-01T00:00:00\", \"period_end\": \"2009-12-31T00:00:00\", \"evaluation_date\": \"2014-12-31T00:00:00\", \"dev_lag\": 60.0, \"Number of Fields\": 3, \"Fields\": \"Paid Loss ($709,453,944), Reported Loss ($815,493,843), Earned Premium ($2,092,551,756)\"}, {\"period_start\": \"2009-01-01T00:00:00\", \"period_end\": \"2009-12-31T00:00:00\", \"evaluation_date\": \"2015-12-31T00:00:00\", \"dev_lag\": 72.0, \"Number of Fields\": 3, \"Fields\": \"Paid Loss ($769,305,834), Reported Loss ($864,233,528), Earned Premium ($2,092,626,263)\"}, {\"period_start\": \"2009-01-01T00:00:00\", \"period_end\": \"2009-12-31T00:00:00\", \"evaluation_date\": \"2016-12-31T00:00:00\", \"dev_lag\": 84.0, \"Number of Fields\": 3, \"Fields\": \"Paid Loss ($816,072,065), Reported Loss ($896,993,565), Earned Premium ($2,092,488,828)\"}, {\"period_start\": \"2009-01-01T00:00:00\", \"period_end\": \"2009-12-31T00:00:00\", \"evaluation_date\": \"2017-12-31T00:00:00\", \"dev_lag\": 96.0, \"Number of Fields\": 3, \"Fields\": \"Paid Loss ($856,592,038), Reported Loss ($916,411,861), Earned Premium ($2,092,492,085)\"}, {\"period_start\": \"2009-01-01T00:00:00\", \"period_end\": \"2009-12-31T00:00:00\", \"evaluation_date\": \"2018-12-31T00:00:00\", \"dev_lag\": 108.0, \"Number of Fields\": 3, \"Fields\": \"Paid Loss ($904,418,616), Reported Loss ($953,515,803), Earned Premium ($2,092,492,085)\"}, {\"period_start\": \"2009-01-01T00:00:00\", \"period_end\": \"2009-12-31T00:00:00\", \"evaluation_date\": \"2019-12-31T00:00:00\", \"dev_lag\": 120.0, \"Number of Fields\": 3, \"Fields\": \"Paid Loss ($930,797,266), Reported Loss ($972,325,276), Earned Premium ($2,092,484,960)\"}, {\"period_start\": \"2010-01-01T00:00:00\", \"period_end\": \"2010-12-31T00:00:00\", \"evaluation_date\": \"2010-12-31T00:00:00\", \"dev_lag\": 0.0, \"Number of Fields\": 3, \"Fields\": \"Paid Loss ($70,588,646), Reported Loss ($243,658,064), Earned Premium ($2,121,703,225)\"}, {\"period_start\": \"2010-01-01T00:00:00\", \"period_end\": \"2010-12-31T00:00:00\", \"evaluation_date\": \"2011-12-31T00:00:00\", \"dev_lag\": 12.0, \"Number of Fields\": 3, \"Fields\": \"Paid Loss ($191,049,873), Reported Loss ($395,096,938), Earned Premium ($2,162,103,901)\"}, {\"period_start\": \"2010-01-01T00:00:00\", \"period_end\": \"2010-12-31T00:00:00\", \"evaluation_date\": \"2012-12-31T00:00:00\", \"dev_lag\": 24.0, \"Number of Fields\": 3, \"Fields\": \"Paid Loss ($330,758,405), Reported Loss ($548,582,155), Earned Premium ($2,163,520,361)\"}, {\"period_start\": \"2010-01-01T00:00:00\", \"period_end\": \"2010-12-31T00:00:00\", \"evaluation_date\": \"2013-12-31T00:00:00\", \"dev_lag\": 36.0, \"Number of Fields\": 3, \"Fields\": \"Paid Loss ($491,636,366), Reported Loss ($686,344,518), Earned Premium ($2,163,624,849)\"}, {\"period_start\": \"2010-01-01T00:00:00\", \"period_end\": \"2010-12-31T00:00:00\", \"evaluation_date\": \"2014-12-31T00:00:00\", \"dev_lag\": 48.0, \"Number of Fields\": 3, \"Fields\": \"Paid Loss ($629,788,989), Reported Loss ($773,824,164), Earned Premium ($2,163,824,607)\"}, {\"period_start\": \"2010-01-01T00:00:00\", \"period_end\": \"2010-12-31T00:00:00\", \"evaluation_date\": \"2015-12-31T00:00:00\", \"dev_lag\": 60.0, \"Number of Fields\": 3, \"Fields\": \"Paid Loss ($720,524,903), Reported Loss ($832,966,812), Earned Premium ($2,163,842,844)\"}, {\"period_start\": \"2010-01-01T00:00:00\", \"period_end\": \"2010-12-31T00:00:00\", \"evaluation_date\": \"2016-12-31T00:00:00\", \"dev_lag\": 72.0, \"Number of Fields\": 3, \"Fields\": \"Paid Loss ($788,223,884), Reported Loss ($880,508,908), Earned Premium ($2,163,440,374)\"}, {\"period_start\": \"2010-01-01T00:00:00\", \"period_end\": \"2010-12-31T00:00:00\", \"evaluation_date\": \"2017-12-31T00:00:00\", \"dev_lag\": 84.0, \"Number of Fields\": 3, \"Fields\": \"Paid Loss ($851,971,064), Reported Loss ($932,015,319), Earned Premium ($2,163,468,443)\"}, {\"period_start\": \"2010-01-01T00:00:00\", \"period_end\": \"2010-12-31T00:00:00\", \"evaluation_date\": \"2018-12-31T00:00:00\", \"dev_lag\": 96.0, \"Number of Fields\": 3, \"Fields\": \"Paid Loss ($907,109,824), Reported Loss ($978,957,174), Earned Premium ($2,163,468,309)\"}, {\"period_start\": \"2010-01-01T00:00:00\", \"period_end\": \"2010-12-31T00:00:00\", \"evaluation_date\": \"2019-12-31T00:00:00\", \"dev_lag\": 108.0, \"Number of Fields\": 3, \"Fields\": \"Paid Loss ($951,027,598), Reported Loss ($1,015,084,834), Earned Premium ($2,163,466,434)\"}, {\"period_start\": \"2011-01-01T00:00:00\", \"period_end\": \"2011-12-31T00:00:00\", \"evaluation_date\": \"2011-12-31T00:00:00\", \"dev_lag\": 0.0, \"Number of Fields\": 3, \"Fields\": \"Paid Loss ($67,068,525), Reported Loss ($237,644,253), Earned Premium ($2,166,048,097)\"}, {\"period_start\": \"2011-01-01T00:00:00\", \"period_end\": \"2011-12-31T00:00:00\", \"evaluation_date\": \"2012-12-31T00:00:00\", \"dev_lag\": 12.0, \"Number of Fields\": 3, \"Fields\": \"Paid Loss ($196,829,619), Reported Loss ($410,075,452), Earned Premium ($2,210,528,644)\"}, {\"period_start\": \"2011-01-01T00:00:00\", \"period_end\": \"2011-12-31T00:00:00\", \"evaluation_date\": \"2013-12-31T00:00:00\", \"dev_lag\": 24.0, \"Number of Fields\": 3, \"Fields\": \"Paid Loss ($356,541,830), Reported Loss ($591,341,531), Earned Premium ($2,213,475,172)\"}, {\"period_start\": \"2011-01-01T00:00:00\", \"period_end\": \"2011-12-31T00:00:00\", \"evaluation_date\": \"2014-12-31T00:00:00\", \"dev_lag\": 36.0, \"Number of Fields\": 3, \"Fields\": \"Paid Loss ($530,208,704), Reported Loss ($748,491,770), Earned Premium ($2,214,381,998)\"}, {\"period_start\": \"2011-01-01T00:00:00\", \"period_end\": \"2011-12-31T00:00:00\", \"evaluation_date\": \"2015-12-31T00:00:00\", \"dev_lag\": 48.0, \"Number of Fields\": 3, \"Fields\": \"Paid Loss ($671,581,302), Reported Loss ($845,288,244), Earned Premium ($2,216,347,807)\"}, {\"period_start\": \"2011-01-01T00:00:00\", \"period_end\": \"2011-12-31T00:00:00\", \"evaluation_date\": \"2016-12-31T00:00:00\", \"dev_lag\": 60.0, \"Number of Fields\": 3, \"Fields\": \"Paid Loss ($777,006,516), Reported Loss ($928,326,572), Earned Premium ($2,215,957,619)\"}, {\"period_start\": \"2011-01-01T00:00:00\", \"period_end\": \"2011-12-31T00:00:00\", \"evaluation_date\": \"2017-12-31T00:00:00\", \"dev_lag\": 72.0, \"Number of Fields\": 3, \"Fields\": \"Paid Loss ($867,875,552), Reported Loss ($974,910,971), Earned Premium ($2,216,032,476)\"}, {\"period_start\": \"2011-01-01T00:00:00\", \"period_end\": \"2011-12-31T00:00:00\", \"evaluation_date\": \"2018-12-31T00:00:00\", \"dev_lag\": 84.0, \"Number of Fields\": 3, \"Fields\": \"Paid Loss ($941,927,554), Reported Loss ($1,024,221,477), Earned Premium ($2,216,951,753)\"}, {\"period_start\": \"2011-01-01T00:00:00\", \"period_end\": \"2011-12-31T00:00:00\", \"evaluation_date\": \"2019-12-31T00:00:00\", \"dev_lag\": 96.0, \"Number of Fields\": 3, \"Fields\": \"Paid Loss ($992,702,251), Reported Loss ($1,061,627,829), Earned Premium ($2,216,923,768)\"}, {\"period_start\": \"2012-01-01T00:00:00\", \"period_end\": \"2012-12-31T00:00:00\", \"evaluation_date\": \"2012-12-31T00:00:00\", \"dev_lag\": 0.0, \"Number of Fields\": 3, \"Fields\": \"Paid Loss ($74,068,913), Reported Loss ($236,985,777), Earned Premium ($2,201,404,074)\"}, {\"period_start\": \"2012-01-01T00:00:00\", \"period_end\": \"2012-12-31T00:00:00\", \"evaluation_date\": \"2013-12-31T00:00:00\", \"dev_lag\": 12.0, \"Number of Fields\": 3, \"Fields\": \"Paid Loss ($211,446,829), Reported Loss ($434,215,415), Earned Premium ($2,253,867,229)\"}, {\"period_start\": \"2012-01-01T00:00:00\", \"period_end\": \"2012-12-31T00:00:00\", \"evaluation_date\": \"2014-12-31T00:00:00\", \"dev_lag\": 24.0, \"Number of Fields\": 3, \"Fields\": \"Paid Loss ($380,348,689), Reported Loss ($622,628,001), Earned Premium ($2,255,215,248)\"}, {\"period_start\": \"2012-01-01T00:00:00\", \"period_end\": \"2012-12-31T00:00:00\", \"evaluation_date\": \"2015-12-31T00:00:00\", \"dev_lag\": 36.0, \"Number of Fields\": 3, \"Fields\": \"Paid Loss ($533,394,934), Reported Loss ($761,308,843), Earned Premium ($2,252,669,055)\"}, {\"period_start\": \"2012-01-01T00:00:00\", \"period_end\": \"2012-12-31T00:00:00\", \"evaluation_date\": \"2016-12-31T00:00:00\", \"dev_lag\": 48.0, \"Number of Fields\": 3, \"Fields\": \"Paid Loss ($665,906,667), Reported Loss ($859,756,537), Earned Premium ($2,252,484,614)\"}, {\"period_start\": \"2012-01-01T00:00:00\", \"period_end\": \"2012-12-31T00:00:00\", \"evaluation_date\": \"2017-12-31T00:00:00\", \"dev_lag\": 60.0, \"Number of Fields\": 3, \"Fields\": \"Paid Loss ($797,167,381), Reported Loss ($934,846,514), Earned Premium ($2,252,785,485)\"}, {\"period_start\": \"2012-01-01T00:00:00\", \"period_end\": \"2012-12-31T00:00:00\", \"evaluation_date\": \"2018-12-31T00:00:00\", \"dev_lag\": 72.0, \"Number of Fields\": 3, \"Fields\": \"Paid Loss ($904,656,221), Reported Loss ($1,002,440,030), Earned Premium ($2,254,487,581)\"}, {\"period_start\": \"2012-01-01T00:00:00\", \"period_end\": \"2012-12-31T00:00:00\", \"evaluation_date\": \"2019-12-31T00:00:00\", \"dev_lag\": 84.0, \"Number of Fields\": 3, \"Fields\": \"Paid Loss ($982,258,604), Reported Loss ($1,058,089,441), Earned Premium ($2,254,480,389)\"}, {\"period_start\": \"2013-01-01T00:00:00\", \"period_end\": \"2013-12-31T00:00:00\", \"evaluation_date\": \"2013-12-31T00:00:00\", \"dev_lag\": 0.0, \"Number of Fields\": 3, \"Fields\": \"Paid Loss ($73,447,874), Reported Loss ($244,232,778), Earned Premium ($2,224,631,996)\"}, {\"period_start\": \"2013-01-01T00:00:00\", \"period_end\": \"2013-12-31T00:00:00\", \"evaluation_date\": \"2014-12-31T00:00:00\", \"dev_lag\": 12.0, \"Number of Fields\": 3, \"Fields\": \"Paid Loss ($210,711,169), Reported Loss ($457,187,612), Earned Premium ($2,275,772,985)\"}, {\"period_start\": \"2013-01-01T00:00:00\", \"period_end\": \"2013-12-31T00:00:00\", \"evaluation_date\": \"2015-12-31T00:00:00\", \"dev_lag\": 24.0, \"Number of Fields\": 3, \"Fields\": \"Paid Loss ($372,893,164), Reported Loss ($645,823,551), Earned Premium ($2,274,498,914)\"}, {\"period_start\": \"2013-01-01T00:00:00\", \"period_end\": \"2013-12-31T00:00:00\", \"evaluation_date\": \"2016-12-31T00:00:00\", \"dev_lag\": 36.0, \"Number of Fields\": 3, \"Fields\": \"Paid Loss ($542,889,441), Reported Loss ($799,603,766), Earned Premium ($2,275,928,353)\"}, {\"period_start\": \"2013-01-01T00:00:00\", \"period_end\": \"2013-12-31T00:00:00\", \"evaluation_date\": \"2017-12-31T00:00:00\", \"dev_lag\": 48.0, \"Number of Fields\": 3, \"Fields\": \"Paid Loss ($721,878,438), Reported Loss ($928,152,534), Earned Premium ($2,277,274,161)\"}, {\"period_start\": \"2013-01-01T00:00:00\", \"period_end\": \"2013-12-31T00:00:00\", \"evaluation_date\": \"2018-12-31T00:00:00\", \"dev_lag\": 60.0, \"Number of Fields\": 3, \"Fields\": \"Paid Loss ($874,385,595), Reported Loss ($1,019,260,378), Earned Premium ($2,279,464,150)\"}, {\"period_start\": \"2013-01-01T00:00:00\", \"period_end\": \"2013-12-31T00:00:00\", \"evaluation_date\": \"2019-12-31T00:00:00\", \"dev_lag\": 72.0, \"Number of Fields\": 3, \"Fields\": \"Paid Loss ($979,417,880), Reported Loss ($1,085,654,963), Earned Premium ($2,280,764,989)\"}, {\"period_start\": \"2014-01-01T00:00:00\", \"period_end\": \"2014-12-31T00:00:00\", \"evaluation_date\": \"2014-12-31T00:00:00\", \"dev_lag\": 0.0, \"Number of Fields\": 3, \"Fields\": \"Paid Loss ($77,840,058), Reported Loss ($257,728,936), Earned Premium ($2,275,817,598)\"}, {\"period_start\": \"2014-01-01T00:00:00\", \"period_end\": \"2014-12-31T00:00:00\", \"evaluation_date\": \"2015-12-31T00:00:00\", \"dev_lag\": 12.0, \"Number of Fields\": 3, \"Fields\": \"Paid Loss ($224,195,933), Reported Loss ($474,976,820), Earned Premium ($2,305,299,918)\"}, {\"period_start\": \"2014-01-01T00:00:00\", \"period_end\": \"2014-12-31T00:00:00\", \"evaluation_date\": \"2016-12-31T00:00:00\", \"dev_lag\": 24.0, \"Number of Fields\": 3, \"Fields\": \"Paid Loss ($381,324,628), Reported Loss ($654,101,040), Earned Premium ($2,303,826,194)\"}, {\"period_start\": \"2014-01-01T00:00:00\", \"period_end\": \"2014-12-31T00:00:00\", \"evaluation_date\": \"2017-12-31T00:00:00\", \"dev_lag\": 36.0, \"Number of Fields\": 3, \"Fields\": \"Paid Loss ($552,141,966), Reported Loss ($802,949,191), Earned Premium ($2,304,620,424)\"}, {\"period_start\": \"2014-01-01T00:00:00\", \"period_end\": \"2014-12-31T00:00:00\", \"evaluation_date\": \"2018-12-31T00:00:00\", \"dev_lag\": 48.0, \"Number of Fields\": 3, \"Fields\": \"Paid Loss ($727,175,715), Reported Loss ($914,492,647), Earned Premium ($2,310,599,635)\"}, {\"period_start\": \"2014-01-01T00:00:00\", \"period_end\": \"2014-12-31T00:00:00\", \"evaluation_date\": \"2019-12-31T00:00:00\", \"dev_lag\": 60.0, \"Number of Fields\": 3, \"Fields\": \"Paid Loss ($862,705,701), Reported Loss ($1,004,012,351), Earned Premium ($2,313,481,775)\"}, {\"period_start\": \"2015-01-01T00:00:00\", \"period_end\": \"2015-12-31T00:00:00\", \"evaluation_date\": \"2015-12-31T00:00:00\", \"dev_lag\": 0.0, \"Number of Fields\": 3, \"Fields\": \"Paid Loss ($73,777,584), Reported Loss ($236,824,738), Earned Premium ($2,225,683,093)\"}, {\"period_start\": \"2015-01-01T00:00:00\", \"period_end\": \"2015-12-31T00:00:00\", \"evaluation_date\": \"2016-12-31T00:00:00\", \"dev_lag\": 12.0, \"Number of Fields\": 3, \"Fields\": \"Paid Loss ($202,024,927), Reported Loss ($421,744,079), Earned Premium ($2,250,495,643)\"}, {\"period_start\": \"2015-01-01T00:00:00\", \"period_end\": \"2015-12-31T00:00:00\", \"evaluation_date\": \"2017-12-31T00:00:00\", \"dev_lag\": 24.0, \"Number of Fields\": 3, \"Fields\": \"Paid Loss ($341,565,146), Reported Loss ($582,095,136), Earned Premium ($2,255,705,859)\"}, {\"period_start\": \"2015-01-01T00:00:00\", \"period_end\": \"2015-12-31T00:00:00\", \"evaluation_date\": \"2018-12-31T00:00:00\", \"dev_lag\": 36.0, \"Number of Fields\": 3, \"Fields\": \"Paid Loss ($499,511,793), Reported Loss ($731,870,058), Earned Premium ($2,261,322,270)\"}, {\"period_start\": \"2015-01-01T00:00:00\", \"period_end\": \"2015-12-31T00:00:00\", \"evaluation_date\": \"2019-12-31T00:00:00\", \"dev_lag\": 48.0, \"Number of Fields\": 3, \"Fields\": \"Paid Loss ($667,017,769), Reported Loss ($855,372,800), Earned Premium ($2,265,868,862)\"}, {\"period_start\": \"2016-01-01T00:00:00\", \"period_end\": \"2016-12-31T00:00:00\", \"evaluation_date\": \"2016-12-31T00:00:00\", \"dev_lag\": 0.0, \"Number of Fields\": 3, \"Fields\": \"Paid Loss ($73,883,593), Reported Loss ($242,792,529), Earned Premium ($2,267,223,159)\"}, {\"period_start\": \"2016-01-01T00:00:00\", \"period_end\": \"2016-12-31T00:00:00\", \"evaluation_date\": \"2017-12-31T00:00:00\", \"dev_lag\": 12.0, \"Number of Fields\": 3, \"Fields\": \"Paid Loss ($201,704,277), Reported Loss ($422,751,136), Earned Premium ($2,374,180,260)\"}, {\"period_start\": \"2016-01-01T00:00:00\", \"period_end\": \"2016-12-31T00:00:00\", \"evaluation_date\": \"2018-12-31T00:00:00\", \"dev_lag\": 24.0, \"Number of Fields\": 3, \"Fields\": \"Paid Loss ($348,315,018), Reported Loss ($610,448,194), Earned Premium ($2,392,443,451)\"}, {\"period_start\": \"2016-01-01T00:00:00\", \"period_end\": \"2016-12-31T00:00:00\", \"evaluation_date\": \"2019-12-31T00:00:00\", \"dev_lag\": 36.0, \"Number of Fields\": 3, \"Fields\": \"Paid Loss ($518,416,339), Reported Loss ($765,230,079), Earned Premium ($2,396,744,813)\"}, {\"period_start\": \"2017-01-01T00:00:00\", \"period_end\": \"2017-12-31T00:00:00\", \"evaluation_date\": \"2017-12-31T00:00:00\", \"dev_lag\": 0.0, \"Number of Fields\": 3, \"Fields\": \"Paid Loss ($76,901,849), Reported Loss ($251,123,978), Earned Premium ($2,468,597,453)\"}, {\"period_start\": \"2017-01-01T00:00:00\", \"period_end\": \"2017-12-31T00:00:00\", \"evaluation_date\": \"2018-12-31T00:00:00\", \"dev_lag\": 12.0, \"Number of Fields\": 3, \"Fields\": \"Paid Loss ($221,442,276), Reported Loss ($486,105,955), Earned Premium ($2,609,582,607)\"}, {\"period_start\": \"2017-01-01T00:00:00\", \"period_end\": \"2017-12-31T00:00:00\", \"evaluation_date\": \"2019-12-31T00:00:00\", \"dev_lag\": 24.0, \"Number of Fields\": 3, \"Fields\": \"Paid Loss ($389,627,686), Reported Loss ($709,010,051), Earned Premium ($2,624,487,706)\"}, {\"period_start\": \"2018-01-01T00:00:00\", \"period_end\": \"2018-12-31T00:00:00\", \"evaluation_date\": \"2018-12-31T00:00:00\", \"dev_lag\": 0.0, \"Number of Fields\": 3, \"Fields\": \"Paid Loss ($77,722,460), Reported Loss ($262,592,461), Earned Premium ($2,696,907,508)\"}, {\"period_start\": \"2018-01-01T00:00:00\", \"period_end\": \"2018-12-31T00:00:00\", \"evaluation_date\": \"2019-12-31T00:00:00\", \"dev_lag\": 12.0, \"Number of Fields\": 3, \"Fields\": \"Paid Loss ($234,656,477), Reported Loss ($503,340,228), Earned Premium ($2,835,808,858)\"}, {\"period_start\": \"2019-01-01T00:00:00\", \"period_end\": \"2019-12-31T00:00:00\", \"evaluation_date\": \"2019-12-31T00:00:00\", \"dev_lag\": 0.0, \"Number of Fields\": 3, \"Fields\": \"Paid Loss ($67,781,929), Reported Loss ($244,946,814), Earned Premium ($2,860,801,140)\"}]}, \"mark\": {\"type\": \"circle\", \"opacity\": 1, \"size\": 500.0}, \"encoding\": {\"color\": {\"condition\": {\"param\": \"param_157\", \"field\": \"Number of Fields\", \"scale\": {\"scheme\": \"dark2\"}, \"type\": \"nominal\"}, \"value\": \"lightgray\"}, \"tooltip\": [{\"field\": \"period_start\", \"title\": \"Period Start\", \"type\": \"temporal\"}, {\"field\": \"period_end\", \"title\": \"Period End\", \"type\": \"temporal\"}, {\"field\": \"evaluation_date\", \"title\": \"Evaluation Date\", \"type\": \"temporal\"}, {\"field\": \"dev_lag\", \"title\": \"Dev Lag (months)\", \"type\": \"nominal\"}, {\"field\": \"Fields\", \"type\": \"nominal\"}], \"x\": {\"axis\": {\"labelAngle\": 0}, \"field\": \"dev_lag\", \"scale\": {\"zero\": true}, \"title\": \"Dev Lag (months)\", \"type\": \"nominal\"}, \"y\": {\"field\": \"period_start\", \"scale\": {\"padding\": 15, \"reverse\": true}, \"timeUnit\": \"yearmonth\", \"title\": \"Period Start\", \"type\": \"temporal\"}}, \"height\": 300, \"params\": [{\"name\": \"param_157\", \"select\": {\"type\": \"point\"}}, {\"name\": \"param_158\", \"select\": {\"type\": \"interval\", \"encodings\": [\"x\", \"y\"]}, \"bind\": \"scales\"}], \"title\": {\"text\": \"Triangle Completeness\", \"subtitle\": \"The number of data fields available per cell\"}, \"width\": 400, \"$schema\": \"https://vega.github.io/schema/vega-lite/v5.20.1.json\"}, {\"mode\": \"vega-lite\"});\n",
       "</script>"
      ],
      "text/plain": [
       "alt.Chart(...)"
      ]
     },
     "execution_count": 40,
     "metadata": {},
     "output_type": "execute_result"
    }
   ],
   "source": [
    "# Plot data completeness - this shows the \"shape\" of our triangle\n",
    "completeness_chart = test_triangle.plot_data_completeness()\n",
    "completeness_chart"
   ]
  },
  {
   "cell_type": "code",
   "execution_count": 43,
   "metadata": {},
   "outputs": [
    {
     "data": {
      "text/html": [
       "\n",
       "<style>\n",
       "  #altair-viz-5e9d7276a11d4adfae778ff2ca705f32.vega-embed {\n",
       "    width: 100%;\n",
       "    display: flex;\n",
       "  }\n",
       "\n",
       "  #altair-viz-5e9d7276a11d4adfae778ff2ca705f32.vega-embed details,\n",
       "  #altair-viz-5e9d7276a11d4adfae778ff2ca705f32.vega-embed details summary {\n",
       "    position: relative;\n",
       "  }\n",
       "</style>\n",
       "<div id=\"altair-viz-5e9d7276a11d4adfae778ff2ca705f32\"></div>\n",
       "<script type=\"text/javascript\">\n",
       "  var VEGA_DEBUG = (typeof VEGA_DEBUG == \"undefined\") ? {} : VEGA_DEBUG;\n",
       "  (function(spec, embedOpt){\n",
       "    let outputDiv = document.currentScript.previousElementSibling;\n",
       "    if (outputDiv.id !== \"altair-viz-5e9d7276a11d4adfae778ff2ca705f32\") {\n",
       "      outputDiv = document.getElementById(\"altair-viz-5e9d7276a11d4adfae778ff2ca705f32\");\n",
       "    }\n",
       "\n",
       "    const paths = {\n",
       "      \"vega\": \"https://cdn.jsdelivr.net/npm/vega@5?noext\",\n",
       "      \"vega-lib\": \"https://cdn.jsdelivr.net/npm/vega-lib?noext\",\n",
       "      \"vega-lite\": \"https://cdn.jsdelivr.net/npm/vega-lite@5.20.1?noext\",\n",
       "      \"vega-embed\": \"https://cdn.jsdelivr.net/npm/vega-embed@6?noext\",\n",
       "    };\n",
       "\n",
       "    function maybeLoadScript(lib, version) {\n",
       "      var key = `${lib.replace(\"-\", \"\")}_version`;\n",
       "      return (VEGA_DEBUG[key] == version) ?\n",
       "        Promise.resolve(paths[lib]) :\n",
       "        new Promise(function(resolve, reject) {\n",
       "          var s = document.createElement('script');\n",
       "          document.getElementsByTagName(\"head\")[0].appendChild(s);\n",
       "          s.async = true;\n",
       "          s.onload = () => {\n",
       "            VEGA_DEBUG[key] = version;\n",
       "            return resolve(paths[lib]);\n",
       "          };\n",
       "          s.onerror = () => reject(`Error loading script: ${paths[lib]}`);\n",
       "          s.src = paths[lib];\n",
       "        });\n",
       "    }\n",
       "\n",
       "    function showError(err) {\n",
       "      outputDiv.innerHTML = `<div class=\"error\" style=\"color:red;\">${err}</div>`;\n",
       "      throw err;\n",
       "    }\n",
       "\n",
       "    function displayChart(vegaEmbed) {\n",
       "      vegaEmbed(outputDiv, spec, embedOpt)\n",
       "        .catch(err => showError(`Javascript Error: ${err.message}<br>This usually means there's a typo in your chart specification. See the javascript console for the full traceback.`));\n",
       "    }\n",
       "\n",
       "    if(typeof define === \"function\" && define.amd) {\n",
       "      requirejs.config({paths});\n",
       "      let deps = [\"vega-embed\"];\n",
       "      require(deps, displayChart, err => showError(`Error loading script: ${err.message}`));\n",
       "    } else {\n",
       "      maybeLoadScript(\"vega\", \"5\")\n",
       "        .then(() => maybeLoadScript(\"vega-lite\", \"5.20.1\"))\n",
       "        .then(() => maybeLoadScript(\"vega-embed\", \"6\"))\n",
       "        .catch(showError)\n",
       "        .then(() => displayChart(vegaEmbed));\n",
       "    }\n",
       "  })({\"autosize\": {\"contains\": \"content\", \"resize\": true}, \"config\": {\"style\": {\"group-title\": {\"fontSize\": 24}, \"group-subtitle\": {\"fontSize\": 18}, \"guide-label\": {\"fontSize\": 16, \"font\": \"sans-serif\"}, \"guide-title\": {\"fontSize\": 18, \"font\": \"sans-serif\"}}, \"mark\": {\"color\": \"#1f8fff\"}, \"title\": {\"anchor\": \"start\", \"offset\": 20}, \"legend\": {\"orient\": \"right\", \"titleAnchor\": \"start\", \"layout\": {\"direction\": \"vertical\"}, \"labelFontSize\": 16.0, \"titleFontSize\": 18.0}, \"axis\": {\"labelFontSize\": 16.0, \"titleFontSize\": 18.0}}, \"data\": {\"values\": [{\"period_start\": \"1992-01-01T00:00:00\", \"period_end\": \"1992-12-31T00:00:00\", \"evaluation_date\": \"2019-12-31T00:00:00\", \"dev_lag\": 324.0, \"Number of Fields\": 2, \"Fields\": \"Paid Loss ($890,407,958), Reported Loss ($983,787,993)\"}, {\"period_start\": \"1993-01-01T00:00:00\", \"period_end\": \"1993-12-31T00:00:00\", \"evaluation_date\": \"2019-12-31T00:00:00\", \"dev_lag\": 312.0, \"Number of Fields\": 2, \"Fields\": \"Paid Loss ($931,708,293), Reported Loss ($1,040,327,538)\"}, {\"period_start\": \"1994-01-01T00:00:00\", \"period_end\": \"1994-12-31T00:00:00\", \"evaluation_date\": \"2019-12-31T00:00:00\", \"dev_lag\": 300.0, \"Number of Fields\": 2, \"Fields\": \"Paid Loss ($1,190,804,117), Reported Loss ($1,193,952,424)\"}, {\"period_start\": \"1995-01-01T00:00:00\", \"period_end\": \"1995-12-31T00:00:00\", \"evaluation_date\": \"2019-12-31T00:00:00\", \"dev_lag\": 288.0, \"Number of Fields\": 2, \"Fields\": \"Paid Loss ($1,100,014,074), Reported Loss ($1,150,115,572)\"}, {\"period_start\": \"1996-01-01T00:00:00\", \"period_end\": \"1996-12-31T00:00:00\", \"evaluation_date\": \"2019-12-31T00:00:00\", \"dev_lag\": 276.0, \"Number of Fields\": 3, \"Fields\": \"Paid Loss ($1,113,190,299), Reported Loss ($1,114,275,570), Earned Premium ($1,301,739,173)\"}, {\"period_start\": \"1997-01-01T00:00:00\", \"period_end\": \"1997-12-31T00:00:00\", \"evaluation_date\": \"2019-12-31T00:00:00\", \"dev_lag\": 264.0, \"Number of Fields\": 3, \"Fields\": \"Paid Loss ($989,510,589), Reported Loss ($989,200,089), Earned Premium ($1,403,580,370)\"}, {\"period_start\": \"1998-01-01T00:00:00\", \"period_end\": \"1998-12-31T00:00:00\", \"evaluation_date\": \"2019-12-31T00:00:00\", \"dev_lag\": 252.0, \"Number of Fields\": 3, \"Fields\": \"Paid Loss ($895,862,259), Reported Loss ($894,572,615), Earned Premium ($1,551,220,777)\"}, {\"period_start\": \"1999-01-01T00:00:00\", \"period_end\": \"1999-12-31T00:00:00\", \"evaluation_date\": \"2019-12-31T00:00:00\", \"dev_lag\": 240.0, \"Number of Fields\": 3, \"Fields\": \"Paid Loss ($825,699,953), Reported Loss ($825,769,798), Earned Premium ($1,676,265,663)\"}, {\"period_start\": \"2000-01-01T00:00:00\", \"period_end\": \"2000-12-31T00:00:00\", \"evaluation_date\": \"2019-12-31T00:00:00\", \"dev_lag\": 228.0, \"Number of Fields\": 3, \"Fields\": \"Paid Loss ($857,693,545), Reported Loss ($891,626,707), Earned Premium ($1,750,895,299)\"}, {\"period_start\": \"2001-01-01T00:00:00\", \"period_end\": \"2001-12-31T00:00:00\", \"evaluation_date\": \"2019-12-31T00:00:00\", \"dev_lag\": 216.0, \"Number of Fields\": 3, \"Fields\": \"Paid Loss ($1,008,273,626), Reported Loss ($1,007,242,274), Earned Premium ($1,873,648,284)\"}, {\"period_start\": \"2002-01-01T00:00:00\", \"period_end\": \"2002-12-31T00:00:00\", \"evaluation_date\": \"2019-12-31T00:00:00\", \"dev_lag\": 204.0, \"Number of Fields\": 3, \"Fields\": \"Paid Loss ($1,023,990,542), Reported Loss ($1,024,178,219), Earned Premium ($1,946,907,321)\"}, {\"period_start\": \"2003-01-01T00:00:00\", \"period_end\": \"2003-12-31T00:00:00\", \"evaluation_date\": \"2019-12-31T00:00:00\", \"dev_lag\": 192.0, \"Number of Fields\": 3, \"Fields\": \"Paid Loss ($1,011,330,528), Reported Loss ($1,055,250,043), Earned Premium ($1,828,474,205)\"}, {\"period_start\": \"2004-01-01T00:00:00\", \"period_end\": \"2004-12-31T00:00:00\", \"evaluation_date\": \"2019-12-31T00:00:00\", \"dev_lag\": 180.0, \"Number of Fields\": 3, \"Fields\": \"Paid Loss ($1,002,316,773), Reported Loss ($1,004,837,578), Earned Premium ($1,659,178,348)\"}, {\"period_start\": \"2005-01-01T00:00:00\", \"period_end\": \"2005-12-31T00:00:00\", \"evaluation_date\": \"2019-12-31T00:00:00\", \"dev_lag\": 168.0, \"Number of Fields\": 3, \"Fields\": \"Paid Loss ($945,652,015), Reported Loss ($947,242,814), Earned Premium ($1,605,819,179)\"}, {\"period_start\": \"2006-01-01T00:00:00\", \"period_end\": \"2006-12-31T00:00:00\", \"evaluation_date\": \"2019-12-31T00:00:00\", \"dev_lag\": 156.0, \"Number of Fields\": 3, \"Fields\": \"Paid Loss ($920,916,866), Reported Loss ($935,213,779), Earned Premium ($1,650,908,596)\"}, {\"period_start\": \"2007-01-01T00:00:00\", \"period_end\": \"2007-12-31T00:00:00\", \"evaluation_date\": \"2019-12-31T00:00:00\", \"dev_lag\": 144.0, \"Number of Fields\": 3, \"Fields\": \"Paid Loss ($882,609,307), Reported Loss ($901,962,242), Earned Premium ($1,756,244,456)\"}, {\"period_start\": \"2008-01-01T00:00:00\", \"period_end\": \"2008-12-31T00:00:00\", \"evaluation_date\": \"2019-12-31T00:00:00\", \"dev_lag\": 132.0, \"Number of Fields\": 3, \"Fields\": \"Paid Loss ($895,910,211), Reported Loss ($914,375,591), Earned Premium ($1,939,637,081)\"}, {\"period_start\": \"2009-01-01T00:00:00\", \"period_end\": \"2009-12-31T00:00:00\", \"evaluation_date\": \"2019-12-31T00:00:00\", \"dev_lag\": 120.0, \"Number of Fields\": 3, \"Fields\": \"Paid Loss ($930,797,266), Reported Loss ($972,325,276), Earned Premium ($2,092,484,960)\"}, {\"period_start\": \"2010-01-01T00:00:00\", \"period_end\": \"2010-12-31T00:00:00\", \"evaluation_date\": \"2019-12-31T00:00:00\", \"dev_lag\": 108.0, \"Number of Fields\": 3, \"Fields\": \"Paid Loss ($951,027,598), Reported Loss ($1,015,084,834), Earned Premium ($2,163,466,434)\"}, {\"period_start\": \"2011-01-01T00:00:00\", \"period_end\": \"2011-12-31T00:00:00\", \"evaluation_date\": \"2019-12-31T00:00:00\", \"dev_lag\": 96.0, \"Number of Fields\": 3, \"Fields\": \"Paid Loss ($992,702,251), Reported Loss ($1,061,627,829), Earned Premium ($2,216,923,768)\"}, {\"period_start\": \"2012-01-01T00:00:00\", \"period_end\": \"2012-12-31T00:00:00\", \"evaluation_date\": \"2019-12-31T00:00:00\", \"dev_lag\": 84.0, \"Number of Fields\": 3, \"Fields\": \"Paid Loss ($982,258,604), Reported Loss ($1,058,089,441), Earned Premium ($2,254,480,389)\"}, {\"period_start\": \"2013-01-01T00:00:00\", \"period_end\": \"2013-12-31T00:00:00\", \"evaluation_date\": \"2019-12-31T00:00:00\", \"dev_lag\": 72.0, \"Number of Fields\": 3, \"Fields\": \"Paid Loss ($979,417,880), Reported Loss ($1,085,654,963), Earned Premium ($2,280,764,989)\"}, {\"period_start\": \"2014-01-01T00:00:00\", \"period_end\": \"2014-12-31T00:00:00\", \"evaluation_date\": \"2019-12-31T00:00:00\", \"dev_lag\": 60.0, \"Number of Fields\": 3, \"Fields\": \"Paid Loss ($862,705,701), Reported Loss ($1,004,012,351), Earned Premium ($2,313,481,775)\"}, {\"period_start\": \"2015-01-01T00:00:00\", \"period_end\": \"2015-12-31T00:00:00\", \"evaluation_date\": \"2019-12-31T00:00:00\", \"dev_lag\": 48.0, \"Number of Fields\": 3, \"Fields\": \"Paid Loss ($667,017,769), Reported Loss ($855,372,800), Earned Premium ($2,265,868,862)\"}, {\"period_start\": \"2016-01-01T00:00:00\", \"period_end\": \"2016-12-31T00:00:00\", \"evaluation_date\": \"2019-12-31T00:00:00\", \"dev_lag\": 36.0, \"Number of Fields\": 3, \"Fields\": \"Paid Loss ($518,416,339), Reported Loss ($765,230,079), Earned Premium ($2,396,744,813)\"}, {\"period_start\": \"2017-01-01T00:00:00\", \"period_end\": \"2017-12-31T00:00:00\", \"evaluation_date\": \"2019-12-31T00:00:00\", \"dev_lag\": 24.0, \"Number of Fields\": 3, \"Fields\": \"Paid Loss ($389,627,686), Reported Loss ($709,010,051), Earned Premium ($2,624,487,706)\"}, {\"period_start\": \"2018-01-01T00:00:00\", \"period_end\": \"2018-12-31T00:00:00\", \"evaluation_date\": \"2019-12-31T00:00:00\", \"dev_lag\": 12.0, \"Number of Fields\": 3, \"Fields\": \"Paid Loss ($234,656,477), Reported Loss ($503,340,228), Earned Premium ($2,835,808,858)\"}, {\"period_start\": \"2019-01-01T00:00:00\", \"period_end\": \"2019-12-31T00:00:00\", \"evaluation_date\": \"2019-12-31T00:00:00\", \"dev_lag\": 0.0, \"Number of Fields\": 3, \"Fields\": \"Paid Loss ($67,781,929), Reported Loss ($244,946,814), Earned Premium ($2,860,801,140)\"}]}, \"mark\": {\"type\": \"circle\", \"opacity\": 1, \"size\": 500.0}, \"encoding\": {\"color\": {\"condition\": {\"param\": \"param_161\", \"field\": \"Number of Fields\", \"scale\": {\"scheme\": \"dark2\"}, \"type\": \"nominal\"}, \"value\": \"lightgray\"}, \"tooltip\": [{\"field\": \"period_start\", \"title\": \"Period Start\", \"type\": \"temporal\"}, {\"field\": \"period_end\", \"title\": \"Period End\", \"type\": \"temporal\"}, {\"field\": \"evaluation_date\", \"title\": \"Evaluation Date\", \"type\": \"temporal\"}, {\"field\": \"dev_lag\", \"title\": \"Dev Lag (months)\", \"type\": \"nominal\"}, {\"field\": \"Fields\", \"type\": \"nominal\"}], \"x\": {\"axis\": {\"labelAngle\": 0}, \"field\": \"dev_lag\", \"scale\": {\"zero\": true}, \"title\": \"Dev Lag (months)\", \"type\": \"nominal\"}, \"y\": {\"field\": \"period_start\", \"scale\": {\"padding\": 15, \"reverse\": true}, \"timeUnit\": \"yearmonth\", \"title\": \"Period Start\", \"type\": \"temporal\"}}, \"height\": 300, \"params\": [{\"name\": \"param_161\", \"select\": {\"type\": \"point\"}}, {\"name\": \"param_162\", \"select\": {\"type\": \"interval\", \"encodings\": [\"x\", \"y\"]}, \"bind\": \"scales\"}], \"title\": {\"text\": \"Triangle Completeness\", \"subtitle\": \"The number of data fields available per cell\"}, \"width\": 400, \"$schema\": \"https://vega.github.io/schema/vega-lite/v5.20.1.json\"}, {\"mode\": \"vega-lite\"});\n",
       "</script>"
      ],
      "text/plain": [
       "alt.Chart(...)"
      ]
     },
     "execution_count": 43,
     "metadata": {},
     "output_type": "execute_result"
    }
   ],
   "source": [
    "test_triangle.right_edge.plot_data_completeness()"
   ]
  },
  {
   "cell_type": "markdown",
   "metadata": {},
   "source": [
    "## 2. Understanding Triangle Components\n",
    "\n",
    "Now let's dive into the individual components that make up our triangle."
   ]
  },
  {
   "cell_type": "markdown",
   "metadata": {},
   "source": [
    "### 2.1 Periods and Evaluation Dates\n",
    "\n",
    "Triangles are built from periods (accident/occurrence periods) and evaluation dates."
   ]
  },
  {
   "cell_type": "code",
   "execution_count": 16,
   "metadata": {},
   "outputs": [
    {
     "name": "stdout",
     "output_type": "stream",
     "text": [
      "Experience Periods (first 10):\n",
      "  1: 1997-01-01 to 1997-12-31\n",
      "  2: 1998-01-01 to 1998-12-31\n",
      "  3: 1999-01-01 to 1999-12-31\n",
      "  4: 2000-01-01 to 2000-12-31\n",
      "  5: 2001-01-01 to 2001-12-31\n",
      "  6: 2002-01-01 to 2002-12-31\n",
      "  7: 2003-01-01 to 2003-12-31\n",
      "  8: 2004-01-01 to 2004-12-31\n",
      "  9: 2005-01-01 to 2005-12-31\n",
      "  10: 2006-01-01 to 2006-12-31\n",
      "  ... and 18 more periods\n"
     ]
    }
   ],
   "source": [
    "# Examine the periods in our triangle\n",
    "print(\"Experience Periods (first 10):\")\n",
    "for i, period in enumerate(test_triangle.periods[:10]):\n",
    "    print(f\"  {i+1}: {period[0]} to {period[1]}\")\n",
    "print(f\"  ... and {len(test_triangle.periods)-10} more periods\")"
   ]
  },
  {
   "cell_type": "code",
   "execution_count": 17,
   "metadata": {},
   "outputs": [
    {
     "name": "stdout",
     "output_type": "stream",
     "text": [
      "Evaluation Dates (first 10):\n",
      "  1: 1997-12-31\n",
      "  2: 1998-12-31\n",
      "  3: 1999-12-31\n",
      "  4: 2000-12-31\n",
      "  5: 2001-12-31\n",
      "  6: 2002-12-31\n",
      "  7: 2003-12-31\n",
      "  8: 2004-12-31\n",
      "  9: 2005-12-31\n",
      "  10: 2006-12-31\n",
      "  ... and 18 more evaluation dates\n"
     ]
    }
   ],
   "source": [
    "# Examine evaluation dates\n",
    "print(\"Evaluation Dates (first 10):\")\n",
    "for i, eval_date in enumerate(test_triangle.evaluation_dates[:10]):\n",
    "    print(f\"  {i+1}: {eval_date}\")\n",
    "print(f\"  ... and {len(test_triangle.evaluation_dates)-10} more evaluation dates\")"
   ]
  },
  {
   "cell_type": "markdown",
   "metadata": {},
   "source": [
    "### 2.2 Cumulative vs Incremental Cells\n",
    "\n",
    "Cells are the fundamental building blocks of triangles. They can be cumulative or incremental."
   ]
  },
  {
   "cell_type": "code",
   "execution_count": 45,
   "metadata": {},
   "outputs": [
    {
     "name": "stdout",
     "output_type": "stream",
     "text": [
      "Example Cumulative Cell:\n",
      "CumulativeCell(period_start=datetime.date(1992, 1, 1), period_end=datetime.date(1992, 12, 31), evaluation_date=datetime.date(1992, 12, 31), values={'paid_loss': 40386429.000000015, 'reported_loss': 169220997.99999997}, metadata=Metadata(risk_basis='Accident', country=None, currency=None, reinsurance_basis='Gross', loss_definition='Loss+DCC', per_occurrence_limit=None, details={'line_of_busines': 'GL'}, loss_details={}))\n",
      "\n",
      "Cell type: CumulativeCell\n",
      "Period: 1992-01-01 to 1992-12-31\n",
      "Evaluation Date: 1992-12-31\n",
      "Values: {'paid_loss': 40386429.000000015, 'reported_loss': 169220997.99999997}\n"
     ]
    }
   ],
   "source": [
    "# Examine a cumulative cell\n",
    "print(\"Example Cumulative Cell:\")\n",
    "cumulative_cell = test_triangle[0]\n",
    "print(cumulative_cell)\n",
    "print(f\"\\nCell type: {type(cumulative_cell).__name__}\")\n",
    "print(f\"Period: {cumulative_cell.period_start} to {cumulative_cell.period_end}\")\n",
    "print(f\"Evaluation Date: {cumulative_cell.evaluation_date}\")\n",
    "print(f\"Values: {cumulative_cell.values}\")"
   ]
  },
  {
   "cell_type": "code",
   "execution_count": 44,
   "metadata": {},
   "outputs": [
    {
     "name": "stdout",
     "output_type": "stream",
     "text": [
      "Example Incremental Cell:\n",
      "IncrementalCell(period_start=datetime.date(1992, 1, 1), period_end=datetime.date(1992, 12, 31), evaluation_date=datetime.date(1992, 12, 31), values={'paid_loss': 40386429.000000015, 'reported_loss': 169220997.99999997}, metadata=Metadata(risk_basis='Accident', country=None, currency=None, reinsurance_basis='Gross', loss_definition='Loss+DCC', per_occurrence_limit=None, details={'line_of_busines': 'GL'}, loss_details={}), prev_evaluation_date=datetime.date(1991, 12, 31))\n",
      "\n",
      "Cell type: IncrementalCell\n",
      "Previous Evaluation Date: 1991-12-31\n"
     ]
    }
   ],
   "source": [
    "# Convert to incremental and examine the same cell\n",
    "incremental_triangle = test_triangle.to_incremental()\n",
    "print(\"Example Incremental Cell:\")\n",
    "incremental_cell = incremental_triangle[0]\n",
    "print(incremental_cell)\n",
    "print(f\"\\nCell type: {type(incremental_cell).__name__}\")\n",
    "print(f\"Previous Evaluation Date: {incremental_cell.prev_evaluation_date}\")"
   ]
  },
  {
   "cell_type": "markdown",
   "metadata": {},
   "source": [
    "### 2.3 Ledger-Specific Conventions: Dev-Lag\n",
    "\n",
    "In Ledger's convention, dev-lag 0 corresponds to period_end. This means the first evaluation is at the end of the accident period."
   ]
  },
  {
   "cell_type": "code",
   "execution_count": 46,
   "metadata": {},
   "outputs": [
    {
     "name": "stdout",
     "output_type": "stream",
     "text": [
      "Dev-Lag Convention Demonstration:\n",
      "For Ledger, dev-lag 0 = period_end\n",
      "\n",
      "Dev-lag 0 cell:\n",
      "  Period: 1992-01-01 to 1992-12-31\n",
      "  Evaluation: 1992-12-31\n",
      "  Dev-lag: 0 months (evaluation = period_end)\n",
      "\n",
      "Dev-lag 0 cell:\n",
      "  Period: 1993-01-01 to 1993-12-31\n",
      "  Evaluation: 1993-12-31\n",
      "  Dev-lag: 0 months (evaluation = period_end)\n",
      "\n",
      "Dev-lag 0 cell:\n",
      "  Period: 1994-01-01 to 1994-12-31\n",
      "  Evaluation: 1994-12-31\n",
      "  Dev-lag: 0 months (evaluation = period_end)\n",
      "\n",
      "Found 28 cells with dev-lag 0\n"
     ]
    }
   ],
   "source": [
    "# Demonstrate dev-lag convention\n",
    "print(\"Dev-Lag Convention Demonstration:\")\n",
    "print(\"For Ledger, dev-lag 0 = period_end\")\n",
    "print()\n",
    "\n",
    "# Find cells with dev-lag 0 (evaluation_date = period_end)\n",
    "dev_lag_0_cells = []\n",
    "for cell in test_triangle:\n",
    "    if cell.evaluation_date == cell.period_end:\n",
    "        dev_lag_0_cells.append(cell)\n",
    "        if len(dev_lag_0_cells) <= 3:  # Show first 3 examples\n",
    "            print(f\"Dev-lag 0 cell:\")\n",
    "            print(f\"  Period: {cell.period_start} to {cell.period_end}\")\n",
    "            print(f\"  Evaluation: {cell.evaluation_date}\")\n",
    "            print(f\"  Dev-lag: 0 months (evaluation = period_end)\")\n",
    "            print()\n",
    "\n",
    "print(f\"Found {len(dev_lag_0_cells)} cells with dev-lag 0\")"
   ]
  },
  {
   "cell_type": "code",
   "execution_count": 47,
   "metadata": {},
   "outputs": [],
   "source": [
    "# add in that we can handle negative dev lags"
   ]
  },
  {
   "cell_type": "code",
   "execution_count": 48,
   "metadata": {},
   "outputs": [
    {
     "name": "stdout",
     "output_type": "stream",
     "text": [
      "Development progression for period 1992-01-01 to 1992-12-31:\n",
      "  Evaluation 1: 1992-12-31 (dev-lag ~0 months)\n",
      "    Paid Loss: $40,386,429\n",
      "  Evaluation 2: 1993-12-31 (dev-lag ~12 months)\n",
      "    Paid Loss: $124,778,432\n",
      "  Evaluation 3: 1994-12-31 (dev-lag ~24 months)\n",
      "    Paid Loss: $249,719,443\n",
      "  Evaluation 4: 1995-12-31 (dev-lag ~36 months)\n",
      "    Paid Loss: $368,643,594\n",
      "  Evaluation 5: 1996-12-31 (dev-lag ~48 months)\n",
      "    Paid Loss: $477,857,831\n",
      "  ... and 23 more evaluations\n"
     ]
    }
   ],
   "source": [
    "# Show development progression for a single accident period\n",
    "if len(test_triangle.periods) > 0:\n",
    "    first_period = test_triangle.periods[0]\n",
    "    print(f\"Development progression for period {first_period[0]} to {first_period[1]}:\")\n",
    "    \n",
    "    period_cells = []\n",
    "    for cell in test_triangle:\n",
    "        if cell.period_start == first_period[0] and cell.period_end == first_period[1]:\n",
    "            period_cells.append(cell)\n",
    "    \n",
    "    # Sort by evaluation date\n",
    "    period_cells.sort(key=lambda x: x.evaluation_date)\n",
    "    \n",
    "    for i, cell in enumerate(period_cells[:5]):  # Show first 5 evaluations\n",
    "        days_diff = (cell.evaluation_date - cell.period_end).days\n",
    "        months_diff = days_diff // 30  # Approximate months\n",
    "        print(f\"  Evaluation {i+1}: {cell.evaluation_date} (dev-lag ~{months_diff} months)\")\n",
    "        if 'paid_loss' in cell.values:\n",
    "            print(f\"    Paid Loss: ${cell.values['paid_loss']:,.0f}\")\n",
    "    \n",
    "    if len(period_cells) > 5:\n",
    "        print(f\"  ... and {len(period_cells)-5} more evaluations\")"
   ]
  },
  {
   "cell_type": "markdown",
   "metadata": {},
   "source": [
    "## 3. Triangle Slicing and Manipulation\n",
    "\n",
    "Bermuda provides powerful slicing capabilities to extract subsets of triangle data."
   ]
  },
  {
   "cell_type": "markdown",
   "metadata": {},
   "source": [
    "### 3.1 Right Edge Analysis\n",
    "\n",
    "The \"right edge\" represents the most recent evaluation for each accident period."
   ]
  },
  {
   "cell_type": "code",
   "execution_count": 49,
   "metadata": {},
   "outputs": [
    {
     "name": "stdout",
     "output_type": "stream",
     "text": [
      "Right edge contains 28 cells\n",
      "\n",
      "First few right edge cells:\n",
      "  Period 1992-01-01 to 1992-12-31, evaluated on 2019-12-31\n",
      "  Period 1993-01-01 to 1993-12-31, evaluated on 2019-12-31\n",
      "  Period 1994-01-01 to 1994-12-31, evaluated on 2019-12-31\n"
     ]
    }
   ],
   "source": [
    "# Extract the right edge\n",
    "right_edge = test_triangle.right_edge\n",
    "print(f\"Right edge contains {len(right_edge)} cells\")\n",
    "print(\"\\nFirst few right edge cells:\")\n",
    "for i, cell in enumerate(right_edge[:3]):\n",
    "    print(f\"  Period {cell.period_start} to {cell.period_end}, evaluated on {cell.evaluation_date}\")"
   ]
  },
  {
   "cell_type": "code",
   "execution_count": 50,
   "metadata": {},
   "outputs": [
    {
     "data": {
      "text/html": [
       "\n",
       "<style>\n",
       "  #altair-viz-852c773f524548beb6a215d399e65b71.vega-embed {\n",
       "    width: 100%;\n",
       "    display: flex;\n",
       "  }\n",
       "\n",
       "  #altair-viz-852c773f524548beb6a215d399e65b71.vega-embed details,\n",
       "  #altair-viz-852c773f524548beb6a215d399e65b71.vega-embed details summary {\n",
       "    position: relative;\n",
       "  }\n",
       "</style>\n",
       "<div id=\"altair-viz-852c773f524548beb6a215d399e65b71\"></div>\n",
       "<script type=\"text/javascript\">\n",
       "  var VEGA_DEBUG = (typeof VEGA_DEBUG == \"undefined\") ? {} : VEGA_DEBUG;\n",
       "  (function(spec, embedOpt){\n",
       "    let outputDiv = document.currentScript.previousElementSibling;\n",
       "    if (outputDiv.id !== \"altair-viz-852c773f524548beb6a215d399e65b71\") {\n",
       "      outputDiv = document.getElementById(\"altair-viz-852c773f524548beb6a215d399e65b71\");\n",
       "    }\n",
       "\n",
       "    const paths = {\n",
       "      \"vega\": \"https://cdn.jsdelivr.net/npm/vega@5?noext\",\n",
       "      \"vega-lib\": \"https://cdn.jsdelivr.net/npm/vega-lib?noext\",\n",
       "      \"vega-lite\": \"https://cdn.jsdelivr.net/npm/vega-lite@5.20.1?noext\",\n",
       "      \"vega-embed\": \"https://cdn.jsdelivr.net/npm/vega-embed@6?noext\",\n",
       "    };\n",
       "\n",
       "    function maybeLoadScript(lib, version) {\n",
       "      var key = `${lib.replace(\"-\", \"\")}_version`;\n",
       "      return (VEGA_DEBUG[key] == version) ?\n",
       "        Promise.resolve(paths[lib]) :\n",
       "        new Promise(function(resolve, reject) {\n",
       "          var s = document.createElement('script');\n",
       "          document.getElementsByTagName(\"head\")[0].appendChild(s);\n",
       "          s.async = true;\n",
       "          s.onload = () => {\n",
       "            VEGA_DEBUG[key] = version;\n",
       "            return resolve(paths[lib]);\n",
       "          };\n",
       "          s.onerror = () => reject(`Error loading script: ${paths[lib]}`);\n",
       "          s.src = paths[lib];\n",
       "        });\n",
       "    }\n",
       "\n",
       "    function showError(err) {\n",
       "      outputDiv.innerHTML = `<div class=\"error\" style=\"color:red;\">${err}</div>`;\n",
       "      throw err;\n",
       "    }\n",
       "\n",
       "    function displayChart(vegaEmbed) {\n",
       "      vegaEmbed(outputDiv, spec, embedOpt)\n",
       "        .catch(err => showError(`Javascript Error: ${err.message}<br>This usually means there's a typo in your chart specification. See the javascript console for the full traceback.`));\n",
       "    }\n",
       "\n",
       "    if(typeof define === \"function\" && define.amd) {\n",
       "      requirejs.config({paths});\n",
       "      let deps = [\"vega-embed\"];\n",
       "      require(deps, displayChart, err => showError(`Error loading script: ${err.message}`));\n",
       "    } else {\n",
       "      maybeLoadScript(\"vega\", \"5\")\n",
       "        .then(() => maybeLoadScript(\"vega-lite\", \"5.20.1\"))\n",
       "        .then(() => maybeLoadScript(\"vega-embed\", \"6\"))\n",
       "        .catch(showError)\n",
       "        .then(() => displayChart(vegaEmbed));\n",
       "    }\n",
       "  })({\"autosize\": {\"contains\": \"content\", \"resize\": true}, \"config\": {\"style\": {\"group-title\": {\"fontSize\": 24}, \"group-subtitle\": {\"fontSize\": 18}, \"guide-label\": {\"fontSize\": 16, \"font\": \"sans-serif\"}, \"guide-title\": {\"fontSize\": 18, \"font\": \"sans-serif\"}}, \"mark\": {\"color\": \"#1f8fff\"}, \"title\": {\"anchor\": \"start\", \"offset\": 20}, \"legend\": {\"orient\": \"right\", \"titleAnchor\": \"start\", \"layout\": {\"direction\": \"vertical\"}, \"labelFontSize\": 16.0, \"titleFontSize\": 18.0}, \"axis\": {\"labelFontSize\": 16.0, \"titleFontSize\": 18.0}}, \"data\": {\"values\": [{\"period_start\": \"1992-01-01T00:00:00\", \"period_end\": \"1992-12-31T00:00:00\", \"evaluation_date\": \"2019-12-31T00:00:00\", \"dev_lag\": 324.0, \"Number of Fields\": 2, \"Fields\": \"Paid Loss ($890,407,958), Reported Loss ($983,787,993)\"}, {\"period_start\": \"1993-01-01T00:00:00\", \"period_end\": \"1993-12-31T00:00:00\", \"evaluation_date\": \"2019-12-31T00:00:00\", \"dev_lag\": 312.0, \"Number of Fields\": 2, \"Fields\": \"Paid Loss ($931,708,293), Reported Loss ($1,040,327,538)\"}, {\"period_start\": \"1994-01-01T00:00:00\", \"period_end\": \"1994-12-31T00:00:00\", \"evaluation_date\": \"2019-12-31T00:00:00\", \"dev_lag\": 300.0, \"Number of Fields\": 2, \"Fields\": \"Paid Loss ($1,190,804,117), Reported Loss ($1,193,952,424)\"}, {\"period_start\": \"1995-01-01T00:00:00\", \"period_end\": \"1995-12-31T00:00:00\", \"evaluation_date\": \"2019-12-31T00:00:00\", \"dev_lag\": 288.0, \"Number of Fields\": 2, \"Fields\": \"Paid Loss ($1,100,014,074), Reported Loss ($1,150,115,572)\"}, {\"period_start\": \"1996-01-01T00:00:00\", \"period_end\": \"1996-12-31T00:00:00\", \"evaluation_date\": \"2019-12-31T00:00:00\", \"dev_lag\": 276.0, \"Number of Fields\": 3, \"Fields\": \"Paid Loss ($1,113,190,299), Reported Loss ($1,114,275,570), Earned Premium ($1,301,739,173)\"}, {\"period_start\": \"1997-01-01T00:00:00\", \"period_end\": \"1997-12-31T00:00:00\", \"evaluation_date\": \"2019-12-31T00:00:00\", \"dev_lag\": 264.0, \"Number of Fields\": 3, \"Fields\": \"Paid Loss ($989,510,589), Reported Loss ($989,200,089), Earned Premium ($1,403,580,370)\"}, {\"period_start\": \"1998-01-01T00:00:00\", \"period_end\": \"1998-12-31T00:00:00\", \"evaluation_date\": \"2019-12-31T00:00:00\", \"dev_lag\": 252.0, \"Number of Fields\": 3, \"Fields\": \"Paid Loss ($895,862,259), Reported Loss ($894,572,615), Earned Premium ($1,551,220,777)\"}, {\"period_start\": \"1999-01-01T00:00:00\", \"period_end\": \"1999-12-31T00:00:00\", \"evaluation_date\": \"2019-12-31T00:00:00\", \"dev_lag\": 240.0, \"Number of Fields\": 3, \"Fields\": \"Paid Loss ($825,699,953), Reported Loss ($825,769,798), Earned Premium ($1,676,265,663)\"}, {\"period_start\": \"2000-01-01T00:00:00\", \"period_end\": \"2000-12-31T00:00:00\", \"evaluation_date\": \"2019-12-31T00:00:00\", \"dev_lag\": 228.0, \"Number of Fields\": 3, \"Fields\": \"Paid Loss ($857,693,545), Reported Loss ($891,626,707), Earned Premium ($1,750,895,299)\"}, {\"period_start\": \"2001-01-01T00:00:00\", \"period_end\": \"2001-12-31T00:00:00\", \"evaluation_date\": \"2019-12-31T00:00:00\", \"dev_lag\": 216.0, \"Number of Fields\": 3, \"Fields\": \"Paid Loss ($1,008,273,626), Reported Loss ($1,007,242,274), Earned Premium ($1,873,648,284)\"}, {\"period_start\": \"2002-01-01T00:00:00\", \"period_end\": \"2002-12-31T00:00:00\", \"evaluation_date\": \"2019-12-31T00:00:00\", \"dev_lag\": 204.0, \"Number of Fields\": 3, \"Fields\": \"Paid Loss ($1,023,990,542), Reported Loss ($1,024,178,219), Earned Premium ($1,946,907,321)\"}, {\"period_start\": \"2003-01-01T00:00:00\", \"period_end\": \"2003-12-31T00:00:00\", \"evaluation_date\": \"2019-12-31T00:00:00\", \"dev_lag\": 192.0, \"Number of Fields\": 3, \"Fields\": \"Paid Loss ($1,011,330,528), Reported Loss ($1,055,250,043), Earned Premium ($1,828,474,205)\"}, {\"period_start\": \"2004-01-01T00:00:00\", \"period_end\": \"2004-12-31T00:00:00\", \"evaluation_date\": \"2019-12-31T00:00:00\", \"dev_lag\": 180.0, \"Number of Fields\": 3, \"Fields\": \"Paid Loss ($1,002,316,773), Reported Loss ($1,004,837,578), Earned Premium ($1,659,178,348)\"}, {\"period_start\": \"2005-01-01T00:00:00\", \"period_end\": \"2005-12-31T00:00:00\", \"evaluation_date\": \"2019-12-31T00:00:00\", \"dev_lag\": 168.0, \"Number of Fields\": 3, \"Fields\": \"Paid Loss ($945,652,015), Reported Loss ($947,242,814), Earned Premium ($1,605,819,179)\"}, {\"period_start\": \"2006-01-01T00:00:00\", \"period_end\": \"2006-12-31T00:00:00\", \"evaluation_date\": \"2019-12-31T00:00:00\", \"dev_lag\": 156.0, \"Number of Fields\": 3, \"Fields\": \"Paid Loss ($920,916,866), Reported Loss ($935,213,779), Earned Premium ($1,650,908,596)\"}, {\"period_start\": \"2007-01-01T00:00:00\", \"period_end\": \"2007-12-31T00:00:00\", \"evaluation_date\": \"2019-12-31T00:00:00\", \"dev_lag\": 144.0, \"Number of Fields\": 3, \"Fields\": \"Paid Loss ($882,609,307), Reported Loss ($901,962,242), Earned Premium ($1,756,244,456)\"}, {\"period_start\": \"2008-01-01T00:00:00\", \"period_end\": \"2008-12-31T00:00:00\", \"evaluation_date\": \"2019-12-31T00:00:00\", \"dev_lag\": 132.0, \"Number of Fields\": 3, \"Fields\": \"Paid Loss ($895,910,211), Reported Loss ($914,375,591), Earned Premium ($1,939,637,081)\"}, {\"period_start\": \"2009-01-01T00:00:00\", \"period_end\": \"2009-12-31T00:00:00\", \"evaluation_date\": \"2019-12-31T00:00:00\", \"dev_lag\": 120.0, \"Number of Fields\": 3, \"Fields\": \"Paid Loss ($930,797,266), Reported Loss ($972,325,276), Earned Premium ($2,092,484,960)\"}, {\"period_start\": \"2010-01-01T00:00:00\", \"period_end\": \"2010-12-31T00:00:00\", \"evaluation_date\": \"2019-12-31T00:00:00\", \"dev_lag\": 108.0, \"Number of Fields\": 3, \"Fields\": \"Paid Loss ($951,027,598), Reported Loss ($1,015,084,834), Earned Premium ($2,163,466,434)\"}, {\"period_start\": \"2011-01-01T00:00:00\", \"period_end\": \"2011-12-31T00:00:00\", \"evaluation_date\": \"2019-12-31T00:00:00\", \"dev_lag\": 96.0, \"Number of Fields\": 3, \"Fields\": \"Paid Loss ($992,702,251), Reported Loss ($1,061,627,829), Earned Premium ($2,216,923,768)\"}, {\"period_start\": \"2012-01-01T00:00:00\", \"period_end\": \"2012-12-31T00:00:00\", \"evaluation_date\": \"2019-12-31T00:00:00\", \"dev_lag\": 84.0, \"Number of Fields\": 3, \"Fields\": \"Paid Loss ($982,258,604), Reported Loss ($1,058,089,441), Earned Premium ($2,254,480,389)\"}, {\"period_start\": \"2013-01-01T00:00:00\", \"period_end\": \"2013-12-31T00:00:00\", \"evaluation_date\": \"2019-12-31T00:00:00\", \"dev_lag\": 72.0, \"Number of Fields\": 3, \"Fields\": \"Paid Loss ($979,417,880), Reported Loss ($1,085,654,963), Earned Premium ($2,280,764,989)\"}, {\"period_start\": \"2014-01-01T00:00:00\", \"period_end\": \"2014-12-31T00:00:00\", \"evaluation_date\": \"2019-12-31T00:00:00\", \"dev_lag\": 60.0, \"Number of Fields\": 3, \"Fields\": \"Paid Loss ($862,705,701), Reported Loss ($1,004,012,351), Earned Premium ($2,313,481,775)\"}, {\"period_start\": \"2015-01-01T00:00:00\", \"period_end\": \"2015-12-31T00:00:00\", \"evaluation_date\": \"2019-12-31T00:00:00\", \"dev_lag\": 48.0, \"Number of Fields\": 3, \"Fields\": \"Paid Loss ($667,017,769), Reported Loss ($855,372,800), Earned Premium ($2,265,868,862)\"}, {\"period_start\": \"2016-01-01T00:00:00\", \"period_end\": \"2016-12-31T00:00:00\", \"evaluation_date\": \"2019-12-31T00:00:00\", \"dev_lag\": 36.0, \"Number of Fields\": 3, \"Fields\": \"Paid Loss ($518,416,339), Reported Loss ($765,230,079), Earned Premium ($2,396,744,813)\"}, {\"period_start\": \"2017-01-01T00:00:00\", \"period_end\": \"2017-12-31T00:00:00\", \"evaluation_date\": \"2019-12-31T00:00:00\", \"dev_lag\": 24.0, \"Number of Fields\": 3, \"Fields\": \"Paid Loss ($389,627,686), Reported Loss ($709,010,051), Earned Premium ($2,624,487,706)\"}, {\"period_start\": \"2018-01-01T00:00:00\", \"period_end\": \"2018-12-31T00:00:00\", \"evaluation_date\": \"2019-12-31T00:00:00\", \"dev_lag\": 12.0, \"Number of Fields\": 3, \"Fields\": \"Paid Loss ($234,656,477), Reported Loss ($503,340,228), Earned Premium ($2,835,808,858)\"}, {\"period_start\": \"2019-01-01T00:00:00\", \"period_end\": \"2019-12-31T00:00:00\", \"evaluation_date\": \"2019-12-31T00:00:00\", \"dev_lag\": 0.0, \"Number of Fields\": 3, \"Fields\": \"Paid Loss ($67,781,929), Reported Loss ($244,946,814), Earned Premium ($2,860,801,140)\"}]}, \"mark\": {\"type\": \"circle\", \"opacity\": 1, \"size\": 500.0}, \"encoding\": {\"color\": {\"condition\": {\"param\": \"param_163\", \"field\": \"Number of Fields\", \"scale\": {\"scheme\": \"dark2\"}, \"type\": \"nominal\"}, \"value\": \"lightgray\"}, \"tooltip\": [{\"field\": \"period_start\", \"title\": \"Period Start\", \"type\": \"temporal\"}, {\"field\": \"period_end\", \"title\": \"Period End\", \"type\": \"temporal\"}, {\"field\": \"evaluation_date\", \"title\": \"Evaluation Date\", \"type\": \"temporal\"}, {\"field\": \"dev_lag\", \"title\": \"Dev Lag (months)\", \"type\": \"nominal\"}, {\"field\": \"Fields\", \"type\": \"nominal\"}], \"x\": {\"axis\": {\"labelAngle\": 0}, \"field\": \"dev_lag\", \"scale\": {\"zero\": true}, \"title\": \"Dev Lag (months)\", \"type\": \"nominal\"}, \"y\": {\"field\": \"period_start\", \"scale\": {\"padding\": 15, \"reverse\": true}, \"timeUnit\": \"yearmonth\", \"title\": \"Period Start\", \"type\": \"temporal\"}}, \"height\": 300, \"params\": [{\"name\": \"param_163\", \"select\": {\"type\": \"point\"}}, {\"name\": \"param_164\", \"select\": {\"type\": \"interval\", \"encodings\": [\"x\", \"y\"]}, \"bind\": \"scales\"}], \"title\": {\"text\": \"Triangle Completeness\", \"subtitle\": \"The number of data fields available per cell\"}, \"width\": 400, \"$schema\": \"https://vega.github.io/schema/vega-lite/v5.20.1.json\"}, {\"mode\": \"vega-lite\"});\n",
       "</script>"
      ],
      "text/plain": [
       "alt.Chart(...)"
      ]
     },
     "execution_count": 50,
     "metadata": {},
     "output_type": "execute_result"
    }
   ],
   "source": [
    "# Plot the right edge data completeness\n",
    "right_edge_completeness = right_edge.plot_data_completeness()\n",
    "right_edge_completeness"
   ]
  },
  {
   "cell_type": "markdown",
   "metadata": {},
   "source": [
    "### 3.2 Time-based Slicing\n",
    "\n",
    "We can slice triangles by specific periods or evaluation dates."
   ]
  },
  {
   "cell_type": "code",
   "execution_count": 51,
   "metadata": {},
   "outputs": [
    {
     "name": "stdout",
     "output_type": "stream",
     "text": [
      "Slice for period 2002-01-01 to 2002-12-31:\n",
      "Contains 18 evaluations\n"
     ]
    }
   ],
   "source": [
    "# Slice by specific accident period (if we have 2010 data)\n",
    "if len(test_triangle.periods) > 10:\n",
    "    # Try to find a period around 2010 or use the 10th period\n",
    "    target_period = test_triangle.periods[10]\n",
    "    period_slice = test_triangle[target_period[0], :, :]\n",
    "    print(f\"Slice for period {target_period[0]} to {target_period[1]}:\")\n",
    "    print(f\"Contains {len(period_slice)} evaluations\")\n",
    "    \n",
    "    # Plot this slice\n",
    "    period_completeness = period_slice.plot_data_completeness()\n",
    "    period_completeness"
   ]
  },
  {
   "cell_type": "markdown",
   "metadata": {},
   "source": [
    "### 3.3 Clipping Operations\n",
    "\n",
    "Clipping allows us to restrict the triangle to specific date ranges or development periods."
   ]
  },
  {
   "cell_type": "code",
   "execution_count": 52,
   "metadata": {},
   "outputs": [
    {
     "name": "stdout",
     "output_type": "stream",
     "text": [
      "Original triangle: 406 cells\n",
      "Clipped triangle (max eval 2010-12-31): 190 cells\n"
     ]
    }
   ],
   "source": [
    "# Get the evaluation range for clipping demonstration\n",
    "eval_dates = test_triangle.evaluation_dates\n",
    "if len(eval_dates) > 20:\n",
    "    # Clip to exclude the most recent evaluations\n",
    "    clip_date = eval_dates[-10]  # 10th from last\n",
    "    clipped_triangle = test_triangle.clip(max_eval=clip_date)\n",
    "    \n",
    "    print(f\"Original triangle: {len(test_triangle)} cells\")\n",
    "    print(f\"Clipped triangle (max eval {clip_date}): {len(clipped_triangle)} cells\")\n",
    "    \n",
    "    # Show the difference in completeness\n",
    "    clipped_completeness = clipped_triangle.plot_data_completeness()\n",
    "    clipped_completeness\n",
    "else:\n",
    "    print(\"Triangle has limited evaluation dates - skipping clipping demonstration\")"
   ]
  },
  {
   "cell_type": "markdown",
   "metadata": {},
   "source": [
    "## 4. Filtering and Custom Operations\n",
    "\n",
    "Bermuda allows for sophisticated filtering based on cell properties."
   ]
  },
  {
   "cell_type": "code",
   "execution_count": 26,
   "metadata": {},
   "outputs": [
    {
     "name": "stdout",
     "output_type": "stream",
     "text": [
      "Median paid loss: $236,246,114\n"
     ]
    },
    {
     "ename": "AttributeError",
     "evalue": "'CumulativeCell' object has no attribute 'get'",
     "output_type": "error",
     "traceback": [
      "\u001b[31m---------------------------------------------------------------------------\u001b[39m",
      "\u001b[31mAttributeError\u001b[39m                            Traceback (most recent call last)",
      "\u001b[36mCell\u001b[39m\u001b[36m \u001b[39m\u001b[32mIn[26]\u001b[39m\u001b[32m, line 9\u001b[39m\n\u001b[32m      6\u001b[39m median_loss = \u001b[38;5;28msorted\u001b[39m(all_paid_losses)[\u001b[38;5;28mlen\u001b[39m(all_paid_losses)//\u001b[32m2\u001b[39m]\n\u001b[32m      7\u001b[39m \u001b[38;5;28mprint\u001b[39m(\u001b[33mf\u001b[39m\u001b[33m\"\u001b[39m\u001b[33mMedian paid loss: $\u001b[39m\u001b[38;5;132;01m{\u001b[39;00mmedian_loss\u001b[38;5;132;01m:\u001b[39;00m\u001b[33m,.0f\u001b[39m\u001b[38;5;132;01m}\u001b[39;00m\u001b[33m\"\u001b[39m)\n\u001b[32m----> \u001b[39m\u001b[32m9\u001b[39m large_loss_triangle = \u001b[43mtest_triangle\u001b[49m\u001b[43m.\u001b[49m\u001b[43mfilter\u001b[49m\u001b[43m(\u001b[49m\u001b[38;5;28;43;01mlambda\u001b[39;49;00m\u001b[43m \u001b[49m\u001b[43mcell\u001b[49m\u001b[43m:\u001b[49m\u001b[43m \u001b[49m\u001b[43mcell\u001b[49m\u001b[43m.\u001b[49m\u001b[43mget\u001b[49m\u001b[43m(\u001b[49m\u001b[33;43m'\u001b[39;49m\u001b[33;43mpaid_loss\u001b[39;49m\u001b[33;43m'\u001b[39;49m\u001b[43m,\u001b[49m\u001b[43m \u001b[49m\u001b[32;43m0\u001b[39;49m\u001b[43m)\u001b[49m\u001b[43m \u001b[49m\u001b[43m>\u001b[49m\u001b[43m \u001b[49m\u001b[43mmedian_loss\u001b[49m\u001b[43m)\u001b[49m\n\u001b[32m     10\u001b[39m \u001b[38;5;28mprint\u001b[39m(\u001b[33mf\u001b[39m\u001b[33m\"\u001b[39m\u001b[33mCells with above-median losses: \u001b[39m\u001b[38;5;132;01m{\u001b[39;00m\u001b[38;5;28mlen\u001b[39m(large_loss_triangle)\u001b[38;5;132;01m}\u001b[39;00m\u001b[33m of \u001b[39m\u001b[38;5;132;01m{\u001b[39;00m\u001b[38;5;28mlen\u001b[39m(test_triangle)\u001b[38;5;132;01m}\u001b[39;00m\u001b[33m\"\u001b[39m)\n\u001b[32m     12\u001b[39m \u001b[38;5;66;03m# Plot the filtered data\u001b[39;00m\n",
      "\u001b[36mFile \u001b[39m\u001b[32m~/envs/bermuda-crls/lib/python3.11/site-packages/bermuda/triangle.py:648\u001b[39m, in \u001b[36mTriangle.filter\u001b[39m\u001b[34m(self, predicate)\u001b[39m\n\u001b[32m    642\u001b[39m \u001b[38;5;28;01mdef\u001b[39;00m\u001b[38;5;250m \u001b[39m\u001b[34mfilter\u001b[39m(\u001b[38;5;28mself\u001b[39m, predicate: Callable[[Cell], \u001b[38;5;28mbool\u001b[39m]) -> Triangle:\n\u001b[32m    643\u001b[39m \u001b[38;5;250m    \u001b[39m\u001b[33;03m\"\"\"Create a new `Triangle` with only the cells that satisfy the predicate.\u001b[39;00m\n\u001b[32m    644\u001b[39m \n\u001b[32m    645\u001b[39m \u001b[33;03m    Args:\u001b[39;00m\n\u001b[32m    646\u001b[39m \u001b[33;03m        predicate: A function that accepts a `Cell` and returns a `boolean`.\u001b[39;00m\n\u001b[32m    647\u001b[39m \u001b[33;03m    \"\"\"\u001b[39;00m\n\u001b[32m--> \u001b[39m\u001b[32m648\u001b[39m     \u001b[38;5;28;01mreturn\u001b[39;00m Triangle(\u001b[38;5;28;43mlist\u001b[39;49m\u001b[43m(\u001b[49m\u001b[38;5;28;43mfilter\u001b[39;49m\u001b[43m(\u001b[49m\u001b[43mpredicate\u001b[49m\u001b[43m,\u001b[49m\u001b[43m \u001b[49m\u001b[38;5;28;43mself\u001b[39;49m\u001b[43m.\u001b[49m\u001b[43m_cells\u001b[49m\u001b[43m)\u001b[49m\u001b[43m)\u001b[49m)\n",
      "\u001b[36mCell\u001b[39m\u001b[36m \u001b[39m\u001b[32mIn[26]\u001b[39m\u001b[32m, line 9\u001b[39m, in \u001b[36m<lambda>\u001b[39m\u001b[34m(cell)\u001b[39m\n\u001b[32m      6\u001b[39m median_loss = \u001b[38;5;28msorted\u001b[39m(all_paid_losses)[\u001b[38;5;28mlen\u001b[39m(all_paid_losses)//\u001b[32m2\u001b[39m]\n\u001b[32m      7\u001b[39m \u001b[38;5;28mprint\u001b[39m(\u001b[33mf\u001b[39m\u001b[33m\"\u001b[39m\u001b[33mMedian paid loss: $\u001b[39m\u001b[38;5;132;01m{\u001b[39;00mmedian_loss\u001b[38;5;132;01m:\u001b[39;00m\u001b[33m,.0f\u001b[39m\u001b[38;5;132;01m}\u001b[39;00m\u001b[33m\"\u001b[39m)\n\u001b[32m----> \u001b[39m\u001b[32m9\u001b[39m large_loss_triangle = test_triangle.filter(\u001b[38;5;28;01mlambda\u001b[39;00m cell: \u001b[43mcell\u001b[49m\u001b[43m.\u001b[49m\u001b[43mget\u001b[49m(\u001b[33m'\u001b[39m\u001b[33mpaid_loss\u001b[39m\u001b[33m'\u001b[39m, \u001b[32m0\u001b[39m) > median_loss)\n\u001b[32m     10\u001b[39m \u001b[38;5;28mprint\u001b[39m(\u001b[33mf\u001b[39m\u001b[33m\"\u001b[39m\u001b[33mCells with above-median losses: \u001b[39m\u001b[38;5;132;01m{\u001b[39;00m\u001b[38;5;28mlen\u001b[39m(large_loss_triangle)\u001b[38;5;132;01m}\u001b[39;00m\u001b[33m of \u001b[39m\u001b[38;5;132;01m{\u001b[39;00m\u001b[38;5;28mlen\u001b[39m(test_triangle)\u001b[38;5;132;01m}\u001b[39;00m\u001b[33m\"\u001b[39m)\n\u001b[32m     12\u001b[39m \u001b[38;5;66;03m# Plot the filtered data\u001b[39;00m\n",
      "\u001b[31mAttributeError\u001b[39m: 'CumulativeCell' object has no attribute 'get'"
     ]
    }
   ],
   "source": [
    "# Filter for significant losses (if paid_loss field exists)\n",
    "if 'paid_loss' in test_triangle.fields:\n",
    "    # Find cells with paid loss > median\n",
    "    all_paid_losses = [cell['paid_loss'] for cell in test_triangle if 'paid_loss' in cell.values and cell['paid_loss'] is not None]\n",
    "    if all_paid_losses:\n",
    "        median_loss = sorted(all_paid_losses)[len(all_paid_losses)//2]\n",
    "        print(f\"Median paid loss: ${median_loss:,.0f}\")\n",
    "        \n",
    "        large_loss_triangle = test_triangle.filter(lambda cell: cell.get('paid_loss', 0) > median_loss)\n",
    "        print(f\"Cells with above-median losses: {len(large_loss_triangle)} of {len(test_triangle)}\")\n",
    "        \n",
    "        # Plot the filtered data\n",
    "        if len(large_loss_triangle) > 0:\n",
    "            large_loss_completeness = large_loss_triangle.plot_data_completeness()\n",
    "            large_loss_completeness\n",
    "else:\n",
    "    print(\"No paid_loss field found for filtering demonstration\")"
   ]
  },
  {
   "cell_type": "markdown",
   "metadata": {},
   "source": [
    "## 5. Checking for Disjoint Triangles\n",
    "\n",
    "Disjoint triangles have gaps in their data. Let's examine this characteristic."
   ]
  },
  {
   "cell_type": "code",
   "execution_count": 27,
   "metadata": {},
   "outputs": [
    {
     "ename": "AttributeError",
     "evalue": "'Triangle' object has no attribute 'category'",
     "output_type": "error",
     "traceback": [
      "\u001b[31m---------------------------------------------------------------------------\u001b[39m",
      "\u001b[31mAttributeError\u001b[39m                            Traceback (most recent call last)",
      "\u001b[36mCell\u001b[39m\u001b[36m \u001b[39m\u001b[32mIn[27]\u001b[39m\u001b[32m, line 2\u001b[39m\n\u001b[32m      1\u001b[39m \u001b[38;5;66;03m# Check triangle regularity\u001b[39;00m\n\u001b[32m----> \u001b[39m\u001b[32m2\u001b[39m \u001b[38;5;28mprint\u001b[39m(\u001b[33mf\u001b[39m\u001b[33m\"\u001b[39m\u001b[33mTriangle category: \u001b[39m\u001b[38;5;132;01m{\u001b[39;00m\u001b[43mtest_triangle\u001b[49m\u001b[43m.\u001b[49m\u001b[43mcategory\u001b[49m\u001b[38;5;132;01m}\u001b[39;00m\u001b[33m\"\u001b[39m)\n\u001b[32m      3\u001b[39m \u001b[38;5;28mprint\u001b[39m(\u001b[33mf\u001b[39m\u001b[33m\"\u001b[39m\u001b[33mIs regular triangle: \u001b[39m\u001b[38;5;132;01m{\u001b[39;00mtest_triangle.category\u001b[38;5;250m \u001b[39m==\u001b[38;5;250m \u001b[39m\u001b[33m'\u001b[39m\u001b[33mRegular\u001b[39m\u001b[33m'\u001b[39m\u001b[38;5;132;01m}\u001b[39;00m\u001b[33m\"\u001b[39m)\n\u001b[32m      4\u001b[39m \u001b[38;5;28mprint\u001b[39m(\u001b[33mf\u001b[39m\u001b[33m\"\u001b[39m\u001b[33mIs disjoint: \u001b[39m\u001b[38;5;132;01m{\u001b[39;00mtest_triangle.category\u001b[38;5;250m \u001b[39m\u001b[38;5;129;01min\u001b[39;00m\u001b[38;5;250m \u001b[39m[\u001b[33m'\u001b[39m\u001b[33mIrregular\u001b[39m\u001b[33m'\u001b[39m,\u001b[38;5;250m \u001b[39m\u001b[33m'\u001b[39m\u001b[33mErratic\u001b[39m\u001b[33m'\u001b[39m]\u001b[38;5;132;01m}\u001b[39;00m\u001b[33m\"\u001b[39m)\n",
      "\u001b[31mAttributeError\u001b[39m: 'Triangle' object has no attribute 'category'"
     ]
    }
   ],
   "source": [
    "# Check triangle regularity\n",
    "print(f\"Triangle category: {test_triangle.category}\")\n",
    "print(f\"Is regular triangle: {test_triangle.category == 'Regular'}\")\n",
    "print(f\"Is disjoint: {test_triangle.category in ['Irregular', 'Erratic']}\")\n",
    "\n",
    "# For demonstration, create a disjoint triangle by filtering\n",
    "if len(test_triangle) > 100:\n",
    "    # Create an artificially sparse triangle\n",
    "    sparse_triangle = test_triangle.filter(lambda cell: hash(str(cell.period_start)) % 3 == 0)\n",
    "    print(f\"\\nCreated sparse triangle: {len(sparse_triangle)} cells (vs {len(test_triangle)} original)\")\n",
    "    print(f\"Sparse triangle category: {sparse_triangle.category}\")\n",
    "    \n",
    "    # Plot the sparse triangle to show disjoint nature\n",
    "    sparse_completeness = sparse_triangle.plot_data_completeness()\n",
    "    sparse_completeness"
   ]
  },
  {
   "cell_type": "markdown",
   "metadata": {},
   "source": [
    "## 6. Advanced Visualization\n",
    "\n",
    "Let's explore some of the built-in visualization capabilities."
   ]
  },
  {
   "cell_type": "code",
   "execution_count": 28,
   "metadata": {},
   "outputs": [],
   "source": [
    "# Right edge progression chart\n",
    "if len(test_triangle.right_edge) > 5:\n",
    "    right_edge_chart = test_triangle.plot_right_edge()\n",
    "    right_edge_chart"
   ]
  },
  {
   "cell_type": "code",
   "execution_count": 53,
   "metadata": {},
   "outputs": [
    {
     "data": {
      "text/plain": [
       "{Metadata(risk_basis='Accident', country=None, currency=None, reinsurance_basis='Gross', loss_definition='Loss+DCC', per_occurrence_limit=None, details={'line_of_busines': 'GL'}, loss_details={}):        Cumulative Triangle \n",
       " \n",
       " \n",
       "  Number of slices:  1 \n",
       "  Number of cells:  406 \n",
       "  Triangle category:  Regular \n",
       "  Experience range:  1992-01-01/2019-12-31 \n",
       "  Experience resolution:  12 \n",
       "  Evaluation range:  1992-12-31/2019-12-31 \n",
       "  Evaluation resolution:  12 \n",
       "  Dev Lag range:  0.0 - 324.0 months \n",
       "  Fields: \n",
       "    paid_loss\n",
       "    reported_loss\n",
       "  Optional Fields: \n",
       "    earned_premium (73.9% coverage)\n",
       "  Common Metadata: \n",
       "    risk_basis  Accident \n",
       "    reinsurance_basis  Gross \n",
       "    loss_definition  Loss+DCC \n",
       "    line_of_busines  GL \n",
       " }"
      ]
     },
     "execution_count": 53,
     "metadata": {},
     "output_type": "execute_result"
    }
   ],
   "source": [
    "test_triangle.slices"
   ]
  },
  {
   "cell_type": "code",
   "execution_count": 29,
   "metadata": {},
   "outputs": [
    {
     "name": "stdout",
     "output_type": "stream",
     "text": [
      "Triangle size (5442 cells) not suitable for detailed visualization\n"
     ]
    }
   ],
   "source": [
    "# If we have a smaller triangle suitable for detailed visualization\n",
    "if len(test_triangle) < 1000 and len(test_triangle) > 50:\n",
    "    try:\n",
    "        # Mountain chart shows development patterns\n",
    "        mountain_chart = test_triangle.plot_mountain()\n",
    "        mountain_chart\n",
    "    except Exception as e:\n",
    "        print(f\"Mountain chart not available: {e}\")\n",
    "\n",
    "    try:\n",
    "        # Ballistic chart shows loss development trajectories  \n",
    "        ballistic_chart = test_triangle.plot_ballistic()\n",
    "        ballistic_chart\n",
    "    except Exception as e:\n",
    "        print(f\"Ballistic chart not available: {e}\")\n",
    "else:\n",
    "    print(f\"Triangle size ({len(test_triangle)} cells) not suitable for detailed visualization\")"
   ]
  },
  {
   "cell_type": "markdown",
   "metadata": {},
   "source": [
    "## 7. Multi-Slice Triangles\n",
    "\n",
    "If our triangle contains multiple slices (different segments), we can analyze them separately."
   ]
  },
  {
   "cell_type": "code",
   "execution_count": 54,
   "metadata": {},
   "outputs": [
    {
     "name": "stdout",
     "output_type": "stream",
     "text": [
      "Number of slices: 1\n",
      "Triangle contains a single slice\n"
     ]
    },
    {
     "ename": "TypeError",
     "evalue": "'Metadata' object is not iterable",
     "output_type": "error",
     "traceback": [
      "\u001b[31m---------------------------------------------------------------------------\u001b[39m",
      "\u001b[31mTypeError\u001b[39m                                 Traceback (most recent call last)",
      "\u001b[36mCell\u001b[39m\u001b[36m \u001b[39m\u001b[32mIn[54]\u001b[39m\u001b[32m, line 19\u001b[39m\n\u001b[32m     17\u001b[39m \u001b[38;5;28;01melse\u001b[39;00m:\n\u001b[32m     18\u001b[39m     \u001b[38;5;28mprint\u001b[39m(\u001b[33m\"\u001b[39m\u001b[33mTriangle contains a single slice\u001b[39m\u001b[33m\"\u001b[39m)\n\u001b[32m---> \u001b[39m\u001b[32m19\u001b[39m     \u001b[38;5;28mprint\u001b[39m(\u001b[33mf\u001b[39m\u001b[33m\"\u001b[39m\u001b[33mCommon metadata: \u001b[39m\u001b[38;5;132;01m{\u001b[39;00m\u001b[38;5;28;43mdict\u001b[39;49m\u001b[43m(\u001b[49m\u001b[43mtest_triangle\u001b[49m\u001b[43m.\u001b[49m\u001b[43mcommon_metadata\u001b[49m\u001b[43m)\u001b[49m\u001b[38;5;132;01m}\u001b[39;00m\u001b[33m\"\u001b[39m)\n",
      "\u001b[31mTypeError\u001b[39m: 'Metadata' object is not iterable"
     ]
    }
   ],
   "source": [
    "# Examine triangle slices\n",
    "print(f\"Number of slices: {len(test_triangle.slices)}\")\n",
    "\n",
    "if len(test_triangle.slices) > 1:\n",
    "    print(\"\\nSlice details:\")\n",
    "    for i, slice_obj in enumerate(test_triangle.slices[:3]):  # Show first 3 slices\n",
    "        print(f\"  Slice {i+1}: {len(slice_obj)} cells\")\n",
    "        if hasattr(slice_obj, 'metadata') and slice_obj.metadata:\n",
    "            print(f\"    Metadata: {dict(slice_obj.metadata)}\")\n",
    "    \n",
    "    # Plot multi-slice right edge if available\n",
    "    try:\n",
    "        multi_slice_chart = test_triangle.plot_right_edge()\n",
    "        multi_slice_chart\n",
    "    except Exception as e:\n",
    "        print(f\"Multi-slice visualization not available: {e}\")\n",
    "else:\n",
    "    print(\"Triangle contains a single slice\")\n",
    "    print(f\"Common metadata: {dict(test_triangle.common_metadata)}\")"
   ]
  },
  {
   "cell_type": "markdown",
   "metadata": {},
   "source": [
    "## Summary\n",
    "\n",
    "This notebook has demonstrated the key concepts of the Bermuda library:\n",
    "\n",
    "1. **Triangles** - The main data structure for loss development data\n",
    "2. **Cells** - Individual data points that can be cumulative or incremental\n",
    "3. **Slicing** - Extracting subsets of data by period, evaluation date, or custom criteria\n",
    "4. **Clipping** - Restricting triangles to specific date ranges\n",
    "5. **Filtering** - Applying custom logic to select cells\n",
    "6. **Data Completeness** - Understanding the shape and coverage of your data\n",
    "7. **Ledger Conventions** - Dev-lag 0 = period_end for consistent development measurement\n",
    "8. **Disjoint Triangles** - Handling irregular or sparse data patterns\n",
    "\n",
    "The test triangle data provides a real-world example of how these concepts work with actual insurance loss development data."
   ]
  }
 ],
 "metadata": {
  "kernelspec": {
   "display_name": "bermuda-clrs-2025",
   "language": "python",
   "name": "env"
  },
  "language_info": {
   "codemirror_mode": {
    "name": "ipython",
    "version": 3
   },
   "file_extension": ".py",
   "mimetype": "text/x-python",
   "name": "python",
   "nbconvert_exporter": "python",
   "pygments_lexer": "ipython3",
   "version": "3.13.0"
  }
 },
 "nbformat": 4,
 "nbformat_minor": 4
}
