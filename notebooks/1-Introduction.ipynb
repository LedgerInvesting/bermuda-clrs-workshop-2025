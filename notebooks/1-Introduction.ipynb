{
 "cells": [
  {
   "cell_type": "markdown",
   "id": "0560945a-9be0-46fb-af79-abdad4dc3009",
   "metadata": {
    "editable": true,
    "slideshow": {
     "slide_type": "slide"
    },
    "tags": []
   },
   "source": [
    "# Bermuda - A Python Library for Insurance Triangles"
   ]
  },
  {
   "cell_type": "markdown",
   "id": "0cc199a2-0a21-4743-af99-cc58162b28c9",
   "metadata": {
    "editable": true,
    "slideshow": {
     "slide_type": "slide"
    },
    "tags": []
   },
   "source": [
    "## Ledger Investing\n",
    "- Ledger provides investors and risk originators with an open platform offering an integrated suite of financial products.\n",
    "- Started out as an ILS Broker, now turning our tools into an open platform for the broader industry."
   ]
  },
  {
   "cell_type": "markdown",
   "id": "d3c6f2de-fbcc-4500-848a-d9ad3b60ae01",
   "metadata": {
    "editable": true,
    "slideshow": {
     "slide_type": "slide"
    },
    "tags": []
   },
   "source": [
    "## Modeling ILS\n",
    "- We make insurance risks transparent to investors.\n",
    "- Translate expected loss ratios to financial metrics that investors understand.\n",
    "- But first we need an expected loss ratio.\n",
    "- To get that we need to look at some triangle data."
   ]
  },
  {
   "cell_type": "markdown",
   "id": "a403478c-878f-41f9-a3d1-c164a3d8cd8d",
   "metadata": {
    "editable": true,
    "slideshow": {
     "slide_type": "slide"
    },
    "tags": []
   },
   "source": [
    "## Risk Originator Triangle Data\n",
    "- Over the years of modeling ILS we've seen triangle data from dozens of risk originators\n",
    "- So what, a triangle is a triangle right? That's what we thought at first..."
   ]
  },
  {
   "cell_type": "markdown",
   "id": "dcc459e9-fda1-484f-9a57-76f33a29ea76",
   "metadata": {
    "editable": true,
    "slideshow": {
     "slide_type": "slide"
    },
    "tags": []
   },
   "source": [
    "## Triangle Data Formats"
   ]
  },
  {
   "cell_type": "markdown",
   "id": "da1f7c2b-f059-4d5f-bd9b-961bd40a7b99",
   "metadata": {
    "editable": true,
    "slideshow": {
     "slide_type": "slide"
    },
    "tags": []
   },
   "source": [
    "## Traditional Format\n",
    "\n",
    "| Accident Year | AY+0    | AY+1    | AY+2    | AY+3    |\n",
    "| ------------- | ------- | ------- | ------- | ------- |\n",
    "| 1988          | 952000  | 1529000 | 2813000 | 3647000 |\n",
    "| 1989          | 849000  | 1564000 | 2202000 |         |\n",
    "| 1990          | 983000  | 2211000 |         |         |\n",
    "| 1991          | 1657000 |         |"
   ]
  },
  {
   "cell_type": "markdown",
   "id": "8cc45397-9dfe-47f4-a89c-a40056504037",
   "metadata": {
    "editable": true,
    "slideshow": {
     "slide_type": "slide"
    },
    "tags": []
   },
   "source": [
    "## Traditional Evaluation Date Format\n",
    "| Accident Year | 1988    | 1989    | 1990    | 1991    |\n",
    "| ------------- | ------- | ------- | ------- | ------- |\n",
    "| 1988          | 952000  | 1529000 | 2813000 | 3647000 |\n",
    "| 1989          |         | 849000  | 1564000 | 2202000 |\n",
    "| 1990          |         |         | 983000  | 2211000 |\n",
    "| 1991          |         |         |         | 1657000 |"
   ]
  },
  {
   "cell_type": "markdown",
   "id": "f431d80e-2721-4f6c-9821-cdc2821b1d0a",
   "metadata": {
    "editable": true,
    "slideshow": {
     "slide_type": "slide"
    },
    "tags": []
   },
   "source": [
    "## Tabular Triangles\n",
    "| Experience Start | Experience End | Evaluation Date | Paid Loss | Reported Loss |\n",
    "| ---------------- | -------------- | --------------- | --------- | ------------- |\n",
    "| 1988-01-01       | 1988-12-31     | 1988-12-31      | 952000    | 1722000       |\n",
    "| 1988-01-01       | 1988-12-31     | 1989-12-31      | 1529000   | 3830000       |\n",
    "| 1988-01-01       | 1988-12-31     | 1990-12-31      | 2813000   | 3603000       |\n",
    "| 1988-01-01       | 1988-12-31     | 1991-12-31      | 3647000   | 3835000       |\n",
    "\n",
    "- Multiple metrics in a single table\n",
    "- Precise dates, including period length\n",
    "- No ambiguous development lag definition\n",
    "- Able to handle ugly loss triangles"
   ]
  },
  {
   "cell_type": "markdown",
   "id": "87d47dc5-0e8f-44b3-b611-8ba331ae738c",
   "metadata": {
    "editable": true,
    "slideshow": {
     "slide_type": "slide"
    },
    "tags": []
   },
   "source": [
    "## Taxonomy of Unusual Loss Triangles\n",
    "- There are various ways a triangle can violate the usual actuarial assumptions about typical triangles\n",
    "- After seeing many of these violations we've found it useful to name these deficiencies"
   ]
  },
  {
   "cell_type": "markdown",
   "id": "50123886-539e-4e13-8a5b-a59e87002572",
   "metadata": {
    "editable": true,
    "slideshow": {
     "slide_type": "slide"
    },
    "tags": []
   },
   "source": [
    "## Square Triangles\n",
    "- A *square* triangle has the same amount of time between successive experience periods as between successive evaluation dates.\n",
    "- Here is a non-square triangle where evaluation dates are 0.5 years apart, but experience periods are 1 year apart.\n",
    "\n",
    "| Accident Year | AY+0    | AY+0.5    | AY+1    | AY+1.5    |\n",
    "| ------------- | ------- | ------- | ------- | ------- |\n",
    "| 1988          | 952000  | 1329000 | 1529000 | 2813000 |\n",
    "| 1989          | 849000  | 1264000 | 1564000 |     2202000    |\n",
    "| 1990          | 983000  | 1511000 |  2211000      |         |\n",
    "| 1991          | 1657000 |         |"
   ]
  },
  {
   "cell_type": "markdown",
   "id": "5548a653-c6e8-4b70-a3bd-68c2ff32f79c",
   "metadata": {
    "editable": true,
    "slideshow": {
     "slide_type": "slide"
    },
    "tags": []
   },
   "source": [
    "## Complete Triangles\n",
    "- A complete triangle has observations at every cell, except for cases where a cell’s evaluation date is greater than the maximum evaluation date in the triangle. An incomplete triangle has some cells with missing observations.\n",
    "\n",
    "| Accident Year | AY+0    | AY+1    | AY+2    | AY+3    |\n",
    "| ------------- | ------- | ------- | ------- | ------- |\n",
    "| 1988          | 952000  | 1529000 | 2813000 | 3647000 |\n",
    "| 1989          | 849000  |  |  |         |\n",
    "| 1990          | 983000  | 2211000 |         |         |\n",
    "| 1991          | 1657000 |         |"
   ]
  },
  {
   "cell_type": "markdown",
   "id": "99b05a59-2446-4a59-9e14-f7e2486c6819",
   "metadata": {
    "editable": true,
    "slideshow": {
     "slide_type": "slide"
    },
    "tags": []
   },
   "source": [
    "# Regular Triangles\n",
    "- A regular triangle has the same length for every experience period, and the same interval of time between successive evaluation dates or development lags.\n",
    "- A semi-regular triangle has every experience period the same length, but the interval of time between successive evaluation dates or development lags is inconsistent.\n",
    "- An irregular triangle has inconsistent experience periods.\n",
    "\n",
    "| Accident Year | AY+0    | AY+1    | AY+2    | AY+3    |\n",
    "| ------------- | ------- | ------- | ------- | ------- |\n",
    "| 1988          | 952000  | 1529000 | 2813000 | 3647000 |\n",
    "| 1989          | 849000  | 1564000 | 2202000 |         |\n",
    "| 1990H1          | 983000  | 2211000 |         |         |\n",
    "| 1990H2          | 983000  | 2211000 |         |         |\n",
    "| 1991H1          | 1657000 |         |\n",
    "| 1991H2          | 1657000 |         |\n",
    "\n",
    "- Many models can handle semi-regular triangles, but no irregular ones"
   ]
  },
  {
   "cell_type": "markdown",
   "id": "511a0155-2947-409e-86ab-00b125195fd3",
   "metadata": {
    "editable": true,
    "slideshow": {
     "slide_type": "slide"
    },
    "tags": []
   },
   "source": [
    "# Erratic Triangles\n",
    "- An erratic triangle has evaluation periods that are not strictly disjoint.\n",
    "| Experience Start | Experience End | Evaluation Date | Paid Loss | Reported Loss |\n",
    "| ---------------- | -------------- | --------------- | --------- | ------------- |\n",
    "| 1988-01-01       | 1989-06-30     | 1988-12-31      | 952000    | 1722000       |\n",
    "| 1988-01-01       | 1989-06-30     | 1989-12-31      | 1529000   | 3830000       |\n",
    "| 1988-01-01       | 1989-06-30     | 1990-12-31      | 2813000   | 3603000       |\n",
    "| 1989-01-01       | 1989-12-31     | 1989-12-31      | 952000    | 1722000       |\n",
    "\n",
    "- Breaks i.i.d assumptions of experience periods in most models"
   ]
  },
  {
   "cell_type": "markdown",
   "id": "b36407bf-fa32-4f7d-8985-72d997bd9c91",
   "metadata": {
    "editable": true,
    "slideshow": {
     "slide_type": "slide"
    },
    "tags": []
   },
   "source": [
    "## So What?\n",
    "- These triangles exist in the real world - has anyone here seen this stuff before? Other issues you encounter?\n",
    "- In general, we don't have the luxury of saying \"this violates my assumptions, I'm just not going to work with this triangle\"\n",
    "- Many existing tools for working with triangle data won't allow you to work with triangles with these unusual issues."
   ]
  },
  {
   "cell_type": "markdown",
   "id": "cdf4c244-22a8-4c56-9bd8-009527f7d0c3",
   "metadata": {
    "editable": true,
    "slideshow": {
     "slide_type": "slide"
    },
    "tags": []
   },
   "source": [
    "## Bermuda\n",
    "- We built a tool called Bermuda to address the following\n",
    "  1. We want to be able to represent any of these problem triangle formats as python objects\n",
    "  2. We have a bayesian modeling framework where a single traingle cell might contain not just 1, but n samples of possible predicted values\n",
    "  3. We want to store triangle metadata directly in the triangle object\n",
    "  4. We want extensive triangle plotting out-of-the-box for rapid triangle EDA"
   ]
  },
  {
   "cell_type": "markdown",
   "id": "222bb8a1-39cd-46fa-a70c-38bf3cbde471",
   "metadata": {
    "editable": true,
    "slideshow": {
     "slide_type": "slide"
    },
    "tags": []
   },
   "source": [
    "![My image](data/antitrust_notice.png)"
   ]
  },
  {
   "cell_type": "code",
   "execution_count": null,
   "id": "ba650eea-a7a4-45c8-9b0a-55298cca1909",
   "metadata": {
    "editable": true,
    "slideshow": {
     "slide_type": ""
    },
    "tags": []
   },
   "outputs": [],
   "source": []
  }
 ],
 "metadata": {
  "kernelspec": {
   "display_name": "bermuda-clrs-2025",
   "language": "python",
   "name": "env"
  },
  "language_info": {
   "codemirror_mode": {
    "name": "ipython",
    "version": 3
   },
   "file_extension": ".py",
   "mimetype": "text/x-python",
   "name": "python",
   "nbconvert_exporter": "python",
   "pygments_lexer": "ipython3",
   "version": "3.13.0"
  }
 },
 "nbformat": 4,
 "nbformat_minor": 5
}
