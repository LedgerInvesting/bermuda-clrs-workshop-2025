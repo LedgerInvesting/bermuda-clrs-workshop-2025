{
 "cells": [
  {
   "cell_type": "markdown",
   "id": "0560945a-9be0-46fb-af79-abdad4dc3009",
   "metadata": {
    "editable": true,
    "slideshow": {
     "slide_type": "slide"
    },
    "tags": []
   },
   "source": [
    "# Bermuda  \n",
    "### A Python Library for Insurance Triangle Modeling\n",
    "#### Kyle Safran and Brian Austin"
   ]
  },
  {
   "cell_type": "markdown",
   "id": "5497ca99-dd6c-4688-8c31-0455736a04e0",
   "metadata": {
    "editable": true,
    "slideshow": {
     "slide_type": "slide"
    },
    "tags": []
   },
   "source": [
    "# Workshop Agenda  \n",
    "### Bermuda: A Python Library for Insurance Triangles\n",
    "\n",
    "1. Introduction & Motivation  \n",
    "2. Bermuda Concepts  \n",
    "3. Triangle Ingestion  \n",
    "4. Coffee Break / One-on-One Help  \n",
    "5. Plotting with Bermuda  \n",
    "6. MCP Integration  \n",
    "7. Advanced Features  \n",
    "8. Korra Workbench  \n",
    "9. Valuation Walkthrough  \n",
    "10. Q&A"
   ]
  },
  {
   "cell_type": "markdown",
   "id": "0cc199a2-0a21-4743-af99-cc58162b28c9",
   "metadata": {
    "editable": true,
    "slideshow": {
     "slide_type": "slide"
    },
    "tags": []
   },
   "source": [
    "## Ledger Investing\n",
    "- Specialists in **casualty insurance securitization** — making insurance risk **transparent** and **accessible** to capital providers.\n",
    "- We provide an **open platform** that connects investors and risk originators through an **integrated suite of financial products**."
   ]
  },
  {
   "cell_type": "markdown",
   "id": "d3c6f2de-fbcc-4500-848a-d9ad3b60ae01",
   "metadata": {
    "editable": true,
    "slideshow": {
     "slide_type": "slide"
    },
    "tags": []
   },
   "source": [
    "## Modeling Insurance-Linked Securities (ILS)\n",
    "- Our goal: **make insurance risks transparent** to investors.\n",
    "- We translate **expected loss ratios** into **financial metrics** investors understand.\n",
    "- To get there, we first need a **robust estimate** of the expected loss ratio.\n",
    "- And for that… we start with **triangle data**."
   ]
  },
  {
   "cell_type": "markdown",
   "id": "a403478c-878f-41f9-a3d1-c164a3d8cd8d",
   "metadata": {
    "editable": true,
    "slideshow": {
     "slide_type": "slide"
    },
    "tags": []
   },
   "source": [
    "## Risk Originator Triangle Data\n",
    "- Over the years, we've analyzed triangle data from **dozens of risk originators**.\n",
    "- At first, we assumed: *“a triangle is a triangle.”*\n",
    "- But as it turns out… **triangles can get messy**."
   ]
  },
  {
   "cell_type": "markdown",
   "id": "dcc459e9-fda1-484f-9a57-76f33a29ea76",
   "metadata": {
    "editable": true,
    "slideshow": {
     "slide_type": "slide"
    },
    "tags": []
   },
   "source": [
    "## Triangle Data Formats\n",
    "- Actuarial triangle data comes in **many shapes and formats**.\n",
    "- Understanding these formats is critical before applying any modeling framework.\n"
   ]
  },
  {
   "cell_type": "markdown",
   "id": "da1f7c2b-f059-4d5f-bd9b-961bd40a7b99",
   "metadata": {
    "editable": true,
    "slideshow": {
     "slide_type": "slide"
    },
    "tags": []
   },
   "source": [
    "## Traditional Format\n",
    "\n",
    "| Accident Year | AY+0    | AY+1    | AY+2    | AY+3    |\n",
    "| ------------- | ------- | ------- | ------- | ------- |\n",
    "| 1988          | 952000  | 1529000 | 2813000 | 3647000 |\n",
    "| 1989          | 849000  | 1564000 | 2202000 |         |\n",
    "| 1990          | 983000  | 2211000 |         |         |\n",
    "| 1991          | 1657000 |         |"
   ]
  },
  {
   "cell_type": "markdown",
   "id": "8cc45397-9dfe-47f4-a89c-a40056504037",
   "metadata": {
    "editable": true,
    "slideshow": {
     "slide_type": "slide"
    },
    "tags": []
   },
   "source": [
    "## Traditional Evaluation Date Format\n",
    "| Accident Year | 1988    | 1989    | 1990    | 1991    |\n",
    "| ------------- | ------- | ------- | ------- | ------- |\n",
    "| 1988          | 952000  | 1529000 | 2813000 | 3647000 |\n",
    "| 1989          |         | 849000  | 1564000 | 2202000 |\n",
    "| 1990          |         |         | 983000  | 2211000 |\n",
    "| 1991          |         |         |         | 1657000 |"
   ]
  },
  {
   "cell_type": "markdown",
   "id": "f431d80e-2721-4f6c-9821-cdc2821b1d0a",
   "metadata": {
    "editable": true,
    "slideshow": {
     "slide_type": "slide"
    },
    "tags": []
   },
   "source": [
    "## Tabular Triangles\n",
    "| Experience Start | Experience End | Evaluation Date | Paid Loss | Reported Loss |\n",
    "| ---------------- | -------------- | --------------- | --------- | ------------- |\n",
    "| 1988-01-01       | 1988-12-31     | 1988-12-31      | 952000    | 1722000       |\n",
    "| 1988-01-01       | 1988-12-31     | 1989-12-31      | 1529000   | 3830000       |\n",
    "| 1988-01-01       | 1988-12-31     | 1990-12-31      | 2813000   | 3603000       |\n",
    "| 1988-01-01       | 1988-12-31     | 1991-12-31      | 3647000   | 3835000       |\n",
    "\n",
    "**Advantages:**\n",
    "- Handles **multiple metrics** in a single table.\n",
    "- Uses **precise dates** → no ambiguity in development lags.\n",
    "- Supports **uneven period lengths** and irregular triangles.\n",
    "- Better suited for **complex, real-world data**."
   ]
  },
  {
   "cell_type": "markdown",
   "id": "87d47dc5-0e8f-44b3-b611-8ba331ae738c",
   "metadata": {
    "editable": true,
    "slideshow": {
     "slide_type": "slide"
    },
    "tags": []
   },
   "source": [
    "## Taxonomy of Unusual Loss Triangles\n",
    "- In practice, many triangles **violate traditional actuarial assumptions**.\n",
    "- \"Happy **triangles** are all alike; every unhappy **triangle** is unhappy in its own way\" - Tolstoy\n",
    "- After working with **dozens of datasets**, we developed a vocabulary to classify these quirks.\n"
   ]
  },
  {
   "cell_type": "markdown",
   "id": "50123886-539e-4e13-8a5b-a59e87002572",
   "metadata": {
    "editable": true,
    "slideshow": {
     "slide_type": "slide"
    },
    "tags": []
   },
   "source": [
    "## Square vs. Non-Square Triangles\n",
    "- A **square** triangle:  \n",
    "  The time between **experience periods** = time between **evaluation dates**.\n",
    "- Non-square triangles break this symmetry.\n",
    "\n",
    "| Accident Year | AY+0    | AY+0.5    | AY+1    | AY+1.5    |\n",
    "| ------------- | ------- | ------- | ------- | ------- |\n",
    "| 1988          | 952000  | 1329000 | 1529000 | 2813000 |\n",
    "| 1989          | 849000  | 1264000 | 1564000 |     2202000    |\n",
    "| 1990          | 983000  | 1511000 |  2211000      |         |\n",
    "| 1991          | 1657000 |         |"
   ]
  },
  {
   "cell_type": "markdown",
   "id": "5548a653-c6e8-4b70-a3bd-68c2ff32f79c",
   "metadata": {
    "editable": true,
    "slideshow": {
     "slide_type": "slide"
    },
    "tags": []
   },
   "source": [
    "## Complete vs. Incomplete Triangles\n",
    "- **Complete triangle** → All cells are filled where evaluation ≤ max observed date.\n",
    "- **Incomplete triangle** → Missing cells within the observable region.\n",
    "\n",
    "| Accident Year | AY+0    | AY+1    | AY+2    | AY+3    |\n",
    "| ------------- | ------- | ------- | ------- | ------- |\n",
    "| 1988          | 952000  | 1529000 | 2813000 | 3647000 |\n",
    "| 1989          | 849000  |  |  |         |\n",
    "| 1990          | 983000  | 2211000 |         |         |\n",
    "| 1991          | 1657000 |         |"
   ]
  },
  {
   "cell_type": "markdown",
   "id": "99b05a59-2446-4a59-9e14-f7e2486c6819",
   "metadata": {
    "editable": true,
    "slideshow": {
     "slide_type": "slide"
    },
    "tags": []
   },
   "source": [
    "## Regular, Semi-Regular, and Irregular Triangles\n",
    "- **Regular** → Equal-length experience periods **and** consistent development lags.\n",
    "- **Semi-Regular** → Equal-length periods, but inconsistent development resolution.\n",
    "- **Irregular** → Inconsistent experience periods → many models break.\n",
    "\n",
    "| Accident Year | AY+0    | AY+1    | AY+2    | AY+3    |\n",
    "| ------------- | ------- | ------- | ------- | ------- |\n",
    "| 1988          | 952000  | 1529000 | 2813000 | 3647000 |\n",
    "| 1989          | 849000  | 1564000 | 2202000 |         |\n",
    "| 1990H1          | 983000  | 2211000 |         |         |\n",
    "| 1990H2          | 983000  | 2211000 |         |         |\n",
    "| 1991H1          | 1657000 |         |\n",
    "| 1991H2          | 1657000 |         |\n"
   ]
  },
  {
   "cell_type": "markdown",
   "id": "511a0155-2947-409e-86ab-00b125195fd3",
   "metadata": {
    "editable": true,
    "slideshow": {
     "slide_type": "slide"
    },
    "tags": []
   },
   "source": [
    "## Erratic Triangles\n",
    "- Occur when evaluation periods **overlap** rather than being disjoint.\n",
    "- Violates **i.i.d. assumptions** in most actuarial models.\n",
    "  \n",
    "| Experience Start | Experience End | Evaluation Date | Paid Loss | Reported Loss |\n",
    "| ---------------- | -------------- | --------------- | --------- | ------------- |\n",
    "| 1988-01-01       | 1989-06-30     | 1988-12-31      | 952000    | 1722000       |\n",
    "| 1988-01-01       | 1989-06-30     | 1989-12-31      | 1529000   | 3830000       |\n",
    "| 1988-01-01       | 1989-06-30     | 1990-12-31      | 2813000   | 3603000       |\n",
    "| 1989-01-01       | 1989-12-31     | 1989-12-31      | 952000    | 1722000       |\n"
   ]
  },
  {
   "cell_type": "markdown",
   "id": "b36407bf-fa32-4f7d-8985-72d997bd9c91",
   "metadata": {
    "editable": true,
    "slideshow": {
     "slide_type": "slide"
    },
    "tags": []
   },
   "source": [
    "## Why This Matters\n",
    "- These triangle quirks **exist in the real world** — how many of you have seen similar issues?\n",
    "- We can’t ignore these datasets just because they violate assumptions.\n",
    "- Unfortunately, **most existing tools** fail when faced with these challenges."
   ]
  },
  {
   "cell_type": "markdown",
   "id": "cdf4c244-22a8-4c56-9bd8-009527f7d0c3",
   "metadata": {
    "editable": true,
    "slideshow": {
     "slide_type": "slide"
    },
    "tags": []
   },
   "source": [
    "## Introducing Bermuda\n",
    "Bermuda was built to handle the **real-world complexity** of insurance triangle data.\n",
    "\n",
    "**Key Goals:**\n",
    "1. Represent **any** triangle format as structured Python objects.\n",
    "2. Support **Bayesian modeling** where each triangle cell can store *n* posterior samples.\n",
    "3. Embed **metadata** directly within triangle objects.\n",
    "4. Provide **built-in visualization tools** for rapid exploratory data analysis (EDA)."
   ]
  },
  {
   "cell_type": "markdown",
   "id": "222bb8a1-39cd-46fa-a70c-38bf3cbde471",
   "metadata": {
    "editable": true,
    "slideshow": {
     "slide_type": "slide"
    },
    "tags": []
   },
   "source": [
    "![My image](data/antitrust_notice.png)"
   ]
  },
  {
   "cell_type": "code",
   "execution_count": null,
   "id": "ba650eea-a7a4-45c8-9b0a-55298cca1909",
   "metadata": {
    "editable": true,
    "slideshow": {
     "slide_type": ""
    },
    "tags": []
   },
   "outputs": [],
   "source": []
  }
 ],
 "metadata": {
  "kernelspec": {
   "display_name": "bermuda-clrs-2025",
   "language": "python",
   "name": "env"
  },
  "language_info": {
   "codemirror_mode": {
    "name": "ipython",
    "version": 3
   },
   "file_extension": ".py",
   "mimetype": "text/x-python",
   "name": "python",
   "nbconvert_exporter": "python",
   "pygments_lexer": "ipython3",
   "version": "3.13.0"
  }
 },
 "nbformat": 4,
 "nbformat_minor": 5
}
