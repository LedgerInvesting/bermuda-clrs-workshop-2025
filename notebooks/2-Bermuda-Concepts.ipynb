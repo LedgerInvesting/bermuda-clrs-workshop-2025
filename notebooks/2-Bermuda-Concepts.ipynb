{
 "cells": [
  {
   "cell_type": "markdown",
   "metadata": {},
   "source": [
    "# Bermuda Concepts\n",
    "\n",
    "This notebook introduces the core concepts of the Bermuda library and demonstrates its fundamental capabilities for working with insurance loss triangles."
   ]
  },
  {
   "cell_type": "markdown",
   "metadata": {},
   "source": [
    "## Design Rationale\n",
    "\n",
    "Bermuda is designed with several key principles in mind:\n",
    "\n",
    "1. **Tabular Triangle Structure**: Unlike traditional triangle representations, Bermuda uses tabular structures that can include multiple data types in each evaluation date (paid loss, earned premium, claim counts, etc.)\n",
    "\n",
    "2. **Immutability**: Triangle objects are immutable - any modification creates a new triangle, ensuring data integrity\n",
    "\n",
    "3. **Metadata Flow**: Metadata flows from cells to triangles, allowing rich data annotation and automatic consolidation\n",
    "\n",
    "4. **Flexible Data Handling**: Support for both cumulative and incremental views, missing data, and multi-slice triangles\n",
    "\n",
    "More details at: https://ledger-investing-bermuda-ledger.readthedocs-hosted.com/en/latest/user-guide/design.html"
   ]
  },
  {
   "cell_type": "markdown",
   "metadata": {},
   "source": [
    "## Setup and Data Loading"
   ]
  },
  {
   "cell_type": "code",
   "execution_count": null,
   "metadata": {},
   "outputs": [],
   "source": [
    "import bermuda as tri\n",
    "import altair as alt\n",
    "from datetime import date\n",
    "import numpy as np\n",
    "\n",
    "# Enable HTML rendering for charts\n",
    "alt.renderers.enable(\"html\")"
   ]
  },
  {
   "cell_type": "code",
   "execution_count": null,
   "metadata": {},
   "outputs": [],
   "source": [
    "# Load the built-in Meyers triangle data\n",
    "triangle = tri.meyers_tri\n",
    "print(triangle)"
   ]
  },
  {
   "cell_type": "markdown",
   "metadata": {},
   "source": [
    "## Cells and Triangles\n",
    "\n",
    "### Understanding Cells\n",
    "\n",
    "Cells are the fundamental building blocks of triangles. Each cell represents a single evaluation of losses for a specific experience period."
   ]
  },
  {
   "cell_type": "code",
   "execution_count": null,
   "metadata": {},
   "outputs": [],
   "source": [
    "# Examine a single cell\n",
    "first_cell = triangle[0]\n",
    "print(\"First cell in triangle:\")\n",
    "print(first_cell)\n",
    "print()\n",
    "print(\"Cell components:\")\n",
    "print(f\"  Period: {first_cell.period_start} to {first_cell.period_end}\")\n",
    "print(f\"  Evaluation date: {first_cell.evaluation_date}\")\n",
    "print(f\"  Values: {first_cell.values}\")\n",
    "print(f\"  Metadata: {first_cell.metadata}\")"
   ]
  },
  {
   "cell_type": "markdown",
   "metadata": {},
   "source": [
    "### Building Up to Triangles\n",
    "\n",
    "Triangles are collections of cells organized by experience periods and evaluation dates. Metadata flows through cells to consolidate at the triangle level."
   ]
  },
  {
   "cell_type": "code",
   "execution_count": null,
   "metadata": {},
   "outputs": [],
   "source": [
    "# Demonstrate metadata consolidation\n",
    "print(\"Triangle-level metadata consolidation:\")\n",
    "print(f\"  Number of cells: {len(triangle)}\")\n",
    "print(f\"  Fields present: {triangle.fields}\")\n",
    "print(f\"  Common metadata: {triangle.common_metadata}\")"
   ]
  },
  {
   "cell_type": "code",
   "execution_count": null,
   "metadata": {},
   "outputs": [],
   "source": [
    "# Demonstrate what happens when data is missing\n",
    "# Create a triangle with missing earned_premium in some cells\n",
    "cells_with_missing = []\n",
    "for i, cell in enumerate(triangle):\n",
    "    if i % 5 == 0:  # Remove earned_premium from every 5th cell\n",
    "        new_values = {k: v for k, v in cell.values.items() if k != 'earned_premium'}\n",
    "        new_cell = tri.CumulativeCell(\n",
    "            period_start=cell.period_start,\n",
    "            period_end=cell.period_end,\n",
    "            evaluation_date=cell.evaluation_date,\n",
    "            values=new_values,\n",
    "            metadata=cell.metadata\n",
    "        )\n",
    "        cells_with_missing.append(new_cell)\n",
    "    else:\n",
    "        cells_with_missing.append(cell)\n",
    "\n",
    "triangle_with_missing = tri.Triangle(cells_with_missing)\n",
    "print(\"Triangle with missing data:\")\n",
    "print(triangle_with_missing)\n",
    "print(\"\\nNotice 'earned_premium' now shows as optional with coverage percentage\")"
   ]
  },
  {
   "cell_type": "markdown",
   "metadata": {},
   "source": [
    "### Demonstrating Immutability\n",
    "\n",
    "Triangles are immutable - modifications create new triangle objects"
   ]
  },
  {
   "cell_type": "code",
   "execution_count": null,
   "metadata": {},
   "outputs": [],
   "source": [
    "# Original triangle remains unchanged\n",
    "print(f\"Original triangle ID: {id(triangle)}\")\n",
    "print(f\"Original has {len(triangle)} cells\")\n",
    "\n",
    "# Create a filtered triangle\n",
    "filtered = triangle.filter(lambda cell: cell.period_start.year >= 1990)\n",
    "print(f\"\\nFiltered triangle ID: {id(filtered)}\")\n",
    "print(f\"Filtered has {len(filtered)} cells\")\n",
    "\n",
    "print(\"\\nOriginal triangle is unchanged - immutability preserved!\")"
   ]
  },
  {
   "cell_type": "markdown",
   "metadata": {},
   "source": [
    "## Triangle Components\n",
    "\n",
    "### Experience Range and Resolution"
   ]
  },
  {
   "cell_type": "code",
   "execution_count": null,
   "metadata": {},
   "outputs": [],
   "source": [
    "# Examine experience periods\n",
    "print(\"Experience range and resolution:\")\n",
    "print(f\"  Range: {triangle.periods[0][0]} to {triangle.periods[-1][1]}\")\n",
    "print(f\"  Resolution: {triangle.experience_resolution} months\")\n",
    "print(f\"  Number of periods: {len(triangle.periods)}\")\n",
    "\n",
    "print(\"\\nFirst 3 periods:\")\n",
    "for i, period in enumerate(triangle.periods[:3]):\n",
    "    print(f\"  {i+1}. {period[0]} to {period[1]}\")"
   ]
  },
  {
   "cell_type": "code",
   "execution_count": null,
   "metadata": {},
   "outputs": [],
   "source": [
    "# Examine evaluation dates\n",
    "print(\"Evaluation range and resolution:\")\n",
    "print(f\"  Range: {triangle.evaluation_dates[0]} to {triangle.evaluation_dates[-1]}\")\n",
    "print(f\"  Resolution: {triangle.evaluation_resolution} months\")\n",
    "print(f\"  Number of evaluation dates: {len(triangle.evaluation_dates)}\")"
   ]
  },
  {
   "cell_type": "markdown",
   "metadata": {},
   "source": [
    "### Development Lag - Ledger's Convention\n",
    "\n",
    "**Important**: Ledger interprets dev lag to be the number of months away from period end. Dev lag 0 corresponds to the evaluation date being at period_end."
   ]
  },
  {
   "cell_type": "code",
   "execution_count": null,
   "metadata": {},
   "outputs": [],
   "source": [
    "# Demonstrate dev lag convention\n",
    "print(\"Ledger's Dev Lag Convention:\")\n",
    "print(\"Dev lag 0 = evaluation at period_end\\n\")\n",
    "\n",
    "# Find cells with dev lag 0\n",
    "for cell in triangle[:10]:  # Check first 10 cells\n",
    "    if cell.evaluation_date == cell.period_end:\n",
    "        dev_lag = tri.calculate_dev_lag(cell.period_end, cell.evaluation_date)\n",
    "        print(f\"Cell with dev lag 0:\")\n",
    "        print(f\"  Period: {cell.period_start} to {cell.period_end}\")\n",
    "        print(f\"  Evaluation: {cell.evaluation_date}\")\n",
    "        print(f\"  Dev lag: {dev_lag} months\")\n",
    "        break"
   ]
  },
  {
   "cell_type": "markdown",
   "metadata": {},
   "source": [
    "### Square Triangles\n",
    "\n",
    "A \"square\" triangle has the same length of time for evaluation dates as for development lag."
   ]
  },
  {
   "cell_type": "code",
   "execution_count": null,
   "metadata": {},
   "outputs": [],
   "source": [
    "# Check if triangle is square\n",
    "max_dev_lag = max(tri.calculate_dev_lag(cell.period_end, cell.evaluation_date) \n",
    "                  for cell in triangle)\n",
    "experience_months = (triangle.periods[-1][1] - triangle.periods[0][0]).days / 30.44\n",
    "\n",
    "print(f\"Maximum development lag: {max_dev_lag} months\")\n",
    "print(f\"Experience period span: ~{experience_months:.0f} months\")\n",
    "print(f\"Is approximately square: {abs(max_dev_lag - experience_months) < 12}\")"
   ]
  },
  {
   "cell_type": "markdown",
   "metadata": {},
   "source": [
    "### Cumulative vs Incremental Views"
   ]
  },
  {
   "cell_type": "code",
   "execution_count": null,
   "metadata": {},
   "outputs": [],
   "source": [
    "# Find a cell with multiple evaluations for the same period\n",
    "target_period = triangle.periods[0]  # First accident period\n",
    "\n",
    "# Get cells for this period\n",
    "period_cells = [cell for cell in triangle \n",
    "                if cell.period_start == target_period[0] \n",
    "                and cell.period_end == target_period[1]]\n",
    "period_cells.sort(key=lambda x: x.evaluation_date)\n",
    "\n",
    "# Show the last cell as cumulative\n",
    "if len(period_cells) >= 2:\n",
    "    last_cell = period_cells[-1]\n",
    "    print(\"Cumulative cell (last evaluation):\")\n",
    "    print(f\"  Period: {last_cell.period_start} to {last_cell.period_end}\")\n",
    "    print(f\"  Evaluation: {last_cell.evaluation_date}\")\n",
    "    print(f\"  Cumulative paid loss: ${last_cell.values['paid_loss']:,.0f}\")\n",
    "    \n",
    "    # Convert to incremental\n",
    "    incremental_tri = triangle.to_incremental()\n",
    "    \n",
    "    # Find the same cell in incremental view\n",
    "    for inc_cell in incremental_tri:\n",
    "        if (inc_cell.period_start == last_cell.period_start and \n",
    "            inc_cell.evaluation_date == last_cell.evaluation_date):\n",
    "            print(\"\\nIncremental cell (same position):\")\n",
    "            print(f\"  Previous evaluation: {inc_cell.prev_evaluation_date}\")\n",
    "            print(f\"  Incremental paid loss: ${inc_cell.values['paid_loss']:,.0f}\")\n",
    "            break"
   ]
  },
  {
   "cell_type": "markdown",
   "metadata": {},
   "source": [
    "## Clipping and Filtering\n",
    "\n",
    "Bermuda provides powerful methods for subsetting triangles with method chaining support."
   ]
  },
  {
   "cell_type": "code",
   "execution_count": null,
   "metadata": {},
   "outputs": [],
   "source": [
    "# Clipping to limit years\n",
    "clipped = triangle.clip(\n",
    "    min_period=date(1990, 1, 1),\n",
    "    max_period=date(1995, 12, 31)\n",
    ")\n",
    "\n",
    "print(\"Original triangle:\")\n",
    "print(f\"  Periods: {triangle.periods[0][0]} to {triangle.periods[-1][1]}\")\n",
    "print(f\"  Cells: {len(triangle)}\")\n",
    "\n",
    "print(\"\\nClipped triangle (1990-1995):\")\n",
    "print(f\"  Periods: {clipped.periods[0][0]} to {clipped.periods[-1][1]}\")\n",
    "print(f\"  Cells: {len(clipped)}\")"
   ]
  },
  {
   "cell_type": "code",
   "execution_count": null,
   "metadata": {},
   "outputs": [],
   "source": [
    "# Visualize the clipped data\n",
    "clipped.plot_data_completeness()"
   ]
  },
  {
   "cell_type": "code",
   "execution_count": null,
   "metadata": {},
   "outputs": [],
   "source": [
    "# Limit evaluation dates\n",
    "eval_limited = clipped.clip(max_eval=date(1996, 12, 31))\n",
    "\n",
    "print(\"After limiting evaluation dates:\")\n",
    "print(f\"  Evaluation range: {eval_limited.evaluation_dates[0]} to {eval_limited.evaluation_dates[-1]}\")\n",
    "print(f\"  Cells: {len(eval_limited)}\")\n",
    "\n",
    "# Show completeness\n",
    "eval_limited.plot_data_completeness()"
   ]
  },
  {
   "cell_type": "code",
   "execution_count": null,
   "metadata": {},
   "outputs": [],
   "source": [
    "# Filtering - keep only even years using method chaining\n",
    "even_years = (triangle\n",
    "              .filter(lambda cell: cell.period_start.year % 2 == 0)\n",
    "              .clip(max_eval=date(2000, 12, 31)))\n",
    "\n",
    "print(\"Filtered to even years with method chaining:\")\n",
    "print(f\"  Cells: {len(even_years)}\")\n",
    "print(\"  Periods included:\")\n",
    "for period in even_years.periods[:5]:\n",
    "    print(f\"    {period[0].year}\")"
   ]
  },
  {
   "cell_type": "markdown",
   "metadata": {},
   "source": [
    "## Date Utilities\n",
    "\n",
    "Bermuda provides helpful date manipulation functions."
   ]
  },
  {
   "cell_type": "code",
   "execution_count": null,
   "metadata": {},
   "outputs": [],
   "source": [
    "# add_months utility\n",
    "start_date = date(2020, 1, 31)\n",
    "print(f\"Starting date: {start_date}\")\n",
    "print(\"\\nAdding months:\")\n",
    "for months in [1, 3, 6, 12, 24]:\n",
    "    new_date = tri.add_months(start_date, months)\n",
    "    print(f\"  +{months} months: {new_date}\")"
   ]
  },
  {
   "cell_type": "code",
   "execution_count": null,
   "metadata": {},
   "outputs": [],
   "source": [
    "# calculate_dev_lag utility\n",
    "period_end = date(2020, 12, 31)\n",
    "evaluations = [\n",
    "    date(2020, 12, 31),  # Dev lag 0\n",
    "    date(2021, 12, 31),  # Dev lag 12\n",
    "    date(2022, 6, 30),   # Dev lag 18\n",
    "    date(2023, 12, 31),  # Dev lag 36\n",
    "]\n",
    "\n",
    "print(f\"Period end: {period_end}\")\n",
    "print(\"\\nDevelopment lags:\")\n",
    "for eval_date in evaluations:\n",
    "    dev_lag = tri.calculate_dev_lag(period_end, eval_date)\n",
    "    print(f\"  Evaluation {eval_date}: {dev_lag} months\")"
   ]
  },
  {
   "cell_type": "markdown",
   "metadata": {},
   "source": [
    "## Visualization\n",
    "\n",
    "Let's explore some key visualizations available in Bermuda."
   ]
  },
  {
   "cell_type": "code",
   "execution_count": null,
   "metadata": {},
   "outputs": [],
   "source": [
    "# Right edge plot - shows latest evaluation for each period\n",
    "triangle.plot_right_edge()"
   ]
  },
  {
   "cell_type": "code",
   "execution_count": null,
   "metadata": {},
   "outputs": [],
   "source": [
    "# Use a smaller subset for mountain and ballistic plots\n",
    "viz_triangle = triangle.clip(\n",
    "    min_period=date(1990, 1, 1),\n",
    "    max_period=date(1993, 12, 31),\n",
    "    max_eval=date(1998, 12, 31)\n",
    ")\n",
    "\n",
    "print(f\"Subset for visualization: {len(viz_triangle)} cells\")"
   ]
  },
  {
   "cell_type": "code",
   "execution_count": null,
   "metadata": {},
   "outputs": [],
   "source": [
    "# Mountain plot - shows development patterns\n",
    "viz_triangle.plot_mountain()"
   ]
  },
  {
   "cell_type": "code",
   "execution_count": null,
   "metadata": {},
   "outputs": [],
   "source": [
    "# Mountain plot for reported loss\n",
    "viz_triangle.plot_mountain('Reported Loss')"
   ]
  },
  {
   "cell_type": "code",
   "execution_count": null,
   "metadata": {},
   "outputs": [],
   "source": [
    "# Ballistic plot - shows trajectories\n",
    "viz_triangle.plot_ballistic()"
   ]
  },
  {
   "cell_type": "markdown",
   "metadata": {},
   "source": [
    "## Summary\n",
    "\n",
    "In this notebook, we've covered the fundamental concepts of Bermuda:\n",
    "\n",
    "1. **Design Philosophy**: Tabular triangles with metadata flow and immutability\n",
    "2. **Cells and Triangles**: Building blocks and their relationship\n",
    "3. **Triangle Components**: Periods, evaluation dates, and resolutions\n",
    "4. **Development Lag Convention**: Ledger's interpretation where dev lag 0 = period end\n",
    "5. **Square Triangles**: Equal time spans for experience and development\n",
    "6. **Cumulative vs Incremental**: Different views of the same data\n",
    "7. **Clipping and Filtering**: Powerful subsetting with method chaining\n",
    "8. **Date Utilities**: Helper functions for date manipulation\n",
    "9. **Visualizations**: Built-in charts for triangle analysis\n",
    "\n",
    "These concepts form the foundation for working with insurance loss triangles in Bermuda."
   ]
  }
 ],
 "metadata": {
  "kernelspec": {
   "display_name": "Python 3 (ipykernel)",
   "language": "python",
   "name": "python3"
  },
  "language_info": {
   "codemirror_mode": {
    "name": "ipython",
    "version": 3
   },
   "file_extension": ".py",
   "mimetype": "text/x-python",
   "name": "python",
   "nbconvert_exporter": "python",
   "pygments_lexer": "ipython3",
   "version": "3.11.2"
  }
 },
 "nbformat": 4,
 "nbformat_minor": 4
}
