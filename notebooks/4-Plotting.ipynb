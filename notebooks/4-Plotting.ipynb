{
 "cells": [
  {
   "cell_type": "code",
   "execution_count": null,
   "id": "be779b6f-2ceb-41af-a6dd-d3b41e6e6856",
   "metadata": {},
   "outputs": [],
   "source": [
    "from installation import install\n",
    "await install()"
   ]
  },
  {
   "cell_type": "code",
   "execution_count": null,
   "id": "8292806b-bec9-45be-ab30-5e435601932c",
   "metadata": {},
   "outputs": [],
   "source": [
    "from datetime import date\n",
    "\n",
    "import numpy as np\n",
    "import bermuda as tri\n",
    "import altair as alt\n",
    "alt.renderers.enable(\"html\")"
   ]
  },
  {
   "cell_type": "code",
   "execution_count": null,
   "id": "8e1d3be3-6084-4cf5-be61-bea495ec0ec3",
   "metadata": {},
   "outputs": [],
   "source": [
    "big_triangle = tri.binary_to_triangle(\"data/plotting_triangle.trib\")"
   ]
  },
  {
   "cell_type": "markdown",
   "id": "7a3f5033-9a64-4a81-ba5f-64f53a9c1aef",
   "metadata": {},
   "source": [
    "### Data Completeness Plot\n",
    "\n",
    "This is the **first plot** I reach for when loading a new triangle.  \n",
    "It helps visualize:  \n",
    "- The **overall shape** of the triangle  \n",
    "- Whether any **data is missing**  \n",
    "- Missing **entire cells** or just **specific fields** within certain periods\n"
   ]
  },
  {
   "cell_type": "code",
   "execution_count": null,
   "id": "d99d4b2a-823a-49c4-a700-642e6f315af5",
   "metadata": {},
   "outputs": [],
   "source": [
    "big_triangle.plot_data_completeness()"
   ]
  },
  {
   "cell_type": "markdown",
   "id": "cc4ee96d-5e9d-47a6-9a3d-666e73642aa3",
   "metadata": {},
   "source": [
    "#### Clipping\n",
    "Let's clip off some of that older data to make this triangle more manageable."
   ]
  },
  {
   "cell_type": "code",
   "execution_count": null,
   "id": "35348a43-ff47-41e8-8b53-87e44777cc60",
   "metadata": {},
   "outputs": [],
   "source": [
    "triangle = big_triangle.clip(min_period=date(2010, 1, 1))"
   ]
  },
  {
   "cell_type": "code",
   "execution_count": null,
   "id": "3408d30b-ff39-49e7-9ddf-47b6ab82d938",
   "metadata": {
    "scrolled": true
   },
   "outputs": [],
   "source": [
    "triangle.plot_data_completeness()"
   ]
  },
  {
   "cell_type": "markdown",
   "id": "2128155d-db50-41af-9ee4-7f0117adf48a",
   "metadata": {},
   "source": [
    "### Triangle Heatmap\n",
    "\n",
    "Some actuaries still prefer seeing a **table of numbers** in the classic triangle format — maybe they just **miss Excel**.  \n",
    "For them, we provide a **heatmap** that displays **multiple metrics** while preserving the familiar triangle shape.\n"
   ]
  },
  {
   "cell_type": "code",
   "execution_count": null,
   "id": "de9d750d-8bb2-48f9-a53c-350c63346aff",
   "metadata": {
    "scrolled": true
   },
   "outputs": [],
   "source": [
    "triangle.plot_heatmap()"
   ]
  },
  {
   "cell_type": "markdown",
   "id": "5132496d-0ec6-4b6f-a0a5-b3cf19a9d836",
   "metadata": {},
   "source": [
    "#### Plotting Metrics\n",
    "In general, these plots can show a few pre-computed metrics.\n",
    "- \"Paid Loss Ratio\"\n",
    "- \"Reported Loss Ratio\"\n",
    "- \"Incurred Loss Ratio\"\n",
    "- \"Paid Loss\"\n",
    "- \"Reported Loss\"\n",
    "- \"Incurred Loss\"\n",
    "- \"Paid ATA\"\n",
    "- \"Reported ATA\"\n",
    "- \"Paid Incremental ATA\"\n",
    "- \"Reported Incremental ATA\""
   ]
  },
  {
   "cell_type": "code",
   "execution_count": null,
   "id": "cd0cc1f1-5b9a-46b4-8b03-ba347665e4c5",
   "metadata": {},
   "outputs": [],
   "source": [
    "triangle.plot_heatmap(\"Reported Loss Ratio\")"
   ]
  },
  {
   "cell_type": "code",
   "execution_count": null,
   "id": "0aeaac3b-1660-4230-b79c-d4ea8e18c9ba",
   "metadata": {},
   "outputs": [],
   "source": [
    "triangle.plot_heatmap(\"Paid ATA\")"
   ]
  },
  {
   "cell_type": "markdown",
   "id": "eb5953d4-1fa8-409c-87b9-6c223bb84508",
   "metadata": {},
   "source": [
    "### Boxplot of ATA Factors\n",
    "\n",
    "A better way to visualize **ATA factors** is with a **boxplot**.  \n",
    "This shows:  \n",
    "- The **median**  \n",
    "- The **interquartile range (IQR)**  \n",
    "- The **minimum and maximum** values\n"
   ]
  },
  {
   "cell_type": "code",
   "execution_count": null,
   "id": "32611d00-1ce1-49b0-b87d-8ec176baf533",
   "metadata": {
    "scrolled": true
   },
   "outputs": [],
   "source": [
    "triangle.plot_atas('Reported ATA')"
   ]
  },
  {
   "cell_type": "markdown",
   "id": "3e4ff8ec-f0ee-4495-9577-bee7ab1dda36",
   "metadata": {},
   "source": [
    "### Right Edge Plot\n",
    "\n",
    "The **right edge** of a triangle represents data as of the **latest evaluation date**.  \n",
    "This plot shows:  \n",
    "- **Earned premium**, **paid loss ratio**, and **reported loss ratio** for each period  \n",
    "- A typical **gap between paid and reported losses**, often wider in later periods  \n",
    "- A **drop-off in recent loss ratios** due to limited development  \n",
    "- Including **earned premium** helps identify periods where low volume drives higher loss ratio volatility\n"
   ]
  },
  {
   "cell_type": "code",
   "execution_count": null,
   "id": "09d17cec-51d7-44d9-9785-c2ea7ba46068",
   "metadata": {
    "scrolled": true
   },
   "outputs": [],
   "source": [
    "triangle.plot_right_edge()"
   ]
  },
  {
   "cell_type": "markdown",
   "id": "011a8452-4794-43a4-b62c-ed1401c91211",
   "metadata": {},
   "source": [
    "### Mountain Plot\n",
    "\n",
    "The **mountain plot** shows **loss development over time**.  \n",
    "- Each line represents an **iso-development lag**.  \n",
    "- **X-axis** → Accident or policy period.  \n",
    "- All periods start at **dev lag 0**, but only the earliest periods reach the longest lags.  \n",
    "- Loss ratios typically **increase with development lag** and **converge toward an ultimate loss ratio**.  \n",
    "- **Peaks** indicate periods with **higher loss ratios**; **valleys** show lower ones.  \n",
    "- Ideally, development patterns remain **consistent over time**, resulting in **parallel lines**.\n"
   ]
  },
  {
   "cell_type": "code",
   "execution_count": null,
   "id": "7c299ce5-421a-4dcf-9246-c8d706305ace",
   "metadata": {},
   "outputs": [],
   "source": [
    "triangle.plot_mountain()"
   ]
  },
  {
   "cell_type": "markdown",
   "id": "7c389937-7e87-4861-8c90-35e1b8e0c605",
   "metadata": {},
   "source": [
    "### Hose Plot\n",
    "\n",
    "The **hose plot** visualizes **incremental losses** over time  \n",
    "(up until now, we've been looking at **cumulative values**).  \n",
    "\n",
    "- Works even though the underlying triangle stores **cumulative cells**  \n",
    "- **Incremental losses** typically **rise**, then **decline**, eventually approaching **zero**  \n",
    "- Think of a **hose spraying water**:  \n",
    "  - The peak of the spray = highest incremental losses  \n",
    "  - Where it hits the ground ≈ **ultimate loss**\n"
   ]
  },
  {
   "cell_type": "code",
   "execution_count": null,
   "id": "a58fab96-8c09-4175-bf8f-7e291cb39d5a",
   "metadata": {},
   "outputs": [],
   "source": [
    "triangle.plot_hose()"
   ]
  },
  {
   "cell_type": "markdown",
   "id": "bba72822-122b-4c68-aa8c-d29370980d38",
   "metadata": {},
   "source": [
    "### Ballistics Plot\n",
    "\n",
    "The **ballistics plot** shows **reported loss ratios** and **paid loss ratios** together, with dot colors representing **development lags**.  \n",
    "\n",
    "- **Reported losses** are usually **higher** than **paid losses** early on, then the two converge.  \n",
    "- When **reported = paid** (reserves ≈ $0), we've reached the **ultimate loss**.  \n",
    "- Think of a **projectile** launched toward the **dashed line of equality**:  \n",
    "  - Each line represents a **period**  \n",
    "  - Where it intersects the dashed line = the **ultimate loss ratio**"
   ]
  },
  {
   "cell_type": "code",
   "execution_count": null,
   "id": "a148c2d9-54e4-479d-afda-0ad9bb3e9e3d",
   "metadata": {
    "scrolled": true
   },
   "outputs": [],
   "source": [
    "triangle.plot_ballistic()"
   ]
  },
  {
   "cell_type": "markdown",
   "id": "78a165b9-532a-42cc-b21c-55fc238f4bc7",
   "metadata": {},
   "source": [
    "# Multi-Slice Plots\n",
    "\n",
    "Suppose you're an insurer covering three lines of business, **Commercial Auto**, **General Liability**, and **Private Auto**. You'll likely have three separate triangles for each, and you might like to view each of them separately, or combine them all together. A single triangle object can have multiple **slices**, or cuts by metadata such as line of business."
   ]
  },
  {
   "cell_type": "code",
   "execution_count": null,
   "id": "45c1042d-dbe7-49b9-ae6f-04600355f6f0",
   "metadata": {},
   "outputs": [],
   "source": [
    "ca = tri.binary_to_triangle(\"data/ca.trib\")\n",
    "gl = tri.binary_to_triangle(\"data/gl.trib\")\n",
    "pa = tri.binary_to_triangle(\"data/pa.trib\")\n",
    "\n",
    "combined = pa + ca + gl"
   ]
  },
  {
   "cell_type": "markdown",
   "id": "2c3d1047-02e6-4877-a69a-5240cfa0fddb",
   "metadata": {},
   "source": [
    "### Multi-Slice Plots\n",
    "\n",
    "When a triangle contains **multiple slices**, plots are **automatically faceted by slice** by default,  \n",
    "making it easy to compare patterns across different segments.\n"
   ]
  },
  {
   "cell_type": "code",
   "execution_count": null,
   "id": "08c9aee9-03e5-4bdf-8412-94a7b96d1676",
   "metadata": {},
   "outputs": [],
   "source": [
    "combined.plot_data_completeness()"
   ]
  },
  {
   "cell_type": "markdown",
   "id": "fc8bb3c1-8317-4596-b8d7-9ade59489b9d",
   "metadata": {},
   "source": [
    "# Customizing Plots\n",
    "The plots returned by these funcions are Altair LayerChart objects. You can manipulate these objects to customize them to suit your needs."
   ]
  },
  {
   "cell_type": "code",
   "execution_count": null,
   "id": "578ab8bd-96ae-4fdd-a4de-1be34bc36249",
   "metadata": {},
   "outputs": [],
   "source": [
    "mountain = triangle.plot_mountain()\n",
    "mountain"
   ]
  },
  {
   "cell_type": "markdown",
   "id": "d54bea65-5b52-468c-9c6c-33c436deaad1",
   "metadata": {},
   "source": [
    "### Modifying Plot Attributes\n",
    "\n",
    "You can **directly modify plot object properties** to customize visuals —  \n",
    "for example, updating the **title**, **background color**, and other styling options.\n"
   ]
  },
  {
   "cell_type": "code",
   "execution_count": null,
   "id": "18a07505-7a66-4c32-b414-9bee64cd68a5",
   "metadata": {},
   "outputs": [],
   "source": [
    "mountain.background = 'palegoldenrod'\n",
    "mountain.title = \"New Custom Name\"\n",
    "mountain.padding = {\"left\":40}\n",
    "mountain"
   ]
  },
  {
   "cell_type": "markdown",
   "id": "e69dc11a-64d8-4377-89a4-0a4d65cb9f4f",
   "metadata": {},
   "source": [
    "You can also use the Altair `.properties` method to modify similar options."
   ]
  },
  {
   "cell_type": "code",
   "execution_count": null,
   "id": "80a9fd5e-9bfb-47a2-95ef-69e53e1b9ea8",
   "metadata": {},
   "outputs": [],
   "source": [
    "triangle.plot_mountain().properties(title=\"Other Method\")"
   ]
  },
  {
   "cell_type": "markdown",
   "id": "cca663f8-3fc6-4a6d-87b2-8c2201379281",
   "metadata": {},
   "source": [
    "### Fine-Tuned Plot Styling\n",
    "\n",
    "For **more precise control** over plot appearance, use the `.configure` methods.  \n",
    "This approach allows for **advanced styling options** and greater customization.\n"
   ]
  },
  {
   "cell_type": "code",
   "execution_count": null,
   "id": "840b364d-4ba7-420b-bf37-a77be240a75d",
   "metadata": {},
   "outputs": [],
   "source": [
    "triangle.plot_right_edge().configure(\n",
    "    background=\"#eeeeee\",\n",
    " ).configure_title(\n",
    "    font=\"monospace\"\n",
    " ).configure_axisX(\n",
    "    titleColor=\"blue\",\n",
    "    labelColor=\"green\",\n",
    "    tickColor=\"red\",\n",
    "    labelFontSize=10,\n",
    ").configure_legend(\n",
    "    direction=\"horizontal\",\n",
    "    orient=\"bottom\",\n",
    ").configure_bar(\n",
    "    stroke=\"black\",\n",
    ")"
   ]
  },
  {
   "cell_type": "markdown",
   "id": "cd3f417d-de95-4302-a591-02eb41a0bc6f",
   "metadata": {},
   "source": [
    "\n",
    "### Plotting Stochastic Predictions\n",
    "\n",
    "At Ledger, we use **Bayesian modeling techniques**, often storing **n posterior samples** in each triangle cell  \n",
    "instead of relying on single point estimates.\n",
    "\n",
    "Bermuda’s plots **natively support** these samples and provide multiple ways to **visualize uncertainty**:  \n",
    "- **Ribbons** — show the range of outcomes smoothly  \n",
    "- **Segments** — display sample variability directly\n"
   ]
  },
  {
   "cell_type": "code",
   "execution_count": null,
   "id": "6f90c391-ba14-40a9-b29f-01f1215a7cb3",
   "metadata": {},
   "outputs": [],
   "source": [
    "rng = np.random.default_rng(1234)\n",
    "prediction_evals = triangle.evaluation_dates[-3:]\n",
    "triangle_predictions = triangle.derive_fields(\n",
    "    paid_loss = lambda cell: (\n",
    "       rng.normal(cell[\"paid_loss\"], 1e6 * cell.dev_lag(), size=1000)\n",
    "       if cell.evaluation_date in prediction_evals\n",
    "       else cell[\"paid_loss\"]\n",
    "    ),\n",
    "    reported_loss = lambda cell: (\n",
    "       rng.normal(cell[\"reported_loss\"], 1e6 * cell.dev_lag(), size=1000)\n",
    "       if cell.evaluation_date in prediction_evals\n",
    "       else cell[\"reported_loss\"]\n",
    "    ),\n",
    ")\n",
    "\n",
    "triangle_predictions.plot_right_edge()"
   ]
  },
  {
   "cell_type": "code",
   "execution_count": null,
   "id": "44eeae9b-7d44-43c3-8a51-446fe375edbe",
   "metadata": {},
   "outputs": [],
   "source": [
    "triangle_predictions.plot_right_edge(uncertainty_type=\"segments\")"
   ]
  },
  {
   "cell_type": "markdown",
   "id": "481e1475-2eeb-4d02-bb5e-b66e3805d095",
   "metadata": {},
   "source": [
    "### Built-In Uncertainty Support\n",
    "\n",
    "All Bermuda plot types **natively support uncertainty visualization**  \n",
    "when working with **posterior samples** — no extra configuration required.\n"
   ]
  },
  {
   "cell_type": "code",
   "execution_count": null,
   "id": "41ccae4f-6abf-4f43-bf11-18608bb27d6d",
   "metadata": {},
   "outputs": [],
   "source": [
    "triangle_predictions.plot_growth_curve()"
   ]
  },
  {
   "cell_type": "markdown",
   "id": "cae45383-deb4-463d-92dd-aa746c4beefa",
   "metadata": {},
   "source": [
    "### Faceting for Uncertainty Visualization\n",
    "\n",
    "When uncertainty makes it difficult to compare **multiple periods**,  \n",
    "a common approach is to use **slice faceting**:  \n",
    "\n",
    "- Create a **multi-slice triangle** where each slice represents a **single period**  \n",
    "- Plots are then **faceted by period**, making comparisons clearer  \n",
    "- You also have full control over **plot shapes** and **facet layouts**\n"
   ]
  },
  {
   "cell_type": "code",
   "execution_count": null,
   "id": "003d678e-d173-4513-9509-5aa559ecad4a",
   "metadata": {},
   "outputs": [],
   "source": [
    "triangle_predictions.derive_metadata(\n",
    "    id = lambda cell: cell.period_start\n",
    ").plot_growth_curve(width=250, height=200, ncols=2)"
   ]
  },
  {
   "cell_type": "markdown",
   "id": "de17c90c-64f6-400c-ac61-51a7404f3db8",
   "metadata": {},
   "source": [
    "### Fixing Axes Across Facets\n",
    "\n",
    "By default, each facet has its **own axis limits**, which can make comparisons harder.  \n",
    "Using Altair’s **`resolve_axis`** method, you can **fix the axes across facets**  \n",
    "for a more consistent and comparable visualization.\n"
   ]
  },
  {
   "cell_type": "code",
   "execution_count": null,
   "id": "f80ca20a-9230-4af7-9daf-b278dc131697",
   "metadata": {},
   "outputs": [],
   "source": [
    "triangle_predictions.derive_metadata(\n",
    "    id = lambda cell: cell.period_start\n",
    ").plot_growth_curve(\n",
    "    width=150, height=100, ncols=5,\n",
    "    facet_titles=[str(period[0].year) for period in triangle_predictions.periods],\n",
    "    uncertainty_type=\"spaghetti\",\n",
    ").resolve_scale(\n",
    "    x=\"shared\", y=\"shared\", color=\"independent\",\n",
    ").resolve_axis(\n",
    "    y=\"shared\"\n",
    ").properties(\n",
    "    background=\"#eeeeee\",\n",
    ").configure_concat(\n",
    "    spacing=2,\n",
    ").configure_title(\n",
    "    offset=1,\n",
    ").interactive()"
   ]
  },
  {
   "cell_type": "markdown",
   "id": "655677df-7d49-4d76-87bc-6d5a33899f99",
   "metadata": {},
   "source": [
    "### Custom Metrics\n",
    "\n",
    "In addition to Bermuda’s **built-in metrics**, you can plot **custom metrics** derived from triangle data.  \n",
    "\n",
    "- Any **function of the cell fields** can be visualized  \n",
    "- For example, you might define a custom metric for **reserves**  \n",
    "- Use the **`metrics_spec`** argument:  \n",
    "  - **Key** → Axis label  \n",
    "  - **Value** → Callable (e.g., a `lambda` function to compute reserves for each cell)\n"
   ]
  },
  {
   "cell_type": "code",
   "execution_count": null,
   "id": "35fc696b-2210-4f36-ad2b-6c6ffbeecdaa",
   "metadata": {
    "scrolled": true
   },
   "outputs": [],
   "source": [
    "triangle.plot_growth_curve(metric_spec = {\"Reserves\" : lambda cell: cell['reported_loss'] - cell['paid_loss']})"
   ]
  },
  {
   "cell_type": "markdown",
   "id": "a61fbd2b-1dab-4f9c-b734-7deffcee203d",
   "metadata": {},
   "source": [
    "# Try it yourself!"
   ]
  },
  {
   "cell_type": "markdown",
   "id": "b7e255a4-232e-4588-a1a3-fe917819bf3d",
   "metadata": {},
   "source": [
    "### Problem 1\n",
    "Try plotting the same reserves plot above, but show reserves as a percentage of earned premium on the y axis."
   ]
  },
  {
   "cell_type": "code",
   "execution_count": null,
   "id": "fbebb5df-868b-4321-a72d-4ba7e1892c07",
   "metadata": {},
   "outputs": [],
   "source": []
  },
  {
   "cell_type": "markdown",
   "id": "5a4314a9-25a9-4697-b1d4-813b5c52e3f2",
   "metadata": {
    "jp-MarkdownHeadingCollapsed": true
   },
   "source": [
    "### Answer 1"
   ]
  },
  {
   "cell_type": "code",
   "execution_count": null,
   "id": "626e04d9-f2e8-4376-b0fb-5fa1fbe6eee1",
   "metadata": {},
   "outputs": [],
   "source": [
    "triangle.plot_growth_curve(metric_spec = {\"Reserves as % of Earned Premium\" : lambda cell: 100 * (cell['reported_loss'] - cell['paid_loss']) / cell['earned_premium']})"
   ]
  },
  {
   "cell_type": "markdown",
   "id": "0bc29299-ff76-4e92-8b90-37e4b8f68ee0",
   "metadata": {},
   "source": [
    "### Problem 2"
   ]
  },
  {
   "cell_type": "markdown",
   "id": "ba0094da-04dc-40a0-8e59-05f09e8a29a4",
   "metadata": {},
   "source": [
    "Now show the same reserves as a percentage of earned premium in a heatmap"
   ]
  },
  {
   "cell_type": "code",
   "execution_count": null,
   "id": "bea2d21e-2e83-421b-a1e7-5c2ad693f239",
   "metadata": {},
   "outputs": [],
   "source": []
  },
  {
   "cell_type": "markdown",
   "id": "69ceff0e-6365-45b5-8920-1f4dfed52e52",
   "metadata": {
    "jp-MarkdownHeadingCollapsed": true
   },
   "source": [
    "### Answer 2"
   ]
  },
  {
   "cell_type": "code",
   "execution_count": null,
   "id": "403dde50-3b33-4731-b264-75a601309024",
   "metadata": {},
   "outputs": [],
   "source": []
  },
  {
   "cell_type": "code",
   "execution_count": null,
   "id": "18dd0976-05e2-4ce2-a348-9c7ccc7ce498",
   "metadata": {},
   "outputs": [],
   "source": [
    "triangle.plot_heatmap(metric_spec = {\"Reserves as % of Earned Premium\" : lambda cell: 100 * (cell['reported_loss'] - cell['paid_loss']) / cell['earned_premium']})"
   ]
  },
  {
   "cell_type": "markdown",
   "id": "7ad51652-bd1c-46af-a8c0-1ac23e3ea6cc",
   "metadata": {},
   "source": [
    "## Task"
   ]
  },
  {
   "cell_type": "markdown",
   "id": "15d5feb3-5df2-4ab8-a841-60b57d287558",
   "metadata": {},
   "source": [
    "There is an excel file with triangle data called \"data/interesting_triangle_example.xlsx\". Use bermuda to load the triangle, and create some plots of the data. There's something interesting about it, see if you can find out what..."
   ]
  },
  {
   "cell_type": "code",
   "execution_count": null,
   "id": "7120ef95-88a2-420c-a011-6ec9551220ff",
   "metadata": {},
   "outputs": [],
   "source": []
  },
  {
   "cell_type": "markdown",
   "id": "31d518a8-9b2e-4b7b-9377-b8784631a639",
   "metadata": {
    "jp-MarkdownHeadingCollapsed": true
   },
   "source": [
    "## Answer"
   ]
  },
  {
   "cell_type": "code",
   "execution_count": null,
   "id": "6971b2ea-d60a-4a7c-a601-8392c553a666",
   "metadata": {},
   "outputs": [],
   "source": [
    "import pandas as pd\n",
    "raw_data = pd.read_excel(\"data/excel/interesting_triangle_example.xlsx\", sheet_name=None)"
   ]
  },
  {
   "cell_type": "code",
   "execution_count": null,
   "id": "ea4c4502-9072-4785-b90a-1ea0c24ba4df",
   "metadata": {},
   "outputs": [],
   "source": [
    "example_tri = tri.array_triangle_builder(list(raw_data.values()), ['paid_loss', 'reported_loss', 'earned_premium'])"
   ]
  },
  {
   "cell_type": "code",
   "execution_count": null,
   "id": "4ce0cc72-e558-4833-9fc1-f7c46aeefbbf",
   "metadata": {},
   "outputs": [],
   "source": [
    "example_tri.plot_mountain('Reported Loss')"
   ]
  },
  {
   "cell_type": "code",
   "execution_count": null,
   "id": "63f1aa1b-e44c-40fc-8257-fce9fa0dc7a2",
   "metadata": {},
   "outputs": [],
   "source": [
    "example_tri.plot_growth_curve(\"Reported Loss\")"
   ]
  },
  {
   "cell_type": "code",
   "execution_count": null,
   "id": "6e545f7e-d519-4cf3-8984-8ebd31bf74b5",
   "metadata": {},
   "outputs": [],
   "source": [
    "example_tri.plot_ballistic()"
   ]
  },
  {
   "cell_type": "code",
   "execution_count": null,
   "id": "e13f6d80-8be1-4133-be5e-98802fb65a3e",
   "metadata": {},
   "outputs": [],
   "source": [
    "example_tri.plot_atas(\"Reported ATA\")"
   ]
  }
 ],
 "metadata": {
  "kernelspec": {
   "display_name": "Python 3 (ipykernel)",
   "language": "python",
   "name": "python3"
  },
  "language_info": {
   "codemirror_mode": {
    "name": "ipython",
    "version": 3
   },
   "file_extension": ".py",
   "mimetype": "text/x-python",
   "name": "python",
   "nbconvert_exporter": "python",
   "pygments_lexer": "ipython3",
   "version": "3.11.2"
  }
 },
 "nbformat": 4,
 "nbformat_minor": 5
}
