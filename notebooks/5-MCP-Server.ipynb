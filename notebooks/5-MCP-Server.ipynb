{
 "cells": [
  {
   "cell_type": "markdown",
   "id": "40eefb6a-1052-49eb-9ff2-6132a63e8261",
   "metadata": {},
   "source": [
    "# Bermuda MCP Server"
   ]
  },
  {
   "cell_type": "markdown",
   "id": "c39523cc-3c9b-49a7-a436-07746883902d",
   "metadata": {},
   "source": [
    "# Model Context Protocol (MCP)\n",
    "\n",
    "MCP is an **open protocol** for connecting tools, data, and models.\n",
    "\n",
    "- Provides a **standard interface** for LLMs to access external tools and data.\n",
    "- Enables **interactive workflows** between Python, Claude, Cursor, and other environments.\n",
    "- Lets Bermuda integrate seamlessly with AI-assisted coding workflows.\n",
    "- In this workshop, we’ll:\n",
    "    - Show how Claude + Cursor connect to the bermuda MCP to understand bermuda code\n",
    "    - Demonstrate generating code using the MCP server tools"
   ]
  },
  {
   "cell_type": "markdown",
   "id": "99b224f1-722b-46a9-945d-279a41dcb0b1",
   "metadata": {},
   "source": [
    "## Connecting to the Bermuda MCP Server\n",
    "\n",
    "### Claude Code\n",
    "In the terminal run\n",
    "```\n",
    "claude mcp add --transport http bermuda https://bermuda-ledger-mcp.up.railway.app/mcp\n",
    "```\n",
    "Open claude code\n",
    "```\n",
    "claude .\n",
    "```\n",
    "Verify the MCP connection\n",
    "```\n",
    "/mcp\n",
    "```\n",
    "\n",
    "### Cursor\n",
    "\n",
    "Open Cursor - `Cursor Settings` -> `MCP Tools` -> `New MCP Server` \n",
    "Copy in the following\n",
    "```\n",
    "{\n",
    "  \"mcpServers\": {\n",
    "    \"bermuda-ledger-mcp\": {\n",
    "      \"url\": \"https://bermuda-ledger-mcp.up.railway.app/mcp\"\n",
    "    }\n",
    "  }\n",
    "}\n",
    "```\n",
    "It should say `3 tools enabled` \n"
   ]
  },
  {
   "cell_type": "markdown",
   "id": "a4c6fac5-48b5-4e80-8d7c-e771bdc6d42d",
   "metadata": {
    "jp-MarkdownHeadingCollapsed": true
   },
   "source": [
    "## Connecting to a Local Server\n",
    "You also have the option to run an MCP server locally rather than relying on the public server we have running"
   ]
  },
  {
   "cell_type": "markdown",
   "id": "342365a8-842c-436e-bf89-ae0189645fab",
   "metadata": {},
   "source": [
    "### Get the local server\n",
    "Since the server code is in the `bermuda-ledger` repo, first we will clone that repository.\n",
    "\n",
    "`git clone git@github.com:LedgerInvesting/bermuda-ledger.git`\n",
    "\n",
    "or if you don't have ssh configured\n",
    "\n",
    "`git clone https://github.com/LedgerInvesting/bermuda-ledger.git`"
   ]
  },
  {
   "cell_type": "markdown",
   "id": "475168d6-50d0-44f5-ae44-1f09d0201fb1",
   "metadata": {},
   "source": [
    "### Claude\n",
    "To add an mcp server named `bermuda-mcp` to your claude code, run the following, subbing in the path to wherever you cloned the bermuda-ledger git repo\n",
    "\n",
    "```claude mcp add bermuda-mcp python /ABS/PATH/TO/bermuda-ledger/mcp-server.py```"
   ]
  },
  {
   "cell_type": "markdown",
   "id": "6bb40c1e-e752-4ab4-bfbc-2885b6da84f6",
   "metadata": {
    "jp-MarkdownHeadingCollapsed": true
   },
   "source": [
    "### Cursor\n",
    "In `Cursor Settings` go to `MCP Tools` and enter the following information (sub in the absolute path to your cloned bermuda-ledger directory.\n",
    "```\n",
    "{\n",
    "  \"mcpServers\": {\n",
    "    \"bermuda-mcp\": {\n",
    "      \"command\": \"/ABS/PATH/TO/bermuda-clrs-workshop-2025/env/bin/python\",\n",
    "      \"args\": [\"/ABS/PATH/TO/bermuda-ledger/mcp-server.py\"]\n",
    "  }\n",
    "}\n",
    "}\n",
    "```"
   ]
  },
  {
   "cell_type": "markdown",
   "id": "065911ca-fd26-4dc9-84a0-0effb4447e72",
   "metadata": {},
   "source": [
    "## Test Prompt\n",
    "To see if the MCP server is working, ask your agent a simple question that requires referencing bermuda documentation\n",
    "\n",
    "```\n",
    "Tell me how bermuda's clipping functionality works - include argument names and an example. Use the bermuda mcp server to reference the docs.\n",
    "```"
   ]
  },
  {
   "cell_type": "markdown",
   "id": "9801fadb-2973-400b-a650-ffdc1eb92588",
   "metadata": {},
   "source": [
    "## Task\n",
    "Your task is to use an AI agent to help write some bermuda code to create an Excel report based on the Meyers triangle in the bermuda package (or bring your own triangle for extra credit). Include whatever plots you find most valuable, and customize the look and feel of the report."
   ]
  }
 ],
 "metadata": {
  "kernelspec": {
   "display_name": "bermuda-clrs-2025",
   "language": "python",
   "name": "env"
  },
  "language_info": {
   "codemirror_mode": {
    "name": "ipython",
    "version": 3
   },
   "file_extension": ".py",
   "mimetype": "text/x-python",
   "name": "python",
   "nbconvert_exporter": "python",
   "pygments_lexer": "ipython3",
   "version": "3.13.0"
  }
 },
 "nbformat": 4,
 "nbformat_minor": 5
}
