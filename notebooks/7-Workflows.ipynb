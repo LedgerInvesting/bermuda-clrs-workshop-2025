{
 "cells": [
  {
   "cell_type": "markdown",
   "id": "ac2e7881-4eca-460d-8261-8f8bf7fa283c",
   "metadata": {},
   "source": [
    "## Workbench\n",
    "Workbench is a tool for interacting with Ledger's apps using AI agents to direct your workflows. This is a great way for people who want to use the features of bermuda but aren't as comfortable writing python.\n",
    "\n",
    "1. Sign up for an account at [https://workbench.ldgr.app/signup](https://workbench.ldgr.app/signup).\n",
    "2. Verify your email address.\n",
    "3. Create a new organization - something like  \"[First Name] [Last Name] - CLRS\" is fine.\n",
    "4. Start a new project.\n",
    "5. Upload some data.\n",
    "6. Use the `@Excel Analyst` agent to convert the data into a format bermuda can use, like \"long csv\" format. Try the `eval_column_format.xlsx` file, or bring your own triangle.\n",
    "7. Use the `@Bermuda` agent to create some plots to inspect your triangle."
   ]
  },
  {
   "cell_type": "markdown",
   "id": "4443cce4-5f32-4b43-9d05-800fe4a6fb66",
   "metadata": {},
   "source": [
    "## Workflows\n",
    "Hopefully by now you can imagine how to integrate bermuda into your workflows, either by writing python code or using workbench as a tool for EDA. Our \"ILS Valuation\" app is just one of the applications where bermuda comes in handy at Ledger.\n",
    "\n",
    "https://staging.ldgr.app/analytics/valuations"
   ]
  }
 ],
 "metadata": {
  "kernelspec": {
   "display_name": "bermuda-clrs-2025",
   "language": "python",
   "name": "env"
  },
  "language_info": {
   "codemirror_mode": {
    "name": "ipython",
    "version": 3
   },
   "file_extension": ".py",
   "mimetype": "text/x-python",
   "name": "python",
   "nbconvert_exporter": "python",
   "pygments_lexer": "ipython3",
   "version": "3.13.0"
  }
 },
 "nbformat": 4,
 "nbformat_minor": 5
}
