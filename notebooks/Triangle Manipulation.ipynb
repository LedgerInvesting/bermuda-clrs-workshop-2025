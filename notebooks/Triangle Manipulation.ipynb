{
 "cells": [
  {
   "cell_type": "code",
   "execution_count": 20,
   "id": "9fb7704b-91de-4b45-9227-ceca30f7218e",
   "metadata": {},
   "outputs": [
    {
     "data": {
      "text/plain": [
       "RendererRegistry.enable('html')"
      ]
     },
     "execution_count": 20,
     "metadata": {},
     "output_type": "execute_result"
    }
   ],
   "source": [
    "from datetime import date\n",
    "\n",
    "import bermuda as tri\n",
    "import altair as alt\n",
    "alt.renderers.enable(\"html\")"
   ]
  },
  {
   "cell_type": "markdown",
   "id": "75a564db-a44d-455f-af65-cb6d5ff3e215",
   "metadata": {},
   "source": [
    "# Triangle Inspection"
   ]
  },
  {
   "cell_type": "code",
   "execution_count": 21,
   "id": "a6559980-c076-4711-9cdc-0d86daa11ef3",
   "metadata": {},
   "outputs": [
    {
     "data": {
      "text/html": [
       "\n",
       "<style>\n",
       "  #altair-viz-6a3adb07c1c8478abc22c97616c7d977.vega-embed {\n",
       "    width: 100%;\n",
       "    display: flex;\n",
       "  }\n",
       "\n",
       "  #altair-viz-6a3adb07c1c8478abc22c97616c7d977.vega-embed details,\n",
       "  #altair-viz-6a3adb07c1c8478abc22c97616c7d977.vega-embed details summary {\n",
       "    position: relative;\n",
       "  }\n",
       "</style>\n",
       "<div id=\"altair-viz-6a3adb07c1c8478abc22c97616c7d977\"></div>\n",
       "<script type=\"text/javascript\">\n",
       "  var VEGA_DEBUG = (typeof VEGA_DEBUG == \"undefined\") ? {} : VEGA_DEBUG;\n",
       "  (function(spec, embedOpt){\n",
       "    let outputDiv = document.currentScript.previousElementSibling;\n",
       "    if (outputDiv.id !== \"altair-viz-6a3adb07c1c8478abc22c97616c7d977\") {\n",
       "      outputDiv = document.getElementById(\"altair-viz-6a3adb07c1c8478abc22c97616c7d977\");\n",
       "    }\n",
       "\n",
       "    const paths = {\n",
       "      \"vega\": \"https://cdn.jsdelivr.net/npm/vega@5?noext\",\n",
       "      \"vega-lib\": \"https://cdn.jsdelivr.net/npm/vega-lib?noext\",\n",
       "      \"vega-lite\": \"https://cdn.jsdelivr.net/npm/vega-lite@5.20.1?noext\",\n",
       "      \"vega-embed\": \"https://cdn.jsdelivr.net/npm/vega-embed@6?noext\",\n",
       "    };\n",
       "\n",
       "    function maybeLoadScript(lib, version) {\n",
       "      var key = `${lib.replace(\"-\", \"\")}_version`;\n",
       "      return (VEGA_DEBUG[key] == version) ?\n",
       "        Promise.resolve(paths[lib]) :\n",
       "        new Promise(function(resolve, reject) {\n",
       "          var s = document.createElement('script');\n",
       "          document.getElementsByTagName(\"head\")[0].appendChild(s);\n",
       "          s.async = true;\n",
       "          s.onload = () => {\n",
       "            VEGA_DEBUG[key] = version;\n",
       "            return resolve(paths[lib]);\n",
       "          };\n",
       "          s.onerror = () => reject(`Error loading script: ${paths[lib]}`);\n",
       "          s.src = paths[lib];\n",
       "        });\n",
       "    }\n",
       "\n",
       "    function showError(err) {\n",
       "      outputDiv.innerHTML = `<div class=\"error\" style=\"color:red;\">${err}</div>`;\n",
       "      throw err;\n",
       "    }\n",
       "\n",
       "    function displayChart(vegaEmbed) {\n",
       "      vegaEmbed(outputDiv, spec, embedOpt)\n",
       "        .catch(err => showError(`Javascript Error: ${err.message}<br>This usually means there's a typo in your chart specification. See the javascript console for the full traceback.`));\n",
       "    }\n",
       "\n",
       "    if(typeof define === \"function\" && define.amd) {\n",
       "      requirejs.config({paths});\n",
       "      let deps = [\"vega-embed\"];\n",
       "      require(deps, displayChart, err => showError(`Error loading script: ${err.message}`));\n",
       "    } else {\n",
       "      maybeLoadScript(\"vega\", \"5\")\n",
       "        .then(() => maybeLoadScript(\"vega-lite\", \"5.20.1\"))\n",
       "        .then(() => maybeLoadScript(\"vega-embed\", \"6\"))\n",
       "        .catch(showError)\n",
       "        .then(() => displayChart(vegaEmbed));\n",
       "    }\n",
       "  })({\"autosize\": {\"contains\": \"content\", \"resize\": true}, \"config\": {\"style\": {\"group-title\": {\"fontSize\": 24}, \"group-subtitle\": {\"fontSize\": 18}, \"guide-label\": {\"fontSize\": 16, \"font\": \"sans-serif\"}, \"guide-title\": {\"fontSize\": 18, \"font\": \"sans-serif\"}}, \"mark\": {\"color\": \"#1f8fff\"}, \"title\": {\"anchor\": \"start\", \"offset\": 20}, \"legend\": {\"orient\": \"right\", \"titleAnchor\": \"start\", \"layout\": {\"direction\": \"vertical\"}, \"labelFontSize\": 16.0, \"titleFontSize\": 18.0}, \"axis\": {\"labelFontSize\": 16.0, \"titleFontSize\": 18.0}}, \"data\": {\"values\": [{\"period_start\": \"1988-01-01T00:00:00\", \"period_end\": \"1988-12-31T00:00:00\", \"evaluation_date\": \"1988-12-31T00:00:00\", \"dev_lag\": 0.0, \"Number of Fields\": 3, \"Fields\": \"Paid Loss ($952,000), Reported Loss ($1,722,000), Earned Premium ($5,812,000)\"}, {\"period_start\": \"1988-01-01T00:00:00\", \"period_end\": \"1988-12-31T00:00:00\", \"evaluation_date\": \"1989-12-31T00:00:00\", \"dev_lag\": 12.0, \"Number of Fields\": 3, \"Fields\": \"Paid Loss ($1,529,000), Reported Loss ($3,830,000), Earned Premium ($5,812,000)\"}, {\"period_start\": \"1988-01-01T00:00:00\", \"period_end\": \"1988-12-31T00:00:00\", \"evaluation_date\": \"1990-12-31T00:00:00\", \"dev_lag\": 24.0, \"Number of Fields\": 3, \"Fields\": \"Paid Loss ($2,813,000), Reported Loss ($3,603,000), Earned Premium ($5,812,000)\"}, {\"period_start\": \"1988-01-01T00:00:00\", \"period_end\": \"1988-12-31T00:00:00\", \"evaluation_date\": \"1991-12-31T00:00:00\", \"dev_lag\": 36.0, \"Number of Fields\": 3, \"Fields\": \"Paid Loss ($3,647,000), Reported Loss ($3,835,000), Earned Premium ($5,812,000)\"}, {\"period_start\": \"1988-01-01T00:00:00\", \"period_end\": \"1988-12-31T00:00:00\", \"evaluation_date\": \"1992-12-31T00:00:00\", \"dev_lag\": 48.0, \"Number of Fields\": 3, \"Fields\": \"Paid Loss ($3,724,000), Reported Loss ($3,873,000), Earned Premium ($5,812,000)\"}, {\"period_start\": \"1988-01-01T00:00:00\", \"period_end\": \"1988-12-31T00:00:00\", \"evaluation_date\": \"1993-12-31T00:00:00\", \"dev_lag\": 60.0, \"Number of Fields\": 3, \"Fields\": \"Paid Loss ($3,832,000), Reported Loss ($3,895,000), Earned Premium ($5,812,000)\"}, {\"period_start\": \"1988-01-01T00:00:00\", \"period_end\": \"1988-12-31T00:00:00\", \"evaluation_date\": \"1994-12-31T00:00:00\", \"dev_lag\": 72.0, \"Number of Fields\": 3, \"Fields\": \"Paid Loss ($3,899,000), Reported Loss ($3,918,000), Earned Premium ($5,812,000)\"}, {\"period_start\": \"1988-01-01T00:00:00\", \"period_end\": \"1988-12-31T00:00:00\", \"evaluation_date\": \"1995-12-31T00:00:00\", \"dev_lag\": 84.0, \"Number of Fields\": 3, \"Fields\": \"Paid Loss ($3,907,000), Reported Loss ($3,918,000), Earned Premium ($5,812,000)\"}, {\"period_start\": \"1988-01-01T00:00:00\", \"period_end\": \"1988-12-31T00:00:00\", \"evaluation_date\": \"1996-12-31T00:00:00\", \"dev_lag\": 96.0, \"Number of Fields\": 3, \"Fields\": \"Paid Loss ($3,911,000), Reported Loss ($3,917,000), Earned Premium ($5,812,000)\"}, {\"period_start\": \"1988-01-01T00:00:00\", \"period_end\": \"1988-12-31T00:00:00\", \"evaluation_date\": \"1997-12-31T00:00:00\", \"dev_lag\": 108.0, \"Number of Fields\": 3, \"Fields\": \"Paid Loss ($3,912,000), Reported Loss ($3,917,000), Earned Premium ($5,812,000)\"}, {\"period_start\": \"1989-01-01T00:00:00\", \"period_end\": \"1989-12-31T00:00:00\", \"evaluation_date\": \"1989-12-31T00:00:00\", \"dev_lag\": 0.0, \"Number of Fields\": 3, \"Fields\": \"Paid Loss ($849,000), Reported Loss ($1,581,000), Earned Premium ($4,908,000)\"}, {\"period_start\": \"1989-01-01T00:00:00\", \"period_end\": \"1989-12-31T00:00:00\", \"evaluation_date\": \"1990-12-31T00:00:00\", \"dev_lag\": 12.0, \"Number of Fields\": 3, \"Fields\": \"Paid Loss ($1,564,000), Reported Loss ($2,192,000), Earned Premium ($4,908,000)\"}, {\"period_start\": \"1989-01-01T00:00:00\", \"period_end\": \"1989-12-31T00:00:00\", \"evaluation_date\": \"1991-12-31T00:00:00\", \"dev_lag\": 24.0, \"Number of Fields\": 3, \"Fields\": \"Paid Loss ($2,202,000), Reported Loss ($2,528,000), Earned Premium ($4,908,000)\"}, {\"period_start\": \"1989-01-01T00:00:00\", \"period_end\": \"1989-12-31T00:00:00\", \"evaluation_date\": \"1992-12-31T00:00:00\", \"dev_lag\": 36.0, \"Number of Fields\": 3, \"Fields\": \"Paid Loss ($2,432,000), Reported Loss ($2,533,000), Earned Premium ($4,908,000)\"}, {\"period_start\": \"1989-01-01T00:00:00\", \"period_end\": \"1989-12-31T00:00:00\", \"evaluation_date\": \"1993-12-31T00:00:00\", \"dev_lag\": 48.0, \"Number of Fields\": 3, \"Fields\": \"Paid Loss ($2,468,000), Reported Loss ($2,528,000), Earned Premium ($4,908,000)\"}, {\"period_start\": \"1989-01-01T00:00:00\", \"period_end\": \"1989-12-31T00:00:00\", \"evaluation_date\": \"1994-12-31T00:00:00\", \"dev_lag\": 60.0, \"Number of Fields\": 3, \"Fields\": \"Paid Loss ($2,487,000), Reported Loss ($2,530,000), Earned Premium ($4,908,000)\"}, {\"period_start\": \"1989-01-01T00:00:00\", \"period_end\": \"1989-12-31T00:00:00\", \"evaluation_date\": \"1995-12-31T00:00:00\", \"dev_lag\": 72.0, \"Number of Fields\": 3, \"Fields\": \"Paid Loss ($2,513,000), Reported Loss ($2,534,000), Earned Premium ($4,908,000)\"}, {\"period_start\": \"1989-01-01T00:00:00\", \"period_end\": \"1989-12-31T00:00:00\", \"evaluation_date\": \"1996-12-31T00:00:00\", \"dev_lag\": 84.0, \"Number of Fields\": 3, \"Fields\": \"Paid Loss ($2,526,000), Reported Loss ($2,541,000), Earned Premium ($4,908,000)\"}, {\"period_start\": \"1989-01-01T00:00:00\", \"period_end\": \"1989-12-31T00:00:00\", \"evaluation_date\": \"1997-12-31T00:00:00\", \"dev_lag\": 96.0, \"Number of Fields\": 3, \"Fields\": \"Paid Loss ($2,531,000), Reported Loss ($2,538,000), Earned Premium ($4,908,000)\"}, {\"period_start\": \"1989-01-01T00:00:00\", \"period_end\": \"1989-12-31T00:00:00\", \"evaluation_date\": \"1998-12-31T00:00:00\", \"dev_lag\": 108.0, \"Number of Fields\": 3, \"Fields\": \"Paid Loss ($2,527,000), Reported Loss ($2,532,000), Earned Premium ($4,908,000)\"}, {\"period_start\": \"1990-01-01T00:00:00\", \"period_end\": \"1990-12-31T00:00:00\", \"evaluation_date\": \"1990-12-31T00:00:00\", \"dev_lag\": 0.0, \"Number of Fields\": 3, \"Fields\": \"Paid Loss ($983,000), Reported Loss ($1,834,000), Earned Premium ($5,454,000)\"}, {\"period_start\": \"1990-01-01T00:00:00\", \"period_end\": \"1990-12-31T00:00:00\", \"evaluation_date\": \"1991-12-31T00:00:00\", \"dev_lag\": 12.0, \"Number of Fields\": 3, \"Fields\": \"Paid Loss ($2,211,000), Reported Loss ($3,009,000), Earned Premium ($5,454,000)\"}, {\"period_start\": \"1990-01-01T00:00:00\", \"period_end\": \"1990-12-31T00:00:00\", \"evaluation_date\": \"1992-12-31T00:00:00\", \"dev_lag\": 24.0, \"Number of Fields\": 3, \"Fields\": \"Paid Loss ($2,830,000), Reported Loss ($3,488,000), Earned Premium ($5,454,000)\"}, {\"period_start\": \"1990-01-01T00:00:00\", \"period_end\": \"1990-12-31T00:00:00\", \"evaluation_date\": \"1993-12-31T00:00:00\", \"dev_lag\": 36.0, \"Number of Fields\": 3, \"Fields\": \"Paid Loss ($3,832,000), Reported Loss ($4,000,000), Earned Premium ($5,454,000)\"}, {\"period_start\": \"1990-01-01T00:00:00\", \"period_end\": \"1990-12-31T00:00:00\", \"evaluation_date\": \"1994-12-31T00:00:00\", \"dev_lag\": 48.0, \"Number of Fields\": 3, \"Fields\": \"Paid Loss ($4,039,000), Reported Loss ($4,105,000), Earned Premium ($5,454,000)\"}, {\"period_start\": \"1990-01-01T00:00:00\", \"period_end\": \"1990-12-31T00:00:00\", \"evaluation_date\": \"1995-12-31T00:00:00\", \"dev_lag\": 60.0, \"Number of Fields\": 3, \"Fields\": \"Paid Loss ($4,065,000), Reported Loss ($4,087,000), Earned Premium ($5,454,000)\"}, {\"period_start\": \"1990-01-01T00:00:00\", \"period_end\": \"1990-12-31T00:00:00\", \"evaluation_date\": \"1996-12-31T00:00:00\", \"dev_lag\": 72.0, \"Number of Fields\": 3, \"Fields\": \"Paid Loss ($4,102,000), Reported Loss ($4,112,000), Earned Premium ($5,454,000)\"}, {\"period_start\": \"1990-01-01T00:00:00\", \"period_end\": \"1990-12-31T00:00:00\", \"evaluation_date\": \"1997-12-31T00:00:00\", \"dev_lag\": 84.0, \"Number of Fields\": 3, \"Fields\": \"Paid Loss ($4,155,000), Reported Loss ($4,170,000), Earned Premium ($5,454,000)\"}, {\"period_start\": \"1990-01-01T00:00:00\", \"period_end\": \"1990-12-31T00:00:00\", \"evaluation_date\": \"1998-12-31T00:00:00\", \"dev_lag\": 96.0, \"Number of Fields\": 3, \"Fields\": \"Paid Loss ($4,268,000), Reported Loss ($4,271,000), Earned Premium ($5,454,000)\"}, {\"period_start\": \"1990-01-01T00:00:00\", \"period_end\": \"1990-12-31T00:00:00\", \"evaluation_date\": \"1999-12-31T00:00:00\", \"dev_lag\": 108.0, \"Number of Fields\": 3, \"Fields\": \"Paid Loss ($4,274,000), Reported Loss ($4,279,000), Earned Premium ($5,454,000)\"}, {\"period_start\": \"1991-01-01T00:00:00\", \"period_end\": \"1991-12-31T00:00:00\", \"evaluation_date\": \"1991-12-31T00:00:00\", \"dev_lag\": 0.0, \"Number of Fields\": 3, \"Fields\": \"Paid Loss ($1,657,000), Reported Loss ($2,305,000), Earned Premium ($5,165,000)\"}, {\"period_start\": \"1991-01-01T00:00:00\", \"period_end\": \"1991-12-31T00:00:00\", \"evaluation_date\": \"1992-12-31T00:00:00\", \"dev_lag\": 12.0, \"Number of Fields\": 3, \"Fields\": \"Paid Loss ($2,685,000), Reported Loss ($3,473,000), Earned Premium ($5,165,000)\"}, {\"period_start\": \"1991-01-01T00:00:00\", \"period_end\": \"1991-12-31T00:00:00\", \"evaluation_date\": \"1993-12-31T00:00:00\", \"dev_lag\": 24.0, \"Number of Fields\": 3, \"Fields\": \"Paid Loss ($3,169,000), Reported Loss ($3,713,000), Earned Premium ($5,165,000)\"}, {\"period_start\": \"1991-01-01T00:00:00\", \"period_end\": \"1991-12-31T00:00:00\", \"evaluation_date\": \"1994-12-31T00:00:00\", \"dev_lag\": 36.0, \"Number of Fields\": 3, \"Fields\": \"Paid Loss ($3,600,000), Reported Loss ($4,018,000), Earned Premium ($5,165,000)\"}, {\"period_start\": \"1991-01-01T00:00:00\", \"period_end\": \"1991-12-31T00:00:00\", \"evaluation_date\": \"1995-12-31T00:00:00\", \"dev_lag\": 48.0, \"Number of Fields\": 3, \"Fields\": \"Paid Loss ($3,900,000), Reported Loss ($4,295,000), Earned Premium ($5,165,000)\"}, {\"period_start\": \"1991-01-01T00:00:00\", \"period_end\": \"1991-12-31T00:00:00\", \"evaluation_date\": \"1996-12-31T00:00:00\", \"dev_lag\": 60.0, \"Number of Fields\": 3, \"Fields\": \"Paid Loss ($4,320,000), Reported Loss ($4,334,000), Earned Premium ($5,165,000)\"}, {\"period_start\": \"1991-01-01T00:00:00\", \"period_end\": \"1991-12-31T00:00:00\", \"evaluation_date\": \"1997-12-31T00:00:00\", \"dev_lag\": 72.0, \"Number of Fields\": 3, \"Fields\": \"Paid Loss ($4,332,000), Reported Loss ($4,343,000), Earned Premium ($5,165,000)\"}, {\"period_start\": \"1991-01-01T00:00:00\", \"period_end\": \"1991-12-31T00:00:00\", \"evaluation_date\": \"1998-12-31T00:00:00\", \"dev_lag\": 84.0, \"Number of Fields\": 3, \"Fields\": \"Paid Loss ($4,338,000), Reported Loss ($4,340,000), Earned Premium ($5,165,000)\"}, {\"period_start\": \"1991-01-01T00:00:00\", \"period_end\": \"1991-12-31T00:00:00\", \"evaluation_date\": \"1999-12-31T00:00:00\", \"dev_lag\": 96.0, \"Number of Fields\": 3, \"Fields\": \"Paid Loss ($4,341,000), Reported Loss ($4,342,000), Earned Premium ($5,165,000)\"}, {\"period_start\": \"1991-01-01T00:00:00\", \"period_end\": \"1991-12-31T00:00:00\", \"evaluation_date\": \"2000-12-31T00:00:00\", \"dev_lag\": 108.0, \"Number of Fields\": 3, \"Fields\": \"Paid Loss ($4,341,000), Reported Loss ($4,341,000), Earned Premium ($5,165,000)\"}, {\"period_start\": \"1992-01-01T00:00:00\", \"period_end\": \"1992-12-31T00:00:00\", \"evaluation_date\": \"1992-12-31T00:00:00\", \"dev_lag\": 0.0, \"Number of Fields\": 3, \"Fields\": \"Paid Loss ($932,000), Reported Loss ($1,832,000), Earned Premium ($5,214,000)\"}, {\"period_start\": \"1992-01-01T00:00:00\", \"period_end\": \"1992-12-31T00:00:00\", \"evaluation_date\": \"1993-12-31T00:00:00\", \"dev_lag\": 12.0, \"Number of Fields\": 3, \"Fields\": \"Paid Loss ($1,940,000), Reported Loss ($2,625,000), Earned Premium ($5,214,000)\"}, {\"period_start\": \"1992-01-01T00:00:00\", \"period_end\": \"1992-12-31T00:00:00\", \"evaluation_date\": \"1994-12-31T00:00:00\", \"dev_lag\": 24.0, \"Number of Fields\": 3, \"Fields\": \"Paid Loss ($2,626,000), Reported Loss ($3,086,000), Earned Premium ($5,214,000)\"}, {\"period_start\": \"1992-01-01T00:00:00\", \"period_end\": \"1992-12-31T00:00:00\", \"evaluation_date\": \"1995-12-31T00:00:00\", \"dev_lag\": 36.0, \"Number of Fields\": 3, \"Fields\": \"Paid Loss ($3,332,000), Reported Loss ($3,493,000), Earned Premium ($5,214,000)\"}, {\"period_start\": \"1992-01-01T00:00:00\", \"period_end\": \"1992-12-31T00:00:00\", \"evaluation_date\": \"1996-12-31T00:00:00\", \"dev_lag\": 48.0, \"Number of Fields\": 3, \"Fields\": \"Paid Loss ($3,368,000), Reported Loss ($3,521,000), Earned Premium ($5,214,000)\"}, {\"period_start\": \"1992-01-01T00:00:00\", \"period_end\": \"1992-12-31T00:00:00\", \"evaluation_date\": \"1997-12-31T00:00:00\", \"dev_lag\": 60.0, \"Number of Fields\": 3, \"Fields\": \"Paid Loss ($3,491,000), Reported Loss ($3,563,000), Earned Premium ($5,214,000)\"}, {\"period_start\": \"1992-01-01T00:00:00\", \"period_end\": \"1992-12-31T00:00:00\", \"evaluation_date\": \"1998-12-31T00:00:00\", \"dev_lag\": 72.0, \"Number of Fields\": 3, \"Fields\": \"Paid Loss ($3,531,000), Reported Loss ($3,542,000), Earned Premium ($5,214,000)\"}, {\"period_start\": \"1992-01-01T00:00:00\", \"period_end\": \"1992-12-31T00:00:00\", \"evaluation_date\": \"1999-12-31T00:00:00\", \"dev_lag\": 84.0, \"Number of Fields\": 3, \"Fields\": \"Paid Loss ($3,540,000), Reported Loss ($3,541,000), Earned Premium ($5,214,000)\"}, {\"period_start\": \"1992-01-01T00:00:00\", \"period_end\": \"1992-12-31T00:00:00\", \"evaluation_date\": \"2000-12-31T00:00:00\", \"dev_lag\": 96.0, \"Number of Fields\": 3, \"Fields\": \"Paid Loss ($3,540,000), Reported Loss ($3,541,000), Earned Premium ($5,214,000)\"}, {\"period_start\": \"1992-01-01T00:00:00\", \"period_end\": \"1992-12-31T00:00:00\", \"evaluation_date\": \"2001-12-31T00:00:00\", \"dev_lag\": 108.0, \"Number of Fields\": 3, \"Fields\": \"Paid Loss ($3,583,000), Reported Loss ($3,587,000), Earned Premium ($5,214,000)\"}, {\"period_start\": \"1993-01-01T00:00:00\", \"period_end\": \"1993-12-31T00:00:00\", \"evaluation_date\": \"1993-12-31T00:00:00\", \"dev_lag\": 0.0, \"Number of Fields\": 3, \"Fields\": \"Paid Loss ($1,162,000), Reported Loss ($2,289,000), Earned Premium ($5,230,000)\"}, {\"period_start\": \"1993-01-01T00:00:00\", \"period_end\": \"1993-12-31T00:00:00\", \"evaluation_date\": \"1994-12-31T00:00:00\", \"dev_lag\": 12.0, \"Number of Fields\": 3, \"Fields\": \"Paid Loss ($2,402,000), Reported Loss ($3,160,000), Earned Premium ($5,230,000)\"}, {\"period_start\": \"1993-01-01T00:00:00\", \"period_end\": \"1993-12-31T00:00:00\", \"evaluation_date\": \"1995-12-31T00:00:00\", \"dev_lag\": 24.0, \"Number of Fields\": 3, \"Fields\": \"Paid Loss ($2,799,000), Reported Loss ($3,154,000), Earned Premium ($5,230,000)\"}, {\"period_start\": \"1993-01-01T00:00:00\", \"period_end\": \"1993-12-31T00:00:00\", \"evaluation_date\": \"1996-12-31T00:00:00\", \"dev_lag\": 36.0, \"Number of Fields\": 3, \"Fields\": \"Paid Loss ($2,996,000), Reported Loss ($3,204,000), Earned Premium ($5,230,000)\"}, {\"period_start\": \"1993-01-01T00:00:00\", \"period_end\": \"1993-12-31T00:00:00\", \"evaluation_date\": \"1997-12-31T00:00:00\", \"dev_lag\": 48.0, \"Number of Fields\": 3, \"Fields\": \"Paid Loss ($3,034,000), Reported Loss ($3,190,000), Earned Premium ($5,230,000)\"}, {\"period_start\": \"1993-01-01T00:00:00\", \"period_end\": \"1993-12-31T00:00:00\", \"evaluation_date\": \"1998-12-31T00:00:00\", \"dev_lag\": 60.0, \"Number of Fields\": 3, \"Fields\": \"Paid Loss ($3,042,000), Reported Loss ($3,206,000), Earned Premium ($5,230,000)\"}, {\"period_start\": \"1993-01-01T00:00:00\", \"period_end\": \"1993-12-31T00:00:00\", \"evaluation_date\": \"1999-12-31T00:00:00\", \"dev_lag\": 72.0, \"Number of Fields\": 3, \"Fields\": \"Paid Loss ($3,230,000), Reported Loss ($3,351,000), Earned Premium ($5,230,000)\"}, {\"period_start\": \"1993-01-01T00:00:00\", \"period_end\": \"1993-12-31T00:00:00\", \"evaluation_date\": \"2000-12-31T00:00:00\", \"dev_lag\": 84.0, \"Number of Fields\": 3, \"Fields\": \"Paid Loss ($3,238,000), Reported Loss ($3,289,000), Earned Premium ($5,230,000)\"}, {\"period_start\": \"1993-01-01T00:00:00\", \"period_end\": \"1993-12-31T00:00:00\", \"evaluation_date\": \"2001-12-31T00:00:00\", \"dev_lag\": 96.0, \"Number of Fields\": 3, \"Fields\": \"Paid Loss ($3,241,000), Reported Loss ($3,267,000), Earned Premium ($5,230,000)\"}, {\"period_start\": \"1993-01-01T00:00:00\", \"period_end\": \"1993-12-31T00:00:00\", \"evaluation_date\": \"2002-12-31T00:00:00\", \"dev_lag\": 108.0, \"Number of Fields\": 3, \"Fields\": \"Paid Loss ($3,268,000), Reported Loss ($3,268,000), Earned Premium ($5,230,000)\"}, {\"period_start\": \"1994-01-01T00:00:00\", \"period_end\": \"1994-12-31T00:00:00\", \"evaluation_date\": \"1994-12-31T00:00:00\", \"dev_lag\": 0.0, \"Number of Fields\": 3, \"Fields\": \"Paid Loss ($1,478,000), Reported Loss ($2,881,000), Earned Premium ($4,992,000)\"}, {\"period_start\": \"1994-01-01T00:00:00\", \"period_end\": \"1994-12-31T00:00:00\", \"evaluation_date\": \"1995-12-31T00:00:00\", \"dev_lag\": 12.0, \"Number of Fields\": 3, \"Fields\": \"Paid Loss ($2,980,000), Reported Loss ($4,254,000), Earned Premium ($4,992,000)\"}, {\"period_start\": \"1994-01-01T00:00:00\", \"period_end\": \"1994-12-31T00:00:00\", \"evaluation_date\": \"1996-12-31T00:00:00\", \"dev_lag\": 24.0, \"Number of Fields\": 3, \"Fields\": \"Paid Loss ($3,945,000), Reported Loss ($4,841,000), Earned Premium ($4,992,000)\"}, {\"period_start\": \"1994-01-01T00:00:00\", \"period_end\": \"1994-12-31T00:00:00\", \"evaluation_date\": \"1997-12-31T00:00:00\", \"dev_lag\": 36.0, \"Number of Fields\": 3, \"Fields\": \"Paid Loss ($4,714,000), Reported Loss ($5,176,000), Earned Premium ($4,992,000)\"}, {\"period_start\": \"1994-01-01T00:00:00\", \"period_end\": \"1994-12-31T00:00:00\", \"evaluation_date\": \"1998-12-31T00:00:00\", \"dev_lag\": 48.0, \"Number of Fields\": 3, \"Fields\": \"Paid Loss ($5,462,000), Reported Loss ($5,551,000), Earned Premium ($4,992,000)\"}, {\"period_start\": \"1994-01-01T00:00:00\", \"period_end\": \"1994-12-31T00:00:00\", \"evaluation_date\": \"1999-12-31T00:00:00\", \"dev_lag\": 60.0, \"Number of Fields\": 3, \"Fields\": \"Paid Loss ($5,680,000), Reported Loss ($5,689,000), Earned Premium ($4,992,000)\"}, {\"period_start\": \"1994-01-01T00:00:00\", \"period_end\": \"1994-12-31T00:00:00\", \"evaluation_date\": \"2000-12-31T00:00:00\", \"dev_lag\": 72.0, \"Number of Fields\": 3, \"Fields\": \"Paid Loss ($5,682,000), Reported Loss ($5,683,000), Earned Premium ($4,992,000)\"}, {\"period_start\": \"1994-01-01T00:00:00\", \"period_end\": \"1994-12-31T00:00:00\", \"evaluation_date\": \"2001-12-31T00:00:00\", \"dev_lag\": 84.0, \"Number of Fields\": 3, \"Fields\": \"Paid Loss ($5,683,000), Reported Loss ($5,688,000), Earned Premium ($4,992,000)\"}, {\"period_start\": \"1994-01-01T00:00:00\", \"period_end\": \"1994-12-31T00:00:00\", \"evaluation_date\": \"2002-12-31T00:00:00\", \"dev_lag\": 96.0, \"Number of Fields\": 3, \"Fields\": \"Paid Loss ($5,684,000), Reported Loss ($5,684,000), Earned Premium ($4,992,000)\"}, {\"period_start\": \"1994-01-01T00:00:00\", \"period_end\": \"1994-12-31T00:00:00\", \"evaluation_date\": \"2003-12-31T00:00:00\", \"dev_lag\": 108.0, \"Number of Fields\": 3, \"Fields\": \"Paid Loss ($5,684,000), Reported Loss ($5,684,000), Earned Premium ($4,992,000)\"}, {\"period_start\": \"1995-01-01T00:00:00\", \"period_end\": \"1995-12-31T00:00:00\", \"evaluation_date\": \"1995-12-31T00:00:00\", \"dev_lag\": 0.0, \"Number of Fields\": 3, \"Fields\": \"Paid Loss ($1,240,000), Reported Loss ($2,849,000), Earned Premium ($5,466,000)\"}, {\"period_start\": \"1995-01-01T00:00:00\", \"period_end\": \"1995-12-31T00:00:00\", \"evaluation_date\": \"1996-12-31T00:00:00\", \"dev_lag\": 12.0, \"Number of Fields\": 3, \"Fields\": \"Paid Loss ($2,080,000), Reported Loss ($2,956,000), Earned Premium ($5,466,000)\"}, {\"period_start\": \"1995-01-01T00:00:00\", \"period_end\": \"1995-12-31T00:00:00\", \"evaluation_date\": \"1997-12-31T00:00:00\", \"dev_lag\": 24.0, \"Number of Fields\": 3, \"Fields\": \"Paid Loss ($2,607,000), Reported Loss ($3,382,000), Earned Premium ($5,466,000)\"}, {\"period_start\": \"1995-01-01T00:00:00\", \"period_end\": \"1995-12-31T00:00:00\", \"evaluation_date\": \"1998-12-31T00:00:00\", \"dev_lag\": 36.0, \"Number of Fields\": 3, \"Fields\": \"Paid Loss ($3,080,000), Reported Loss ($3,755,000), Earned Premium ($5,466,000)\"}, {\"period_start\": \"1995-01-01T00:00:00\", \"period_end\": \"1995-12-31T00:00:00\", \"evaluation_date\": \"1999-12-31T00:00:00\", \"dev_lag\": 48.0, \"Number of Fields\": 3, \"Fields\": \"Paid Loss ($3,678,000), Reported Loss ($4,148,000), Earned Premium ($5,466,000)\"}, {\"period_start\": \"1995-01-01T00:00:00\", \"period_end\": \"1995-12-31T00:00:00\", \"evaluation_date\": \"2000-12-31T00:00:00\", \"dev_lag\": 60.0, \"Number of Fields\": 3, \"Fields\": \"Paid Loss ($4,002,000), Reported Loss ($4,123,000), Earned Premium ($5,466,000)\"}, {\"period_start\": \"1995-01-01T00:00:00\", \"period_end\": \"1995-12-31T00:00:00\", \"evaluation_date\": \"2001-12-31T00:00:00\", \"dev_lag\": 72.0, \"Number of Fields\": 3, \"Fields\": \"Paid Loss ($4,117,000), Reported Loss ($4,126,000), Earned Premium ($5,466,000)\"}, {\"period_start\": \"1995-01-01T00:00:00\", \"period_end\": \"1995-12-31T00:00:00\", \"evaluation_date\": \"2002-12-31T00:00:00\", \"dev_lag\": 84.0, \"Number of Fields\": 3, \"Fields\": \"Paid Loss ($4,125,000), Reported Loss ($4,127,000), Earned Premium ($5,466,000)\"}, {\"period_start\": \"1995-01-01T00:00:00\", \"period_end\": \"1995-12-31T00:00:00\", \"evaluation_date\": \"2003-12-31T00:00:00\", \"dev_lag\": 96.0, \"Number of Fields\": 3, \"Fields\": \"Paid Loss ($4,128,000), Reported Loss ($4,128,000), Earned Premium ($5,466,000)\"}, {\"period_start\": \"1995-01-01T00:00:00\", \"period_end\": \"1995-12-31T00:00:00\", \"evaluation_date\": \"2004-12-31T00:00:00\", \"dev_lag\": 108.0, \"Number of Fields\": 3, \"Fields\": \"Paid Loss ($4,128,000), Reported Loss ($4,128,000), Earned Premium ($5,466,000)\"}, {\"period_start\": \"1996-01-01T00:00:00\", \"period_end\": \"1996-12-31T00:00:00\", \"evaluation_date\": \"1996-12-31T00:00:00\", \"dev_lag\": 0.0, \"Number of Fields\": 3, \"Fields\": \"Paid Loss ($1,326,000), Reported Loss ($2,541,000), Earned Premium ($5,226,000)\"}, {\"period_start\": \"1996-01-01T00:00:00\", \"period_end\": \"1996-12-31T00:00:00\", \"evaluation_date\": \"1997-12-31T00:00:00\", \"dev_lag\": 12.0, \"Number of Fields\": 3, \"Fields\": \"Paid Loss ($2,412,000), Reported Loss ($3,307,000), Earned Premium ($5,226,000)\"}, {\"period_start\": \"1996-01-01T00:00:00\", \"period_end\": \"1996-12-31T00:00:00\", \"evaluation_date\": \"1998-12-31T00:00:00\", \"dev_lag\": 24.0, \"Number of Fields\": 3, \"Fields\": \"Paid Loss ($3,367,000), Reported Loss ($3,789,000), Earned Premium ($5,226,000)\"}, {\"period_start\": \"1996-01-01T00:00:00\", \"period_end\": \"1996-12-31T00:00:00\", \"evaluation_date\": \"1999-12-31T00:00:00\", \"dev_lag\": 36.0, \"Number of Fields\": 3, \"Fields\": \"Paid Loss ($3,843,000), Reported Loss ($3,973,000), Earned Premium ($5,226,000)\"}, {\"period_start\": \"1996-01-01T00:00:00\", \"period_end\": \"1996-12-31T00:00:00\", \"evaluation_date\": \"2000-12-31T00:00:00\", \"dev_lag\": 48.0, \"Number of Fields\": 3, \"Fields\": \"Paid Loss ($3,965,000), Reported Loss ($4,031,000), Earned Premium ($5,226,000)\"}, {\"period_start\": \"1996-01-01T00:00:00\", \"period_end\": \"1996-12-31T00:00:00\", \"evaluation_date\": \"2001-12-31T00:00:00\", \"dev_lag\": 60.0, \"Number of Fields\": 3, \"Fields\": \"Paid Loss ($4,127,000), Reported Loss ($4,157,000), Earned Premium ($5,226,000)\"}, {\"period_start\": \"1996-01-01T00:00:00\", \"period_end\": \"1996-12-31T00:00:00\", \"evaluation_date\": \"2002-12-31T00:00:00\", \"dev_lag\": 72.0, \"Number of Fields\": 3, \"Fields\": \"Paid Loss ($4,133,000), Reported Loss ($4,143,000), Earned Premium ($5,226,000)\"}, {\"period_start\": \"1996-01-01T00:00:00\", \"period_end\": \"1996-12-31T00:00:00\", \"evaluation_date\": \"2003-12-31T00:00:00\", \"dev_lag\": 84.0, \"Number of Fields\": 3, \"Fields\": \"Paid Loss ($4,141,000), Reported Loss ($4,142,000), Earned Premium ($5,226,000)\"}, {\"period_start\": \"1996-01-01T00:00:00\", \"period_end\": \"1996-12-31T00:00:00\", \"evaluation_date\": \"2004-12-31T00:00:00\", \"dev_lag\": 96.0, \"Number of Fields\": 3, \"Fields\": \"Paid Loss ($4,142,000), Reported Loss ($4,144,000), Earned Premium ($5,226,000)\"}, {\"period_start\": \"1996-01-01T00:00:00\", \"period_end\": \"1996-12-31T00:00:00\", \"evaluation_date\": \"2005-12-31T00:00:00\", \"dev_lag\": 108.0, \"Number of Fields\": 3, \"Fields\": \"Paid Loss ($4,144,000), Reported Loss ($4,144,000), Earned Premium ($5,226,000)\"}, {\"period_start\": \"1997-01-01T00:00:00\", \"period_end\": \"1997-12-31T00:00:00\", \"evaluation_date\": \"1997-12-31T00:00:00\", \"dev_lag\": 0.0, \"Number of Fields\": 3, \"Fields\": \"Paid Loss ($1,413,000), Reported Loss ($2,203,000), Earned Premium ($4,962,000)\"}, {\"period_start\": \"1997-01-01T00:00:00\", \"period_end\": \"1997-12-31T00:00:00\", \"evaluation_date\": \"1998-12-31T00:00:00\", \"dev_lag\": 12.0, \"Number of Fields\": 3, \"Fields\": \"Paid Loss ($2,683,000), Reported Loss ($2,934,000), Earned Premium ($4,962,000)\"}, {\"period_start\": \"1997-01-01T00:00:00\", \"period_end\": \"1997-12-31T00:00:00\", \"evaluation_date\": \"1999-12-31T00:00:00\", \"dev_lag\": 24.0, \"Number of Fields\": 3, \"Fields\": \"Paid Loss ($3,173,000), Reported Loss ($3,608,000), Earned Premium ($4,962,000)\"}, {\"period_start\": \"1997-01-01T00:00:00\", \"period_end\": \"1997-12-31T00:00:00\", \"evaluation_date\": \"2000-12-31T00:00:00\", \"dev_lag\": 36.0, \"Number of Fields\": 3, \"Fields\": \"Paid Loss ($3,674,000), Reported Loss ($3,977,000), Earned Premium ($4,962,000)\"}, {\"period_start\": \"1997-01-01T00:00:00\", \"period_end\": \"1997-12-31T00:00:00\", \"evaluation_date\": \"2001-12-31T00:00:00\", \"dev_lag\": 48.0, \"Number of Fields\": 3, \"Fields\": \"Paid Loss ($3,805,000), Reported Loss ($4,040,000), Earned Premium ($4,962,000)\"}, {\"period_start\": \"1997-01-01T00:00:00\", \"period_end\": \"1997-12-31T00:00:00\", \"evaluation_date\": \"2002-12-31T00:00:00\", \"dev_lag\": 60.0, \"Number of Fields\": 3, \"Fields\": \"Paid Loss ($4,005,000), Reported Loss ($4,121,000), Earned Premium ($4,962,000)\"}, {\"period_start\": \"1997-01-01T00:00:00\", \"period_end\": \"1997-12-31T00:00:00\", \"evaluation_date\": \"2003-12-31T00:00:00\", \"dev_lag\": 72.0, \"Number of Fields\": 3, \"Fields\": \"Paid Loss ($4,020,000), Reported Loss ($4,147,000), Earned Premium ($4,962,000)\"}, {\"period_start\": \"1997-01-01T00:00:00\", \"period_end\": \"1997-12-31T00:00:00\", \"evaluation_date\": \"2004-12-31T00:00:00\", \"dev_lag\": 84.0, \"Number of Fields\": 3, \"Fields\": \"Paid Loss ($4,095,000), Reported Loss ($4,155,000), Earned Premium ($4,962,000)\"}, {\"period_start\": \"1997-01-01T00:00:00\", \"period_end\": \"1997-12-31T00:00:00\", \"evaluation_date\": \"2005-12-31T00:00:00\", \"dev_lag\": 96.0, \"Number of Fields\": 3, \"Fields\": \"Paid Loss ($4,132,000), Reported Loss ($4,183,000), Earned Premium ($4,962,000)\"}, {\"period_start\": \"1997-01-01T00:00:00\", \"period_end\": \"1997-12-31T00:00:00\", \"evaluation_date\": \"2006-12-31T00:00:00\", \"dev_lag\": 108.0, \"Number of Fields\": 3, \"Fields\": \"Paid Loss ($4,139,000), Reported Loss ($4,181,000), Earned Premium ($4,962,000)\"}]}, \"mark\": {\"type\": \"circle\", \"opacity\": 1, \"size\": 500.0}, \"encoding\": {\"color\": {\"condition\": {\"param\": \"param_9\", \"field\": \"Number of Fields\", \"scale\": {\"scheme\": \"dark2\"}, \"type\": \"nominal\"}, \"value\": \"lightgray\"}, \"tooltip\": [{\"field\": \"period_start\", \"title\": \"Period Start\", \"type\": \"temporal\"}, {\"field\": \"period_end\", \"title\": \"Period End\", \"type\": \"temporal\"}, {\"field\": \"evaluation_date\", \"title\": \"Evaluation Date\", \"type\": \"temporal\"}, {\"field\": \"dev_lag\", \"title\": \"Dev Lag (months)\", \"type\": \"nominal\"}, {\"field\": \"Fields\", \"type\": \"nominal\"}], \"x\": {\"axis\": {\"labelAngle\": 0}, \"field\": \"dev_lag\", \"scale\": {\"zero\": true}, \"title\": \"Dev Lag (months)\", \"type\": \"nominal\"}, \"y\": {\"field\": \"period_start\", \"scale\": {\"padding\": 15, \"reverse\": true}, \"timeUnit\": \"yearmonth\", \"title\": \"Period Start\", \"type\": \"temporal\"}}, \"height\": 300, \"params\": [{\"name\": \"param_9\", \"select\": {\"type\": \"point\"}}, {\"name\": \"param_10\", \"select\": {\"type\": \"interval\", \"encodings\": [\"x\", \"y\"]}, \"bind\": \"scales\"}], \"title\": {\"text\": \"Triangle Completeness\", \"subtitle\": \"The number of data fields available per cell\"}, \"width\": 400, \"$schema\": \"https://vega.github.io/schema/vega-lite/v5.20.1.json\"}, {\"mode\": \"vega-lite\"});\n",
       "</script>"
      ],
      "text/plain": [
       "alt.Chart(...)"
      ]
     },
     "execution_count": 21,
     "metadata": {},
     "output_type": "execute_result"
    }
   ],
   "source": [
    "meyers = tri.meyers_tri\n",
    "meyers.plot_data_completeness()"
   ]
  },
  {
   "cell_type": "code",
   "execution_count": 22,
   "id": "0303767e-c93b-4160-bab4-57a8c1477374",
   "metadata": {},
   "outputs": [
    {
     "data": {
      "text/html": [
       "<table>  <thead>    <tr><th> <h4><b>Cumulative Triangle</b></h4> </th></tr>\n",
       "  </thead>\n",
       "  <tbody>\n",
       "    <tr><th> Number of slices: </th><td> 1 </td></tr>\n",
       "    <tr><th> Number of cells: </th><td> 100 </td></tr>\n",
       "    <tr><th> Triangle category: </th><td> Regular </td></tr>\n",
       "    <tr><th> Experience range: </th><td> 1988-01-01/1997-12-31 </td></tr>\n",
       "    <tr><th> Experience resolution: </th><td> 12 </td></tr>\n",
       "    <tr><th> Evaluation range: </th><td> 1988-12-31/2006-12-31 </td></tr>\n",
       "    <tr><th> Evaluation resolution: </th><td> 12 </td></tr>\n",
       "    <tr><th> Dev Lag range: </th><td> 0.0 - 108.0 months </td></tr>\n",
       "<tr><th colspan=2 style=\"text-align:center\"> Fields: </th></tr>\n",
       "<tr><td>   </td><td>earned_premium</td></tr>\n",
       "<tr><td>   </td><td>paid_loss</td></tr>\n",
       "<tr><td>   </td><td>reported_loss</td></tr>\n",
       "    <tr><th colspan=2 style=\"text-align:center\"> Common Metadata: </th></tr>\n",
       "<tr><td>   </td><th>currency</th> <td> USD </td></tr>\n",
       "<tr><td>   </td><th>country</th> <td> US </td></tr>\n",
       "<tr><td>   </td><th>risk_basis</th> <td> Accident </td></tr>\n",
       "<tr><td>   </td><th>reinsurance_basis</th> <td> Net </td></tr>\n",
       "<tr><td>   </td><th>loss_definition</th> <td> Loss+DCC </td></tr>\n",
       "  </tbody>\n",
       "</table>"
      ],
      "text/plain": [
       "       Cumulative Triangle \n",
       "\n",
       "\n",
       " Number of slices:  1 \n",
       " Number of cells:  100 \n",
       " Triangle category:  Regular \n",
       " Experience range:  1988-01-01/1997-12-31 \n",
       " Experience resolution:  12 \n",
       " Evaluation range:  1988-12-31/2006-12-31 \n",
       " Evaluation resolution:  12 \n",
       " Dev Lag range:  0.0 - 108.0 months \n",
       " Fields: \n",
       "   earned_premium\n",
       "   paid_loss\n",
       "   reported_loss\n",
       " Common Metadata: \n",
       "   currency  USD \n",
       "   country  US \n",
       "   risk_basis  Accident \n",
       "   reinsurance_basis  Net \n",
       "   loss_definition  Loss+DCC \n"
      ]
     },
     "execution_count": 22,
     "metadata": {},
     "output_type": "execute_result"
    }
   ],
   "source": [
    "meyers"
   ]
  },
  {
   "cell_type": "code",
   "execution_count": 23,
   "id": "f83ef885-7ba7-484f-ad90-58f3225893cd",
   "metadata": {},
   "outputs": [
    {
     "data": {
      "text/plain": [
       "['earned_premium', 'paid_loss', 'reported_loss']"
      ]
     },
     "execution_count": 23,
     "metadata": {},
     "output_type": "execute_result"
    }
   ],
   "source": [
    "meyers.fields"
   ]
  },
  {
   "cell_type": "code",
   "execution_count": 24,
   "id": "a0ef2cfb-8011-4dcd-bc99-032e6a70a6c0",
   "metadata": {},
   "outputs": [
    {
     "data": {
      "text/plain": [
       "[(datetime.date(1988, 1, 1), datetime.date(1988, 12, 31)),\n",
       " (datetime.date(1989, 1, 1), datetime.date(1989, 12, 31)),\n",
       " (datetime.date(1990, 1, 1), datetime.date(1990, 12, 31)),\n",
       " (datetime.date(1991, 1, 1), datetime.date(1991, 12, 31)),\n",
       " (datetime.date(1992, 1, 1), datetime.date(1992, 12, 31)),\n",
       " (datetime.date(1993, 1, 1), datetime.date(1993, 12, 31)),\n",
       " (datetime.date(1994, 1, 1), datetime.date(1994, 12, 31)),\n",
       " (datetime.date(1995, 1, 1), datetime.date(1995, 12, 31)),\n",
       " (datetime.date(1996, 1, 1), datetime.date(1996, 12, 31)),\n",
       " (datetime.date(1997, 1, 1), datetime.date(1997, 12, 31))]"
      ]
     },
     "execution_count": 24,
     "metadata": {},
     "output_type": "execute_result"
    }
   ],
   "source": [
    "meyers.periods"
   ]
  },
  {
   "cell_type": "code",
   "execution_count": 25,
   "id": "80576947-c5cf-4e00-a9da-be2f6703594d",
   "metadata": {},
   "outputs": [
    {
     "data": {
      "text/plain": [
       "[datetime.date(1988, 12, 31),\n",
       " datetime.date(1989, 12, 31),\n",
       " datetime.date(1990, 12, 31),\n",
       " datetime.date(1991, 12, 31),\n",
       " datetime.date(1992, 12, 31),\n",
       " datetime.date(1993, 12, 31),\n",
       " datetime.date(1994, 12, 31),\n",
       " datetime.date(1995, 12, 31),\n",
       " datetime.date(1996, 12, 31),\n",
       " datetime.date(1997, 12, 31),\n",
       " datetime.date(1998, 12, 31),\n",
       " datetime.date(1999, 12, 31),\n",
       " datetime.date(2000, 12, 31),\n",
       " datetime.date(2001, 12, 31),\n",
       " datetime.date(2002, 12, 31),\n",
       " datetime.date(2003, 12, 31),\n",
       " datetime.date(2004, 12, 31),\n",
       " datetime.date(2005, 12, 31),\n",
       " datetime.date(2006, 12, 31)]"
      ]
     },
     "execution_count": 25,
     "metadata": {},
     "output_type": "execute_result"
    }
   ],
   "source": [
    "meyers.evaluation_dates"
   ]
  },
  {
   "cell_type": "markdown",
   "id": "2b9f7bb6-9826-4eb1-a574-3939a5f909c5",
   "metadata": {},
   "source": [
    "# Manipulation"
   ]
  },
  {
   "cell_type": "markdown",
   "id": "eaa2b4e4-e3c6-4af4-b375-0aa7539a740f",
   "metadata": {},
   "source": [
    "### Clipping"
   ]
  },
  {
   "cell_type": "code",
   "execution_count": 27,
   "id": "32644ac0-bb9d-4937-a278-fcb6e12b5be0",
   "metadata": {},
   "outputs": [
    {
     "data": {
      "text/html": [
       "\n",
       "<style>\n",
       "  #altair-viz-1e0476af1f9c4802aa01e69f796af462.vega-embed {\n",
       "    width: 100%;\n",
       "    display: flex;\n",
       "  }\n",
       "\n",
       "  #altair-viz-1e0476af1f9c4802aa01e69f796af462.vega-embed details,\n",
       "  #altair-viz-1e0476af1f9c4802aa01e69f796af462.vega-embed details summary {\n",
       "    position: relative;\n",
       "  }\n",
       "</style>\n",
       "<div id=\"altair-viz-1e0476af1f9c4802aa01e69f796af462\"></div>\n",
       "<script type=\"text/javascript\">\n",
       "  var VEGA_DEBUG = (typeof VEGA_DEBUG == \"undefined\") ? {} : VEGA_DEBUG;\n",
       "  (function(spec, embedOpt){\n",
       "    let outputDiv = document.currentScript.previousElementSibling;\n",
       "    if (outputDiv.id !== \"altair-viz-1e0476af1f9c4802aa01e69f796af462\") {\n",
       "      outputDiv = document.getElementById(\"altair-viz-1e0476af1f9c4802aa01e69f796af462\");\n",
       "    }\n",
       "\n",
       "    const paths = {\n",
       "      \"vega\": \"https://cdn.jsdelivr.net/npm/vega@5?noext\",\n",
       "      \"vega-lib\": \"https://cdn.jsdelivr.net/npm/vega-lib?noext\",\n",
       "      \"vega-lite\": \"https://cdn.jsdelivr.net/npm/vega-lite@5.20.1?noext\",\n",
       "      \"vega-embed\": \"https://cdn.jsdelivr.net/npm/vega-embed@6?noext\",\n",
       "    };\n",
       "\n",
       "    function maybeLoadScript(lib, version) {\n",
       "      var key = `${lib.replace(\"-\", \"\")}_version`;\n",
       "      return (VEGA_DEBUG[key] == version) ?\n",
       "        Promise.resolve(paths[lib]) :\n",
       "        new Promise(function(resolve, reject) {\n",
       "          var s = document.createElement('script');\n",
       "          document.getElementsByTagName(\"head\")[0].appendChild(s);\n",
       "          s.async = true;\n",
       "          s.onload = () => {\n",
       "            VEGA_DEBUG[key] = version;\n",
       "            return resolve(paths[lib]);\n",
       "          };\n",
       "          s.onerror = () => reject(`Error loading script: ${paths[lib]}`);\n",
       "          s.src = paths[lib];\n",
       "        });\n",
       "    }\n",
       "\n",
       "    function showError(err) {\n",
       "      outputDiv.innerHTML = `<div class=\"error\" style=\"color:red;\">${err}</div>`;\n",
       "      throw err;\n",
       "    }\n",
       "\n",
       "    function displayChart(vegaEmbed) {\n",
       "      vegaEmbed(outputDiv, spec, embedOpt)\n",
       "        .catch(err => showError(`Javascript Error: ${err.message}<br>This usually means there's a typo in your chart specification. See the javascript console for the full traceback.`));\n",
       "    }\n",
       "\n",
       "    if(typeof define === \"function\" && define.amd) {\n",
       "      requirejs.config({paths});\n",
       "      let deps = [\"vega-embed\"];\n",
       "      require(deps, displayChart, err => showError(`Error loading script: ${err.message}`));\n",
       "    } else {\n",
       "      maybeLoadScript(\"vega\", \"5\")\n",
       "        .then(() => maybeLoadScript(\"vega-lite\", \"5.20.1\"))\n",
       "        .then(() => maybeLoadScript(\"vega-embed\", \"6\"))\n",
       "        .catch(showError)\n",
       "        .then(() => displayChart(vegaEmbed));\n",
       "    }\n",
       "  })({\"autosize\": {\"contains\": \"content\", \"resize\": true}, \"config\": {\"style\": {\"group-title\": {\"fontSize\": 24}, \"group-subtitle\": {\"fontSize\": 18}, \"guide-label\": {\"fontSize\": 16, \"font\": \"sans-serif\"}, \"guide-title\": {\"fontSize\": 18, \"font\": \"sans-serif\"}}, \"mark\": {\"color\": \"#1f8fff\"}, \"title\": {\"anchor\": \"start\", \"offset\": 20}, \"legend\": {\"orient\": \"right\", \"titleAnchor\": \"start\", \"layout\": {\"direction\": \"vertical\"}, \"labelFontSize\": 16.0, \"titleFontSize\": 18.0}, \"axis\": {\"labelFontSize\": 16.0, \"titleFontSize\": 18.0}}, \"data\": {\"values\": [{\"period_start\": \"1988-01-01T00:00:00\", \"period_end\": \"1988-12-31T00:00:00\", \"evaluation_date\": \"1988-12-31T00:00:00\", \"dev_lag\": 0.0, \"Number of Fields\": 3, \"Fields\": \"Paid Loss ($952,000), Reported Loss ($1,722,000), Earned Premium ($5,812,000)\"}, {\"period_start\": \"1988-01-01T00:00:00\", \"period_end\": \"1988-12-31T00:00:00\", \"evaluation_date\": \"1989-12-31T00:00:00\", \"dev_lag\": 12.0, \"Number of Fields\": 3, \"Fields\": \"Paid Loss ($1,529,000), Reported Loss ($3,830,000), Earned Premium ($5,812,000)\"}, {\"period_start\": \"1988-01-01T00:00:00\", \"period_end\": \"1988-12-31T00:00:00\", \"evaluation_date\": \"1990-12-31T00:00:00\", \"dev_lag\": 24.0, \"Number of Fields\": 3, \"Fields\": \"Paid Loss ($2,813,000), Reported Loss ($3,603,000), Earned Premium ($5,812,000)\"}, {\"period_start\": \"1988-01-01T00:00:00\", \"period_end\": \"1988-12-31T00:00:00\", \"evaluation_date\": \"1991-12-31T00:00:00\", \"dev_lag\": 36.0, \"Number of Fields\": 3, \"Fields\": \"Paid Loss ($3,647,000), Reported Loss ($3,835,000), Earned Premium ($5,812,000)\"}, {\"period_start\": \"1988-01-01T00:00:00\", \"period_end\": \"1988-12-31T00:00:00\", \"evaluation_date\": \"1992-12-31T00:00:00\", \"dev_lag\": 48.0, \"Number of Fields\": 3, \"Fields\": \"Paid Loss ($3,724,000), Reported Loss ($3,873,000), Earned Premium ($5,812,000)\"}, {\"period_start\": \"1988-01-01T00:00:00\", \"period_end\": \"1988-12-31T00:00:00\", \"evaluation_date\": \"1993-12-31T00:00:00\", \"dev_lag\": 60.0, \"Number of Fields\": 3, \"Fields\": \"Paid Loss ($3,832,000), Reported Loss ($3,895,000), Earned Premium ($5,812,000)\"}, {\"period_start\": \"1988-01-01T00:00:00\", \"period_end\": \"1988-12-31T00:00:00\", \"evaluation_date\": \"1994-12-31T00:00:00\", \"dev_lag\": 72.0, \"Number of Fields\": 3, \"Fields\": \"Paid Loss ($3,899,000), Reported Loss ($3,918,000), Earned Premium ($5,812,000)\"}, {\"period_start\": \"1988-01-01T00:00:00\", \"period_end\": \"1988-12-31T00:00:00\", \"evaluation_date\": \"1995-12-31T00:00:00\", \"dev_lag\": 84.0, \"Number of Fields\": 3, \"Fields\": \"Paid Loss ($3,907,000), Reported Loss ($3,918,000), Earned Premium ($5,812,000)\"}, {\"period_start\": \"1988-01-01T00:00:00\", \"period_end\": \"1988-12-31T00:00:00\", \"evaluation_date\": \"1996-12-31T00:00:00\", \"dev_lag\": 96.0, \"Number of Fields\": 3, \"Fields\": \"Paid Loss ($3,911,000), Reported Loss ($3,917,000), Earned Premium ($5,812,000)\"}, {\"period_start\": \"1988-01-01T00:00:00\", \"period_end\": \"1988-12-31T00:00:00\", \"evaluation_date\": \"1997-12-31T00:00:00\", \"dev_lag\": 108.0, \"Number of Fields\": 3, \"Fields\": \"Paid Loss ($3,912,000), Reported Loss ($3,917,000), Earned Premium ($5,812,000)\"}, {\"period_start\": \"1989-01-01T00:00:00\", \"period_end\": \"1989-12-31T00:00:00\", \"evaluation_date\": \"1989-12-31T00:00:00\", \"dev_lag\": 0.0, \"Number of Fields\": 3, \"Fields\": \"Paid Loss ($849,000), Reported Loss ($1,581,000), Earned Premium ($4,908,000)\"}, {\"period_start\": \"1989-01-01T00:00:00\", \"period_end\": \"1989-12-31T00:00:00\", \"evaluation_date\": \"1990-12-31T00:00:00\", \"dev_lag\": 12.0, \"Number of Fields\": 3, \"Fields\": \"Paid Loss ($1,564,000), Reported Loss ($2,192,000), Earned Premium ($4,908,000)\"}, {\"period_start\": \"1989-01-01T00:00:00\", \"period_end\": \"1989-12-31T00:00:00\", \"evaluation_date\": \"1991-12-31T00:00:00\", \"dev_lag\": 24.0, \"Number of Fields\": 3, \"Fields\": \"Paid Loss ($2,202,000), Reported Loss ($2,528,000), Earned Premium ($4,908,000)\"}, {\"period_start\": \"1989-01-01T00:00:00\", \"period_end\": \"1989-12-31T00:00:00\", \"evaluation_date\": \"1992-12-31T00:00:00\", \"dev_lag\": 36.0, \"Number of Fields\": 3, \"Fields\": \"Paid Loss ($2,432,000), Reported Loss ($2,533,000), Earned Premium ($4,908,000)\"}, {\"period_start\": \"1989-01-01T00:00:00\", \"period_end\": \"1989-12-31T00:00:00\", \"evaluation_date\": \"1993-12-31T00:00:00\", \"dev_lag\": 48.0, \"Number of Fields\": 3, \"Fields\": \"Paid Loss ($2,468,000), Reported Loss ($2,528,000), Earned Premium ($4,908,000)\"}, {\"period_start\": \"1989-01-01T00:00:00\", \"period_end\": \"1989-12-31T00:00:00\", \"evaluation_date\": \"1994-12-31T00:00:00\", \"dev_lag\": 60.0, \"Number of Fields\": 3, \"Fields\": \"Paid Loss ($2,487,000), Reported Loss ($2,530,000), Earned Premium ($4,908,000)\"}, {\"period_start\": \"1989-01-01T00:00:00\", \"period_end\": \"1989-12-31T00:00:00\", \"evaluation_date\": \"1995-12-31T00:00:00\", \"dev_lag\": 72.0, \"Number of Fields\": 3, \"Fields\": \"Paid Loss ($2,513,000), Reported Loss ($2,534,000), Earned Premium ($4,908,000)\"}, {\"period_start\": \"1989-01-01T00:00:00\", \"period_end\": \"1989-12-31T00:00:00\", \"evaluation_date\": \"1996-12-31T00:00:00\", \"dev_lag\": 84.0, \"Number of Fields\": 3, \"Fields\": \"Paid Loss ($2,526,000), Reported Loss ($2,541,000), Earned Premium ($4,908,000)\"}, {\"period_start\": \"1989-01-01T00:00:00\", \"period_end\": \"1989-12-31T00:00:00\", \"evaluation_date\": \"1997-12-31T00:00:00\", \"dev_lag\": 96.0, \"Number of Fields\": 3, \"Fields\": \"Paid Loss ($2,531,000), Reported Loss ($2,538,000), Earned Premium ($4,908,000)\"}, {\"period_start\": \"1990-01-01T00:00:00\", \"period_end\": \"1990-12-31T00:00:00\", \"evaluation_date\": \"1990-12-31T00:00:00\", \"dev_lag\": 0.0, \"Number of Fields\": 3, \"Fields\": \"Paid Loss ($983,000), Reported Loss ($1,834,000), Earned Premium ($5,454,000)\"}, {\"period_start\": \"1990-01-01T00:00:00\", \"period_end\": \"1990-12-31T00:00:00\", \"evaluation_date\": \"1991-12-31T00:00:00\", \"dev_lag\": 12.0, \"Number of Fields\": 3, \"Fields\": \"Paid Loss ($2,211,000), Reported Loss ($3,009,000), Earned Premium ($5,454,000)\"}, {\"period_start\": \"1990-01-01T00:00:00\", \"period_end\": \"1990-12-31T00:00:00\", \"evaluation_date\": \"1992-12-31T00:00:00\", \"dev_lag\": 24.0, \"Number of Fields\": 3, \"Fields\": \"Paid Loss ($2,830,000), Reported Loss ($3,488,000), Earned Premium ($5,454,000)\"}, {\"period_start\": \"1990-01-01T00:00:00\", \"period_end\": \"1990-12-31T00:00:00\", \"evaluation_date\": \"1993-12-31T00:00:00\", \"dev_lag\": 36.0, \"Number of Fields\": 3, \"Fields\": \"Paid Loss ($3,832,000), Reported Loss ($4,000,000), Earned Premium ($5,454,000)\"}, {\"period_start\": \"1990-01-01T00:00:00\", \"period_end\": \"1990-12-31T00:00:00\", \"evaluation_date\": \"1994-12-31T00:00:00\", \"dev_lag\": 48.0, \"Number of Fields\": 3, \"Fields\": \"Paid Loss ($4,039,000), Reported Loss ($4,105,000), Earned Premium ($5,454,000)\"}, {\"period_start\": \"1990-01-01T00:00:00\", \"period_end\": \"1990-12-31T00:00:00\", \"evaluation_date\": \"1995-12-31T00:00:00\", \"dev_lag\": 60.0, \"Number of Fields\": 3, \"Fields\": \"Paid Loss ($4,065,000), Reported Loss ($4,087,000), Earned Premium ($5,454,000)\"}, {\"period_start\": \"1990-01-01T00:00:00\", \"period_end\": \"1990-12-31T00:00:00\", \"evaluation_date\": \"1996-12-31T00:00:00\", \"dev_lag\": 72.0, \"Number of Fields\": 3, \"Fields\": \"Paid Loss ($4,102,000), Reported Loss ($4,112,000), Earned Premium ($5,454,000)\"}, {\"period_start\": \"1990-01-01T00:00:00\", \"period_end\": \"1990-12-31T00:00:00\", \"evaluation_date\": \"1997-12-31T00:00:00\", \"dev_lag\": 84.0, \"Number of Fields\": 3, \"Fields\": \"Paid Loss ($4,155,000), Reported Loss ($4,170,000), Earned Premium ($5,454,000)\"}, {\"period_start\": \"1991-01-01T00:00:00\", \"period_end\": \"1991-12-31T00:00:00\", \"evaluation_date\": \"1991-12-31T00:00:00\", \"dev_lag\": 0.0, \"Number of Fields\": 3, \"Fields\": \"Paid Loss ($1,657,000), Reported Loss ($2,305,000), Earned Premium ($5,165,000)\"}, {\"period_start\": \"1991-01-01T00:00:00\", \"period_end\": \"1991-12-31T00:00:00\", \"evaluation_date\": \"1992-12-31T00:00:00\", \"dev_lag\": 12.0, \"Number of Fields\": 3, \"Fields\": \"Paid Loss ($2,685,000), Reported Loss ($3,473,000), Earned Premium ($5,165,000)\"}, {\"period_start\": \"1991-01-01T00:00:00\", \"period_end\": \"1991-12-31T00:00:00\", \"evaluation_date\": \"1993-12-31T00:00:00\", \"dev_lag\": 24.0, \"Number of Fields\": 3, \"Fields\": \"Paid Loss ($3,169,000), Reported Loss ($3,713,000), Earned Premium ($5,165,000)\"}, {\"period_start\": \"1991-01-01T00:00:00\", \"period_end\": \"1991-12-31T00:00:00\", \"evaluation_date\": \"1994-12-31T00:00:00\", \"dev_lag\": 36.0, \"Number of Fields\": 3, \"Fields\": \"Paid Loss ($3,600,000), Reported Loss ($4,018,000), Earned Premium ($5,165,000)\"}, {\"period_start\": \"1991-01-01T00:00:00\", \"period_end\": \"1991-12-31T00:00:00\", \"evaluation_date\": \"1995-12-31T00:00:00\", \"dev_lag\": 48.0, \"Number of Fields\": 3, \"Fields\": \"Paid Loss ($3,900,000), Reported Loss ($4,295,000), Earned Premium ($5,165,000)\"}, {\"period_start\": \"1991-01-01T00:00:00\", \"period_end\": \"1991-12-31T00:00:00\", \"evaluation_date\": \"1996-12-31T00:00:00\", \"dev_lag\": 60.0, \"Number of Fields\": 3, \"Fields\": \"Paid Loss ($4,320,000), Reported Loss ($4,334,000), Earned Premium ($5,165,000)\"}, {\"period_start\": \"1991-01-01T00:00:00\", \"period_end\": \"1991-12-31T00:00:00\", \"evaluation_date\": \"1997-12-31T00:00:00\", \"dev_lag\": 72.0, \"Number of Fields\": 3, \"Fields\": \"Paid Loss ($4,332,000), Reported Loss ($4,343,000), Earned Premium ($5,165,000)\"}, {\"period_start\": \"1992-01-01T00:00:00\", \"period_end\": \"1992-12-31T00:00:00\", \"evaluation_date\": \"1992-12-31T00:00:00\", \"dev_lag\": 0.0, \"Number of Fields\": 3, \"Fields\": \"Paid Loss ($932,000), Reported Loss ($1,832,000), Earned Premium ($5,214,000)\"}, {\"period_start\": \"1992-01-01T00:00:00\", \"period_end\": \"1992-12-31T00:00:00\", \"evaluation_date\": \"1993-12-31T00:00:00\", \"dev_lag\": 12.0, \"Number of Fields\": 3, \"Fields\": \"Paid Loss ($1,940,000), Reported Loss ($2,625,000), Earned Premium ($5,214,000)\"}, {\"period_start\": \"1992-01-01T00:00:00\", \"period_end\": \"1992-12-31T00:00:00\", \"evaluation_date\": \"1994-12-31T00:00:00\", \"dev_lag\": 24.0, \"Number of Fields\": 3, \"Fields\": \"Paid Loss ($2,626,000), Reported Loss ($3,086,000), Earned Premium ($5,214,000)\"}, {\"period_start\": \"1992-01-01T00:00:00\", \"period_end\": \"1992-12-31T00:00:00\", \"evaluation_date\": \"1995-12-31T00:00:00\", \"dev_lag\": 36.0, \"Number of Fields\": 3, \"Fields\": \"Paid Loss ($3,332,000), Reported Loss ($3,493,000), Earned Premium ($5,214,000)\"}, {\"period_start\": \"1992-01-01T00:00:00\", \"period_end\": \"1992-12-31T00:00:00\", \"evaluation_date\": \"1996-12-31T00:00:00\", \"dev_lag\": 48.0, \"Number of Fields\": 3, \"Fields\": \"Paid Loss ($3,368,000), Reported Loss ($3,521,000), Earned Premium ($5,214,000)\"}, {\"period_start\": \"1992-01-01T00:00:00\", \"period_end\": \"1992-12-31T00:00:00\", \"evaluation_date\": \"1997-12-31T00:00:00\", \"dev_lag\": 60.0, \"Number of Fields\": 3, \"Fields\": \"Paid Loss ($3,491,000), Reported Loss ($3,563,000), Earned Premium ($5,214,000)\"}, {\"period_start\": \"1993-01-01T00:00:00\", \"period_end\": \"1993-12-31T00:00:00\", \"evaluation_date\": \"1993-12-31T00:00:00\", \"dev_lag\": 0.0, \"Number of Fields\": 3, \"Fields\": \"Paid Loss ($1,162,000), Reported Loss ($2,289,000), Earned Premium ($5,230,000)\"}, {\"period_start\": \"1993-01-01T00:00:00\", \"period_end\": \"1993-12-31T00:00:00\", \"evaluation_date\": \"1994-12-31T00:00:00\", \"dev_lag\": 12.0, \"Number of Fields\": 3, \"Fields\": \"Paid Loss ($2,402,000), Reported Loss ($3,160,000), Earned Premium ($5,230,000)\"}, {\"period_start\": \"1993-01-01T00:00:00\", \"period_end\": \"1993-12-31T00:00:00\", \"evaluation_date\": \"1995-12-31T00:00:00\", \"dev_lag\": 24.0, \"Number of Fields\": 3, \"Fields\": \"Paid Loss ($2,799,000), Reported Loss ($3,154,000), Earned Premium ($5,230,000)\"}, {\"period_start\": \"1993-01-01T00:00:00\", \"period_end\": \"1993-12-31T00:00:00\", \"evaluation_date\": \"1996-12-31T00:00:00\", \"dev_lag\": 36.0, \"Number of Fields\": 3, \"Fields\": \"Paid Loss ($2,996,000), Reported Loss ($3,204,000), Earned Premium ($5,230,000)\"}, {\"period_start\": \"1993-01-01T00:00:00\", \"period_end\": \"1993-12-31T00:00:00\", \"evaluation_date\": \"1997-12-31T00:00:00\", \"dev_lag\": 48.0, \"Number of Fields\": 3, \"Fields\": \"Paid Loss ($3,034,000), Reported Loss ($3,190,000), Earned Premium ($5,230,000)\"}, {\"period_start\": \"1994-01-01T00:00:00\", \"period_end\": \"1994-12-31T00:00:00\", \"evaluation_date\": \"1994-12-31T00:00:00\", \"dev_lag\": 0.0, \"Number of Fields\": 3, \"Fields\": \"Paid Loss ($1,478,000), Reported Loss ($2,881,000), Earned Premium ($4,992,000)\"}, {\"period_start\": \"1994-01-01T00:00:00\", \"period_end\": \"1994-12-31T00:00:00\", \"evaluation_date\": \"1995-12-31T00:00:00\", \"dev_lag\": 12.0, \"Number of Fields\": 3, \"Fields\": \"Paid Loss ($2,980,000), Reported Loss ($4,254,000), Earned Premium ($4,992,000)\"}, {\"period_start\": \"1994-01-01T00:00:00\", \"period_end\": \"1994-12-31T00:00:00\", \"evaluation_date\": \"1996-12-31T00:00:00\", \"dev_lag\": 24.0, \"Number of Fields\": 3, \"Fields\": \"Paid Loss ($3,945,000), Reported Loss ($4,841,000), Earned Premium ($4,992,000)\"}, {\"period_start\": \"1994-01-01T00:00:00\", \"period_end\": \"1994-12-31T00:00:00\", \"evaluation_date\": \"1997-12-31T00:00:00\", \"dev_lag\": 36.0, \"Number of Fields\": 3, \"Fields\": \"Paid Loss ($4,714,000), Reported Loss ($5,176,000), Earned Premium ($4,992,000)\"}, {\"period_start\": \"1995-01-01T00:00:00\", \"period_end\": \"1995-12-31T00:00:00\", \"evaluation_date\": \"1995-12-31T00:00:00\", \"dev_lag\": 0.0, \"Number of Fields\": 3, \"Fields\": \"Paid Loss ($1,240,000), Reported Loss ($2,849,000), Earned Premium ($5,466,000)\"}, {\"period_start\": \"1995-01-01T00:00:00\", \"period_end\": \"1995-12-31T00:00:00\", \"evaluation_date\": \"1996-12-31T00:00:00\", \"dev_lag\": 12.0, \"Number of Fields\": 3, \"Fields\": \"Paid Loss ($2,080,000), Reported Loss ($2,956,000), Earned Premium ($5,466,000)\"}, {\"period_start\": \"1995-01-01T00:00:00\", \"period_end\": \"1995-12-31T00:00:00\", \"evaluation_date\": \"1997-12-31T00:00:00\", \"dev_lag\": 24.0, \"Number of Fields\": 3, \"Fields\": \"Paid Loss ($2,607,000), Reported Loss ($3,382,000), Earned Premium ($5,466,000)\"}, {\"period_start\": \"1996-01-01T00:00:00\", \"period_end\": \"1996-12-31T00:00:00\", \"evaluation_date\": \"1996-12-31T00:00:00\", \"dev_lag\": 0.0, \"Number of Fields\": 3, \"Fields\": \"Paid Loss ($1,326,000), Reported Loss ($2,541,000), Earned Premium ($5,226,000)\"}, {\"period_start\": \"1996-01-01T00:00:00\", \"period_end\": \"1996-12-31T00:00:00\", \"evaluation_date\": \"1997-12-31T00:00:00\", \"dev_lag\": 12.0, \"Number of Fields\": 3, \"Fields\": \"Paid Loss ($2,412,000), Reported Loss ($3,307,000), Earned Premium ($5,226,000)\"}, {\"period_start\": \"1997-01-01T00:00:00\", \"period_end\": \"1997-12-31T00:00:00\", \"evaluation_date\": \"1997-12-31T00:00:00\", \"dev_lag\": 0.0, \"Number of Fields\": 3, \"Fields\": \"Paid Loss ($1,413,000), Reported Loss ($2,203,000), Earned Premium ($4,962,000)\"}]}, \"mark\": {\"type\": \"circle\", \"opacity\": 1, \"size\": 500.0}, \"encoding\": {\"color\": {\"condition\": {\"param\": \"param_13\", \"field\": \"Number of Fields\", \"scale\": {\"scheme\": \"dark2\"}, \"type\": \"nominal\"}, \"value\": \"lightgray\"}, \"tooltip\": [{\"field\": \"period_start\", \"title\": \"Period Start\", \"type\": \"temporal\"}, {\"field\": \"period_end\", \"title\": \"Period End\", \"type\": \"temporal\"}, {\"field\": \"evaluation_date\", \"title\": \"Evaluation Date\", \"type\": \"temporal\"}, {\"field\": \"dev_lag\", \"title\": \"Dev Lag (months)\", \"type\": \"nominal\"}, {\"field\": \"Fields\", \"type\": \"nominal\"}], \"x\": {\"axis\": {\"labelAngle\": 0}, \"field\": \"dev_lag\", \"scale\": {\"zero\": true}, \"title\": \"Dev Lag (months)\", \"type\": \"nominal\"}, \"y\": {\"field\": \"period_start\", \"scale\": {\"padding\": 15, \"reverse\": true}, \"timeUnit\": \"yearmonth\", \"title\": \"Period Start\", \"type\": \"temporal\"}}, \"height\": 300, \"params\": [{\"name\": \"param_13\", \"select\": {\"type\": \"point\"}}, {\"name\": \"param_14\", \"select\": {\"type\": \"interval\", \"encodings\": [\"x\", \"y\"]}, \"bind\": \"scales\"}], \"title\": {\"text\": \"Triangle Completeness\", \"subtitle\": \"The number of data fields available per cell\"}, \"width\": 400, \"$schema\": \"https://vega.github.io/schema/vega-lite/v5.20.1.json\"}, {\"mode\": \"vega-lite\"});\n",
       "</script>"
      ],
      "text/plain": [
       "alt.Chart(...)"
      ]
     },
     "execution_count": 27,
     "metadata": {},
     "output_type": "execute_result"
    }
   ],
   "source": [
    "dev_tri = meyers.clip(max_eval=date(1997, 12, 31))\n",
    "dev_tri.plot_data_completeness()"
   ]
  },
  {
   "cell_type": "code",
   "execution_count": 28,
   "id": "157d86e2-1193-49d0-af69-d28cc2f06f32",
   "metadata": {},
   "outputs": [
    {
     "data": {
      "text/html": [
       "\n",
       "<style>\n",
       "  #altair-viz-44f9a756a6fb44faa1c321bea78a5dbc.vega-embed {\n",
       "    width: 100%;\n",
       "    display: flex;\n",
       "  }\n",
       "\n",
       "  #altair-viz-44f9a756a6fb44faa1c321bea78a5dbc.vega-embed details,\n",
       "  #altair-viz-44f9a756a6fb44faa1c321bea78a5dbc.vega-embed details summary {\n",
       "    position: relative;\n",
       "  }\n",
       "</style>\n",
       "<div id=\"altair-viz-44f9a756a6fb44faa1c321bea78a5dbc\"></div>\n",
       "<script type=\"text/javascript\">\n",
       "  var VEGA_DEBUG = (typeof VEGA_DEBUG == \"undefined\") ? {} : VEGA_DEBUG;\n",
       "  (function(spec, embedOpt){\n",
       "    let outputDiv = document.currentScript.previousElementSibling;\n",
       "    if (outputDiv.id !== \"altair-viz-44f9a756a6fb44faa1c321bea78a5dbc\") {\n",
       "      outputDiv = document.getElementById(\"altair-viz-44f9a756a6fb44faa1c321bea78a5dbc\");\n",
       "    }\n",
       "\n",
       "    const paths = {\n",
       "      \"vega\": \"https://cdn.jsdelivr.net/npm/vega@5?noext\",\n",
       "      \"vega-lib\": \"https://cdn.jsdelivr.net/npm/vega-lib?noext\",\n",
       "      \"vega-lite\": \"https://cdn.jsdelivr.net/npm/vega-lite@5.20.1?noext\",\n",
       "      \"vega-embed\": \"https://cdn.jsdelivr.net/npm/vega-embed@6?noext\",\n",
       "    };\n",
       "\n",
       "    function maybeLoadScript(lib, version) {\n",
       "      var key = `${lib.replace(\"-\", \"\")}_version`;\n",
       "      return (VEGA_DEBUG[key] == version) ?\n",
       "        Promise.resolve(paths[lib]) :\n",
       "        new Promise(function(resolve, reject) {\n",
       "          var s = document.createElement('script');\n",
       "          document.getElementsByTagName(\"head\")[0].appendChild(s);\n",
       "          s.async = true;\n",
       "          s.onload = () => {\n",
       "            VEGA_DEBUG[key] = version;\n",
       "            return resolve(paths[lib]);\n",
       "          };\n",
       "          s.onerror = () => reject(`Error loading script: ${paths[lib]}`);\n",
       "          s.src = paths[lib];\n",
       "        });\n",
       "    }\n",
       "\n",
       "    function showError(err) {\n",
       "      outputDiv.innerHTML = `<div class=\"error\" style=\"color:red;\">${err}</div>`;\n",
       "      throw err;\n",
       "    }\n",
       "\n",
       "    function displayChart(vegaEmbed) {\n",
       "      vegaEmbed(outputDiv, spec, embedOpt)\n",
       "        .catch(err => showError(`Javascript Error: ${err.message}<br>This usually means there's a typo in your chart specification. See the javascript console for the full traceback.`));\n",
       "    }\n",
       "\n",
       "    if(typeof define === \"function\" && define.amd) {\n",
       "      requirejs.config({paths});\n",
       "      let deps = [\"vega-embed\"];\n",
       "      require(deps, displayChart, err => showError(`Error loading script: ${err.message}`));\n",
       "    } else {\n",
       "      maybeLoadScript(\"vega\", \"5\")\n",
       "        .then(() => maybeLoadScript(\"vega-lite\", \"5.20.1\"))\n",
       "        .then(() => maybeLoadScript(\"vega-embed\", \"6\"))\n",
       "        .catch(showError)\n",
       "        .then(() => displayChart(vegaEmbed));\n",
       "    }\n",
       "  })({\"autosize\": {\"contains\": \"content\", \"resize\": true}, \"config\": {\"style\": {\"group-title\": {\"fontSize\": 24}, \"group-subtitle\": {\"fontSize\": 18}, \"guide-label\": {\"fontSize\": 16, \"font\": \"sans-serif\"}, \"guide-title\": {\"fontSize\": 18, \"font\": \"sans-serif\"}}, \"mark\": {\"color\": \"#1f8fff\"}, \"title\": {\"anchor\": \"start\", \"offset\": 20}, \"legend\": {\"orient\": \"right\", \"titleAnchor\": \"start\", \"layout\": {\"direction\": \"vertical\"}, \"labelFontSize\": 16.0, \"titleFontSize\": 18.0}, \"axis\": {\"labelFontSize\": 16.0, \"titleFontSize\": 18.0}}, \"data\": {\"values\": [{\"period_start\": \"1991-01-01T00:00:00\", \"period_end\": \"1991-12-31T00:00:00\", \"evaluation_date\": \"1991-12-31T00:00:00\", \"dev_lag\": 0.0, \"Number of Fields\": 3, \"Fields\": \"Paid Loss ($1,657,000), Reported Loss ($2,305,000), Earned Premium ($5,165,000)\"}, {\"period_start\": \"1991-01-01T00:00:00\", \"period_end\": \"1991-12-31T00:00:00\", \"evaluation_date\": \"1992-12-31T00:00:00\", \"dev_lag\": 12.0, \"Number of Fields\": 3, \"Fields\": \"Paid Loss ($2,685,000), Reported Loss ($3,473,000), Earned Premium ($5,165,000)\"}, {\"period_start\": \"1991-01-01T00:00:00\", \"period_end\": \"1991-12-31T00:00:00\", \"evaluation_date\": \"1993-12-31T00:00:00\", \"dev_lag\": 24.0, \"Number of Fields\": 3, \"Fields\": \"Paid Loss ($3,169,000), Reported Loss ($3,713,000), Earned Premium ($5,165,000)\"}, {\"period_start\": \"1991-01-01T00:00:00\", \"period_end\": \"1991-12-31T00:00:00\", \"evaluation_date\": \"1994-12-31T00:00:00\", \"dev_lag\": 36.0, \"Number of Fields\": 3, \"Fields\": \"Paid Loss ($3,600,000), Reported Loss ($4,018,000), Earned Premium ($5,165,000)\"}, {\"period_start\": \"1991-01-01T00:00:00\", \"period_end\": \"1991-12-31T00:00:00\", \"evaluation_date\": \"1995-12-31T00:00:00\", \"dev_lag\": 48.0, \"Number of Fields\": 3, \"Fields\": \"Paid Loss ($3,900,000), Reported Loss ($4,295,000), Earned Premium ($5,165,000)\"}, {\"period_start\": \"1991-01-01T00:00:00\", \"period_end\": \"1991-12-31T00:00:00\", \"evaluation_date\": \"1996-12-31T00:00:00\", \"dev_lag\": 60.0, \"Number of Fields\": 3, \"Fields\": \"Paid Loss ($4,320,000), Reported Loss ($4,334,000), Earned Premium ($5,165,000)\"}, {\"period_start\": \"1991-01-01T00:00:00\", \"period_end\": \"1991-12-31T00:00:00\", \"evaluation_date\": \"1997-12-31T00:00:00\", \"dev_lag\": 72.0, \"Number of Fields\": 3, \"Fields\": \"Paid Loss ($4,332,000), Reported Loss ($4,343,000), Earned Premium ($5,165,000)\"}, {\"period_start\": \"1991-01-01T00:00:00\", \"period_end\": \"1991-12-31T00:00:00\", \"evaluation_date\": \"1998-12-31T00:00:00\", \"dev_lag\": 84.0, \"Number of Fields\": 3, \"Fields\": \"Paid Loss ($4,338,000), Reported Loss ($4,340,000), Earned Premium ($5,165,000)\"}, {\"period_start\": \"1991-01-01T00:00:00\", \"period_end\": \"1991-12-31T00:00:00\", \"evaluation_date\": \"1999-12-31T00:00:00\", \"dev_lag\": 96.0, \"Number of Fields\": 3, \"Fields\": \"Paid Loss ($4,341,000), Reported Loss ($4,342,000), Earned Premium ($5,165,000)\"}, {\"period_start\": \"1991-01-01T00:00:00\", \"period_end\": \"1991-12-31T00:00:00\", \"evaluation_date\": \"2000-12-31T00:00:00\", \"dev_lag\": 108.0, \"Number of Fields\": 3, \"Fields\": \"Paid Loss ($4,341,000), Reported Loss ($4,341,000), Earned Premium ($5,165,000)\"}, {\"period_start\": \"1992-01-01T00:00:00\", \"period_end\": \"1992-12-31T00:00:00\", \"evaluation_date\": \"1992-12-31T00:00:00\", \"dev_lag\": 0.0, \"Number of Fields\": 3, \"Fields\": \"Paid Loss ($932,000), Reported Loss ($1,832,000), Earned Premium ($5,214,000)\"}, {\"period_start\": \"1992-01-01T00:00:00\", \"period_end\": \"1992-12-31T00:00:00\", \"evaluation_date\": \"1993-12-31T00:00:00\", \"dev_lag\": 12.0, \"Number of Fields\": 3, \"Fields\": \"Paid Loss ($1,940,000), Reported Loss ($2,625,000), Earned Premium ($5,214,000)\"}, {\"period_start\": \"1992-01-01T00:00:00\", \"period_end\": \"1992-12-31T00:00:00\", \"evaluation_date\": \"1994-12-31T00:00:00\", \"dev_lag\": 24.0, \"Number of Fields\": 3, \"Fields\": \"Paid Loss ($2,626,000), Reported Loss ($3,086,000), Earned Premium ($5,214,000)\"}, {\"period_start\": \"1992-01-01T00:00:00\", \"period_end\": \"1992-12-31T00:00:00\", \"evaluation_date\": \"1995-12-31T00:00:00\", \"dev_lag\": 36.0, \"Number of Fields\": 3, \"Fields\": \"Paid Loss ($3,332,000), Reported Loss ($3,493,000), Earned Premium ($5,214,000)\"}, {\"period_start\": \"1992-01-01T00:00:00\", \"period_end\": \"1992-12-31T00:00:00\", \"evaluation_date\": \"1996-12-31T00:00:00\", \"dev_lag\": 48.0, \"Number of Fields\": 3, \"Fields\": \"Paid Loss ($3,368,000), Reported Loss ($3,521,000), Earned Premium ($5,214,000)\"}, {\"period_start\": \"1992-01-01T00:00:00\", \"period_end\": \"1992-12-31T00:00:00\", \"evaluation_date\": \"1997-12-31T00:00:00\", \"dev_lag\": 60.0, \"Number of Fields\": 3, \"Fields\": \"Paid Loss ($3,491,000), Reported Loss ($3,563,000), Earned Premium ($5,214,000)\"}, {\"period_start\": \"1992-01-01T00:00:00\", \"period_end\": \"1992-12-31T00:00:00\", \"evaluation_date\": \"1998-12-31T00:00:00\", \"dev_lag\": 72.0, \"Number of Fields\": 3, \"Fields\": \"Paid Loss ($3,531,000), Reported Loss ($3,542,000), Earned Premium ($5,214,000)\"}, {\"period_start\": \"1992-01-01T00:00:00\", \"period_end\": \"1992-12-31T00:00:00\", \"evaluation_date\": \"1999-12-31T00:00:00\", \"dev_lag\": 84.0, \"Number of Fields\": 3, \"Fields\": \"Paid Loss ($3,540,000), Reported Loss ($3,541,000), Earned Premium ($5,214,000)\"}, {\"period_start\": \"1992-01-01T00:00:00\", \"period_end\": \"1992-12-31T00:00:00\", \"evaluation_date\": \"2000-12-31T00:00:00\", \"dev_lag\": 96.0, \"Number of Fields\": 3, \"Fields\": \"Paid Loss ($3,540,000), Reported Loss ($3,541,000), Earned Premium ($5,214,000)\"}, {\"period_start\": \"1992-01-01T00:00:00\", \"period_end\": \"1992-12-31T00:00:00\", \"evaluation_date\": \"2001-12-31T00:00:00\", \"dev_lag\": 108.0, \"Number of Fields\": 3, \"Fields\": \"Paid Loss ($3,583,000), Reported Loss ($3,587,000), Earned Premium ($5,214,000)\"}, {\"period_start\": \"1993-01-01T00:00:00\", \"period_end\": \"1993-12-31T00:00:00\", \"evaluation_date\": \"1993-12-31T00:00:00\", \"dev_lag\": 0.0, \"Number of Fields\": 3, \"Fields\": \"Paid Loss ($1,162,000), Reported Loss ($2,289,000), Earned Premium ($5,230,000)\"}, {\"period_start\": \"1993-01-01T00:00:00\", \"period_end\": \"1993-12-31T00:00:00\", \"evaluation_date\": \"1994-12-31T00:00:00\", \"dev_lag\": 12.0, \"Number of Fields\": 3, \"Fields\": \"Paid Loss ($2,402,000), Reported Loss ($3,160,000), Earned Premium ($5,230,000)\"}, {\"period_start\": \"1993-01-01T00:00:00\", \"period_end\": \"1993-12-31T00:00:00\", \"evaluation_date\": \"1995-12-31T00:00:00\", \"dev_lag\": 24.0, \"Number of Fields\": 3, \"Fields\": \"Paid Loss ($2,799,000), Reported Loss ($3,154,000), Earned Premium ($5,230,000)\"}, {\"period_start\": \"1993-01-01T00:00:00\", \"period_end\": \"1993-12-31T00:00:00\", \"evaluation_date\": \"1996-12-31T00:00:00\", \"dev_lag\": 36.0, \"Number of Fields\": 3, \"Fields\": \"Paid Loss ($2,996,000), Reported Loss ($3,204,000), Earned Premium ($5,230,000)\"}, {\"period_start\": \"1993-01-01T00:00:00\", \"period_end\": \"1993-12-31T00:00:00\", \"evaluation_date\": \"1997-12-31T00:00:00\", \"dev_lag\": 48.0, \"Number of Fields\": 3, \"Fields\": \"Paid Loss ($3,034,000), Reported Loss ($3,190,000), Earned Premium ($5,230,000)\"}, {\"period_start\": \"1993-01-01T00:00:00\", \"period_end\": \"1993-12-31T00:00:00\", \"evaluation_date\": \"1998-12-31T00:00:00\", \"dev_lag\": 60.0, \"Number of Fields\": 3, \"Fields\": \"Paid Loss ($3,042,000), Reported Loss ($3,206,000), Earned Premium ($5,230,000)\"}, {\"period_start\": \"1993-01-01T00:00:00\", \"period_end\": \"1993-12-31T00:00:00\", \"evaluation_date\": \"1999-12-31T00:00:00\", \"dev_lag\": 72.0, \"Number of Fields\": 3, \"Fields\": \"Paid Loss ($3,230,000), Reported Loss ($3,351,000), Earned Premium ($5,230,000)\"}, {\"period_start\": \"1993-01-01T00:00:00\", \"period_end\": \"1993-12-31T00:00:00\", \"evaluation_date\": \"2000-12-31T00:00:00\", \"dev_lag\": 84.0, \"Number of Fields\": 3, \"Fields\": \"Paid Loss ($3,238,000), Reported Loss ($3,289,000), Earned Premium ($5,230,000)\"}, {\"period_start\": \"1993-01-01T00:00:00\", \"period_end\": \"1993-12-31T00:00:00\", \"evaluation_date\": \"2001-12-31T00:00:00\", \"dev_lag\": 96.0, \"Number of Fields\": 3, \"Fields\": \"Paid Loss ($3,241,000), Reported Loss ($3,267,000), Earned Premium ($5,230,000)\"}, {\"period_start\": \"1993-01-01T00:00:00\", \"period_end\": \"1993-12-31T00:00:00\", \"evaluation_date\": \"2002-12-31T00:00:00\", \"dev_lag\": 108.0, \"Number of Fields\": 3, \"Fields\": \"Paid Loss ($3,268,000), Reported Loss ($3,268,000), Earned Premium ($5,230,000)\"}, {\"period_start\": \"1994-01-01T00:00:00\", \"period_end\": \"1994-12-31T00:00:00\", \"evaluation_date\": \"1994-12-31T00:00:00\", \"dev_lag\": 0.0, \"Number of Fields\": 3, \"Fields\": \"Paid Loss ($1,478,000), Reported Loss ($2,881,000), Earned Premium ($4,992,000)\"}, {\"period_start\": \"1994-01-01T00:00:00\", \"period_end\": \"1994-12-31T00:00:00\", \"evaluation_date\": \"1995-12-31T00:00:00\", \"dev_lag\": 12.0, \"Number of Fields\": 3, \"Fields\": \"Paid Loss ($2,980,000), Reported Loss ($4,254,000), Earned Premium ($4,992,000)\"}, {\"period_start\": \"1994-01-01T00:00:00\", \"period_end\": \"1994-12-31T00:00:00\", \"evaluation_date\": \"1996-12-31T00:00:00\", \"dev_lag\": 24.0, \"Number of Fields\": 3, \"Fields\": \"Paid Loss ($3,945,000), Reported Loss ($4,841,000), Earned Premium ($4,992,000)\"}, {\"period_start\": \"1994-01-01T00:00:00\", \"period_end\": \"1994-12-31T00:00:00\", \"evaluation_date\": \"1997-12-31T00:00:00\", \"dev_lag\": 36.0, \"Number of Fields\": 3, \"Fields\": \"Paid Loss ($4,714,000), Reported Loss ($5,176,000), Earned Premium ($4,992,000)\"}, {\"period_start\": \"1994-01-01T00:00:00\", \"period_end\": \"1994-12-31T00:00:00\", \"evaluation_date\": \"1998-12-31T00:00:00\", \"dev_lag\": 48.0, \"Number of Fields\": 3, \"Fields\": \"Paid Loss ($5,462,000), Reported Loss ($5,551,000), Earned Premium ($4,992,000)\"}, {\"period_start\": \"1994-01-01T00:00:00\", \"period_end\": \"1994-12-31T00:00:00\", \"evaluation_date\": \"1999-12-31T00:00:00\", \"dev_lag\": 60.0, \"Number of Fields\": 3, \"Fields\": \"Paid Loss ($5,680,000), Reported Loss ($5,689,000), Earned Premium ($4,992,000)\"}, {\"period_start\": \"1994-01-01T00:00:00\", \"period_end\": \"1994-12-31T00:00:00\", \"evaluation_date\": \"2000-12-31T00:00:00\", \"dev_lag\": 72.0, \"Number of Fields\": 3, \"Fields\": \"Paid Loss ($5,682,000), Reported Loss ($5,683,000), Earned Premium ($4,992,000)\"}, {\"period_start\": \"1994-01-01T00:00:00\", \"period_end\": \"1994-12-31T00:00:00\", \"evaluation_date\": \"2001-12-31T00:00:00\", \"dev_lag\": 84.0, \"Number of Fields\": 3, \"Fields\": \"Paid Loss ($5,683,000), Reported Loss ($5,688,000), Earned Premium ($4,992,000)\"}, {\"period_start\": \"1994-01-01T00:00:00\", \"period_end\": \"1994-12-31T00:00:00\", \"evaluation_date\": \"2002-12-31T00:00:00\", \"dev_lag\": 96.0, \"Number of Fields\": 3, \"Fields\": \"Paid Loss ($5,684,000), Reported Loss ($5,684,000), Earned Premium ($4,992,000)\"}, {\"period_start\": \"1994-01-01T00:00:00\", \"period_end\": \"1994-12-31T00:00:00\", \"evaluation_date\": \"2003-12-31T00:00:00\", \"dev_lag\": 108.0, \"Number of Fields\": 3, \"Fields\": \"Paid Loss ($5,684,000), Reported Loss ($5,684,000), Earned Premium ($4,992,000)\"}, {\"period_start\": \"1995-01-01T00:00:00\", \"period_end\": \"1995-12-31T00:00:00\", \"evaluation_date\": \"1995-12-31T00:00:00\", \"dev_lag\": 0.0, \"Number of Fields\": 3, \"Fields\": \"Paid Loss ($1,240,000), Reported Loss ($2,849,000), Earned Premium ($5,466,000)\"}, {\"period_start\": \"1995-01-01T00:00:00\", \"period_end\": \"1995-12-31T00:00:00\", \"evaluation_date\": \"1996-12-31T00:00:00\", \"dev_lag\": 12.0, \"Number of Fields\": 3, \"Fields\": \"Paid Loss ($2,080,000), Reported Loss ($2,956,000), Earned Premium ($5,466,000)\"}, {\"period_start\": \"1995-01-01T00:00:00\", \"period_end\": \"1995-12-31T00:00:00\", \"evaluation_date\": \"1997-12-31T00:00:00\", \"dev_lag\": 24.0, \"Number of Fields\": 3, \"Fields\": \"Paid Loss ($2,607,000), Reported Loss ($3,382,000), Earned Premium ($5,466,000)\"}, {\"period_start\": \"1995-01-01T00:00:00\", \"period_end\": \"1995-12-31T00:00:00\", \"evaluation_date\": \"1998-12-31T00:00:00\", \"dev_lag\": 36.0, \"Number of Fields\": 3, \"Fields\": \"Paid Loss ($3,080,000), Reported Loss ($3,755,000), Earned Premium ($5,466,000)\"}, {\"period_start\": \"1995-01-01T00:00:00\", \"period_end\": \"1995-12-31T00:00:00\", \"evaluation_date\": \"1999-12-31T00:00:00\", \"dev_lag\": 48.0, \"Number of Fields\": 3, \"Fields\": \"Paid Loss ($3,678,000), Reported Loss ($4,148,000), Earned Premium ($5,466,000)\"}, {\"period_start\": \"1995-01-01T00:00:00\", \"period_end\": \"1995-12-31T00:00:00\", \"evaluation_date\": \"2000-12-31T00:00:00\", \"dev_lag\": 60.0, \"Number of Fields\": 3, \"Fields\": \"Paid Loss ($4,002,000), Reported Loss ($4,123,000), Earned Premium ($5,466,000)\"}, {\"period_start\": \"1995-01-01T00:00:00\", \"period_end\": \"1995-12-31T00:00:00\", \"evaluation_date\": \"2001-12-31T00:00:00\", \"dev_lag\": 72.0, \"Number of Fields\": 3, \"Fields\": \"Paid Loss ($4,117,000), Reported Loss ($4,126,000), Earned Premium ($5,466,000)\"}, {\"period_start\": \"1995-01-01T00:00:00\", \"period_end\": \"1995-12-31T00:00:00\", \"evaluation_date\": \"2002-12-31T00:00:00\", \"dev_lag\": 84.0, \"Number of Fields\": 3, \"Fields\": \"Paid Loss ($4,125,000), Reported Loss ($4,127,000), Earned Premium ($5,466,000)\"}, {\"period_start\": \"1995-01-01T00:00:00\", \"period_end\": \"1995-12-31T00:00:00\", \"evaluation_date\": \"2003-12-31T00:00:00\", \"dev_lag\": 96.0, \"Number of Fields\": 3, \"Fields\": \"Paid Loss ($4,128,000), Reported Loss ($4,128,000), Earned Premium ($5,466,000)\"}, {\"period_start\": \"1995-01-01T00:00:00\", \"period_end\": \"1995-12-31T00:00:00\", \"evaluation_date\": \"2004-12-31T00:00:00\", \"dev_lag\": 108.0, \"Number of Fields\": 3, \"Fields\": \"Paid Loss ($4,128,000), Reported Loss ($4,128,000), Earned Premium ($5,466,000)\"}, {\"period_start\": \"1996-01-01T00:00:00\", \"period_end\": \"1996-12-31T00:00:00\", \"evaluation_date\": \"1996-12-31T00:00:00\", \"dev_lag\": 0.0, \"Number of Fields\": 3, \"Fields\": \"Paid Loss ($1,326,000), Reported Loss ($2,541,000), Earned Premium ($5,226,000)\"}, {\"period_start\": \"1996-01-01T00:00:00\", \"period_end\": \"1996-12-31T00:00:00\", \"evaluation_date\": \"1997-12-31T00:00:00\", \"dev_lag\": 12.0, \"Number of Fields\": 3, \"Fields\": \"Paid Loss ($2,412,000), Reported Loss ($3,307,000), Earned Premium ($5,226,000)\"}, {\"period_start\": \"1996-01-01T00:00:00\", \"period_end\": \"1996-12-31T00:00:00\", \"evaluation_date\": \"1998-12-31T00:00:00\", \"dev_lag\": 24.0, \"Number of Fields\": 3, \"Fields\": \"Paid Loss ($3,367,000), Reported Loss ($3,789,000), Earned Premium ($5,226,000)\"}, {\"period_start\": \"1996-01-01T00:00:00\", \"period_end\": \"1996-12-31T00:00:00\", \"evaluation_date\": \"1999-12-31T00:00:00\", \"dev_lag\": 36.0, \"Number of Fields\": 3, \"Fields\": \"Paid Loss ($3,843,000), Reported Loss ($3,973,000), Earned Premium ($5,226,000)\"}, {\"period_start\": \"1996-01-01T00:00:00\", \"period_end\": \"1996-12-31T00:00:00\", \"evaluation_date\": \"2000-12-31T00:00:00\", \"dev_lag\": 48.0, \"Number of Fields\": 3, \"Fields\": \"Paid Loss ($3,965,000), Reported Loss ($4,031,000), Earned Premium ($5,226,000)\"}, {\"period_start\": \"1996-01-01T00:00:00\", \"period_end\": \"1996-12-31T00:00:00\", \"evaluation_date\": \"2001-12-31T00:00:00\", \"dev_lag\": 60.0, \"Number of Fields\": 3, \"Fields\": \"Paid Loss ($4,127,000), Reported Loss ($4,157,000), Earned Premium ($5,226,000)\"}, {\"period_start\": \"1996-01-01T00:00:00\", \"period_end\": \"1996-12-31T00:00:00\", \"evaluation_date\": \"2002-12-31T00:00:00\", \"dev_lag\": 72.0, \"Number of Fields\": 3, \"Fields\": \"Paid Loss ($4,133,000), Reported Loss ($4,143,000), Earned Premium ($5,226,000)\"}, {\"period_start\": \"1996-01-01T00:00:00\", \"period_end\": \"1996-12-31T00:00:00\", \"evaluation_date\": \"2003-12-31T00:00:00\", \"dev_lag\": 84.0, \"Number of Fields\": 3, \"Fields\": \"Paid Loss ($4,141,000), Reported Loss ($4,142,000), Earned Premium ($5,226,000)\"}, {\"period_start\": \"1996-01-01T00:00:00\", \"period_end\": \"1996-12-31T00:00:00\", \"evaluation_date\": \"2004-12-31T00:00:00\", \"dev_lag\": 96.0, \"Number of Fields\": 3, \"Fields\": \"Paid Loss ($4,142,000), Reported Loss ($4,144,000), Earned Premium ($5,226,000)\"}, {\"period_start\": \"1996-01-01T00:00:00\", \"period_end\": \"1996-12-31T00:00:00\", \"evaluation_date\": \"2005-12-31T00:00:00\", \"dev_lag\": 108.0, \"Number of Fields\": 3, \"Fields\": \"Paid Loss ($4,144,000), Reported Loss ($4,144,000), Earned Premium ($5,226,000)\"}, {\"period_start\": \"1997-01-01T00:00:00\", \"period_end\": \"1997-12-31T00:00:00\", \"evaluation_date\": \"1997-12-31T00:00:00\", \"dev_lag\": 0.0, \"Number of Fields\": 3, \"Fields\": \"Paid Loss ($1,413,000), Reported Loss ($2,203,000), Earned Premium ($4,962,000)\"}, {\"period_start\": \"1997-01-01T00:00:00\", \"period_end\": \"1997-12-31T00:00:00\", \"evaluation_date\": \"1998-12-31T00:00:00\", \"dev_lag\": 12.0, \"Number of Fields\": 3, \"Fields\": \"Paid Loss ($2,683,000), Reported Loss ($2,934,000), Earned Premium ($4,962,000)\"}, {\"period_start\": \"1997-01-01T00:00:00\", \"period_end\": \"1997-12-31T00:00:00\", \"evaluation_date\": \"1999-12-31T00:00:00\", \"dev_lag\": 24.0, \"Number of Fields\": 3, \"Fields\": \"Paid Loss ($3,173,000), Reported Loss ($3,608,000), Earned Premium ($4,962,000)\"}, {\"period_start\": \"1997-01-01T00:00:00\", \"period_end\": \"1997-12-31T00:00:00\", \"evaluation_date\": \"2000-12-31T00:00:00\", \"dev_lag\": 36.0, \"Number of Fields\": 3, \"Fields\": \"Paid Loss ($3,674,000), Reported Loss ($3,977,000), Earned Premium ($4,962,000)\"}, {\"period_start\": \"1997-01-01T00:00:00\", \"period_end\": \"1997-12-31T00:00:00\", \"evaluation_date\": \"2001-12-31T00:00:00\", \"dev_lag\": 48.0, \"Number of Fields\": 3, \"Fields\": \"Paid Loss ($3,805,000), Reported Loss ($4,040,000), Earned Premium ($4,962,000)\"}, {\"period_start\": \"1997-01-01T00:00:00\", \"period_end\": \"1997-12-31T00:00:00\", \"evaluation_date\": \"2002-12-31T00:00:00\", \"dev_lag\": 60.0, \"Number of Fields\": 3, \"Fields\": \"Paid Loss ($4,005,000), Reported Loss ($4,121,000), Earned Premium ($4,962,000)\"}, {\"period_start\": \"1997-01-01T00:00:00\", \"period_end\": \"1997-12-31T00:00:00\", \"evaluation_date\": \"2003-12-31T00:00:00\", \"dev_lag\": 72.0, \"Number of Fields\": 3, \"Fields\": \"Paid Loss ($4,020,000), Reported Loss ($4,147,000), Earned Premium ($4,962,000)\"}, {\"period_start\": \"1997-01-01T00:00:00\", \"period_end\": \"1997-12-31T00:00:00\", \"evaluation_date\": \"2004-12-31T00:00:00\", \"dev_lag\": 84.0, \"Number of Fields\": 3, \"Fields\": \"Paid Loss ($4,095,000), Reported Loss ($4,155,000), Earned Premium ($4,962,000)\"}, {\"period_start\": \"1997-01-01T00:00:00\", \"period_end\": \"1997-12-31T00:00:00\", \"evaluation_date\": \"2005-12-31T00:00:00\", \"dev_lag\": 96.0, \"Number of Fields\": 3, \"Fields\": \"Paid Loss ($4,132,000), Reported Loss ($4,183,000), Earned Premium ($4,962,000)\"}, {\"period_start\": \"1997-01-01T00:00:00\", \"period_end\": \"1997-12-31T00:00:00\", \"evaluation_date\": \"2006-12-31T00:00:00\", \"dev_lag\": 108.0, \"Number of Fields\": 3, \"Fields\": \"Paid Loss ($4,139,000), Reported Loss ($4,181,000), Earned Premium ($4,962,000)\"}]}, \"mark\": {\"type\": \"circle\", \"opacity\": 1, \"size\": 500.0}, \"encoding\": {\"color\": {\"condition\": {\"param\": \"param_15\", \"field\": \"Number of Fields\", \"scale\": {\"scheme\": \"dark2\"}, \"type\": \"nominal\"}, \"value\": \"lightgray\"}, \"tooltip\": [{\"field\": \"period_start\", \"title\": \"Period Start\", \"type\": \"temporal\"}, {\"field\": \"period_end\", \"title\": \"Period End\", \"type\": \"temporal\"}, {\"field\": \"evaluation_date\", \"title\": \"Evaluation Date\", \"type\": \"temporal\"}, {\"field\": \"dev_lag\", \"title\": \"Dev Lag (months)\", \"type\": \"nominal\"}, {\"field\": \"Fields\", \"type\": \"nominal\"}], \"x\": {\"axis\": {\"labelAngle\": 0}, \"field\": \"dev_lag\", \"scale\": {\"zero\": true}, \"title\": \"Dev Lag (months)\", \"type\": \"nominal\"}, \"y\": {\"field\": \"period_start\", \"scale\": {\"padding\": 15, \"reverse\": true}, \"timeUnit\": \"yearmonth\", \"title\": \"Period Start\", \"type\": \"temporal\"}}, \"height\": 300, \"params\": [{\"name\": \"param_15\", \"select\": {\"type\": \"point\"}}, {\"name\": \"param_16\", \"select\": {\"type\": \"interval\", \"encodings\": [\"x\", \"y\"]}, \"bind\": \"scales\"}], \"title\": {\"text\": \"Triangle Completeness\", \"subtitle\": \"The number of data fields available per cell\"}, \"width\": 400, \"$schema\": \"https://vega.github.io/schema/vega-lite/v5.20.1.json\"}, {\"mode\": \"vega-lite\"});\n",
       "</script>"
      ],
      "text/plain": [
       "alt.Chart(...)"
      ]
     },
     "execution_count": 28,
     "metadata": {},
     "output_type": "execute_result"
    }
   ],
   "source": [
    "recent_tri = meyers.clip(min_period=date(1991, 1, 1))\n",
    "recent_tri.plot_data_completeness()"
   ]
  },
  {
   "cell_type": "code",
   "execution_count": 29,
   "id": "8cbb98d7-d933-4ff2-8fee-fcce1617816e",
   "metadata": {},
   "outputs": [
    {
     "data": {
      "text/html": [
       "\n",
       "<style>\n",
       "  #altair-viz-c1f41cdb403f49bb81b57154110bd3d1.vega-embed {\n",
       "    width: 100%;\n",
       "    display: flex;\n",
       "  }\n",
       "\n",
       "  #altair-viz-c1f41cdb403f49bb81b57154110bd3d1.vega-embed details,\n",
       "  #altair-viz-c1f41cdb403f49bb81b57154110bd3d1.vega-embed details summary {\n",
       "    position: relative;\n",
       "  }\n",
       "</style>\n",
       "<div id=\"altair-viz-c1f41cdb403f49bb81b57154110bd3d1\"></div>\n",
       "<script type=\"text/javascript\">\n",
       "  var VEGA_DEBUG = (typeof VEGA_DEBUG == \"undefined\") ? {} : VEGA_DEBUG;\n",
       "  (function(spec, embedOpt){\n",
       "    let outputDiv = document.currentScript.previousElementSibling;\n",
       "    if (outputDiv.id !== \"altair-viz-c1f41cdb403f49bb81b57154110bd3d1\") {\n",
       "      outputDiv = document.getElementById(\"altair-viz-c1f41cdb403f49bb81b57154110bd3d1\");\n",
       "    }\n",
       "\n",
       "    const paths = {\n",
       "      \"vega\": \"https://cdn.jsdelivr.net/npm/vega@5?noext\",\n",
       "      \"vega-lib\": \"https://cdn.jsdelivr.net/npm/vega-lib?noext\",\n",
       "      \"vega-lite\": \"https://cdn.jsdelivr.net/npm/vega-lite@5.20.1?noext\",\n",
       "      \"vega-embed\": \"https://cdn.jsdelivr.net/npm/vega-embed@6?noext\",\n",
       "    };\n",
       "\n",
       "    function maybeLoadScript(lib, version) {\n",
       "      var key = `${lib.replace(\"-\", \"\")}_version`;\n",
       "      return (VEGA_DEBUG[key] == version) ?\n",
       "        Promise.resolve(paths[lib]) :\n",
       "        new Promise(function(resolve, reject) {\n",
       "          var s = document.createElement('script');\n",
       "          document.getElementsByTagName(\"head\")[0].appendChild(s);\n",
       "          s.async = true;\n",
       "          s.onload = () => {\n",
       "            VEGA_DEBUG[key] = version;\n",
       "            return resolve(paths[lib]);\n",
       "          };\n",
       "          s.onerror = () => reject(`Error loading script: ${paths[lib]}`);\n",
       "          s.src = paths[lib];\n",
       "        });\n",
       "    }\n",
       "\n",
       "    function showError(err) {\n",
       "      outputDiv.innerHTML = `<div class=\"error\" style=\"color:red;\">${err}</div>`;\n",
       "      throw err;\n",
       "    }\n",
       "\n",
       "    function displayChart(vegaEmbed) {\n",
       "      vegaEmbed(outputDiv, spec, embedOpt)\n",
       "        .catch(err => showError(`Javascript Error: ${err.message}<br>This usually means there's a typo in your chart specification. See the javascript console for the full traceback.`));\n",
       "    }\n",
       "\n",
       "    if(typeof define === \"function\" && define.amd) {\n",
       "      requirejs.config({paths});\n",
       "      let deps = [\"vega-embed\"];\n",
       "      require(deps, displayChart, err => showError(`Error loading script: ${err.message}`));\n",
       "    } else {\n",
       "      maybeLoadScript(\"vega\", \"5\")\n",
       "        .then(() => maybeLoadScript(\"vega-lite\", \"5.20.1\"))\n",
       "        .then(() => maybeLoadScript(\"vega-embed\", \"6\"))\n",
       "        .catch(showError)\n",
       "        .then(() => displayChart(vegaEmbed));\n",
       "    }\n",
       "  })({\"autosize\": {\"contains\": \"content\", \"resize\": true}, \"config\": {\"style\": {\"group-title\": {\"fontSize\": 24}, \"group-subtitle\": {\"fontSize\": 18}, \"guide-label\": {\"fontSize\": 16, \"font\": \"sans-serif\"}, \"guide-title\": {\"fontSize\": 18, \"font\": \"sans-serif\"}}, \"mark\": {\"color\": \"#1f8fff\"}, \"title\": {\"anchor\": \"start\", \"offset\": 20}, \"legend\": {\"orient\": \"right\", \"titleAnchor\": \"start\", \"layout\": {\"direction\": \"vertical\"}, \"labelFontSize\": 16.0, \"titleFontSize\": 18.0}, \"axis\": {\"labelFontSize\": 16.0, \"titleFontSize\": 18.0}}, \"data\": {\"values\": [{\"period_start\": \"1990-01-01T00:00:00\", \"period_end\": \"1990-12-31T00:00:00\", \"evaluation_date\": \"1992-12-31T00:00:00\", \"dev_lag\": 24.0, \"Number of Fields\": 3, \"Fields\": \"Paid Loss ($2,830,000), Reported Loss ($3,488,000), Earned Premium ($5,454,000)\"}, {\"period_start\": \"1990-01-01T00:00:00\", \"period_end\": \"1990-12-31T00:00:00\", \"evaluation_date\": \"1993-12-31T00:00:00\", \"dev_lag\": 36.0, \"Number of Fields\": 3, \"Fields\": \"Paid Loss ($3,832,000), Reported Loss ($4,000,000), Earned Premium ($5,454,000)\"}, {\"period_start\": \"1990-01-01T00:00:00\", \"period_end\": \"1990-12-31T00:00:00\", \"evaluation_date\": \"1994-12-31T00:00:00\", \"dev_lag\": 48.0, \"Number of Fields\": 3, \"Fields\": \"Paid Loss ($4,039,000), Reported Loss ($4,105,000), Earned Premium ($5,454,000)\"}, {\"period_start\": \"1990-01-01T00:00:00\", \"period_end\": \"1990-12-31T00:00:00\", \"evaluation_date\": \"1995-12-31T00:00:00\", \"dev_lag\": 60.0, \"Number of Fields\": 3, \"Fields\": \"Paid Loss ($4,065,000), Reported Loss ($4,087,000), Earned Premium ($5,454,000)\"}, {\"period_start\": \"1990-01-01T00:00:00\", \"period_end\": \"1990-12-31T00:00:00\", \"evaluation_date\": \"1996-12-31T00:00:00\", \"dev_lag\": 72.0, \"Number of Fields\": 3, \"Fields\": \"Paid Loss ($4,102,000), Reported Loss ($4,112,000), Earned Premium ($5,454,000)\"}, {\"period_start\": \"1990-01-01T00:00:00\", \"period_end\": \"1990-12-31T00:00:00\", \"evaluation_date\": \"1997-12-31T00:00:00\", \"dev_lag\": 84.0, \"Number of Fields\": 3, \"Fields\": \"Paid Loss ($4,155,000), Reported Loss ($4,170,000), Earned Premium ($5,454,000)\"}, {\"period_start\": \"1991-01-01T00:00:00\", \"period_end\": \"1991-12-31T00:00:00\", \"evaluation_date\": \"1993-12-31T00:00:00\", \"dev_lag\": 24.0, \"Number of Fields\": 3, \"Fields\": \"Paid Loss ($3,169,000), Reported Loss ($3,713,000), Earned Premium ($5,165,000)\"}, {\"period_start\": \"1991-01-01T00:00:00\", \"period_end\": \"1991-12-31T00:00:00\", \"evaluation_date\": \"1994-12-31T00:00:00\", \"dev_lag\": 36.0, \"Number of Fields\": 3, \"Fields\": \"Paid Loss ($3,600,000), Reported Loss ($4,018,000), Earned Premium ($5,165,000)\"}, {\"period_start\": \"1991-01-01T00:00:00\", \"period_end\": \"1991-12-31T00:00:00\", \"evaluation_date\": \"1995-12-31T00:00:00\", \"dev_lag\": 48.0, \"Number of Fields\": 3, \"Fields\": \"Paid Loss ($3,900,000), Reported Loss ($4,295,000), Earned Premium ($5,165,000)\"}, {\"period_start\": \"1991-01-01T00:00:00\", \"period_end\": \"1991-12-31T00:00:00\", \"evaluation_date\": \"1996-12-31T00:00:00\", \"dev_lag\": 60.0, \"Number of Fields\": 3, \"Fields\": \"Paid Loss ($4,320,000), Reported Loss ($4,334,000), Earned Premium ($5,165,000)\"}, {\"period_start\": \"1991-01-01T00:00:00\", \"period_end\": \"1991-12-31T00:00:00\", \"evaluation_date\": \"1997-12-31T00:00:00\", \"dev_lag\": 72.0, \"Number of Fields\": 3, \"Fields\": \"Paid Loss ($4,332,000), Reported Loss ($4,343,000), Earned Premium ($5,165,000)\"}, {\"period_start\": \"1992-01-01T00:00:00\", \"period_end\": \"1992-12-31T00:00:00\", \"evaluation_date\": \"1994-12-31T00:00:00\", \"dev_lag\": 24.0, \"Number of Fields\": 3, \"Fields\": \"Paid Loss ($2,626,000), Reported Loss ($3,086,000), Earned Premium ($5,214,000)\"}, {\"period_start\": \"1992-01-01T00:00:00\", \"period_end\": \"1992-12-31T00:00:00\", \"evaluation_date\": \"1995-12-31T00:00:00\", \"dev_lag\": 36.0, \"Number of Fields\": 3, \"Fields\": \"Paid Loss ($3,332,000), Reported Loss ($3,493,000), Earned Premium ($5,214,000)\"}, {\"period_start\": \"1992-01-01T00:00:00\", \"period_end\": \"1992-12-31T00:00:00\", \"evaluation_date\": \"1996-12-31T00:00:00\", \"dev_lag\": 48.0, \"Number of Fields\": 3, \"Fields\": \"Paid Loss ($3,368,000), Reported Loss ($3,521,000), Earned Premium ($5,214,000)\"}, {\"period_start\": \"1992-01-01T00:00:00\", \"period_end\": \"1992-12-31T00:00:00\", \"evaluation_date\": \"1997-12-31T00:00:00\", \"dev_lag\": 60.0, \"Number of Fields\": 3, \"Fields\": \"Paid Loss ($3,491,000), Reported Loss ($3,563,000), Earned Premium ($5,214,000)\"}, {\"period_start\": \"1993-01-01T00:00:00\", \"period_end\": \"1993-12-31T00:00:00\", \"evaluation_date\": \"1995-12-31T00:00:00\", \"dev_lag\": 24.0, \"Number of Fields\": 3, \"Fields\": \"Paid Loss ($2,799,000), Reported Loss ($3,154,000), Earned Premium ($5,230,000)\"}, {\"period_start\": \"1993-01-01T00:00:00\", \"period_end\": \"1993-12-31T00:00:00\", \"evaluation_date\": \"1996-12-31T00:00:00\", \"dev_lag\": 36.0, \"Number of Fields\": 3, \"Fields\": \"Paid Loss ($2,996,000), Reported Loss ($3,204,000), Earned Premium ($5,230,000)\"}, {\"period_start\": \"1993-01-01T00:00:00\", \"period_end\": \"1993-12-31T00:00:00\", \"evaluation_date\": \"1997-12-31T00:00:00\", \"dev_lag\": 48.0, \"Number of Fields\": 3, \"Fields\": \"Paid Loss ($3,034,000), Reported Loss ($3,190,000), Earned Premium ($5,230,000)\"}, {\"period_start\": \"1994-01-01T00:00:00\", \"period_end\": \"1994-12-31T00:00:00\", \"evaluation_date\": \"1996-12-31T00:00:00\", \"dev_lag\": 24.0, \"Number of Fields\": 3, \"Fields\": \"Paid Loss ($3,945,000), Reported Loss ($4,841,000), Earned Premium ($4,992,000)\"}, {\"period_start\": \"1994-01-01T00:00:00\", \"period_end\": \"1994-12-31T00:00:00\", \"evaluation_date\": \"1997-12-31T00:00:00\", \"dev_lag\": 36.0, \"Number of Fields\": 3, \"Fields\": \"Paid Loss ($4,714,000), Reported Loss ($5,176,000), Earned Premium ($4,992,000)\"}, {\"period_start\": \"1995-01-01T00:00:00\", \"period_end\": \"1995-12-31T00:00:00\", \"evaluation_date\": \"1997-12-31T00:00:00\", \"dev_lag\": 24.0, \"Number of Fields\": 3, \"Fields\": \"Paid Loss ($2,607,000), Reported Loss ($3,382,000), Earned Premium ($5,466,000)\"}]}, \"mark\": {\"type\": \"circle\", \"opacity\": 1, \"size\": 500.0}, \"encoding\": {\"color\": {\"condition\": {\"param\": \"param_17\", \"field\": \"Number of Fields\", \"scale\": {\"scheme\": \"dark2\"}, \"type\": \"nominal\"}, \"value\": \"lightgray\"}, \"tooltip\": [{\"field\": \"period_start\", \"title\": \"Period Start\", \"type\": \"temporal\"}, {\"field\": \"period_end\", \"title\": \"Period End\", \"type\": \"temporal\"}, {\"field\": \"evaluation_date\", \"title\": \"Evaluation Date\", \"type\": \"temporal\"}, {\"field\": \"dev_lag\", \"title\": \"Dev Lag (months)\", \"type\": \"nominal\"}, {\"field\": \"Fields\", \"type\": \"nominal\"}], \"x\": {\"axis\": {\"labelAngle\": 0}, \"field\": \"dev_lag\", \"scale\": {\"zero\": true}, \"title\": \"Dev Lag (months)\", \"type\": \"nominal\"}, \"y\": {\"field\": \"period_start\", \"scale\": {\"padding\": 15, \"reverse\": true}, \"timeUnit\": \"yearmonth\", \"title\": \"Period Start\", \"type\": \"temporal\"}}, \"height\": 300, \"params\": [{\"name\": \"param_17\", \"select\": {\"type\": \"point\"}}, {\"name\": \"param_18\", \"select\": {\"type\": \"interval\", \"encodings\": [\"x\", \"y\"]}, \"bind\": \"scales\"}], \"title\": {\"text\": \"Triangle Completeness\", \"subtitle\": \"The number of data fields available per cell\"}, \"width\": 400, \"$schema\": \"https://vega.github.io/schema/vega-lite/v5.20.1.json\"}, {\"mode\": \"vega-lite\"});\n",
       "</script>"
      ],
      "text/plain": [
       "alt.Chart(...)"
      ]
     },
     "execution_count": 29,
     "metadata": {},
     "output_type": "execute_result"
    }
   ],
   "source": [
    "odd_tri = meyers.clip(min_period=date(1990, 1, 1), max_eval=date(1997, 12, 31), min_dev=24)\n",
    "odd_tri.plot_data_completeness()"
   ]
  },
  {
   "cell_type": "markdown",
   "id": "5b617114-4ae9-4040-a7fc-459f36e0a6a0",
   "metadata": {},
   "source": [
    "## Filtering"
   ]
  },
  {
   "cell_type": "code",
   "execution_count": 31,
   "id": "c756c4dd-4386-4fe6-931d-9a683e23cc86",
   "metadata": {},
   "outputs": [
    {
     "data": {
      "text/html": [
       "\n",
       "<style>\n",
       "  #altair-viz-e2ddb31059324310a2f9b64fa4b32934.vega-embed {\n",
       "    width: 100%;\n",
       "    display: flex;\n",
       "  }\n",
       "\n",
       "  #altair-viz-e2ddb31059324310a2f9b64fa4b32934.vega-embed details,\n",
       "  #altair-viz-e2ddb31059324310a2f9b64fa4b32934.vega-embed details summary {\n",
       "    position: relative;\n",
       "  }\n",
       "</style>\n",
       "<div id=\"altair-viz-e2ddb31059324310a2f9b64fa4b32934\"></div>\n",
       "<script type=\"text/javascript\">\n",
       "  var VEGA_DEBUG = (typeof VEGA_DEBUG == \"undefined\") ? {} : VEGA_DEBUG;\n",
       "  (function(spec, embedOpt){\n",
       "    let outputDiv = document.currentScript.previousElementSibling;\n",
       "    if (outputDiv.id !== \"altair-viz-e2ddb31059324310a2f9b64fa4b32934\") {\n",
       "      outputDiv = document.getElementById(\"altair-viz-e2ddb31059324310a2f9b64fa4b32934\");\n",
       "    }\n",
       "\n",
       "    const paths = {\n",
       "      \"vega\": \"https://cdn.jsdelivr.net/npm/vega@5?noext\",\n",
       "      \"vega-lib\": \"https://cdn.jsdelivr.net/npm/vega-lib?noext\",\n",
       "      \"vega-lite\": \"https://cdn.jsdelivr.net/npm/vega-lite@5.20.1?noext\",\n",
       "      \"vega-embed\": \"https://cdn.jsdelivr.net/npm/vega-embed@6?noext\",\n",
       "    };\n",
       "\n",
       "    function maybeLoadScript(lib, version) {\n",
       "      var key = `${lib.replace(\"-\", \"\")}_version`;\n",
       "      return (VEGA_DEBUG[key] == version) ?\n",
       "        Promise.resolve(paths[lib]) :\n",
       "        new Promise(function(resolve, reject) {\n",
       "          var s = document.createElement('script');\n",
       "          document.getElementsByTagName(\"head\")[0].appendChild(s);\n",
       "          s.async = true;\n",
       "          s.onload = () => {\n",
       "            VEGA_DEBUG[key] = version;\n",
       "            return resolve(paths[lib]);\n",
       "          };\n",
       "          s.onerror = () => reject(`Error loading script: ${paths[lib]}`);\n",
       "          s.src = paths[lib];\n",
       "        });\n",
       "    }\n",
       "\n",
       "    function showError(err) {\n",
       "      outputDiv.innerHTML = `<div class=\"error\" style=\"color:red;\">${err}</div>`;\n",
       "      throw err;\n",
       "    }\n",
       "\n",
       "    function displayChart(vegaEmbed) {\n",
       "      vegaEmbed(outputDiv, spec, embedOpt)\n",
       "        .catch(err => showError(`Javascript Error: ${err.message}<br>This usually means there's a typo in your chart specification. See the javascript console for the full traceback.`));\n",
       "    }\n",
       "\n",
       "    if(typeof define === \"function\" && define.amd) {\n",
       "      requirejs.config({paths});\n",
       "      let deps = [\"vega-embed\"];\n",
       "      require(deps, displayChart, err => showError(`Error loading script: ${err.message}`));\n",
       "    } else {\n",
       "      maybeLoadScript(\"vega\", \"5\")\n",
       "        .then(() => maybeLoadScript(\"vega-lite\", \"5.20.1\"))\n",
       "        .then(() => maybeLoadScript(\"vega-embed\", \"6\"))\n",
       "        .catch(showError)\n",
       "        .then(() => displayChart(vegaEmbed));\n",
       "    }\n",
       "  })({\"autosize\": {\"contains\": \"content\", \"resize\": true}, \"config\": {\"style\": {\"group-title\": {\"fontSize\": 24}, \"group-subtitle\": {\"fontSize\": 18}, \"guide-label\": {\"fontSize\": 16, \"font\": \"sans-serif\"}, \"guide-title\": {\"fontSize\": 18, \"font\": \"sans-serif\"}}, \"mark\": {\"color\": \"#1f8fff\"}, \"title\": {\"anchor\": \"start\", \"offset\": 20}, \"legend\": {\"orient\": \"right\", \"titleAnchor\": \"start\", \"layout\": {\"direction\": \"vertical\"}, \"labelFontSize\": 16.0, \"titleFontSize\": 18.0}, \"axis\": {\"labelFontSize\": 16.0, \"titleFontSize\": 18.0}}, \"data\": {\"values\": [{\"period_start\": \"1988-01-01T00:00:00\", \"period_end\": \"1988-12-31T00:00:00\", \"evaluation_date\": \"1991-12-31T00:00:00\", \"dev_lag\": 36.0, \"Number of Fields\": 3, \"Fields\": \"Paid Loss ($3,647,000), Reported Loss ($3,835,000), Earned Premium ($5,812,000)\"}, {\"period_start\": \"1988-01-01T00:00:00\", \"period_end\": \"1988-12-31T00:00:00\", \"evaluation_date\": \"1992-12-31T00:00:00\", \"dev_lag\": 48.0, \"Number of Fields\": 3, \"Fields\": \"Paid Loss ($3,724,000), Reported Loss ($3,873,000), Earned Premium ($5,812,000)\"}, {\"period_start\": \"1988-01-01T00:00:00\", \"period_end\": \"1988-12-31T00:00:00\", \"evaluation_date\": \"1993-12-31T00:00:00\", \"dev_lag\": 60.0, \"Number of Fields\": 3, \"Fields\": \"Paid Loss ($3,832,000), Reported Loss ($3,895,000), Earned Premium ($5,812,000)\"}, {\"period_start\": \"1988-01-01T00:00:00\", \"period_end\": \"1988-12-31T00:00:00\", \"evaluation_date\": \"1994-12-31T00:00:00\", \"dev_lag\": 72.0, \"Number of Fields\": 3, \"Fields\": \"Paid Loss ($3,899,000), Reported Loss ($3,918,000), Earned Premium ($5,812,000)\"}, {\"period_start\": \"1988-01-01T00:00:00\", \"period_end\": \"1988-12-31T00:00:00\", \"evaluation_date\": \"1995-12-31T00:00:00\", \"dev_lag\": 84.0, \"Number of Fields\": 3, \"Fields\": \"Paid Loss ($3,907,000), Reported Loss ($3,918,000), Earned Premium ($5,812,000)\"}, {\"period_start\": \"1988-01-01T00:00:00\", \"period_end\": \"1988-12-31T00:00:00\", \"evaluation_date\": \"1996-12-31T00:00:00\", \"dev_lag\": 96.0, \"Number of Fields\": 3, \"Fields\": \"Paid Loss ($3,911,000), Reported Loss ($3,917,000), Earned Premium ($5,812,000)\"}, {\"period_start\": \"1988-01-01T00:00:00\", \"period_end\": \"1988-12-31T00:00:00\", \"evaluation_date\": \"1997-12-31T00:00:00\", \"dev_lag\": 108.0, \"Number of Fields\": 3, \"Fields\": \"Paid Loss ($3,912,000), Reported Loss ($3,917,000), Earned Premium ($5,812,000)\"}, {\"period_start\": \"1990-01-01T00:00:00\", \"period_end\": \"1990-12-31T00:00:00\", \"evaluation_date\": \"1993-12-31T00:00:00\", \"dev_lag\": 36.0, \"Number of Fields\": 3, \"Fields\": \"Paid Loss ($3,832,000), Reported Loss ($4,000,000), Earned Premium ($5,454,000)\"}, {\"period_start\": \"1990-01-01T00:00:00\", \"period_end\": \"1990-12-31T00:00:00\", \"evaluation_date\": \"1994-12-31T00:00:00\", \"dev_lag\": 48.0, \"Number of Fields\": 3, \"Fields\": \"Paid Loss ($4,039,000), Reported Loss ($4,105,000), Earned Premium ($5,454,000)\"}, {\"period_start\": \"1990-01-01T00:00:00\", \"period_end\": \"1990-12-31T00:00:00\", \"evaluation_date\": \"1995-12-31T00:00:00\", \"dev_lag\": 60.0, \"Number of Fields\": 3, \"Fields\": \"Paid Loss ($4,065,000), Reported Loss ($4,087,000), Earned Premium ($5,454,000)\"}, {\"period_start\": \"1990-01-01T00:00:00\", \"period_end\": \"1990-12-31T00:00:00\", \"evaluation_date\": \"1996-12-31T00:00:00\", \"dev_lag\": 72.0, \"Number of Fields\": 3, \"Fields\": \"Paid Loss ($4,102,000), Reported Loss ($4,112,000), Earned Premium ($5,454,000)\"}, {\"period_start\": \"1990-01-01T00:00:00\", \"period_end\": \"1990-12-31T00:00:00\", \"evaluation_date\": \"1997-12-31T00:00:00\", \"dev_lag\": 84.0, \"Number of Fields\": 3, \"Fields\": \"Paid Loss ($4,155,000), Reported Loss ($4,170,000), Earned Premium ($5,454,000)\"}, {\"period_start\": \"1990-01-01T00:00:00\", \"period_end\": \"1990-12-31T00:00:00\", \"evaluation_date\": \"1998-12-31T00:00:00\", \"dev_lag\": 96.0, \"Number of Fields\": 3, \"Fields\": \"Paid Loss ($4,268,000), Reported Loss ($4,271,000), Earned Premium ($5,454,000)\"}, {\"period_start\": \"1990-01-01T00:00:00\", \"period_end\": \"1990-12-31T00:00:00\", \"evaluation_date\": \"1999-12-31T00:00:00\", \"dev_lag\": 108.0, \"Number of Fields\": 3, \"Fields\": \"Paid Loss ($4,274,000), Reported Loss ($4,279,000), Earned Premium ($5,454,000)\"}, {\"period_start\": \"1991-01-01T00:00:00\", \"period_end\": \"1991-12-31T00:00:00\", \"evaluation_date\": \"1994-12-31T00:00:00\", \"dev_lag\": 36.0, \"Number of Fields\": 3, \"Fields\": \"Paid Loss ($3,600,000), Reported Loss ($4,018,000), Earned Premium ($5,165,000)\"}, {\"period_start\": \"1991-01-01T00:00:00\", \"period_end\": \"1991-12-31T00:00:00\", \"evaluation_date\": \"1995-12-31T00:00:00\", \"dev_lag\": 48.0, \"Number of Fields\": 3, \"Fields\": \"Paid Loss ($3,900,000), Reported Loss ($4,295,000), Earned Premium ($5,165,000)\"}, {\"period_start\": \"1991-01-01T00:00:00\", \"period_end\": \"1991-12-31T00:00:00\", \"evaluation_date\": \"1996-12-31T00:00:00\", \"dev_lag\": 60.0, \"Number of Fields\": 3, \"Fields\": \"Paid Loss ($4,320,000), Reported Loss ($4,334,000), Earned Premium ($5,165,000)\"}, {\"period_start\": \"1991-01-01T00:00:00\", \"period_end\": \"1991-12-31T00:00:00\", \"evaluation_date\": \"1997-12-31T00:00:00\", \"dev_lag\": 72.0, \"Number of Fields\": 3, \"Fields\": \"Paid Loss ($4,332,000), Reported Loss ($4,343,000), Earned Premium ($5,165,000)\"}, {\"period_start\": \"1991-01-01T00:00:00\", \"period_end\": \"1991-12-31T00:00:00\", \"evaluation_date\": \"1998-12-31T00:00:00\", \"dev_lag\": 84.0, \"Number of Fields\": 3, \"Fields\": \"Paid Loss ($4,338,000), Reported Loss ($4,340,000), Earned Premium ($5,165,000)\"}, {\"period_start\": \"1991-01-01T00:00:00\", \"period_end\": \"1991-12-31T00:00:00\", \"evaluation_date\": \"1999-12-31T00:00:00\", \"dev_lag\": 96.0, \"Number of Fields\": 3, \"Fields\": \"Paid Loss ($4,341,000), Reported Loss ($4,342,000), Earned Premium ($5,165,000)\"}, {\"period_start\": \"1991-01-01T00:00:00\", \"period_end\": \"1991-12-31T00:00:00\", \"evaluation_date\": \"2000-12-31T00:00:00\", \"dev_lag\": 108.0, \"Number of Fields\": 3, \"Fields\": \"Paid Loss ($4,341,000), Reported Loss ($4,341,000), Earned Premium ($5,165,000)\"}, {\"period_start\": \"1992-01-01T00:00:00\", \"period_end\": \"1992-12-31T00:00:00\", \"evaluation_date\": \"1998-12-31T00:00:00\", \"dev_lag\": 72.0, \"Number of Fields\": 3, \"Fields\": \"Paid Loss ($3,531,000), Reported Loss ($3,542,000), Earned Premium ($5,214,000)\"}, {\"period_start\": \"1992-01-01T00:00:00\", \"period_end\": \"1992-12-31T00:00:00\", \"evaluation_date\": \"1999-12-31T00:00:00\", \"dev_lag\": 84.0, \"Number of Fields\": 3, \"Fields\": \"Paid Loss ($3,540,000), Reported Loss ($3,541,000), Earned Premium ($5,214,000)\"}, {\"period_start\": \"1992-01-01T00:00:00\", \"period_end\": \"1992-12-31T00:00:00\", \"evaluation_date\": \"2000-12-31T00:00:00\", \"dev_lag\": 96.0, \"Number of Fields\": 3, \"Fields\": \"Paid Loss ($3,540,000), Reported Loss ($3,541,000), Earned Premium ($5,214,000)\"}, {\"period_start\": \"1992-01-01T00:00:00\", \"period_end\": \"1992-12-31T00:00:00\", \"evaluation_date\": \"2001-12-31T00:00:00\", \"dev_lag\": 108.0, \"Number of Fields\": 3, \"Fields\": \"Paid Loss ($3,583,000), Reported Loss ($3,587,000), Earned Premium ($5,214,000)\"}, {\"period_start\": \"1994-01-01T00:00:00\", \"period_end\": \"1994-12-31T00:00:00\", \"evaluation_date\": \"1996-12-31T00:00:00\", \"dev_lag\": 24.0, \"Number of Fields\": 3, \"Fields\": \"Paid Loss ($3,945,000), Reported Loss ($4,841,000), Earned Premium ($4,992,000)\"}, {\"period_start\": \"1994-01-01T00:00:00\", \"period_end\": \"1994-12-31T00:00:00\", \"evaluation_date\": \"1997-12-31T00:00:00\", \"dev_lag\": 36.0, \"Number of Fields\": 3, \"Fields\": \"Paid Loss ($4,714,000), Reported Loss ($5,176,000), Earned Premium ($4,992,000)\"}, {\"period_start\": \"1994-01-01T00:00:00\", \"period_end\": \"1994-12-31T00:00:00\", \"evaluation_date\": \"1998-12-31T00:00:00\", \"dev_lag\": 48.0, \"Number of Fields\": 3, \"Fields\": \"Paid Loss ($5,462,000), Reported Loss ($5,551,000), Earned Premium ($4,992,000)\"}, {\"period_start\": \"1994-01-01T00:00:00\", \"period_end\": \"1994-12-31T00:00:00\", \"evaluation_date\": \"1999-12-31T00:00:00\", \"dev_lag\": 60.0, \"Number of Fields\": 3, \"Fields\": \"Paid Loss ($5,680,000), Reported Loss ($5,689,000), Earned Premium ($4,992,000)\"}, {\"period_start\": \"1994-01-01T00:00:00\", \"period_end\": \"1994-12-31T00:00:00\", \"evaluation_date\": \"2000-12-31T00:00:00\", \"dev_lag\": 72.0, \"Number of Fields\": 3, \"Fields\": \"Paid Loss ($5,682,000), Reported Loss ($5,683,000), Earned Premium ($4,992,000)\"}, {\"period_start\": \"1994-01-01T00:00:00\", \"period_end\": \"1994-12-31T00:00:00\", \"evaluation_date\": \"2001-12-31T00:00:00\", \"dev_lag\": 84.0, \"Number of Fields\": 3, \"Fields\": \"Paid Loss ($5,683,000), Reported Loss ($5,688,000), Earned Premium ($4,992,000)\"}, {\"period_start\": \"1994-01-01T00:00:00\", \"period_end\": \"1994-12-31T00:00:00\", \"evaluation_date\": \"2002-12-31T00:00:00\", \"dev_lag\": 96.0, \"Number of Fields\": 3, \"Fields\": \"Paid Loss ($5,684,000), Reported Loss ($5,684,000), Earned Premium ($4,992,000)\"}, {\"period_start\": \"1994-01-01T00:00:00\", \"period_end\": \"1994-12-31T00:00:00\", \"evaluation_date\": \"2003-12-31T00:00:00\", \"dev_lag\": 108.0, \"Number of Fields\": 3, \"Fields\": \"Paid Loss ($5,684,000), Reported Loss ($5,684,000), Earned Premium ($4,992,000)\"}, {\"period_start\": \"1995-01-01T00:00:00\", \"period_end\": \"1995-12-31T00:00:00\", \"evaluation_date\": \"1999-12-31T00:00:00\", \"dev_lag\": 48.0, \"Number of Fields\": 3, \"Fields\": \"Paid Loss ($3,678,000), Reported Loss ($4,148,000), Earned Premium ($5,466,000)\"}, {\"period_start\": \"1995-01-01T00:00:00\", \"period_end\": \"1995-12-31T00:00:00\", \"evaluation_date\": \"2000-12-31T00:00:00\", \"dev_lag\": 60.0, \"Number of Fields\": 3, \"Fields\": \"Paid Loss ($4,002,000), Reported Loss ($4,123,000), Earned Premium ($5,466,000)\"}, {\"period_start\": \"1995-01-01T00:00:00\", \"period_end\": \"1995-12-31T00:00:00\", \"evaluation_date\": \"2001-12-31T00:00:00\", \"dev_lag\": 72.0, \"Number of Fields\": 3, \"Fields\": \"Paid Loss ($4,117,000), Reported Loss ($4,126,000), Earned Premium ($5,466,000)\"}, {\"period_start\": \"1995-01-01T00:00:00\", \"period_end\": \"1995-12-31T00:00:00\", \"evaluation_date\": \"2002-12-31T00:00:00\", \"dev_lag\": 84.0, \"Number of Fields\": 3, \"Fields\": \"Paid Loss ($4,125,000), Reported Loss ($4,127,000), Earned Premium ($5,466,000)\"}, {\"period_start\": \"1995-01-01T00:00:00\", \"period_end\": \"1995-12-31T00:00:00\", \"evaluation_date\": \"2003-12-31T00:00:00\", \"dev_lag\": 96.0, \"Number of Fields\": 3, \"Fields\": \"Paid Loss ($4,128,000), Reported Loss ($4,128,000), Earned Premium ($5,466,000)\"}, {\"period_start\": \"1995-01-01T00:00:00\", \"period_end\": \"1995-12-31T00:00:00\", \"evaluation_date\": \"2004-12-31T00:00:00\", \"dev_lag\": 108.0, \"Number of Fields\": 3, \"Fields\": \"Paid Loss ($4,128,000), Reported Loss ($4,128,000), Earned Premium ($5,466,000)\"}, {\"period_start\": \"1996-01-01T00:00:00\", \"period_end\": \"1996-12-31T00:00:00\", \"evaluation_date\": \"1999-12-31T00:00:00\", \"dev_lag\": 36.0, \"Number of Fields\": 3, \"Fields\": \"Paid Loss ($3,843,000), Reported Loss ($3,973,000), Earned Premium ($5,226,000)\"}, {\"period_start\": \"1996-01-01T00:00:00\", \"period_end\": \"1996-12-31T00:00:00\", \"evaluation_date\": \"2000-12-31T00:00:00\", \"dev_lag\": 48.0, \"Number of Fields\": 3, \"Fields\": \"Paid Loss ($3,965,000), Reported Loss ($4,031,000), Earned Premium ($5,226,000)\"}, {\"period_start\": \"1996-01-01T00:00:00\", \"period_end\": \"1996-12-31T00:00:00\", \"evaluation_date\": \"2001-12-31T00:00:00\", \"dev_lag\": 60.0, \"Number of Fields\": 3, \"Fields\": \"Paid Loss ($4,127,000), Reported Loss ($4,157,000), Earned Premium ($5,226,000)\"}, {\"period_start\": \"1996-01-01T00:00:00\", \"period_end\": \"1996-12-31T00:00:00\", \"evaluation_date\": \"2002-12-31T00:00:00\", \"dev_lag\": 72.0, \"Number of Fields\": 3, \"Fields\": \"Paid Loss ($4,133,000), Reported Loss ($4,143,000), Earned Premium ($5,226,000)\"}, {\"period_start\": \"1996-01-01T00:00:00\", \"period_end\": \"1996-12-31T00:00:00\", \"evaluation_date\": \"2003-12-31T00:00:00\", \"dev_lag\": 84.0, \"Number of Fields\": 3, \"Fields\": \"Paid Loss ($4,141,000), Reported Loss ($4,142,000), Earned Premium ($5,226,000)\"}, {\"period_start\": \"1996-01-01T00:00:00\", \"period_end\": \"1996-12-31T00:00:00\", \"evaluation_date\": \"2004-12-31T00:00:00\", \"dev_lag\": 96.0, \"Number of Fields\": 3, \"Fields\": \"Paid Loss ($4,142,000), Reported Loss ($4,144,000), Earned Premium ($5,226,000)\"}, {\"period_start\": \"1996-01-01T00:00:00\", \"period_end\": \"1996-12-31T00:00:00\", \"evaluation_date\": \"2005-12-31T00:00:00\", \"dev_lag\": 108.0, \"Number of Fields\": 3, \"Fields\": \"Paid Loss ($4,144,000), Reported Loss ($4,144,000), Earned Premium ($5,226,000)\"}, {\"period_start\": \"1997-01-01T00:00:00\", \"period_end\": \"1997-12-31T00:00:00\", \"evaluation_date\": \"2000-12-31T00:00:00\", \"dev_lag\": 36.0, \"Number of Fields\": 3, \"Fields\": \"Paid Loss ($3,674,000), Reported Loss ($3,977,000), Earned Premium ($4,962,000)\"}, {\"period_start\": \"1997-01-01T00:00:00\", \"period_end\": \"1997-12-31T00:00:00\", \"evaluation_date\": \"2001-12-31T00:00:00\", \"dev_lag\": 48.0, \"Number of Fields\": 3, \"Fields\": \"Paid Loss ($3,805,000), Reported Loss ($4,040,000), Earned Premium ($4,962,000)\"}, {\"period_start\": \"1997-01-01T00:00:00\", \"period_end\": \"1997-12-31T00:00:00\", \"evaluation_date\": \"2002-12-31T00:00:00\", \"dev_lag\": 60.0, \"Number of Fields\": 3, \"Fields\": \"Paid Loss ($4,005,000), Reported Loss ($4,121,000), Earned Premium ($4,962,000)\"}, {\"period_start\": \"1997-01-01T00:00:00\", \"period_end\": \"1997-12-31T00:00:00\", \"evaluation_date\": \"2003-12-31T00:00:00\", \"dev_lag\": 72.0, \"Number of Fields\": 3, \"Fields\": \"Paid Loss ($4,020,000), Reported Loss ($4,147,000), Earned Premium ($4,962,000)\"}, {\"period_start\": \"1997-01-01T00:00:00\", \"period_end\": \"1997-12-31T00:00:00\", \"evaluation_date\": \"2004-12-31T00:00:00\", \"dev_lag\": 84.0, \"Number of Fields\": 3, \"Fields\": \"Paid Loss ($4,095,000), Reported Loss ($4,155,000), Earned Premium ($4,962,000)\"}, {\"period_start\": \"1997-01-01T00:00:00\", \"period_end\": \"1997-12-31T00:00:00\", \"evaluation_date\": \"2005-12-31T00:00:00\", \"dev_lag\": 96.0, \"Number of Fields\": 3, \"Fields\": \"Paid Loss ($4,132,000), Reported Loss ($4,183,000), Earned Premium ($4,962,000)\"}, {\"period_start\": \"1997-01-01T00:00:00\", \"period_end\": \"1997-12-31T00:00:00\", \"evaluation_date\": \"2006-12-31T00:00:00\", \"dev_lag\": 108.0, \"Number of Fields\": 3, \"Fields\": \"Paid Loss ($4,139,000), Reported Loss ($4,181,000), Earned Premium ($4,962,000)\"}]}, \"mark\": {\"type\": \"circle\", \"opacity\": 1, \"size\": 500.0}, \"encoding\": {\"color\": {\"condition\": {\"param\": \"param_19\", \"field\": \"Number of Fields\", \"scale\": {\"scheme\": \"dark2\"}, \"type\": \"nominal\"}, \"value\": \"lightgray\"}, \"tooltip\": [{\"field\": \"period_start\", \"title\": \"Period Start\", \"type\": \"temporal\"}, {\"field\": \"period_end\", \"title\": \"Period End\", \"type\": \"temporal\"}, {\"field\": \"evaluation_date\", \"title\": \"Evaluation Date\", \"type\": \"temporal\"}, {\"field\": \"dev_lag\", \"title\": \"Dev Lag (months)\", \"type\": \"nominal\"}, {\"field\": \"Fields\", \"type\": \"nominal\"}], \"x\": {\"axis\": {\"labelAngle\": 0}, \"field\": \"dev_lag\", \"scale\": {\"zero\": true}, \"title\": \"Dev Lag (months)\", \"type\": \"nominal\"}, \"y\": {\"field\": \"period_start\", \"scale\": {\"padding\": 15, \"reverse\": true}, \"timeUnit\": \"yearmonth\", \"title\": \"Period Start\", \"type\": \"temporal\"}}, \"height\": 300, \"params\": [{\"name\": \"param_19\", \"select\": {\"type\": \"point\"}}, {\"name\": \"param_20\", \"select\": {\"type\": \"interval\", \"encodings\": [\"x\", \"y\"]}, \"bind\": \"scales\"}], \"title\": {\"text\": \"Triangle Completeness\", \"subtitle\": \"The number of data fields available per cell\"}, \"width\": 400, \"$schema\": \"https://vega.github.io/schema/vega-lite/v5.20.1.json\"}, {\"mode\": \"vega-lite\"});\n",
       "</script>"
      ],
      "text/plain": [
       "alt.Chart(...)"
      ]
     },
     "execution_count": 31,
     "metadata": {},
     "output_type": "execute_result"
    }
   ],
   "source": [
    "large = meyers.filter(lambda cell: cell['paid_loss'] > 3.5e6)\n",
    "large.plot_data_completeness()"
   ]
  },
  {
   "cell_type": "markdown",
   "id": "872544da-9196-48c6-9a0b-31123f447eeb",
   "metadata": {},
   "source": [
    "### Slicing"
   ]
  },
  {
   "cell_type": "code",
   "execution_count": 32,
   "id": "6937b4d7-a0c8-4ebd-aeb7-2bbf4c8b4837",
   "metadata": {},
   "outputs": [
    {
     "data": {
      "text/html": [
       "\n",
       "<style>\n",
       "  #altair-viz-d7f2e85a5fd94ca88eac851728c1a9e5.vega-embed {\n",
       "    width: 100%;\n",
       "    display: flex;\n",
       "  }\n",
       "\n",
       "  #altair-viz-d7f2e85a5fd94ca88eac851728c1a9e5.vega-embed details,\n",
       "  #altair-viz-d7f2e85a5fd94ca88eac851728c1a9e5.vega-embed details summary {\n",
       "    position: relative;\n",
       "  }\n",
       "</style>\n",
       "<div id=\"altair-viz-d7f2e85a5fd94ca88eac851728c1a9e5\"></div>\n",
       "<script type=\"text/javascript\">\n",
       "  var VEGA_DEBUG = (typeof VEGA_DEBUG == \"undefined\") ? {} : VEGA_DEBUG;\n",
       "  (function(spec, embedOpt){\n",
       "    let outputDiv = document.currentScript.previousElementSibling;\n",
       "    if (outputDiv.id !== \"altair-viz-d7f2e85a5fd94ca88eac851728c1a9e5\") {\n",
       "      outputDiv = document.getElementById(\"altair-viz-d7f2e85a5fd94ca88eac851728c1a9e5\");\n",
       "    }\n",
       "\n",
       "    const paths = {\n",
       "      \"vega\": \"https://cdn.jsdelivr.net/npm/vega@5?noext\",\n",
       "      \"vega-lib\": \"https://cdn.jsdelivr.net/npm/vega-lib?noext\",\n",
       "      \"vega-lite\": \"https://cdn.jsdelivr.net/npm/vega-lite@5.20.1?noext\",\n",
       "      \"vega-embed\": \"https://cdn.jsdelivr.net/npm/vega-embed@6?noext\",\n",
       "    };\n",
       "\n",
       "    function maybeLoadScript(lib, version) {\n",
       "      var key = `${lib.replace(\"-\", \"\")}_version`;\n",
       "      return (VEGA_DEBUG[key] == version) ?\n",
       "        Promise.resolve(paths[lib]) :\n",
       "        new Promise(function(resolve, reject) {\n",
       "          var s = document.createElement('script');\n",
       "          document.getElementsByTagName(\"head\")[0].appendChild(s);\n",
       "          s.async = true;\n",
       "          s.onload = () => {\n",
       "            VEGA_DEBUG[key] = version;\n",
       "            return resolve(paths[lib]);\n",
       "          };\n",
       "          s.onerror = () => reject(`Error loading script: ${paths[lib]}`);\n",
       "          s.src = paths[lib];\n",
       "        });\n",
       "    }\n",
       "\n",
       "    function showError(err) {\n",
       "      outputDiv.innerHTML = `<div class=\"error\" style=\"color:red;\">${err}</div>`;\n",
       "      throw err;\n",
       "    }\n",
       "\n",
       "    function displayChart(vegaEmbed) {\n",
       "      vegaEmbed(outputDiv, spec, embedOpt)\n",
       "        .catch(err => showError(`Javascript Error: ${err.message}<br>This usually means there's a typo in your chart specification. See the javascript console for the full traceback.`));\n",
       "    }\n",
       "\n",
       "    if(typeof define === \"function\" && define.amd) {\n",
       "      requirejs.config({paths});\n",
       "      let deps = [\"vega-embed\"];\n",
       "      require(deps, displayChart, err => showError(`Error loading script: ${err.message}`));\n",
       "    } else {\n",
       "      maybeLoadScript(\"vega\", \"5\")\n",
       "        .then(() => maybeLoadScript(\"vega-lite\", \"5.20.1\"))\n",
       "        .then(() => maybeLoadScript(\"vega-embed\", \"6\"))\n",
       "        .catch(showError)\n",
       "        .then(() => displayChart(vegaEmbed));\n",
       "    }\n",
       "  })({\"autosize\": {\"contains\": \"content\", \"resize\": true}, \"config\": {\"style\": {\"group-title\": {\"fontSize\": 24}, \"group-subtitle\": {\"fontSize\": 18}, \"guide-label\": {\"fontSize\": 16, \"font\": \"sans-serif\"}, \"guide-title\": {\"fontSize\": 18, \"font\": \"sans-serif\"}}, \"mark\": {\"color\": \"#1f8fff\"}, \"title\": {\"anchor\": \"start\", \"offset\": 20}, \"legend\": {\"orient\": \"right\", \"titleAnchor\": \"start\", \"layout\": {\"direction\": \"vertical\"}, \"labelFontSize\": 16.0, \"titleFontSize\": 18.0}, \"axis\": {\"labelFontSize\": 16.0, \"titleFontSize\": 18.0}}, \"data\": {\"values\": [{\"period_start\": \"1988-01-01T00:00:00\", \"period_end\": \"1988-12-31T00:00:00\", \"evaluation_date\": \"1997-12-31T00:00:00\", \"dev_lag\": 108.0, \"Number of Fields\": 3, \"Fields\": \"Paid Loss ($3,912,000), Reported Loss ($3,917,000), Earned Premium ($5,812,000)\"}, {\"period_start\": \"1989-01-01T00:00:00\", \"period_end\": \"1989-12-31T00:00:00\", \"evaluation_date\": \"1997-12-31T00:00:00\", \"dev_lag\": 96.0, \"Number of Fields\": 3, \"Fields\": \"Paid Loss ($2,531,000), Reported Loss ($2,538,000), Earned Premium ($4,908,000)\"}, {\"period_start\": \"1990-01-01T00:00:00\", \"period_end\": \"1990-12-31T00:00:00\", \"evaluation_date\": \"1997-12-31T00:00:00\", \"dev_lag\": 84.0, \"Number of Fields\": 3, \"Fields\": \"Paid Loss ($4,155,000), Reported Loss ($4,170,000), Earned Premium ($5,454,000)\"}, {\"period_start\": \"1991-01-01T00:00:00\", \"period_end\": \"1991-12-31T00:00:00\", \"evaluation_date\": \"1997-12-31T00:00:00\", \"dev_lag\": 72.0, \"Number of Fields\": 3, \"Fields\": \"Paid Loss ($4,332,000), Reported Loss ($4,343,000), Earned Premium ($5,165,000)\"}, {\"period_start\": \"1992-01-01T00:00:00\", \"period_end\": \"1992-12-31T00:00:00\", \"evaluation_date\": \"1997-12-31T00:00:00\", \"dev_lag\": 60.0, \"Number of Fields\": 3, \"Fields\": \"Paid Loss ($3,491,000), Reported Loss ($3,563,000), Earned Premium ($5,214,000)\"}, {\"period_start\": \"1993-01-01T00:00:00\", \"period_end\": \"1993-12-31T00:00:00\", \"evaluation_date\": \"1997-12-31T00:00:00\", \"dev_lag\": 48.0, \"Number of Fields\": 3, \"Fields\": \"Paid Loss ($3,034,000), Reported Loss ($3,190,000), Earned Premium ($5,230,000)\"}, {\"period_start\": \"1994-01-01T00:00:00\", \"period_end\": \"1994-12-31T00:00:00\", \"evaluation_date\": \"1997-12-31T00:00:00\", \"dev_lag\": 36.0, \"Number of Fields\": 3, \"Fields\": \"Paid Loss ($4,714,000), Reported Loss ($5,176,000), Earned Premium ($4,992,000)\"}, {\"period_start\": \"1995-01-01T00:00:00\", \"period_end\": \"1995-12-31T00:00:00\", \"evaluation_date\": \"1997-12-31T00:00:00\", \"dev_lag\": 24.0, \"Number of Fields\": 3, \"Fields\": \"Paid Loss ($2,607,000), Reported Loss ($3,382,000), Earned Premium ($5,466,000)\"}, {\"period_start\": \"1996-01-01T00:00:00\", \"period_end\": \"1996-12-31T00:00:00\", \"evaluation_date\": \"1997-12-31T00:00:00\", \"dev_lag\": 12.0, \"Number of Fields\": 3, \"Fields\": \"Paid Loss ($2,412,000), Reported Loss ($3,307,000), Earned Premium ($5,226,000)\"}, {\"period_start\": \"1997-01-01T00:00:00\", \"period_end\": \"1997-12-31T00:00:00\", \"evaluation_date\": \"1997-12-31T00:00:00\", \"dev_lag\": 0.0, \"Number of Fields\": 3, \"Fields\": \"Paid Loss ($1,413,000), Reported Loss ($2,203,000), Earned Premium ($4,962,000)\"}]}, \"mark\": {\"type\": \"circle\", \"opacity\": 1, \"size\": 500.0}, \"encoding\": {\"color\": {\"condition\": {\"param\": \"param_21\", \"field\": \"Number of Fields\", \"scale\": {\"scheme\": \"dark2\"}, \"type\": \"nominal\"}, \"value\": \"lightgray\"}, \"tooltip\": [{\"field\": \"period_start\", \"title\": \"Period Start\", \"type\": \"temporal\"}, {\"field\": \"period_end\", \"title\": \"Period End\", \"type\": \"temporal\"}, {\"field\": \"evaluation_date\", \"title\": \"Evaluation Date\", \"type\": \"temporal\"}, {\"field\": \"dev_lag\", \"title\": \"Dev Lag (months)\", \"type\": \"nominal\"}, {\"field\": \"Fields\", \"type\": \"nominal\"}], \"x\": {\"axis\": {\"labelAngle\": 0}, \"field\": \"dev_lag\", \"scale\": {\"zero\": true}, \"title\": \"Dev Lag (months)\", \"type\": \"nominal\"}, \"y\": {\"field\": \"period_start\", \"scale\": {\"padding\": 15, \"reverse\": true}, \"timeUnit\": \"yearmonth\", \"title\": \"Period Start\", \"type\": \"temporal\"}}, \"height\": 300, \"params\": [{\"name\": \"param_21\", \"select\": {\"type\": \"point\"}}, {\"name\": \"param_22\", \"select\": {\"type\": \"interval\", \"encodings\": [\"x\", \"y\"]}, \"bind\": \"scales\"}], \"title\": {\"text\": \"Triangle Completeness\", \"subtitle\": \"The number of data fields available per cell\"}, \"width\": 400, \"$schema\": \"https://vega.github.io/schema/vega-lite/v5.20.1.json\"}, {\"mode\": \"vega-lite\"});\n",
       "</script>"
      ],
      "text/plain": [
       "alt.Chart(...)"
      ]
     },
     "execution_count": 32,
     "metadata": {},
     "output_type": "execute_result"
    }
   ],
   "source": [
    "dev_tri.right_edge.plot_data_completeness()"
   ]
  },
  {
   "cell_type": "code",
   "execution_count": 33,
   "id": "b66aab25-a535-4aa6-9a27-2cc49eca05d4",
   "metadata": {},
   "outputs": [
    {
     "data": {
      "text/html": [
       "\n",
       "<style>\n",
       "  #altair-viz-caf4ead64fcc429fbd368964c4af0b55.vega-embed {\n",
       "    width: 100%;\n",
       "    display: flex;\n",
       "  }\n",
       "\n",
       "  #altair-viz-caf4ead64fcc429fbd368964c4af0b55.vega-embed details,\n",
       "  #altair-viz-caf4ead64fcc429fbd368964c4af0b55.vega-embed details summary {\n",
       "    position: relative;\n",
       "  }\n",
       "</style>\n",
       "<div id=\"altair-viz-caf4ead64fcc429fbd368964c4af0b55\"></div>\n",
       "<script type=\"text/javascript\">\n",
       "  var VEGA_DEBUG = (typeof VEGA_DEBUG == \"undefined\") ? {} : VEGA_DEBUG;\n",
       "  (function(spec, embedOpt){\n",
       "    let outputDiv = document.currentScript.previousElementSibling;\n",
       "    if (outputDiv.id !== \"altair-viz-caf4ead64fcc429fbd368964c4af0b55\") {\n",
       "      outputDiv = document.getElementById(\"altair-viz-caf4ead64fcc429fbd368964c4af0b55\");\n",
       "    }\n",
       "\n",
       "    const paths = {\n",
       "      \"vega\": \"https://cdn.jsdelivr.net/npm/vega@5?noext\",\n",
       "      \"vega-lib\": \"https://cdn.jsdelivr.net/npm/vega-lib?noext\",\n",
       "      \"vega-lite\": \"https://cdn.jsdelivr.net/npm/vega-lite@5.20.1?noext\",\n",
       "      \"vega-embed\": \"https://cdn.jsdelivr.net/npm/vega-embed@6?noext\",\n",
       "    };\n",
       "\n",
       "    function maybeLoadScript(lib, version) {\n",
       "      var key = `${lib.replace(\"-\", \"\")}_version`;\n",
       "      return (VEGA_DEBUG[key] == version) ?\n",
       "        Promise.resolve(paths[lib]) :\n",
       "        new Promise(function(resolve, reject) {\n",
       "          var s = document.createElement('script');\n",
       "          document.getElementsByTagName(\"head\")[0].appendChild(s);\n",
       "          s.async = true;\n",
       "          s.onload = () => {\n",
       "            VEGA_DEBUG[key] = version;\n",
       "            return resolve(paths[lib]);\n",
       "          };\n",
       "          s.onerror = () => reject(`Error loading script: ${paths[lib]}`);\n",
       "          s.src = paths[lib];\n",
       "        });\n",
       "    }\n",
       "\n",
       "    function showError(err) {\n",
       "      outputDiv.innerHTML = `<div class=\"error\" style=\"color:red;\">${err}</div>`;\n",
       "      throw err;\n",
       "    }\n",
       "\n",
       "    function displayChart(vegaEmbed) {\n",
       "      vegaEmbed(outputDiv, spec, embedOpt)\n",
       "        .catch(err => showError(`Javascript Error: ${err.message}<br>This usually means there's a typo in your chart specification. See the javascript console for the full traceback.`));\n",
       "    }\n",
       "\n",
       "    if(typeof define === \"function\" && define.amd) {\n",
       "      requirejs.config({paths});\n",
       "      let deps = [\"vega-embed\"];\n",
       "      require(deps, displayChart, err => showError(`Error loading script: ${err.message}`));\n",
       "    } else {\n",
       "      maybeLoadScript(\"vega\", \"5\")\n",
       "        .then(() => maybeLoadScript(\"vega-lite\", \"5.20.1\"))\n",
       "        .then(() => maybeLoadScript(\"vega-embed\", \"6\"))\n",
       "        .catch(showError)\n",
       "        .then(() => displayChart(vegaEmbed));\n",
       "    }\n",
       "  })({\"autosize\": {\"contains\": \"content\", \"resize\": true}, \"config\": {\"style\": {\"group-title\": {\"fontSize\": 24}, \"group-subtitle\": {\"fontSize\": 18}, \"guide-label\": {\"fontSize\": 16, \"font\": \"sans-serif\"}, \"guide-title\": {\"fontSize\": 18, \"font\": \"sans-serif\"}}, \"mark\": {\"color\": \"#1f8fff\"}, \"title\": {\"anchor\": \"start\", \"offset\": 20}, \"legend\": {\"orient\": \"right\", \"titleAnchor\": \"start\", \"layout\": {\"direction\": \"vertical\"}, \"labelFontSize\": 16.0, \"titleFontSize\": 18.0}, \"axis\": {\"labelFontSize\": 16.0, \"titleFontSize\": 18.0}}, \"data\": {\"values\": [{\"period_start\": \"1994-01-01T00:00:00\", \"period_end\": \"1994-12-31T00:00:00\", \"evaluation_date\": \"1994-12-31T00:00:00\", \"dev_lag\": 0.0, \"Number of Fields\": 3, \"Fields\": \"Paid Loss ($1,478,000), Reported Loss ($2,881,000), Earned Premium ($4,992,000)\"}, {\"period_start\": \"1994-01-01T00:00:00\", \"period_end\": \"1994-12-31T00:00:00\", \"evaluation_date\": \"1995-12-31T00:00:00\", \"dev_lag\": 12.0, \"Number of Fields\": 3, \"Fields\": \"Paid Loss ($2,980,000), Reported Loss ($4,254,000), Earned Premium ($4,992,000)\"}, {\"period_start\": \"1994-01-01T00:00:00\", \"period_end\": \"1994-12-31T00:00:00\", \"evaluation_date\": \"1996-12-31T00:00:00\", \"dev_lag\": 24.0, \"Number of Fields\": 3, \"Fields\": \"Paid Loss ($3,945,000), Reported Loss ($4,841,000), Earned Premium ($4,992,000)\"}, {\"period_start\": \"1994-01-01T00:00:00\", \"period_end\": \"1994-12-31T00:00:00\", \"evaluation_date\": \"1997-12-31T00:00:00\", \"dev_lag\": 36.0, \"Number of Fields\": 3, \"Fields\": \"Paid Loss ($4,714,000), Reported Loss ($5,176,000), Earned Premium ($4,992,000)\"}, {\"period_start\": \"1994-01-01T00:00:00\", \"period_end\": \"1994-12-31T00:00:00\", \"evaluation_date\": \"1998-12-31T00:00:00\", \"dev_lag\": 48.0, \"Number of Fields\": 3, \"Fields\": \"Paid Loss ($5,462,000), Reported Loss ($5,551,000), Earned Premium ($4,992,000)\"}, {\"period_start\": \"1994-01-01T00:00:00\", \"period_end\": \"1994-12-31T00:00:00\", \"evaluation_date\": \"1999-12-31T00:00:00\", \"dev_lag\": 60.0, \"Number of Fields\": 3, \"Fields\": \"Paid Loss ($5,680,000), Reported Loss ($5,689,000), Earned Premium ($4,992,000)\"}, {\"period_start\": \"1994-01-01T00:00:00\", \"period_end\": \"1994-12-31T00:00:00\", \"evaluation_date\": \"2000-12-31T00:00:00\", \"dev_lag\": 72.0, \"Number of Fields\": 3, \"Fields\": \"Paid Loss ($5,682,000), Reported Loss ($5,683,000), Earned Premium ($4,992,000)\"}, {\"period_start\": \"1994-01-01T00:00:00\", \"period_end\": \"1994-12-31T00:00:00\", \"evaluation_date\": \"2001-12-31T00:00:00\", \"dev_lag\": 84.0, \"Number of Fields\": 3, \"Fields\": \"Paid Loss ($5,683,000), Reported Loss ($5,688,000), Earned Premium ($4,992,000)\"}, {\"period_start\": \"1994-01-01T00:00:00\", \"period_end\": \"1994-12-31T00:00:00\", \"evaluation_date\": \"2002-12-31T00:00:00\", \"dev_lag\": 96.0, \"Number of Fields\": 3, \"Fields\": \"Paid Loss ($5,684,000), Reported Loss ($5,684,000), Earned Premium ($4,992,000)\"}, {\"period_start\": \"1994-01-01T00:00:00\", \"period_end\": \"1994-12-31T00:00:00\", \"evaluation_date\": \"2003-12-31T00:00:00\", \"dev_lag\": 108.0, \"Number of Fields\": 3, \"Fields\": \"Paid Loss ($5,684,000), Reported Loss ($5,684,000), Earned Premium ($4,992,000)\"}]}, \"mark\": {\"type\": \"circle\", \"opacity\": 1, \"size\": 500.0}, \"encoding\": {\"color\": {\"condition\": {\"param\": \"param_23\", \"field\": \"Number of Fields\", \"scale\": {\"scheme\": \"dark2\"}, \"type\": \"nominal\"}, \"value\": \"lightgray\"}, \"tooltip\": [{\"field\": \"period_start\", \"title\": \"Period Start\", \"type\": \"temporal\"}, {\"field\": \"period_end\", \"title\": \"Period End\", \"type\": \"temporal\"}, {\"field\": \"evaluation_date\", \"title\": \"Evaluation Date\", \"type\": \"temporal\"}, {\"field\": \"dev_lag\", \"title\": \"Dev Lag (months)\", \"type\": \"nominal\"}, {\"field\": \"Fields\", \"type\": \"nominal\"}], \"x\": {\"axis\": {\"labelAngle\": 0}, \"field\": \"dev_lag\", \"scale\": {\"zero\": true}, \"title\": \"Dev Lag (months)\", \"type\": \"nominal\"}, \"y\": {\"field\": \"period_start\", \"scale\": {\"padding\": 15, \"reverse\": true}, \"timeUnit\": \"yearmonth\", \"title\": \"Period Start\", \"type\": \"temporal\"}}, \"height\": 300, \"params\": [{\"name\": \"param_23\", \"select\": {\"type\": \"point\"}}, {\"name\": \"param_24\", \"select\": {\"type\": \"interval\", \"encodings\": [\"x\", \"y\"]}, \"bind\": \"scales\"}], \"title\": {\"text\": \"Triangle Completeness\", \"subtitle\": \"The number of data fields available per cell\"}, \"width\": 400, \"$schema\": \"https://vega.github.io/schema/vega-lite/v5.20.1.json\"}, {\"mode\": \"vega-lite\"});\n",
       "</script>"
      ],
      "text/plain": [
       "alt.Chart(...)"
      ]
     },
     "execution_count": 33,
     "metadata": {},
     "output_type": "execute_result"
    }
   ],
   "source": [
    "meyers_94_period = meyers[date(1994, 1, 1), :, :]\n",
    "meyers_94_period.plot_data_completeness()"
   ]
  },
  {
   "cell_type": "code",
   "execution_count": 35,
   "id": "ac56a733-d73f-44ff-8b09-69ad74bf237a",
   "metadata": {},
   "outputs": [
    {
     "data": {
      "text/plain": [
       "True"
      ]
     },
     "execution_count": 35,
     "metadata": {},
     "output_type": "execute_result"
    }
   ],
   "source": [
    "dev_tri.right_edge == meyers[:, date(1997, 12, 31), :]"
   ]
  },
  {
   "cell_type": "code",
   "execution_count": 36,
   "id": "da360a64-e29e-4ce1-b38b-1304ed9db41a",
   "metadata": {},
   "outputs": [
    {
     "data": {
      "text/html": [
       "<table>\n",
       "  <thead>\n",
       "    <tr><th> <h4><b>CumulativeCell</b></h4> </th></tr>\n",
       "  </thead>\n",
       "  <tbody>\n",
       "    <tr><th> Period Start: </th><td> 1997-01-01 </td></tr>\n",
       "    <tr><th> Period End: </th><td> 1997-12-31 </td></tr>\n",
       "    <tr><th> Evaluation Date: </th><td> 1997-12-31 </td></tr>\n",
       "    <tr><th> Development Lag: </th><td> 0.0 months </td></tr>\n",
       "    <tr><th colspan=2 style=\"text-align:center\"> Values </th></tr>\n",
       "<tr><th> paid_loss </th> <td> 1.413M </td></tr>\n",
       "<tr><th> reported_loss </th> <td> 2.203M </td></tr>\n",
       "<tr><th> earned_premium </th> <td> 4.962M </td></tr>\n",
       "    <tr><th colspan=2 style=\"text-align:center\"> Metadata </th></tr>\n",
       "<tr><th> currency </th> <td> USD </td></tr>\n",
       "<tr><th> country </th> <td> US </td></tr>\n",
       "<tr><th> risk_basis </th> <td> Accident </td></tr>\n",
       "<tr><th> reinsurance_basis </th> <td> Net </td></tr>\n",
       "<tr><th> loss_definition </th> <td> Loss+DCC </td></tr>\n",
       "  </tbody></table>"
      ],
      "text/plain": [
       "CumulativeCell(period_start=datetime.date(1997, 1, 1), period_end=datetime.date(1997, 12, 31), evaluation_date=datetime.date(1997, 12, 31), values={'paid_loss': 1413000, 'reported_loss': 2203000, 'earned_premium': 4962000}, metadata=Metadata(risk_basis='Accident', country='US', currency='USD', reinsurance_basis='Net', loss_definition='Loss+DCC', per_occurrence_limit=None, details={}, loss_details={}))"
      ]
     },
     "execution_count": 36,
     "metadata": {},
     "output_type": "execute_result"
    }
   ],
   "source": [
    "dev_tri.right_edge[-1]"
   ]
  },
  {
   "cell_type": "markdown",
   "id": "713ec48b-d1cf-40a4-a069-a0357f7f0bc7",
   "metadata": {},
   "source": [
    "## Aggregation"
   ]
  },
  {
   "cell_type": "code",
   "execution_count": 38,
   "id": "2359f1fd-36d0-4f4c-9959-c78c8089cd71",
   "metadata": {},
   "outputs": [
    {
     "data": {
      "text/html": [
       "\n",
       "<style>\n",
       "  #altair-viz-2250b98ee9984a9f8595c715e5dbf3a9.vega-embed {\n",
       "    width: 100%;\n",
       "    display: flex;\n",
       "  }\n",
       "\n",
       "  #altair-viz-2250b98ee9984a9f8595c715e5dbf3a9.vega-embed details,\n",
       "  #altair-viz-2250b98ee9984a9f8595c715e5dbf3a9.vega-embed details summary {\n",
       "    position: relative;\n",
       "  }\n",
       "</style>\n",
       "<div id=\"altair-viz-2250b98ee9984a9f8595c715e5dbf3a9\"></div>\n",
       "<script type=\"text/javascript\">\n",
       "  var VEGA_DEBUG = (typeof VEGA_DEBUG == \"undefined\") ? {} : VEGA_DEBUG;\n",
       "  (function(spec, embedOpt){\n",
       "    let outputDiv = document.currentScript.previousElementSibling;\n",
       "    if (outputDiv.id !== \"altair-viz-2250b98ee9984a9f8595c715e5dbf3a9\") {\n",
       "      outputDiv = document.getElementById(\"altair-viz-2250b98ee9984a9f8595c715e5dbf3a9\");\n",
       "    }\n",
       "\n",
       "    const paths = {\n",
       "      \"vega\": \"https://cdn.jsdelivr.net/npm/vega@5?noext\",\n",
       "      \"vega-lib\": \"https://cdn.jsdelivr.net/npm/vega-lib?noext\",\n",
       "      \"vega-lite\": \"https://cdn.jsdelivr.net/npm/vega-lite@5.20.1?noext\",\n",
       "      \"vega-embed\": \"https://cdn.jsdelivr.net/npm/vega-embed@6?noext\",\n",
       "    };\n",
       "\n",
       "    function maybeLoadScript(lib, version) {\n",
       "      var key = `${lib.replace(\"-\", \"\")}_version`;\n",
       "      return (VEGA_DEBUG[key] == version) ?\n",
       "        Promise.resolve(paths[lib]) :\n",
       "        new Promise(function(resolve, reject) {\n",
       "          var s = document.createElement('script');\n",
       "          document.getElementsByTagName(\"head\")[0].appendChild(s);\n",
       "          s.async = true;\n",
       "          s.onload = () => {\n",
       "            VEGA_DEBUG[key] = version;\n",
       "            return resolve(paths[lib]);\n",
       "          };\n",
       "          s.onerror = () => reject(`Error loading script: ${paths[lib]}`);\n",
       "          s.src = paths[lib];\n",
       "        });\n",
       "    }\n",
       "\n",
       "    function showError(err) {\n",
       "      outputDiv.innerHTML = `<div class=\"error\" style=\"color:red;\">${err}</div>`;\n",
       "      throw err;\n",
       "    }\n",
       "\n",
       "    function displayChart(vegaEmbed) {\n",
       "      vegaEmbed(outputDiv, spec, embedOpt)\n",
       "        .catch(err => showError(`Javascript Error: ${err.message}<br>This usually means there's a typo in your chart specification. See the javascript console for the full traceback.`));\n",
       "    }\n",
       "\n",
       "    if(typeof define === \"function\" && define.amd) {\n",
       "      requirejs.config({paths});\n",
       "      let deps = [\"vega-embed\"];\n",
       "      require(deps, displayChart, err => showError(`Error loading script: ${err.message}`));\n",
       "    } else {\n",
       "      maybeLoadScript(\"vega\", \"5\")\n",
       "        .then(() => maybeLoadScript(\"vega-lite\", \"5.20.1\"))\n",
       "        .then(() => maybeLoadScript(\"vega-embed\", \"6\"))\n",
       "        .catch(showError)\n",
       "        .then(() => displayChart(vegaEmbed));\n",
       "    }\n",
       "  })({\"autosize\": {\"contains\": \"content\", \"resize\": true}, \"config\": {\"style\": {\"group-title\": {\"fontSize\": 24}, \"group-subtitle\": {\"fontSize\": 18}, \"guide-label\": {\"fontSize\": 16, \"font\": \"sans-serif\"}, \"guide-title\": {\"fontSize\": 18, \"font\": \"sans-serif\"}}, \"mark\": {\"color\": \"#1f8fff\"}, \"title\": {\"anchor\": \"start\", \"offset\": 20}, \"legend\": {\"orient\": \"right\", \"titleAnchor\": \"start\", \"layout\": {\"direction\": \"vertical\"}, \"labelFontSize\": 16.0, \"titleFontSize\": 18.0}, \"axis\": {\"labelFontSize\": 16.0, \"titleFontSize\": 18.0}}, \"data\": {\"values\": [{\"period_start\": \"1988-01-01T00:00:00\", \"period_end\": \"1989-12-31T00:00:00\", \"evaluation_date\": \"1989-12-31T00:00:00\", \"dev_lag\": 0.0, \"Number of Fields\": 3, \"Fields\": \"Reported Loss ($5,411,000), Paid Loss ($2,378,000), Earned Premium ($10,720,000)\"}, {\"period_start\": \"1988-01-01T00:00:00\", \"period_end\": \"1989-12-31T00:00:00\", \"evaluation_date\": \"1991-12-31T00:00:00\", \"dev_lag\": 24.0, \"Number of Fields\": 3, \"Fields\": \"Reported Loss ($6,363,000), Paid Loss ($5,849,000), Earned Premium ($10,720,000)\"}, {\"period_start\": \"1988-01-01T00:00:00\", \"period_end\": \"1989-12-31T00:00:00\", \"evaluation_date\": \"1993-12-31T00:00:00\", \"dev_lag\": 48.0, \"Number of Fields\": 3, \"Fields\": \"Reported Loss ($6,423,000), Paid Loss ($6,300,000), Earned Premium ($10,720,000)\"}, {\"period_start\": \"1988-01-01T00:00:00\", \"period_end\": \"1989-12-31T00:00:00\", \"evaluation_date\": \"1995-12-31T00:00:00\", \"dev_lag\": 72.0, \"Number of Fields\": 3, \"Fields\": \"Reported Loss ($6,452,000), Paid Loss ($6,420,000), Earned Premium ($10,720,000)\"}, {\"period_start\": \"1988-01-01T00:00:00\", \"period_end\": \"1989-12-31T00:00:00\", \"evaluation_date\": \"1997-12-31T00:00:00\", \"dev_lag\": 96.0, \"Number of Fields\": 3, \"Fields\": \"Reported Loss ($6,455,000), Paid Loss ($6,443,000), Earned Premium ($10,720,000)\"}, {\"period_start\": \"1990-01-01T00:00:00\", \"period_end\": \"1991-12-31T00:00:00\", \"evaluation_date\": \"1991-12-31T00:00:00\", \"dev_lag\": 0.0, \"Number of Fields\": 3, \"Fields\": \"Reported Loss ($5,314,000), Paid Loss ($3,868,000), Earned Premium ($10,619,000)\"}, {\"period_start\": \"1990-01-01T00:00:00\", \"period_end\": \"1991-12-31T00:00:00\", \"evaluation_date\": \"1993-12-31T00:00:00\", \"dev_lag\": 24.0, \"Number of Fields\": 3, \"Fields\": \"Reported Loss ($7,713,000), Paid Loss ($7,001,000), Earned Premium ($10,619,000)\"}, {\"period_start\": \"1990-01-01T00:00:00\", \"period_end\": \"1991-12-31T00:00:00\", \"evaluation_date\": \"1995-12-31T00:00:00\", \"dev_lag\": 48.0, \"Number of Fields\": 3, \"Fields\": \"Reported Loss ($8,382,000), Paid Loss ($7,965,000), Earned Premium ($10,619,000)\"}, {\"period_start\": \"1990-01-01T00:00:00\", \"period_end\": \"1991-12-31T00:00:00\", \"evaluation_date\": \"1997-12-31T00:00:00\", \"dev_lag\": 72.0, \"Number of Fields\": 3, \"Fields\": \"Reported Loss ($8,513,000), Paid Loss ($8,487,000), Earned Premium ($10,619,000)\"}, {\"period_start\": \"1990-01-01T00:00:00\", \"period_end\": \"1991-12-31T00:00:00\", \"evaluation_date\": \"1999-12-31T00:00:00\", \"dev_lag\": 96.0, \"Number of Fields\": 3, \"Fields\": \"Reported Loss ($8,621,000), Paid Loss ($8,615,000), Earned Premium ($10,619,000)\"}, {\"period_start\": \"1992-01-01T00:00:00\", \"period_end\": \"1993-12-31T00:00:00\", \"evaluation_date\": \"1993-12-31T00:00:00\", \"dev_lag\": 0.0, \"Number of Fields\": 3, \"Fields\": \"Reported Loss ($4,914,000), Paid Loss ($3,102,000), Earned Premium ($10,444,000)\"}, {\"period_start\": \"1992-01-01T00:00:00\", \"period_end\": \"1993-12-31T00:00:00\", \"evaluation_date\": \"1995-12-31T00:00:00\", \"dev_lag\": 24.0, \"Number of Fields\": 3, \"Fields\": \"Reported Loss ($6,647,000), Paid Loss ($6,131,000), Earned Premium ($10,444,000)\"}, {\"period_start\": \"1992-01-01T00:00:00\", \"period_end\": \"1993-12-31T00:00:00\", \"evaluation_date\": \"1997-12-31T00:00:00\", \"dev_lag\": 48.0, \"Number of Fields\": 3, \"Fields\": \"Reported Loss ($6,753,000), Paid Loss ($6,525,000), Earned Premium ($10,444,000)\"}, {\"period_start\": \"1992-01-01T00:00:00\", \"period_end\": \"1993-12-31T00:00:00\", \"evaluation_date\": \"1999-12-31T00:00:00\", \"dev_lag\": 72.0, \"Number of Fields\": 3, \"Fields\": \"Reported Loss ($6,892,000), Paid Loss ($6,770,000), Earned Premium ($10,444,000)\"}, {\"period_start\": \"1992-01-01T00:00:00\", \"period_end\": \"1993-12-31T00:00:00\", \"evaluation_date\": \"2001-12-31T00:00:00\", \"dev_lag\": 96.0, \"Number of Fields\": 3, \"Fields\": \"Reported Loss ($6,854,000), Paid Loss ($6,824,000), Earned Premium ($10,444,000)\"}, {\"period_start\": \"1994-01-01T00:00:00\", \"period_end\": \"1995-12-31T00:00:00\", \"evaluation_date\": \"1995-12-31T00:00:00\", \"dev_lag\": 0.0, \"Number of Fields\": 3, \"Fields\": \"Reported Loss ($7,103,000), Paid Loss ($4,220,000), Earned Premium ($10,458,000)\"}, {\"period_start\": \"1994-01-01T00:00:00\", \"period_end\": \"1995-12-31T00:00:00\", \"evaluation_date\": \"1997-12-31T00:00:00\", \"dev_lag\": 24.0, \"Number of Fields\": 3, \"Fields\": \"Reported Loss ($8,558,000), Paid Loss ($7,321,000), Earned Premium ($10,458,000)\"}, {\"period_start\": \"1994-01-01T00:00:00\", \"period_end\": \"1995-12-31T00:00:00\", \"evaluation_date\": \"1999-12-31T00:00:00\", \"dev_lag\": 48.0, \"Number of Fields\": 3, \"Fields\": \"Reported Loss ($9,837,000), Paid Loss ($9,358,000), Earned Premium ($10,458,000)\"}, {\"period_start\": \"1994-01-01T00:00:00\", \"period_end\": \"1995-12-31T00:00:00\", \"evaluation_date\": \"2001-12-31T00:00:00\", \"dev_lag\": 72.0, \"Number of Fields\": 3, \"Fields\": \"Reported Loss ($9,814,000), Paid Loss ($9,800,000), Earned Premium ($10,458,000)\"}, {\"period_start\": \"1994-01-01T00:00:00\", \"period_end\": \"1995-12-31T00:00:00\", \"evaluation_date\": \"2003-12-31T00:00:00\", \"dev_lag\": 96.0, \"Number of Fields\": 3, \"Fields\": \"Reported Loss ($9,812,000), Paid Loss ($9,812,000), Earned Premium ($10,458,000)\"}, {\"period_start\": \"1996-01-01T00:00:00\", \"period_end\": \"1997-12-31T00:00:00\", \"evaluation_date\": \"1997-12-31T00:00:00\", \"dev_lag\": 0.0, \"Number of Fields\": 3, \"Fields\": \"Reported Loss ($5,510,000), Paid Loss ($3,825,000), Earned Premium ($10,188,000)\"}, {\"period_start\": \"1996-01-01T00:00:00\", \"period_end\": \"1997-12-31T00:00:00\", \"evaluation_date\": \"1999-12-31T00:00:00\", \"dev_lag\": 24.0, \"Number of Fields\": 3, \"Fields\": \"Reported Loss ($7,581,000), Paid Loss ($7,016,000), Earned Premium ($10,188,000)\"}, {\"period_start\": \"1996-01-01T00:00:00\", \"period_end\": \"1997-12-31T00:00:00\", \"evaluation_date\": \"2001-12-31T00:00:00\", \"dev_lag\": 48.0, \"Number of Fields\": 3, \"Fields\": \"Reported Loss ($8,197,000), Paid Loss ($7,932,000), Earned Premium ($10,188,000)\"}, {\"period_start\": \"1996-01-01T00:00:00\", \"period_end\": \"1997-12-31T00:00:00\", \"evaluation_date\": \"2003-12-31T00:00:00\", \"dev_lag\": 72.0, \"Number of Fields\": 3, \"Fields\": \"Reported Loss ($8,289,000), Paid Loss ($8,161,000), Earned Premium ($10,188,000)\"}, {\"period_start\": \"1996-01-01T00:00:00\", \"period_end\": \"1997-12-31T00:00:00\", \"evaluation_date\": \"2005-12-31T00:00:00\", \"dev_lag\": 96.0, \"Number of Fields\": 3, \"Fields\": \"Reported Loss ($8,327,000), Paid Loss ($8,276,000), Earned Premium ($10,188,000)\"}]}, \"mark\": {\"type\": \"circle\", \"opacity\": 1, \"size\": 500.0}, \"encoding\": {\"color\": {\"condition\": {\"param\": \"param_25\", \"field\": \"Number of Fields\", \"scale\": {\"scheme\": \"dark2\"}, \"type\": \"nominal\"}, \"value\": \"lightgray\"}, \"tooltip\": [{\"field\": \"period_start\", \"title\": \"Period Start\", \"type\": \"temporal\"}, {\"field\": \"period_end\", \"title\": \"Period End\", \"type\": \"temporal\"}, {\"field\": \"evaluation_date\", \"title\": \"Evaluation Date\", \"type\": \"temporal\"}, {\"field\": \"dev_lag\", \"title\": \"Dev Lag (months)\", \"type\": \"nominal\"}, {\"field\": \"Fields\", \"type\": \"nominal\"}], \"x\": {\"axis\": {\"labelAngle\": 0}, \"field\": \"dev_lag\", \"scale\": {\"zero\": true}, \"title\": \"Dev Lag (months)\", \"type\": \"nominal\"}, \"y\": {\"field\": \"period_start\", \"scale\": {\"padding\": 15, \"reverse\": true}, \"timeUnit\": \"yearmonth\", \"title\": \"Period Start\", \"type\": \"temporal\"}}, \"height\": 300, \"params\": [{\"name\": \"param_25\", \"select\": {\"type\": \"point\"}}, {\"name\": \"param_26\", \"select\": {\"type\": \"interval\", \"encodings\": [\"x\", \"y\"]}, \"bind\": \"scales\"}], \"title\": {\"text\": \"Triangle Completeness\", \"subtitle\": \"The number of data fields available per cell\"}, \"width\": 400, \"$schema\": \"https://vega.github.io/schema/vega-lite/v5.20.1.json\"}, {\"mode\": \"vega-lite\"});\n",
       "</script>"
      ],
      "text/plain": [
       "alt.Chart(...)"
      ]
     },
     "execution_count": 38,
     "metadata": {},
     "output_type": "execute_result"
    }
   ],
   "source": [
    "meyers.aggregate(period_resolution=(2, 'years'), eval_resolution=(2, 'years')).plot_data_completeness()"
   ]
  },
  {
   "cell_type": "code",
   "execution_count": 41,
   "id": "073033af-fb5d-4e86-8873-f2b67dd70dd6",
   "metadata": {},
   "outputs": [
    {
     "data": {
      "text/html": [
       "\n",
       "<style>\n",
       "  #altair-viz-2dd4f8a2b8da47cd95cfd039d33da894.vega-embed {\n",
       "    width: 100%;\n",
       "    display: flex;\n",
       "  }\n",
       "\n",
       "  #altair-viz-2dd4f8a2b8da47cd95cfd039d33da894.vega-embed details,\n",
       "  #altair-viz-2dd4f8a2b8da47cd95cfd039d33da894.vega-embed details summary {\n",
       "    position: relative;\n",
       "  }\n",
       "</style>\n",
       "<div id=\"altair-viz-2dd4f8a2b8da47cd95cfd039d33da894\"></div>\n",
       "<script type=\"text/javascript\">\n",
       "  var VEGA_DEBUG = (typeof VEGA_DEBUG == \"undefined\") ? {} : VEGA_DEBUG;\n",
       "  (function(spec, embedOpt){\n",
       "    let outputDiv = document.currentScript.previousElementSibling;\n",
       "    if (outputDiv.id !== \"altair-viz-2dd4f8a2b8da47cd95cfd039d33da894\") {\n",
       "      outputDiv = document.getElementById(\"altair-viz-2dd4f8a2b8da47cd95cfd039d33da894\");\n",
       "    }\n",
       "\n",
       "    const paths = {\n",
       "      \"vega\": \"https://cdn.jsdelivr.net/npm/vega@5?noext\",\n",
       "      \"vega-lib\": \"https://cdn.jsdelivr.net/npm/vega-lib?noext\",\n",
       "      \"vega-lite\": \"https://cdn.jsdelivr.net/npm/vega-lite@5.20.1?noext\",\n",
       "      \"vega-embed\": \"https://cdn.jsdelivr.net/npm/vega-embed@6?noext\",\n",
       "    };\n",
       "\n",
       "    function maybeLoadScript(lib, version) {\n",
       "      var key = `${lib.replace(\"-\", \"\")}_version`;\n",
       "      return (VEGA_DEBUG[key] == version) ?\n",
       "        Promise.resolve(paths[lib]) :\n",
       "        new Promise(function(resolve, reject) {\n",
       "          var s = document.createElement('script');\n",
       "          document.getElementsByTagName(\"head\")[0].appendChild(s);\n",
       "          s.async = true;\n",
       "          s.onload = () => {\n",
       "            VEGA_DEBUG[key] = version;\n",
       "            return resolve(paths[lib]);\n",
       "          };\n",
       "          s.onerror = () => reject(`Error loading script: ${paths[lib]}`);\n",
       "          s.src = paths[lib];\n",
       "        });\n",
       "    }\n",
       "\n",
       "    function showError(err) {\n",
       "      outputDiv.innerHTML = `<div class=\"error\" style=\"color:red;\">${err}</div>`;\n",
       "      throw err;\n",
       "    }\n",
       "\n",
       "    function displayChart(vegaEmbed) {\n",
       "      vegaEmbed(outputDiv, spec, embedOpt)\n",
       "        .catch(err => showError(`Javascript Error: ${err.message}<br>This usually means there's a typo in your chart specification. See the javascript console for the full traceback.`));\n",
       "    }\n",
       "\n",
       "    if(typeof define === \"function\" && define.amd) {\n",
       "      requirejs.config({paths});\n",
       "      let deps = [\"vega-embed\"];\n",
       "      require(deps, displayChart, err => showError(`Error loading script: ${err.message}`));\n",
       "    } else {\n",
       "      maybeLoadScript(\"vega\", \"5\")\n",
       "        .then(() => maybeLoadScript(\"vega-lite\", \"5.20.1\"))\n",
       "        .then(() => maybeLoadScript(\"vega-embed\", \"6\"))\n",
       "        .catch(showError)\n",
       "        .then(() => displayChart(vegaEmbed));\n",
       "    }\n",
       "  })({\"autosize\": {\"contains\": \"content\", \"resize\": true}, \"config\": {\"style\": {\"group-title\": {\"fontSize\": 24}, \"group-subtitle\": {\"fontSize\": 18}, \"guide-label\": {\"fontSize\": 16, \"font\": \"sans-serif\"}, \"guide-title\": {\"fontSize\": 18, \"font\": \"sans-serif\"}}, \"mark\": {\"color\": \"#1f8fff\"}, \"title\": {\"anchor\": \"start\", \"offset\": 20}, \"legend\": {\"orient\": \"right\", \"titleAnchor\": \"start\", \"layout\": {\"direction\": \"vertical\"}, \"labelFontSize\": 16.0, \"titleFontSize\": 18.0}, \"axis\": {\"labelFontSize\": 16.0, \"titleFontSize\": 18.0}}, \"data\": {\"values\": [{\"period_start\": \"1988-01-01T00:00:00\", \"period_end\": \"1989-12-31T00:00:00\", \"evaluation_date\": \"1989-12-31T00:00:00\", \"dev_lag\": 0.0, \"Number of Fields\": 3, \"Fields\": \"Reported Loss ($5,411,000), Paid Loss ($2,378,000), Earned Premium ($10,720,000)\"}, {\"period_start\": \"1988-01-01T00:00:00\", \"period_end\": \"1989-12-31T00:00:00\", \"evaluation_date\": \"1991-12-31T00:00:00\", \"dev_lag\": 24.0, \"Number of Fields\": 3, \"Fields\": \"Reported Loss ($6,363,000), Paid Loss ($5,849,000), Earned Premium ($10,720,000)\"}, {\"period_start\": \"1988-01-01T00:00:00\", \"period_end\": \"1989-12-31T00:00:00\", \"evaluation_date\": \"1993-12-31T00:00:00\", \"dev_lag\": 48.0, \"Number of Fields\": 3, \"Fields\": \"Reported Loss ($6,423,000), Paid Loss ($6,300,000), Earned Premium ($10,720,000)\"}, {\"period_start\": \"1988-01-01T00:00:00\", \"period_end\": \"1989-12-31T00:00:00\", \"evaluation_date\": \"1995-12-31T00:00:00\", \"dev_lag\": 72.0, \"Number of Fields\": 3, \"Fields\": \"Reported Loss ($6,452,000), Paid Loss ($6,420,000), Earned Premium ($10,720,000)\"}, {\"period_start\": \"1988-01-01T00:00:00\", \"period_end\": \"1989-12-31T00:00:00\", \"evaluation_date\": \"1997-12-31T00:00:00\", \"dev_lag\": 96.0, \"Number of Fields\": 3, \"Fields\": \"Reported Loss ($6,455,000), Paid Loss ($6,443,000), Earned Premium ($10,720,000)\"}, {\"period_start\": \"1990-01-01T00:00:00\", \"period_end\": \"1991-12-31T00:00:00\", \"evaluation_date\": \"1991-12-31T00:00:00\", \"dev_lag\": 0.0, \"Number of Fields\": 3, \"Fields\": \"Reported Loss ($5,314,000), Paid Loss ($3,868,000), Earned Premium ($10,619,000)\"}, {\"period_start\": \"1990-01-01T00:00:00\", \"period_end\": \"1991-12-31T00:00:00\", \"evaluation_date\": \"1993-12-31T00:00:00\", \"dev_lag\": 24.0, \"Number of Fields\": 3, \"Fields\": \"Reported Loss ($7,713,000), Paid Loss ($7,001,000), Earned Premium ($10,619,000)\"}, {\"period_start\": \"1990-01-01T00:00:00\", \"period_end\": \"1991-12-31T00:00:00\", \"evaluation_date\": \"1995-12-31T00:00:00\", \"dev_lag\": 48.0, \"Number of Fields\": 3, \"Fields\": \"Reported Loss ($8,382,000), Paid Loss ($7,965,000), Earned Premium ($10,619,000)\"}, {\"period_start\": \"1990-01-01T00:00:00\", \"period_end\": \"1991-12-31T00:00:00\", \"evaluation_date\": \"1997-12-31T00:00:00\", \"dev_lag\": 72.0, \"Number of Fields\": 3, \"Fields\": \"Reported Loss ($8,513,000), Paid Loss ($8,487,000), Earned Premium ($10,619,000)\"}, {\"period_start\": \"1990-01-01T00:00:00\", \"period_end\": \"1991-12-31T00:00:00\", \"evaluation_date\": \"1999-12-31T00:00:00\", \"dev_lag\": 96.0, \"Number of Fields\": 3, \"Fields\": \"Reported Loss ($8,621,000), Paid Loss ($8,615,000), Earned Premium ($10,619,000)\"}, {\"period_start\": \"1992-01-01T00:00:00\", \"period_end\": \"1993-12-31T00:00:00\", \"evaluation_date\": \"1993-12-31T00:00:00\", \"dev_lag\": 0.0, \"Number of Fields\": 3, \"Fields\": \"Reported Loss ($4,914,000), Paid Loss ($3,102,000), Earned Premium ($10,444,000)\"}, {\"period_start\": \"1992-01-01T00:00:00\", \"period_end\": \"1993-12-31T00:00:00\", \"evaluation_date\": \"1995-12-31T00:00:00\", \"dev_lag\": 24.0, \"Number of Fields\": 3, \"Fields\": \"Reported Loss ($6,647,000), Paid Loss ($6,131,000), Earned Premium ($10,444,000)\"}, {\"period_start\": \"1992-01-01T00:00:00\", \"period_end\": \"1993-12-31T00:00:00\", \"evaluation_date\": \"1997-12-31T00:00:00\", \"dev_lag\": 48.0, \"Number of Fields\": 3, \"Fields\": \"Reported Loss ($6,753,000), Paid Loss ($6,525,000), Earned Premium ($10,444,000)\"}, {\"period_start\": \"1992-01-01T00:00:00\", \"period_end\": \"1993-12-31T00:00:00\", \"evaluation_date\": \"1999-12-31T00:00:00\", \"dev_lag\": 72.0, \"Number of Fields\": 3, \"Fields\": \"Reported Loss ($6,892,000), Paid Loss ($6,770,000), Earned Premium ($10,444,000)\"}, {\"period_start\": \"1992-01-01T00:00:00\", \"period_end\": \"1993-12-31T00:00:00\", \"evaluation_date\": \"2001-12-31T00:00:00\", \"dev_lag\": 96.0, \"Number of Fields\": 3, \"Fields\": \"Reported Loss ($6,854,000), Paid Loss ($6,824,000), Earned Premium ($10,444,000)\"}, {\"period_start\": \"1994-01-01T00:00:00\", \"period_end\": \"1995-12-31T00:00:00\", \"evaluation_date\": \"1995-12-31T00:00:00\", \"dev_lag\": 0.0, \"Number of Fields\": 3, \"Fields\": \"Reported Loss ($7,103,000), Paid Loss ($4,220,000), Earned Premium ($10,458,000)\"}, {\"period_start\": \"1994-01-01T00:00:00\", \"period_end\": \"1995-12-31T00:00:00\", \"evaluation_date\": \"1997-12-31T00:00:00\", \"dev_lag\": 24.0, \"Number of Fields\": 3, \"Fields\": \"Reported Loss ($8,558,000), Paid Loss ($7,321,000), Earned Premium ($10,458,000)\"}, {\"period_start\": \"1994-01-01T00:00:00\", \"period_end\": \"1995-12-31T00:00:00\", \"evaluation_date\": \"1999-12-31T00:00:00\", \"dev_lag\": 48.0, \"Number of Fields\": 3, \"Fields\": \"Reported Loss ($9,837,000), Paid Loss ($9,358,000), Earned Premium ($10,458,000)\"}, {\"period_start\": \"1994-01-01T00:00:00\", \"period_end\": \"1995-12-31T00:00:00\", \"evaluation_date\": \"2001-12-31T00:00:00\", \"dev_lag\": 72.0, \"Number of Fields\": 3, \"Fields\": \"Reported Loss ($9,814,000), Paid Loss ($9,800,000), Earned Premium ($10,458,000)\"}, {\"period_start\": \"1994-01-01T00:00:00\", \"period_end\": \"1995-12-31T00:00:00\", \"evaluation_date\": \"2003-12-31T00:00:00\", \"dev_lag\": 96.0, \"Number of Fields\": 3, \"Fields\": \"Reported Loss ($9,812,000), Paid Loss ($9,812,000), Earned Premium ($10,458,000)\"}, {\"period_start\": \"1996-01-01T00:00:00\", \"period_end\": \"1997-12-31T00:00:00\", \"evaluation_date\": \"1997-12-31T00:00:00\", \"dev_lag\": 0.0, \"Number of Fields\": 3, \"Fields\": \"Reported Loss ($5,510,000), Paid Loss ($3,825,000), Earned Premium ($10,188,000)\"}, {\"period_start\": \"1996-01-01T00:00:00\", \"period_end\": \"1997-12-31T00:00:00\", \"evaluation_date\": \"1999-12-31T00:00:00\", \"dev_lag\": 24.0, \"Number of Fields\": 3, \"Fields\": \"Reported Loss ($7,581,000), Paid Loss ($7,016,000), Earned Premium ($10,188,000)\"}, {\"period_start\": \"1996-01-01T00:00:00\", \"period_end\": \"1997-12-31T00:00:00\", \"evaluation_date\": \"2001-12-31T00:00:00\", \"dev_lag\": 48.0, \"Number of Fields\": 3, \"Fields\": \"Reported Loss ($8,197,000), Paid Loss ($7,932,000), Earned Premium ($10,188,000)\"}, {\"period_start\": \"1996-01-01T00:00:00\", \"period_end\": \"1997-12-31T00:00:00\", \"evaluation_date\": \"2003-12-31T00:00:00\", \"dev_lag\": 72.0, \"Number of Fields\": 3, \"Fields\": \"Reported Loss ($8,289,000), Paid Loss ($8,161,000), Earned Premium ($10,188,000)\"}, {\"period_start\": \"1996-01-01T00:00:00\", \"period_end\": \"1997-12-31T00:00:00\", \"evaluation_date\": \"2005-12-31T00:00:00\", \"dev_lag\": 96.0, \"Number of Fields\": 3, \"Fields\": \"Reported Loss ($8,327,000), Paid Loss ($8,276,000), Earned Premium ($10,188,000)\"}]}, \"mark\": {\"type\": \"circle\", \"opacity\": 1, \"size\": 500.0}, \"encoding\": {\"color\": {\"condition\": {\"param\": \"param_27\", \"field\": \"Number of Fields\", \"scale\": {\"scheme\": \"dark2\"}, \"type\": \"nominal\"}, \"value\": \"lightgray\"}, \"tooltip\": [{\"field\": \"period_start\", \"title\": \"Period Start\", \"type\": \"temporal\"}, {\"field\": \"period_end\", \"title\": \"Period End\", \"type\": \"temporal\"}, {\"field\": \"evaluation_date\", \"title\": \"Evaluation Date\", \"type\": \"temporal\"}, {\"field\": \"dev_lag\", \"title\": \"Dev Lag (months)\", \"type\": \"nominal\"}, {\"field\": \"Fields\", \"type\": \"nominal\"}], \"x\": {\"axis\": {\"labelAngle\": 0}, \"field\": \"dev_lag\", \"scale\": {\"zero\": true}, \"title\": \"Dev Lag (months)\", \"type\": \"nominal\"}, \"y\": {\"field\": \"period_start\", \"scale\": {\"padding\": 15, \"reverse\": true}, \"timeUnit\": \"yearmonth\", \"title\": \"Period Start\", \"type\": \"temporal\"}}, \"height\": 300, \"params\": [{\"name\": \"param_27\", \"select\": {\"type\": \"point\"}}, {\"name\": \"param_28\", \"select\": {\"type\": \"interval\", \"encodings\": [\"x\", \"y\"]}, \"bind\": \"scales\"}], \"title\": {\"text\": \"Triangle Completeness\", \"subtitle\": \"The number of data fields available per cell\"}, \"width\": 400, \"$schema\": \"https://vega.github.io/schema/vega-lite/v5.20.1.json\"}, {\"mode\": \"vega-lite\"});\n",
       "</script>"
      ],
      "text/plain": [
       "alt.Chart(...)"
      ]
     },
     "execution_count": 41,
     "metadata": {},
     "output_type": "execute_result"
    }
   ],
   "source": [
    "meyers.aggregate(period_resolution=(2, 'years'), eval_resolution=(2, 'years')).plot_data_completeness()"
   ]
  },
  {
   "cell_type": "code",
   "execution_count": null,
   "id": "9fc65f4e-05c5-409c-8bd6-a1d34e65b580",
   "metadata": {},
   "outputs": [],
   "source": []
  }
 ],
 "metadata": {
  "kernelspec": {
   "display_name": "Python 3 (ipykernel)",
   "language": "python",
   "name": "python3"
  },
  "language_info": {
   "codemirror_mode": {
    "name": "ipython",
    "version": 3
   },
   "file_extension": ".py",
   "mimetype": "text/x-python",
   "name": "python",
   "nbconvert_exporter": "python",
   "pygments_lexer": "ipython3",
   "version": "3.13.0"
  }
 },
 "nbformat": 4,
 "nbformat_minor": 5
}
