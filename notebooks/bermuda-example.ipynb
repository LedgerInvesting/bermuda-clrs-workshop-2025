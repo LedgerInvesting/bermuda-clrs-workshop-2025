{
 "cells": [
  {
   "cell_type": "markdown",
   "metadata": {},
   "source": [
    "# Bermuda-Ledger Example in JupyterLite\n",
    "\n",
    "This notebook demonstrates how to use bermuda-ledger in JupyterLite with Pyodide."
   ]
  },
  {
   "cell_type": "markdown",
   "metadata": {},
   "source": [
    "## Installing bermuda-ledger\n",
    "\n",
    "First, we need to install the bermuda-ledger package. In JupyterLite, we use micropip for package installation."
   ]
  },
  {
   "cell_type": "code",
   "execution_count": null,
   "metadata": {},
   "outputs": [],
   "source": [
    "import micropip\n",
    "import sys\n",
    "\n",
    "# Install required dependencies\n",
    "await micropip.install(['numpy', 'pandas', 'matplotlib'])\n",
    "\n",
    "# Install bermuda-ledger\n",
    "# Note: Replace this URL with the actual URL to your bermuda-ledger wheel file\n",
    "# For testing, you can try installing from PyPI if available:\n",
    "try:\n",
    "    await micropip.install('bermuda-ledger')\n",
    "    print(\"Successfully installed bermuda-ledger from PyPI\")\n",
    "except:\n",
    "    print(\"Could not install from PyPI. Please provide a direct wheel URL.\")\n",
    "    # Example with direct URL:\n",
    "    # await micropip.install('https://your-github-username.github.io/bermuda-ledger/wheels/bermuda_ledger-0.1.0-py3-none-any.whl')"
   ]
  },
  {
   "cell_type": "markdown",
   "metadata": {},
   "source": [
    "## Import and Test bermuda-ledger"
   ]
  },
  {
   "cell_type": "code",
   "execution_count": null,
   "metadata": {},
   "outputs": [],
   "source": [
    "# Try importing bermuda-ledger\n",
    "try:\n",
    "    import bermuda_ledger\n",
    "    print(f\"Successfully imported bermuda-ledger version: {bermuda_ledger.__version__ if hasattr(bermuda_ledger, '__version__') else 'unknown'}\")\n",
    "except ImportError as e:\n",
    "    print(f\"Failed to import bermuda-ledger: {e}\")"
   ]
  },
  {
   "cell_type": "markdown",
   "metadata": {},
   "source": [
    "## Example Usage\n",
    "\n",
    "Add your bermuda-ledger example code here:"
   ]
  },
  {
   "cell_type": "code",
   "execution_count": null,
   "metadata": {},
   "outputs": [],
   "source": [
    "# Example bermuda-ledger usage\n",
    "# This will depend on the actual API of bermuda-ledger\n",
    "\n",
    "import pandas as pd\n",
    "import numpy as np\n",
    "import matplotlib.pyplot as plt\n",
    "\n",
    "# Create sample data\n",
    "data = pd.DataFrame({\n",
    "    'date': pd.date_range('2024-01-01', periods=10),\n",
    "    'value': np.random.randn(10).cumsum()\n",
    "})\n",
    "\n",
    "# Plot example\n",
    "plt.figure(figsize=(10, 6))\n",
    "plt.plot(data['date'], data['value'])\n",
    "plt.title('Sample Data Visualization')\n",
    "plt.xlabel('Date')\n",
    "plt.ylabel('Value')\n",
    "plt.grid(True)\n",
    "plt.show()"
   ]
  },
  {
   "cell_type": "markdown",
   "metadata": {},
   "source": [
    "## Notes for Pyodide/JupyterLite\n",
    "\n",
    "- File I/O works with the browser's virtual file system\n",
    "- Network requests must respect CORS policies\n",
    "- Some system-level operations may not be available\n",
    "- Use `await` for asynchronous operations like package installation"
   ]
  }
 ],
 "metadata": {
  "kernelspec": {
   "display_name": "Python (Pyodide)",
   "language": "python",
   "name": "python"
  },
  "language_info": {
   "name": "python"
  }
 },
 "nbformat": 4,
 "nbformat_minor": 4
}