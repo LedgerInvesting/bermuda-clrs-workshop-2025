{
 "cells": [
  {
   "cell_type": "markdown",
   "metadata": {},
   "source": [
    "# Installing bermuda-ledger in JupyterLite (Workaround)\n",
    "\n",
    "This notebook provides a workaround for installing bermuda-ledger in JupyterLite when there's a NumPy version conflict."
   ]
  },
  {
   "cell_type": "markdown",
   "metadata": {},
   "source": [
    "## Method 1: Direct Installation from Modified Wheel\n",
    "\n",
    "If you've built a Pyodide-compatible wheel using `build-pyodide-wheel.py`, install it directly:"
   ]
  },
  {
   "cell_type": "code",
   "execution_count": null,
   "metadata": {},
   "outputs": [],
   "source": [
    "import micropip\n",
    "\n",
    "# Replace this URL with the actual URL to your modified wheel\n",
    "wheel_url = \"https://YOUR_USERNAME.github.io/bermuda-clrs-workshop-2025/wheels/bermuda_ledger-VERSION-py3-none-any.whl\"\n",
    "\n",
    "try:\n",
    "    await micropip.install(wheel_url)\n",
    "    print(\"✅ Successfully installed bermuda-ledger from custom wheel\")\n",
    "except Exception as e:\n",
    "    print(f\"❌ Failed to install: {e}\")"
   ]
  },
  {
   "cell_type": "markdown",
   "metadata": {},
   "source": [
    "## Method 2: Manual Module Import (Development)\n",
    "\n",
    "For development, you can manually import bermuda-ledger code if you have access to the source:"
   ]
  },
  {
   "cell_type": "code",
   "execution_count": null,
   "metadata": {},
   "outputs": [],
   "source": [
    "# First, ensure dependencies are installed\n",
    "import micropip\n",
    "await micropip.install(['numpy', 'pandas', 'matplotlib'])\n",
    "\n",
    "print(\"Dependencies installed successfully\")"
   ]
  },
  {
   "cell_type": "code",
   "execution_count": null,
   "metadata": {},
   "outputs": [],
   "source": [
    "# If you have the bermuda-ledger source code, you can fetch and import it\n",
    "import pyodide_js\n",
    "import sys\n",
    "from pathlib import Path\n",
    "\n",
    "# Example: Fetch bermuda-ledger source from a URL\n",
    "# This is a workaround when the package can't be installed normally\n",
    "\n",
    "async def fetch_and_import_module(url, module_name):\n",
    "    \"\"\"Fetch Python source code from URL and import it.\"\"\"\n",
    "    response = await pyodide_js.fetch(url)\n",
    "    code = await response.text()\n",
    "    \n",
    "    # Create a module\n",
    "    import types\n",
    "    module = types.ModuleType(module_name)\n",
    "    \n",
    "    # Execute the code in the module's namespace\n",
    "    exec(code, module.__dict__)\n",
    "    \n",
    "    # Add to sys.modules\n",
    "    sys.modules[module_name] = module\n",
    "    \n",
    "    return module\n",
    "\n",
    "# Example usage (replace with actual URLs):\n",
    "# bermuda_ledger = await fetch_and_import_module(\n",
    "#     'https://raw.githubusercontent.com/YOUR_REPO/bermuda-ledger/main/bermuda_ledger/__init__.py',\n",
    "#     'bermuda_ledger'\n",
    "# )"
   ]
  },
  {
   "cell_type": "markdown",
   "metadata": {},
   "source": [
    "## Method 3: Install with Dependency Override\n",
    "\n",
    "Try installing with `keep_going=True` and then patch if needed:"
   ]
  },
  {
   "cell_type": "code",
   "execution_count": null,
   "metadata": {},
   "outputs": [],
   "source": [
    "import micropip\n",
    "import sys\n",
    "\n",
    "# Install dependencies first\n",
    "await micropip.install(['numpy', 'pandas', 'matplotlib'])\n",
    "\n",
    "# Try to install bermuda-ledger, ignoring the numpy version conflict\n",
    "# This won't work directly due to the version conflict, but we can try alternative approaches\n",
    "\n",
    "# Option 1: Download the wheel manually and modify it\n",
    "# Option 2: Use a pre-modified wheel hosted somewhere\n",
    "# Option 3: Import the source code directly (see Method 2)\n",
    "\n",
    "print(\"NumPy version:\", __import__('numpy').__version__)\n",
    "print(\"\\nNote: bermuda-ledger requires numpy<2, but Pyodide has numpy 2.0.2\")\n",
    "print(\"Use the build-pyodide-wheel.py script to create a compatible wheel\")"
   ]
  },
  {
   "cell_type": "markdown",
   "metadata": {},
   "source": [
    "## Method 4: GitHub Pages Hosted Wheel\n",
    "\n",
    "After building a compatible wheel, host it on GitHub Pages:"
   ]
  },
  {
   "cell_type": "code",
   "execution_count": null,
   "metadata": {},
   "outputs": [],
   "source": [
    "import micropip\n",
    "\n",
    "# After you've:\n",
    "# 1. Run build-pyodide-wheel.py to create a compatible wheel\n",
    "# 2. Committed the wheel to the wheels/ directory\n",
    "# 3. Pushed to GitHub and GitHub Pages is enabled\n",
    "\n",
    "# The wheel will be available at:\n",
    "# https://[YOUR_USERNAME].github.io/bermuda-clrs-workshop-2025/wheels/[WHEEL_FILENAME]\n",
    "\n",
    "# Example:\n",
    "github_username = \"YOUR_USERNAME\"  # Replace with your GitHub username\n",
    "wheel_filename = \"bermuda_ledger-0.1.0-py3-none-any.whl\"  # Replace with actual filename\n",
    "\n",
    "wheel_url = f\"https://{github_username}.github.io/bermuda-clrs-workshop-2025/wheels/{wheel_filename}\"\n",
    "\n",
    "print(f\"Installing from: {wheel_url}\")\n",
    "\n",
    "try:\n",
    "    await micropip.install(wheel_url)\n",
    "    print(\"✅ Successfully installed bermuda-ledger!\")\n",
    "    \n",
    "    # Test the import\n",
    "    import bermuda_ledger\n",
    "    print(f\"✅ bermuda-ledger imported successfully\")\n",
    "    \n",
    "except Exception as e:\n",
    "    print(f\"❌ Installation failed: {e}\")\n",
    "    print(\"\\nMake sure to:\")\n",
    "    print(\"1. Run build-pyodide-wheel.py locally\")\n",
    "    print(\"2. Commit the wheel file in the wheels/ directory\")\n",
    "    print(\"3. Push to GitHub\")\n",
    "    print(\"4. Wait for GitHub Pages to deploy\")"
   ]
  },
  {
   "cell_type": "markdown",
   "metadata": {},
   "source": [
    "## Testing the Installation\n",
    "\n",
    "Once installed, test that bermuda-ledger works:"
   ]
  },
  {
   "cell_type": "code",
   "execution_count": null,
   "metadata": {},
   "outputs": [],
   "source": [
    "# Test bermuda-ledger import and basic functionality\n",
    "try:\n",
    "    import bermuda_ledger\n",
    "    print(\"✅ bermuda-ledger imported successfully\")\n",
    "    \n",
    "    # List available attributes/functions\n",
    "    print(\"\\nAvailable in bermuda-ledger:\")\n",
    "    for item in dir(bermuda_ledger):\n",
    "        if not item.startswith('_'):\n",
    "            print(f\"  - {item}\")\n",
    "            \n",
    "except ImportError as e:\n",
    "    print(f\"❌ bermuda-ledger not installed yet: {e}\")\n",
    "    print(\"Please run one of the installation methods above first\")"
   ]
  }
 ],
 "metadata": {
  "kernelspec": {
   "display_name": "Python (Pyodide)",
   "language": "python",
   "name": "python"
  },
  "language_info": {
   "name": "python"
  }
 },
 "nbformat": 4,
 "nbformat_minor": 4
}